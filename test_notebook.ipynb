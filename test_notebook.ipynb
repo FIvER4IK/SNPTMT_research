{
 "cells": [
  {
   "cell_type": "code",
   "execution_count": 1,
   "id": "71b54928",
   "metadata": {},
   "outputs": [],
   "source": [
    "import pandas as pd"
   ]
  },
  {
   "cell_type": "code",
   "execution_count": 2,
   "id": "429d68a9",
   "metadata": {},
   "outputs": [],
   "source": [
    "df = pd.read_csv('db.csv', on_bad_lines='skip', sep='\\t')"
   ]
  },
  {
   "cell_type": "code",
   "execution_count": 3,
   "id": "f1dc594e",
   "metadata": {},
   "outputs": [
    {
     "data": {
      "text/html": [
       "<div>\n",
       "<style scoped>\n",
       "    .dataframe tbody tr th:only-of-type {\n",
       "        vertical-align: middle;\n",
       "    }\n",
       "\n",
       "    .dataframe tbody tr th {\n",
       "        vertical-align: top;\n",
       "    }\n",
       "\n",
       "    .dataframe thead th {\n",
       "        text-align: right;\n",
       "    }\n",
       "</style>\n",
       "<table border=\"1\" class=\"dataframe\">\n",
       "  <thead>\n",
       "    <tr style=\"text-align: right;\">\n",
       "      <th></th>\n",
       "      <th>from_id</th>\n",
       "      <th>message</th>\n",
       "      <th>date</th>\n",
       "    </tr>\n",
       "  </thead>\n",
       "  <tbody>\n",
       "    <tr>\n",
       "      <th>0</th>\n",
       "      <td>channel1101170442</td>\n",
       "      <td>Приветствуем всех в нашем Telegram-канале! ✌️️...</td>\n",
       "      <td>2017-02-28 19:55:32</td>\n",
       "    </tr>\n",
       "    <tr>\n",
       "      <th>1</th>\n",
       "      <td>channel1101170442</td>\n",
       "      <td>👑 Награждение победительницы конкурса красоты ...</td>\n",
       "      <td>2017-03-03 18:33:24</td>\n",
       "    </tr>\n",
       "    <tr>\n",
       "      <th>2</th>\n",
       "      <td>channel1101170442</td>\n",
       "      <td>🐍 Американский селекционер Джастин Кобылка пот...</td>\n",
       "      <td>2017-03-09 17:11:06</td>\n",
       "    </tr>\n",
       "    <tr>\n",
       "      <th>3</th>\n",
       "      <td>channel1101170442</td>\n",
       "      <td>А вы за участие России в конкурсе \\\"Евровидени...</td>\n",
       "      <td>2017-03-14 11:13:27</td>\n",
       "    </tr>\n",
       "    <tr>\n",
       "      <th>4</th>\n",
       "      <td>channel1101170442</td>\n",
       "      <td>Не болейте, друзья!</td>\n",
       "      <td>2017-03-14 19:49:56</td>\n",
       "    </tr>\n",
       "    <tr>\n",
       "      <th>...</th>\n",
       "      <td>...</td>\n",
       "      <td>...</td>\n",
       "      <td>...</td>\n",
       "    </tr>\n",
       "    <tr>\n",
       "      <th>118278</th>\n",
       "      <td>channel1101170442</td>\n",
       "      <td>Брифинг Минобороны России</td>\n",
       "      <td>2022-11-17 15:54:29</td>\n",
       "    </tr>\n",
       "    <tr>\n",
       "      <th>118279</th>\n",
       "      <td>channel1101170442</td>\n",
       "      <td>Украинских экспертов допустили на место падени...</td>\n",
       "      <td>2022-11-17 15:57:53</td>\n",
       "    </tr>\n",
       "    <tr>\n",
       "      <th>118280</th>\n",
       "      <td>channel1101170442</td>\n",
       "      <td>Порошенко заявил российским пранкерам, предста...</td>\n",
       "      <td>2022-11-17 16:06:13</td>\n",
       "    </tr>\n",
       "    <tr>\n",
       "      <th>118281</th>\n",
       "      <td>channel1101170442</td>\n",
       "      <td>Израиль сообщил, что завершил испытания морско...</td>\n",
       "      <td>2022-11-17 16:06:57</td>\n",
       "    </tr>\n",
       "    <tr>\n",
       "      <th>118282</th>\n",
       "      <td>channel1101170442</td>\n",
       "      <td>Пожар на московском рынке \\\"Садовод\\\" потушен,...</td>\n",
       "      <td>2022-11-17 16:08:27</td>\n",
       "    </tr>\n",
       "  </tbody>\n",
       "</table>\n",
       "<p>118283 rows × 3 columns</p>\n",
       "</div>"
      ],
      "text/plain": [
       "                  from_id                                            message  \\\n",
       "0       channel1101170442  Приветствуем всех в нашем Telegram-канале! ✌️️...   \n",
       "1       channel1101170442  👑 Награждение победительницы конкурса красоты ...   \n",
       "2       channel1101170442  🐍 Американский селекционер Джастин Кобылка пот...   \n",
       "3       channel1101170442  А вы за участие России в конкурсе \\\"Евровидени...   \n",
       "4       channel1101170442                                Не болейте, друзья!   \n",
       "...                   ...                                                ...   \n",
       "118278  channel1101170442                          Брифинг Минобороны России   \n",
       "118279  channel1101170442  Украинских экспертов допустили на место падени...   \n",
       "118280  channel1101170442  Порошенко заявил российским пранкерам, предста...   \n",
       "118281  channel1101170442  Израиль сообщил, что завершил испытания морско...   \n",
       "118282  channel1101170442  Пожар на московском рынке \\\"Садовод\\\" потушен,...   \n",
       "\n",
       "                       date  \n",
       "0       2017-02-28 19:55:32  \n",
       "1       2017-03-03 18:33:24  \n",
       "2       2017-03-09 17:11:06  \n",
       "3       2017-03-14 11:13:27  \n",
       "4       2017-03-14 19:49:56  \n",
       "...                     ...  \n",
       "118278  2022-11-17 15:54:29  \n",
       "118279  2022-11-17 15:57:53  \n",
       "118280  2022-11-17 16:06:13  \n",
       "118281  2022-11-17 16:06:57  \n",
       "118282  2022-11-17 16:08:27  \n",
       "\n",
       "[118283 rows x 3 columns]"
      ]
     },
     "execution_count": 3,
     "metadata": {},
     "output_type": "execute_result"
    }
   ],
   "source": [
    "df"
   ]
  },
  {
   "cell_type": "markdown",
   "id": "f45b2215",
   "metadata": {},
   "source": [
    "# Removing stopwords"
   ]
  },
  {
   "cell_type": "code",
   "execution_count": 4,
   "id": "98ff9cf6",
   "metadata": {},
   "outputs": [],
   "source": [
    "#pip install nltk"
   ]
  },
  {
   "cell_type": "code",
   "execution_count": 5,
   "id": "9f3c4e36",
   "metadata": {},
   "outputs": [],
   "source": [
    "import nltk"
   ]
  },
  {
   "cell_type": "code",
   "execution_count": 6,
   "id": "bd7ccfa5",
   "metadata": {},
   "outputs": [],
   "source": [
    "from nltk.tokenize import sent_tokenize, word_tokenize\n",
    "from nltk.corpus import stopwords"
   ]
  },
  {
   "cell_type": "code",
   "execution_count": null,
   "id": "103c8a08",
   "metadata": {},
   "outputs": [],
   "source": []
  },
  {
   "cell_type": "code",
   "execution_count": 7,
   "id": "18ac38e2",
   "metadata": {},
   "outputs": [],
   "source": [
    "stopsRUS = stopwords.words('russian')\n",
    "stopsENG = stopwords.words('english')\n",
    "\n",
    "stopsRUS.remove('не')\n",
    "stopsENG.remove('not')"
   ]
  },
  {
   "cell_type": "code",
   "execution_count": 8,
   "id": "c9498c5c",
   "metadata": {},
   "outputs": [
    {
     "name": "stderr",
     "output_type": "stream",
     "text": [
      "[nltk_data] Downloading package stopwords to\n",
      "[nltk_data]     /Users/andrewshatalov/nltk_data...\n",
      "[nltk_data]   Package stopwords is already up-to-date!\n"
     ]
    },
    {
     "data": {
      "text/plain": [
       "True"
      ]
     },
     "execution_count": 8,
     "metadata": {},
     "output_type": "execute_result"
    }
   ],
   "source": [
    "import nltk\n",
    "import ssl\n",
    "\n",
    "try:\n",
    "    _create_unverified_https_context = ssl._create_unverified_context\n",
    "except AttributeError:\n",
    "    pass\n",
    "else:\n",
    "    ssl._create_default_https_context = _create_unverified_https_context\n",
    "\n",
    "nltk.download(\"stopwords\")"
   ]
  },
  {
   "cell_type": "code",
   "execution_count": 9,
   "id": "92c6c5d6",
   "metadata": {},
   "outputs": [
    {
     "name": "stdout",
     "output_type": "stream",
     "text": [
      "['и', 'в', 'во', 'что', 'он', 'на', 'я', 'с', 'со', 'как', 'а', 'то', 'все', 'она', 'так', 'его', 'но', 'да', 'ты', 'к', 'у', 'же', 'вы', 'за', 'бы', 'по', 'только', 'ее', 'мне', 'было', 'вот', 'от', 'меня', 'еще', 'нет', 'о', 'из', 'ему', 'теперь', 'когда', 'даже', 'ну', 'вдруг', 'ли', 'если', 'уже', 'или', 'ни', 'быть', 'был', 'него', 'до', 'вас', 'нибудь', 'опять', 'уж', 'вам', 'ведь', 'там', 'потом', 'себя', 'ничего', 'ей', 'может', 'они', 'тут', 'где', 'есть', 'надо', 'ней', 'для', 'мы', 'тебя', 'их', 'чем', 'была', 'сам', 'чтоб', 'без', 'будто', 'чего', 'раз', 'тоже', 'себе', 'под', 'будет', 'ж', 'тогда', 'кто', 'этот', 'того', 'потому', 'этого', 'какой', 'совсем', 'ним', 'здесь', 'этом', 'один', 'почти', 'мой', 'тем', 'чтобы', 'нее', 'сейчас', 'были', 'куда', 'зачем', 'всех', 'никогда', 'можно', 'при', 'наконец', 'два', 'об', 'другой', 'хоть', 'после', 'над', 'больше', 'тот', 'через', 'эти', 'нас', 'про', 'всего', 'них', 'какая', 'много', 'разве', 'три', 'эту', 'моя', 'впрочем', 'хорошо', 'свою', 'этой', 'перед', 'иногда', 'лучше', 'чуть', 'том', 'нельзя', 'такой', 'им', 'более', 'всегда', 'конечно', 'всю', 'между']\n",
      "['i', 'me', 'my', 'myself', 'we', 'our', 'ours', 'ourselves', 'you', \"you're\", \"you've\", \"you'll\", \"you'd\", 'your', 'yours', 'yourself', 'yourselves', 'he', 'him', 'his', 'himself', 'she', \"she's\", 'her', 'hers', 'herself', 'it', \"it's\", 'its', 'itself', 'they', 'them', 'their', 'theirs', 'themselves', 'what', 'which', 'who', 'whom', 'this', 'that', \"that'll\", 'these', 'those', 'am', 'is', 'are', 'was', 'were', 'be', 'been', 'being', 'have', 'has', 'had', 'having', 'do', 'does', 'did', 'doing', 'a', 'an', 'the', 'and', 'but', 'if', 'or', 'because', 'as', 'until', 'while', 'of', 'at', 'by', 'for', 'with', 'about', 'against', 'between', 'into', 'through', 'during', 'before', 'after', 'above', 'below', 'to', 'from', 'up', 'down', 'in', 'out', 'on', 'off', 'over', 'under', 'again', 'further', 'then', 'once', 'here', 'there', 'when', 'where', 'why', 'how', 'all', 'any', 'both', 'each', 'few', 'more', 'most', 'other', 'some', 'such', 'no', 'nor', 'only', 'own', 'same', 'so', 'than', 'too', 'very', 's', 't', 'can', 'will', 'just', 'don', \"don't\", 'should', \"should've\", 'now', 'd', 'll', 'm', 'o', 're', 've', 'y', 'ain', 'aren', \"aren't\", 'couldn', \"couldn't\", 'didn', \"didn't\", 'doesn', \"doesn't\", 'hadn', \"hadn't\", 'hasn', \"hasn't\", 'haven', \"haven't\", 'isn', \"isn't\", 'ma', 'mightn', \"mightn't\", 'mustn', \"mustn't\", 'needn', \"needn't\", 'shan', \"shan't\", 'shouldn', \"shouldn't\", 'wasn', \"wasn't\", 'weren', \"weren't\", 'won', \"won't\", 'wouldn', \"wouldn't\"]\n"
     ]
    }
   ],
   "source": [
    "print(stopsRUS)\n",
    "print(stopsENG)"
   ]
  },
  {
   "cell_type": "markdown",
   "id": "0e25b99c",
   "metadata": {},
   "source": [
    "# removing emojies"
   ]
  },
  {
   "cell_type": "code",
   "execution_count": 10,
   "id": "92479bba",
   "metadata": {},
   "outputs": [],
   "source": [
    "import re\n",
    "df_without_emoji = df\n",
    "\n",
    "def deEmojify(text):\n",
    "    regrex_pattern = re.compile(pattern = \"[\"\n",
    "        u\"\\U0001F600-\\U0001F64F\"  # emoticons\n",
    "        u\"\\U0001F300-\\U0001F5FF\"  # symbols & pictographs\n",
    "        u\"\\U0001F680-\\U0001F6FF\"  # transport & map symbols\n",
    "        u\"\\U0001F1E0-\\U0001F1FF\"  # flags (iOS)\n",
    "        u\"\\U00002500-\\U00002BEF\"  # chinese char\n",
    "        u\"\\U00002702-\\U000027B0\"\n",
    "        u\"\\U00002702-\\U000027B0\"\n",
    "        u\"\\U000024C2-\\U0001F251\"\n",
    "        u\"\\U0001f926-\\U0001f937\"\n",
    "        u\"\\U00010000-\\U0010ffff\"\n",
    "        u\"\\u2640-\\u2642\" \n",
    "        u\"\\u2600-\\u2B55\"\n",
    "        u\"\\u200d\"\n",
    "        u\"\\u23cf\"\n",
    "        u\"\\u23e9\"\n",
    "        u\"\\u231a\"\n",
    "        u\"\\ufe0f\"  # dingbats\n",
    "        u\"\\u3030\"\n",
    "                           \"]+\", flags = re.UNICODE)\n",
    "    return regrex_pattern.sub(r'',text)\n",
    "\n",
    "df_without_emoji['message'] = df_without_emoji['message'].apply(deEmojify)"
   ]
  },
  {
   "cell_type": "code",
   "execution_count": 11,
   "id": "d82b8db3",
   "metadata": {},
   "outputs": [
    {
     "data": {
      "text/html": [
       "<div>\n",
       "<style scoped>\n",
       "    .dataframe tbody tr th:only-of-type {\n",
       "        vertical-align: middle;\n",
       "    }\n",
       "\n",
       "    .dataframe tbody tr th {\n",
       "        vertical-align: top;\n",
       "    }\n",
       "\n",
       "    .dataframe thead th {\n",
       "        text-align: right;\n",
       "    }\n",
       "</style>\n",
       "<table border=\"1\" class=\"dataframe\">\n",
       "  <thead>\n",
       "    <tr style=\"text-align: right;\">\n",
       "      <th></th>\n",
       "      <th>from_id</th>\n",
       "      <th>message</th>\n",
       "      <th>date</th>\n",
       "    </tr>\n",
       "  </thead>\n",
       "  <tbody>\n",
       "    <tr>\n",
       "      <th>0</th>\n",
       "      <td>channel1101170442</td>\n",
       "      <td>Приветствуем всех в нашем Telegram-канале!  Вс...</td>\n",
       "      <td>2017-02-28 19:55:32</td>\n",
       "    </tr>\n",
       "    <tr>\n",
       "      <th>1</th>\n",
       "      <td>channel1101170442</td>\n",
       "      <td>Награждение победительницы конкурса красоты с...</td>\n",
       "      <td>2017-03-03 18:33:24</td>\n",
       "    </tr>\n",
       "    <tr>\n",
       "      <th>2</th>\n",
       "      <td>channel1101170442</td>\n",
       "      <td>Американский селекционер Джастин Кобылка потр...</td>\n",
       "      <td>2017-03-09 17:11:06</td>\n",
       "    </tr>\n",
       "    <tr>\n",
       "      <th>3</th>\n",
       "      <td>channel1101170442</td>\n",
       "      <td>А вы за участие России в конкурсе \\\"Евровидени...</td>\n",
       "      <td>2017-03-14 11:13:27</td>\n",
       "    </tr>\n",
       "    <tr>\n",
       "      <th>4</th>\n",
       "      <td>channel1101170442</td>\n",
       "      <td>Не болейте, друзья!</td>\n",
       "      <td>2017-03-14 19:49:56</td>\n",
       "    </tr>\n",
       "    <tr>\n",
       "      <th>...</th>\n",
       "      <td>...</td>\n",
       "      <td>...</td>\n",
       "      <td>...</td>\n",
       "    </tr>\n",
       "    <tr>\n",
       "      <th>118278</th>\n",
       "      <td>channel1101170442</td>\n",
       "      <td>Брифинг Минобороны России</td>\n",
       "      <td>2022-11-17 15:54:29</td>\n",
       "    </tr>\n",
       "    <tr>\n",
       "      <th>118279</th>\n",
       "      <td>channel1101170442</td>\n",
       "      <td>Украинских экспертов допустили на место падени...</td>\n",
       "      <td>2022-11-17 15:57:53</td>\n",
       "    </tr>\n",
       "    <tr>\n",
       "      <th>118280</th>\n",
       "      <td>channel1101170442</td>\n",
       "      <td>Порошенко заявил российским пранкерам, предста...</td>\n",
       "      <td>2022-11-17 16:06:13</td>\n",
       "    </tr>\n",
       "    <tr>\n",
       "      <th>118281</th>\n",
       "      <td>channel1101170442</td>\n",
       "      <td>Израиль сообщил, что завершил испытания морско...</td>\n",
       "      <td>2022-11-17 16:06:57</td>\n",
       "    </tr>\n",
       "    <tr>\n",
       "      <th>118282</th>\n",
       "      <td>channel1101170442</td>\n",
       "      <td>Пожар на московском рынке \\\"Садовод\\\" потушен,...</td>\n",
       "      <td>2022-11-17 16:08:27</td>\n",
       "    </tr>\n",
       "  </tbody>\n",
       "</table>\n",
       "<p>118283 rows × 3 columns</p>\n",
       "</div>"
      ],
      "text/plain": [
       "                  from_id                                            message  \\\n",
       "0       channel1101170442  Приветствуем всех в нашем Telegram-канале!  Вс...   \n",
       "1       channel1101170442   Награждение победительницы конкурса красоты с...   \n",
       "2       channel1101170442   Американский селекционер Джастин Кобылка потр...   \n",
       "3       channel1101170442  А вы за участие России в конкурсе \\\"Евровидени...   \n",
       "4       channel1101170442                                Не болейте, друзья!   \n",
       "...                   ...                                                ...   \n",
       "118278  channel1101170442                          Брифинг Минобороны России   \n",
       "118279  channel1101170442  Украинских экспертов допустили на место падени...   \n",
       "118280  channel1101170442  Порошенко заявил российским пранкерам, предста...   \n",
       "118281  channel1101170442  Израиль сообщил, что завершил испытания морско...   \n",
       "118282  channel1101170442  Пожар на московском рынке \\\"Садовод\\\" потушен,...   \n",
       "\n",
       "                       date  \n",
       "0       2017-02-28 19:55:32  \n",
       "1       2017-03-03 18:33:24  \n",
       "2       2017-03-09 17:11:06  \n",
       "3       2017-03-14 11:13:27  \n",
       "4       2017-03-14 19:49:56  \n",
       "...                     ...  \n",
       "118278  2022-11-17 15:54:29  \n",
       "118279  2022-11-17 15:57:53  \n",
       "118280  2022-11-17 16:06:13  \n",
       "118281  2022-11-17 16:06:57  \n",
       "118282  2022-11-17 16:08:27  \n",
       "\n",
       "[118283 rows x 3 columns]"
      ]
     },
     "execution_count": 11,
     "metadata": {},
     "output_type": "execute_result"
    }
   ],
   "source": [
    "df_without_emoji"
   ]
  },
  {
   "cell_type": "code",
   "execution_count": 12,
   "id": "b8b67b3d",
   "metadata": {},
   "outputs": [],
   "source": [
    "#nltk.download('punkt')"
   ]
  },
  {
   "cell_type": "markdown",
   "id": "5ebfd282",
   "metadata": {},
   "source": [
    "# Removing signs"
   ]
  },
  {
   "cell_type": "code",
   "execution_count": 13,
   "id": "3902ec6d",
   "metadata": {},
   "outputs": [],
   "source": [
    "df_without_signs = df_without_emoji\n",
    "\n",
    "def deSigns(text):\n",
    "    regrex_pattern = re.compile(pattern = '[!@\"“’«»#\\\\\\\\$%&\\'()*+,—/:;<=>?^_`{|}~\\[\\]]', flags = re.UNICODE)\n",
    "    return regrex_pattern.sub(r'',text)\n",
    "#def deSignsBackSlash(text):\n",
    "#    regrex_pattern = re.compile(pattern = '\\\\\\\\', flags = re.UNICODE)\n",
    "#    return regrex_pattern.sub(r'',text)\n",
    "\n",
    "df_without_signs['message'] = df_without_signs['message'].apply(deSigns)\n",
    "#df_without_signs['message'] = df_without_signs['message'].apply(deSignsBackSlash"
   ]
  },
  {
   "cell_type": "code",
   "execution_count": 14,
   "id": "d9799196",
   "metadata": {},
   "outputs": [
    {
     "data": {
      "text/html": [
       "<div>\n",
       "<style scoped>\n",
       "    .dataframe tbody tr th:only-of-type {\n",
       "        vertical-align: middle;\n",
       "    }\n",
       "\n",
       "    .dataframe tbody tr th {\n",
       "        vertical-align: top;\n",
       "    }\n",
       "\n",
       "    .dataframe thead th {\n",
       "        text-align: right;\n",
       "    }\n",
       "</style>\n",
       "<table border=\"1\" class=\"dataframe\">\n",
       "  <thead>\n",
       "    <tr style=\"text-align: right;\">\n",
       "      <th></th>\n",
       "      <th>from_id</th>\n",
       "      <th>message</th>\n",
       "      <th>date</th>\n",
       "    </tr>\n",
       "  </thead>\n",
       "  <tbody>\n",
       "    <tr>\n",
       "      <th>0</th>\n",
       "      <td>channel1101170442</td>\n",
       "      <td>Приветствуем всех в нашем Telegram-канале  Все...</td>\n",
       "      <td>2017-02-28 19:55:32</td>\n",
       "    </tr>\n",
       "    <tr>\n",
       "      <th>1</th>\n",
       "      <td>channel1101170442</td>\n",
       "      <td>Награждение победительницы конкурса красоты с...</td>\n",
       "      <td>2017-03-03 18:33:24</td>\n",
       "    </tr>\n",
       "    <tr>\n",
       "      <th>2</th>\n",
       "      <td>channel1101170442</td>\n",
       "      <td>Американский селекционер Джастин Кобылка потр...</td>\n",
       "      <td>2017-03-09 17:11:06</td>\n",
       "    </tr>\n",
       "    <tr>\n",
       "      <th>3</th>\n",
       "      <td>channel1101170442</td>\n",
       "      <td>А вы за участие России в конкурсе Евровидение</td>\n",
       "      <td>2017-03-14 11:13:27</td>\n",
       "    </tr>\n",
       "    <tr>\n",
       "      <th>4</th>\n",
       "      <td>channel1101170442</td>\n",
       "      <td>Не болейте друзья</td>\n",
       "      <td>2017-03-14 19:49:56</td>\n",
       "    </tr>\n",
       "    <tr>\n",
       "      <th>...</th>\n",
       "      <td>...</td>\n",
       "      <td>...</td>\n",
       "      <td>...</td>\n",
       "    </tr>\n",
       "    <tr>\n",
       "      <th>118278</th>\n",
       "      <td>channel1101170442</td>\n",
       "      <td>Брифинг Минобороны России</td>\n",
       "      <td>2022-11-17 15:54:29</td>\n",
       "    </tr>\n",
       "    <tr>\n",
       "      <th>118279</th>\n",
       "      <td>channel1101170442</td>\n",
       "      <td>Украинских экспертов допустили на место падени...</td>\n",
       "      <td>2022-11-17 15:57:53</td>\n",
       "    </tr>\n",
       "    <tr>\n",
       "      <th>118280</th>\n",
       "      <td>channel1101170442</td>\n",
       "      <td>Порошенко заявил российским пранкерам представ...</td>\n",
       "      <td>2022-11-17 16:06:13</td>\n",
       "    </tr>\n",
       "    <tr>\n",
       "      <th>118281</th>\n",
       "      <td>channel1101170442</td>\n",
       "      <td>Израиль сообщил что завершил испытания морской...</td>\n",
       "      <td>2022-11-17 16:06:57</td>\n",
       "    </tr>\n",
       "    <tr>\n",
       "      <th>118282</th>\n",
       "      <td>channel1101170442</td>\n",
       "      <td>Пожар на московском рынке Садовод потушен его ...</td>\n",
       "      <td>2022-11-17 16:08:27</td>\n",
       "    </tr>\n",
       "  </tbody>\n",
       "</table>\n",
       "<p>118283 rows × 3 columns</p>\n",
       "</div>"
      ],
      "text/plain": [
       "                  from_id                                            message  \\\n",
       "0       channel1101170442  Приветствуем всех в нашем Telegram-канале  Все...   \n",
       "1       channel1101170442   Награждение победительницы конкурса красоты с...   \n",
       "2       channel1101170442   Американский селекционер Джастин Кобылка потр...   \n",
       "3       channel1101170442      А вы за участие России в конкурсе Евровидение   \n",
       "4       channel1101170442                                  Не болейте друзья   \n",
       "...                   ...                                                ...   \n",
       "118278  channel1101170442                          Брифинг Минобороны России   \n",
       "118279  channel1101170442  Украинских экспертов допустили на место падени...   \n",
       "118280  channel1101170442  Порошенко заявил российским пранкерам представ...   \n",
       "118281  channel1101170442  Израиль сообщил что завершил испытания морской...   \n",
       "118282  channel1101170442  Пожар на московском рынке Садовод потушен его ...   \n",
       "\n",
       "                       date  \n",
       "0       2017-02-28 19:55:32  \n",
       "1       2017-03-03 18:33:24  \n",
       "2       2017-03-09 17:11:06  \n",
       "3       2017-03-14 11:13:27  \n",
       "4       2017-03-14 19:49:56  \n",
       "...                     ...  \n",
       "118278  2022-11-17 15:54:29  \n",
       "118279  2022-11-17 15:57:53  \n",
       "118280  2022-11-17 16:06:13  \n",
       "118281  2022-11-17 16:06:57  \n",
       "118282  2022-11-17 16:08:27  \n",
       "\n",
       "[118283 rows x 3 columns]"
      ]
     },
     "execution_count": 14,
     "metadata": {},
     "output_type": "execute_result"
    }
   ],
   "source": [
    "df_without_signs"
   ]
  },
  {
   "cell_type": "markdown",
   "id": "36ee460d",
   "metadata": {},
   "source": [
    "# Lemmatization"
   ]
  },
  {
   "cell_type": "code",
   "execution_count": 15,
   "id": "4ea704b0",
   "metadata": {},
   "outputs": [],
   "source": [
    "#pip install pymorphy2"
   ]
  },
  {
   "cell_type": "code",
   "execution_count": 16,
   "id": "353f9ac0",
   "metadata": {},
   "outputs": [],
   "source": [
    "import pymorphy2"
   ]
  },
  {
   "cell_type": "code",
   "execution_count": 17,
   "id": "277ce8a8",
   "metadata": {},
   "outputs": [
    {
     "name": "stdout",
     "output_type": "stream",
     "text": [
      "CPU times: user 7min 18s, sys: 1.05 s, total: 7min 19s\n",
      "Wall time: 7min 20s\n"
     ]
    }
   ],
   "source": [
    "%%time\n",
    "df_normal = df_without_signs\n",
    "\n",
    "morph = pymorphy2.MorphAnalyzer()\n",
    "\n",
    "def converter (sentence):\n",
    "    list = []\n",
    "    words = sentence.split()\n",
    "    for item in words:\n",
    "        list.append(morph.parse(item)[0].normal_form)\n",
    "    return ' '.join(list) \n",
    "\n",
    "df_normal['message'] = df_normal['message'].apply(converter)"
   ]
  },
  {
   "cell_type": "code",
   "execution_count": 18,
   "id": "a11a1d25",
   "metadata": {},
   "outputs": [
    {
     "data": {
      "text/html": [
       "<div>\n",
       "<style scoped>\n",
       "    .dataframe tbody tr th:only-of-type {\n",
       "        vertical-align: middle;\n",
       "    }\n",
       "\n",
       "    .dataframe tbody tr th {\n",
       "        vertical-align: top;\n",
       "    }\n",
       "\n",
       "    .dataframe thead th {\n",
       "        text-align: right;\n",
       "    }\n",
       "</style>\n",
       "<table border=\"1\" class=\"dataframe\">\n",
       "  <thead>\n",
       "    <tr style=\"text-align: right;\">\n",
       "      <th></th>\n",
       "      <th>from_id</th>\n",
       "      <th>message</th>\n",
       "      <th>date</th>\n",
       "    </tr>\n",
       "  </thead>\n",
       "  <tbody>\n",
       "    <tr>\n",
       "      <th>0</th>\n",
       "      <td>channel1101170442</td>\n",
       "      <td>приветствовать весь в наш telegram-канал всегд...</td>\n",
       "      <td>2017-02-28 19:55:32</td>\n",
       "    </tr>\n",
       "    <tr>\n",
       "      <th>1</th>\n",
       "      <td>channel1101170442</td>\n",
       "      <td>награждение победительница конкурс красота сре...</td>\n",
       "      <td>2017-03-03 18:33:24</td>\n",
       "    </tr>\n",
       "    <tr>\n",
       "      <th>2</th>\n",
       "      <td>channel1101170442</td>\n",
       "      <td>американский селекционер джастин кобылка потра...</td>\n",
       "      <td>2017-03-09 17:11:06</td>\n",
       "    </tr>\n",
       "    <tr>\n",
       "      <th>3</th>\n",
       "      <td>channel1101170442</td>\n",
       "      <td>а вы за участие россия в конкурс евровидение</td>\n",
       "      <td>2017-03-14 11:13:27</td>\n",
       "    </tr>\n",
       "    <tr>\n",
       "      <th>4</th>\n",
       "      <td>channel1101170442</td>\n",
       "      <td>не болеть друг</td>\n",
       "      <td>2017-03-14 19:49:56</td>\n",
       "    </tr>\n",
       "    <tr>\n",
       "      <th>...</th>\n",
       "      <td>...</td>\n",
       "      <td>...</td>\n",
       "      <td>...</td>\n",
       "    </tr>\n",
       "    <tr>\n",
       "      <th>118278</th>\n",
       "      <td>channel1101170442</td>\n",
       "      <td>брифинг минобороны россия</td>\n",
       "      <td>2022-11-17 15:54:29</td>\n",
       "    </tr>\n",
       "    <tr>\n",
       "      <th>118279</th>\n",
       "      <td>channel1101170442</td>\n",
       "      <td>украинский эксперт допустить на место падение ...</td>\n",
       "      <td>2022-11-17 15:57:53</td>\n",
       "    </tr>\n",
       "    <tr>\n",
       "      <th>118280</th>\n",
       "      <td>channel1101170442</td>\n",
       "      <td>порошенко заявить российский пранкер представи...</td>\n",
       "      <td>2022-11-17 16:06:13</td>\n",
       "    </tr>\n",
       "    <tr>\n",
       "      <th>118281</th>\n",
       "      <td>channel1101170442</td>\n",
       "      <td>израиль сообщить что завершить испытание морск...</td>\n",
       "      <td>2022-11-17 16:06:57</td>\n",
       "    </tr>\n",
       "    <tr>\n",
       "      <th>118282</th>\n",
       "      <td>channel1101170442</td>\n",
       "      <td>пожар на московский рынок садовод потушить он ...</td>\n",
       "      <td>2022-11-17 16:08:27</td>\n",
       "    </tr>\n",
       "  </tbody>\n",
       "</table>\n",
       "<p>118283 rows × 3 columns</p>\n",
       "</div>"
      ],
      "text/plain": [
       "                  from_id                                            message  \\\n",
       "0       channel1101170442  приветствовать весь в наш telegram-канал всегд...   \n",
       "1       channel1101170442  награждение победительница конкурс красота сре...   \n",
       "2       channel1101170442  американский селекционер джастин кобылка потра...   \n",
       "3       channel1101170442       а вы за участие россия в конкурс евровидение   \n",
       "4       channel1101170442                                     не болеть друг   \n",
       "...                   ...                                                ...   \n",
       "118278  channel1101170442                          брифинг минобороны россия   \n",
       "118279  channel1101170442  украинский эксперт допустить на место падение ...   \n",
       "118280  channel1101170442  порошенко заявить российский пранкер представи...   \n",
       "118281  channel1101170442  израиль сообщить что завершить испытание морск...   \n",
       "118282  channel1101170442  пожар на московский рынок садовод потушить он ...   \n",
       "\n",
       "                       date  \n",
       "0       2017-02-28 19:55:32  \n",
       "1       2017-03-03 18:33:24  \n",
       "2       2017-03-09 17:11:06  \n",
       "3       2017-03-14 11:13:27  \n",
       "4       2017-03-14 19:49:56  \n",
       "...                     ...  \n",
       "118278  2022-11-17 15:54:29  \n",
       "118279  2022-11-17 15:57:53  \n",
       "118280  2022-11-17 16:06:13  \n",
       "118281  2022-11-17 16:06:57  \n",
       "118282  2022-11-17 16:08:27  \n",
       "\n",
       "[118283 rows x 3 columns]"
      ]
     },
     "execution_count": 18,
     "metadata": {},
     "output_type": "execute_result"
    }
   ],
   "source": [
    "df_normal"
   ]
  },
  {
   "cell_type": "markdown",
   "id": "42074e02",
   "metadata": {},
   "source": [
    "# Tokenizing"
   ]
  },
  {
   "cell_type": "code",
   "execution_count": 19,
   "id": "f02edcfc",
   "metadata": {},
   "outputs": [],
   "source": [
    "df['message'] = df['message'].apply(lambda x: ' '.join([word for word in x.split() if word not in (stopsRUS)]))"
   ]
  },
  {
   "cell_type": "code",
   "execution_count": 20,
   "id": "60070a45",
   "metadata": {},
   "outputs": [],
   "source": [
    "df_tokenized = df_without_emoji\n",
    "def tokenize(column):\n",
    "    tokens = nltk.word_tokenize(column)\n",
    "    return [w for w in tokens if w.isalpha()]\n",
    "\n",
    "df_tokenized['tokenized'] = df_tokenized.apply(lambda x: tokenize(x['message']), axis=1)"
   ]
  },
  {
   "cell_type": "code",
   "execution_count": 21,
   "id": "417abcce",
   "metadata": {},
   "outputs": [
    {
     "data": {
      "text/html": [
       "<div>\n",
       "<style scoped>\n",
       "    .dataframe tbody tr th:only-of-type {\n",
       "        vertical-align: middle;\n",
       "    }\n",
       "\n",
       "    .dataframe tbody tr th {\n",
       "        vertical-align: top;\n",
       "    }\n",
       "\n",
       "    .dataframe thead th {\n",
       "        text-align: right;\n",
       "    }\n",
       "</style>\n",
       "<table border=\"1\" class=\"dataframe\">\n",
       "  <thead>\n",
       "    <tr style=\"text-align: right;\">\n",
       "      <th></th>\n",
       "      <th>from_id</th>\n",
       "      <th>message</th>\n",
       "      <th>date</th>\n",
       "      <th>tokenized</th>\n",
       "    </tr>\n",
       "  </thead>\n",
       "  <tbody>\n",
       "    <tr>\n",
       "      <th>0</th>\n",
       "      <td>channel1101170442</td>\n",
       "      <td>приветствовать весь наш telegram-канал курс кл...</td>\n",
       "      <td>2017-02-28 19:55:32</td>\n",
       "      <td>[приветствовать, весь, наш, курс, ключевой, со...</td>\n",
       "    </tr>\n",
       "    <tr>\n",
       "      <th>1</th>\n",
       "      <td>channel1101170442</td>\n",
       "      <td>награждение победительница конкурс красота сре...</td>\n",
       "      <td>2017-03-03 18:33:24</td>\n",
       "      <td>[награждение, победительница, конкурс, красота...</td>\n",
       "    </tr>\n",
       "    <tr>\n",
       "      <th>2</th>\n",
       "      <td>channel1101170442</td>\n",
       "      <td>американский селекционер джастин кобылка потра...</td>\n",
       "      <td>2017-03-09 17:11:06</td>\n",
       "      <td>[американский, селекционер, джастин, кобылка, ...</td>\n",
       "    </tr>\n",
       "    <tr>\n",
       "      <th>3</th>\n",
       "      <td>channel1101170442</td>\n",
       "      <td>участие россия конкурс евровидение</td>\n",
       "      <td>2017-03-14 11:13:27</td>\n",
       "      <td>[участие, россия, конкурс, евровидение]</td>\n",
       "    </tr>\n",
       "    <tr>\n",
       "      <th>4</th>\n",
       "      <td>channel1101170442</td>\n",
       "      <td>не болеть друг</td>\n",
       "      <td>2017-03-14 19:49:56</td>\n",
       "      <td>[не, болеть, друг]</td>\n",
       "    </tr>\n",
       "    <tr>\n",
       "      <th>...</th>\n",
       "      <td>...</td>\n",
       "      <td>...</td>\n",
       "      <td>...</td>\n",
       "      <td>...</td>\n",
       "    </tr>\n",
       "    <tr>\n",
       "      <th>118278</th>\n",
       "      <td>channel1101170442</td>\n",
       "      <td>брифинг минобороны россия</td>\n",
       "      <td>2022-11-17 15:54:29</td>\n",
       "      <td>[брифинг, минобороны, россия]</td>\n",
       "    </tr>\n",
       "    <tr>\n",
       "      <th>118279</th>\n",
       "      <td>channel1101170442</td>\n",
       "      <td>украинский эксперт допустить место падение рак...</td>\n",
       "      <td>2022-11-17 15:57:53</td>\n",
       "      <td>[украинский, эксперт, допустить, место, падени...</td>\n",
       "    </tr>\n",
       "    <tr>\n",
       "      <th>118280</th>\n",
       "      <td>channel1101170442</td>\n",
       "      <td>порошенко заявить российский пранкер представи...</td>\n",
       "      <td>2022-11-17 16:06:13</td>\n",
       "      <td>[порошенко, заявить, российский, пранкер, пред...</td>\n",
       "    </tr>\n",
       "    <tr>\n",
       "      <th>118281</th>\n",
       "      <td>channel1101170442</td>\n",
       "      <td>израиль сообщить завершить испытание морской с...</td>\n",
       "      <td>2022-11-17 16:06:57</td>\n",
       "      <td>[израиль, сообщить, завершить, испытание, морс...</td>\n",
       "    </tr>\n",
       "    <tr>\n",
       "      <th>118282</th>\n",
       "      <td>channel1101170442</td>\n",
       "      <td>пожар московский рынок садовод потушить площад...</td>\n",
       "      <td>2022-11-17 16:08:27</td>\n",
       "      <td>[пожар, московский, рынок, садовод, потушить, ...</td>\n",
       "    </tr>\n",
       "  </tbody>\n",
       "</table>\n",
       "<p>118283 rows × 4 columns</p>\n",
       "</div>"
      ],
      "text/plain": [
       "                  from_id                                            message  \\\n",
       "0       channel1101170442  приветствовать весь наш telegram-канал курс кл...   \n",
       "1       channel1101170442  награждение победительница конкурс красота сре...   \n",
       "2       channel1101170442  американский селекционер джастин кобылка потра...   \n",
       "3       channel1101170442                 участие россия конкурс евровидение   \n",
       "4       channel1101170442                                     не болеть друг   \n",
       "...                   ...                                                ...   \n",
       "118278  channel1101170442                          брифинг минобороны россия   \n",
       "118279  channel1101170442  украинский эксперт допустить место падение рак...   \n",
       "118280  channel1101170442  порошенко заявить российский пранкер представи...   \n",
       "118281  channel1101170442  израиль сообщить завершить испытание морской с...   \n",
       "118282  channel1101170442  пожар московский рынок садовод потушить площад...   \n",
       "\n",
       "                       date                                          tokenized  \n",
       "0       2017-02-28 19:55:32  [приветствовать, весь, наш, курс, ключевой, со...  \n",
       "1       2017-03-03 18:33:24  [награждение, победительница, конкурс, красота...  \n",
       "2       2017-03-09 17:11:06  [американский, селекционер, джастин, кобылка, ...  \n",
       "3       2017-03-14 11:13:27            [участие, россия, конкурс, евровидение]  \n",
       "4       2017-03-14 19:49:56                                 [не, болеть, друг]  \n",
       "...                     ...                                                ...  \n",
       "118278  2022-11-17 15:54:29                      [брифинг, минобороны, россия]  \n",
       "118279  2022-11-17 15:57:53  [украинский, эксперт, допустить, место, падени...  \n",
       "118280  2022-11-17 16:06:13  [порошенко, заявить, российский, пранкер, пред...  \n",
       "118281  2022-11-17 16:06:57  [израиль, сообщить, завершить, испытание, морс...  \n",
       "118282  2022-11-17 16:08:27  [пожар, московский, рынок, садовод, потушить, ...  \n",
       "\n",
       "[118283 rows x 4 columns]"
      ]
     },
     "execution_count": 21,
     "metadata": {},
     "output_type": "execute_result"
    }
   ],
   "source": [
    "df_tokenized"
   ]
  },
  {
   "cell_type": "markdown",
   "id": "73b34849",
   "metadata": {},
   "source": [
    "# word2vec"
   ]
  },
  {
   "cell_type": "code",
   "execution_count": 22,
   "id": "d155fa1e",
   "metadata": {},
   "outputs": [
    {
     "name": "stdout",
     "output_type": "stream",
     "text": [
      "Requirement already satisfied: gensim in /Library/Frameworks/Python.framework/Versions/3.10/lib/python3.10/site-packages (4.3.1)\n",
      "Requirement already satisfied: smart-open>=1.8.1 in /Library/Frameworks/Python.framework/Versions/3.10/lib/python3.10/site-packages (from gensim) (6.3.0)\n",
      "Requirement already satisfied: numpy>=1.18.5 in /Library/Frameworks/Python.framework/Versions/3.10/lib/python3.10/site-packages (from gensim) (1.23.4)\n",
      "Requirement already satisfied: scipy>=1.7.0 in /Library/Frameworks/Python.framework/Versions/3.10/lib/python3.10/site-packages (from gensim) (1.9.2)\n",
      "\n",
      "\u001b[1m[\u001b[0m\u001b[34;49mnotice\u001b[0m\u001b[1;39;49m]\u001b[0m\u001b[39;49m A new release of pip available: \u001b[0m\u001b[31;49m22.2.2\u001b[0m\u001b[39;49m -> \u001b[0m\u001b[32;49m23.0.1\u001b[0m\n",
      "\u001b[1m[\u001b[0m\u001b[34;49mnotice\u001b[0m\u001b[1;39;49m]\u001b[0m\u001b[39;49m To update, run: \u001b[0m\u001b[32;49mpip3 install --upgrade pip\u001b[0m\n",
      "Note: you may need to restart the kernel to use updated packages.\n"
     ]
    }
   ],
   "source": [
    "pip install gensim"
   ]
  },
  {
   "cell_type": "code",
   "execution_count": 23,
   "id": "b2ed6a74",
   "metadata": {},
   "outputs": [],
   "source": [
    "import gensim.downloader as api\n",
    "\n",
    "model = api.load(\"word2vec-ruscorpora-300\")"
   ]
  },
  {
   "cell_type": "code",
   "execution_count": 24,
   "id": "bb1e3ef6",
   "metadata": {},
   "outputs": [],
   "source": [
    "import numpy as np"
   ]
  },
  {
   "cell_type": "code",
   "execution_count": 25,
   "id": "9718e103",
   "metadata": {},
   "outputs": [],
   "source": [
    "def vectorize_message(message):\n",
    "    # разбиваем сообщение на слова\n",
    "    words = message.split()\n",
    "    # получаем вектор для каждого слова в сообщении и усредняем их\n",
    "    vectors = [model[word] for word in words if word in model]\n",
    "    if vectors:\n",
    "        return np.mean(vectors, axis=0)\n",
    "    else:\n",
    "        return np.zeros(model.vector_size)"
   ]
  },
  {
   "cell_type": "code",
   "execution_count": 26,
   "id": "45bd7bc1",
   "metadata": {},
   "outputs": [],
   "source": [
    "df_tokenized['message_vector'] = df_tokenized['message'].apply(vectorize_message)"
   ]
  },
  {
   "cell_type": "code",
   "execution_count": 27,
   "id": "779acded",
   "metadata": {},
   "outputs": [
    {
     "data": {
      "text/html": [
       "<div>\n",
       "<style scoped>\n",
       "    .dataframe tbody tr th:only-of-type {\n",
       "        vertical-align: middle;\n",
       "    }\n",
       "\n",
       "    .dataframe tbody tr th {\n",
       "        vertical-align: top;\n",
       "    }\n",
       "\n",
       "    .dataframe thead th {\n",
       "        text-align: right;\n",
       "    }\n",
       "</style>\n",
       "<table border=\"1\" class=\"dataframe\">\n",
       "  <thead>\n",
       "    <tr style=\"text-align: right;\">\n",
       "      <th></th>\n",
       "      <th>from_id</th>\n",
       "      <th>message</th>\n",
       "      <th>date</th>\n",
       "      <th>tokenized</th>\n",
       "      <th>message_vector</th>\n",
       "    </tr>\n",
       "  </thead>\n",
       "  <tbody>\n",
       "    <tr>\n",
       "      <th>0</th>\n",
       "      <td>channel1101170442</td>\n",
       "      <td>приветствовать весь наш telegram-канал курс кл...</td>\n",
       "      <td>2017-02-28 19:55:32</td>\n",
       "      <td>[приветствовать, весь, наш, курс, ключевой, со...</td>\n",
       "      <td>[0.0, 0.0, 0.0, 0.0, 0.0, 0.0, 0.0, 0.0, 0.0, ...</td>\n",
       "    </tr>\n",
       "    <tr>\n",
       "      <th>1</th>\n",
       "      <td>channel1101170442</td>\n",
       "      <td>награждение победительница конкурс красота сре...</td>\n",
       "      <td>2017-03-03 18:33:24</td>\n",
       "      <td>[награждение, победительница, конкурс, красота...</td>\n",
       "      <td>[0.0, 0.0, 0.0, 0.0, 0.0, 0.0, 0.0, 0.0, 0.0, ...</td>\n",
       "    </tr>\n",
       "    <tr>\n",
       "      <th>2</th>\n",
       "      <td>channel1101170442</td>\n",
       "      <td>американский селекционер джастин кобылка потра...</td>\n",
       "      <td>2017-03-09 17:11:06</td>\n",
       "      <td>[американский, селекционер, джастин, кобылка, ...</td>\n",
       "      <td>[0.0, 0.0, 0.0, 0.0, 0.0, 0.0, 0.0, 0.0, 0.0, ...</td>\n",
       "    </tr>\n",
       "    <tr>\n",
       "      <th>3</th>\n",
       "      <td>channel1101170442</td>\n",
       "      <td>участие россия конкурс евровидение</td>\n",
       "      <td>2017-03-14 11:13:27</td>\n",
       "      <td>[участие, россия, конкурс, евровидение]</td>\n",
       "      <td>[0.0, 0.0, 0.0, 0.0, 0.0, 0.0, 0.0, 0.0, 0.0, ...</td>\n",
       "    </tr>\n",
       "    <tr>\n",
       "      <th>4</th>\n",
       "      <td>channel1101170442</td>\n",
       "      <td>не болеть друг</td>\n",
       "      <td>2017-03-14 19:49:56</td>\n",
       "      <td>[не, болеть, друг]</td>\n",
       "      <td>[0.0, 0.0, 0.0, 0.0, 0.0, 0.0, 0.0, 0.0, 0.0, ...</td>\n",
       "    </tr>\n",
       "    <tr>\n",
       "      <th>...</th>\n",
       "      <td>...</td>\n",
       "      <td>...</td>\n",
       "      <td>...</td>\n",
       "      <td>...</td>\n",
       "      <td>...</td>\n",
       "    </tr>\n",
       "    <tr>\n",
       "      <th>118278</th>\n",
       "      <td>channel1101170442</td>\n",
       "      <td>брифинг минобороны россия</td>\n",
       "      <td>2022-11-17 15:54:29</td>\n",
       "      <td>[брифинг, минобороны, россия]</td>\n",
       "      <td>[0.0, 0.0, 0.0, 0.0, 0.0, 0.0, 0.0, 0.0, 0.0, ...</td>\n",
       "    </tr>\n",
       "    <tr>\n",
       "      <th>118279</th>\n",
       "      <td>channel1101170442</td>\n",
       "      <td>украинский эксперт допустить место падение рак...</td>\n",
       "      <td>2022-11-17 15:57:53</td>\n",
       "      <td>[украинский, эксперт, допустить, место, падени...</td>\n",
       "      <td>[0.0, 0.0, 0.0, 0.0, 0.0, 0.0, 0.0, 0.0, 0.0, ...</td>\n",
       "    </tr>\n",
       "    <tr>\n",
       "      <th>118280</th>\n",
       "      <td>channel1101170442</td>\n",
       "      <td>порошенко заявить российский пранкер представи...</td>\n",
       "      <td>2022-11-17 16:06:13</td>\n",
       "      <td>[порошенко, заявить, российский, пранкер, пред...</td>\n",
       "      <td>[0.0, 0.0, 0.0, 0.0, 0.0, 0.0, 0.0, 0.0, 0.0, ...</td>\n",
       "    </tr>\n",
       "    <tr>\n",
       "      <th>118281</th>\n",
       "      <td>channel1101170442</td>\n",
       "      <td>израиль сообщить завершить испытание морской с...</td>\n",
       "      <td>2022-11-17 16:06:57</td>\n",
       "      <td>[израиль, сообщить, завершить, испытание, морс...</td>\n",
       "      <td>[0.0, 0.0, 0.0, 0.0, 0.0, 0.0, 0.0, 0.0, 0.0, ...</td>\n",
       "    </tr>\n",
       "    <tr>\n",
       "      <th>118282</th>\n",
       "      <td>channel1101170442</td>\n",
       "      <td>пожар московский рынок садовод потушить площад...</td>\n",
       "      <td>2022-11-17 16:08:27</td>\n",
       "      <td>[пожар, московский, рынок, садовод, потушить, ...</td>\n",
       "      <td>[0.0, 0.0, 0.0, 0.0, 0.0, 0.0, 0.0, 0.0, 0.0, ...</td>\n",
       "    </tr>\n",
       "  </tbody>\n",
       "</table>\n",
       "<p>118283 rows × 5 columns</p>\n",
       "</div>"
      ],
      "text/plain": [
       "                  from_id                                            message  \\\n",
       "0       channel1101170442  приветствовать весь наш telegram-канал курс кл...   \n",
       "1       channel1101170442  награждение победительница конкурс красота сре...   \n",
       "2       channel1101170442  американский селекционер джастин кобылка потра...   \n",
       "3       channel1101170442                 участие россия конкурс евровидение   \n",
       "4       channel1101170442                                     не болеть друг   \n",
       "...                   ...                                                ...   \n",
       "118278  channel1101170442                          брифинг минобороны россия   \n",
       "118279  channel1101170442  украинский эксперт допустить место падение рак...   \n",
       "118280  channel1101170442  порошенко заявить российский пранкер представи...   \n",
       "118281  channel1101170442  израиль сообщить завершить испытание морской с...   \n",
       "118282  channel1101170442  пожар московский рынок садовод потушить площад...   \n",
       "\n",
       "                       date  \\\n",
       "0       2017-02-28 19:55:32   \n",
       "1       2017-03-03 18:33:24   \n",
       "2       2017-03-09 17:11:06   \n",
       "3       2017-03-14 11:13:27   \n",
       "4       2017-03-14 19:49:56   \n",
       "...                     ...   \n",
       "118278  2022-11-17 15:54:29   \n",
       "118279  2022-11-17 15:57:53   \n",
       "118280  2022-11-17 16:06:13   \n",
       "118281  2022-11-17 16:06:57   \n",
       "118282  2022-11-17 16:08:27   \n",
       "\n",
       "                                                tokenized  \\\n",
       "0       [приветствовать, весь, наш, курс, ключевой, со...   \n",
       "1       [награждение, победительница, конкурс, красота...   \n",
       "2       [американский, селекционер, джастин, кобылка, ...   \n",
       "3                 [участие, россия, конкурс, евровидение]   \n",
       "4                                      [не, болеть, друг]   \n",
       "...                                                   ...   \n",
       "118278                      [брифинг, минобороны, россия]   \n",
       "118279  [украинский, эксперт, допустить, место, падени...   \n",
       "118280  [порошенко, заявить, российский, пранкер, пред...   \n",
       "118281  [израиль, сообщить, завершить, испытание, морс...   \n",
       "118282  [пожар, московский, рынок, садовод, потушить, ...   \n",
       "\n",
       "                                           message_vector  \n",
       "0       [0.0, 0.0, 0.0, 0.0, 0.0, 0.0, 0.0, 0.0, 0.0, ...  \n",
       "1       [0.0, 0.0, 0.0, 0.0, 0.0, 0.0, 0.0, 0.0, 0.0, ...  \n",
       "2       [0.0, 0.0, 0.0, 0.0, 0.0, 0.0, 0.0, 0.0, 0.0, ...  \n",
       "3       [0.0, 0.0, 0.0, 0.0, 0.0, 0.0, 0.0, 0.0, 0.0, ...  \n",
       "4       [0.0, 0.0, 0.0, 0.0, 0.0, 0.0, 0.0, 0.0, 0.0, ...  \n",
       "...                                                   ...  \n",
       "118278  [0.0, 0.0, 0.0, 0.0, 0.0, 0.0, 0.0, 0.0, 0.0, ...  \n",
       "118279  [0.0, 0.0, 0.0, 0.0, 0.0, 0.0, 0.0, 0.0, 0.0, ...  \n",
       "118280  [0.0, 0.0, 0.0, 0.0, 0.0, 0.0, 0.0, 0.0, 0.0, ...  \n",
       "118281  [0.0, 0.0, 0.0, 0.0, 0.0, 0.0, 0.0, 0.0, 0.0, ...  \n",
       "118282  [0.0, 0.0, 0.0, 0.0, 0.0, 0.0, 0.0, 0.0, 0.0, ...  \n",
       "\n",
       "[118283 rows x 5 columns]"
      ]
     },
     "execution_count": 27,
     "metadata": {},
     "output_type": "execute_result"
    }
   ],
   "source": [
    "df_tokenized"
   ]
  },
  {
   "cell_type": "code",
   "execution_count": 28,
   "id": "c49cc18a",
   "metadata": {},
   "outputs": [],
   "source": [
    "vord2vec_matrix = np.array(df_tokenized['message_vector'].tolist())"
   ]
  },
  {
   "cell_type": "code",
   "execution_count": 29,
   "id": "95470245",
   "metadata": {},
   "outputs": [
    {
     "name": "stderr",
     "output_type": "stream",
     "text": [
      "/Library/Frameworks/Python.framework/Versions/3.10/lib/python3.10/site-packages/sklearn/decomposition/_pca.py:527: RuntimeWarning: invalid value encountered in divide\n",
      "  explained_variance_ratio_ = explained_variance_ / total_var\n"
     ]
    }
   ],
   "source": [
    "from sklearn.decomposition import PCA\n",
    "from sklearn.preprocessing import StandardScaler\n",
    "\n",
    "# Преобразуем матрицу векторов в формат float\n",
    "vord2vec_matrix = vord2vec_matrix.astype(float)\n",
    "\n",
    "# Масштабируем матрицу векторов\n",
    "scaler = StandardScaler()\n",
    "scaled_matrix = scaler.fit_transform(vord2vec_matrix)\n",
    "\n",
    "# Создаем объект PCA и задаем число компонент\n",
    "pca = PCA(n_components=300)\n",
    "\n",
    "# Применяем PCA к матрице векторов\n",
    "reduced_vectors = pca.fit_transform(scaled_matrix)\n"
   ]
  },
  {
   "cell_type": "code",
   "execution_count": 30,
   "id": "94227778",
   "metadata": {},
   "outputs": [],
   "source": [
    "vord2vec_matrix = reduced_vectors"
   ]
  },
  {
   "cell_type": "code",
   "execution_count": 31,
   "id": "b548ce58",
   "metadata": {},
   "outputs": [
    {
     "name": "stdout",
     "output_type": "stream",
     "text": [
      "[[0. 0. 0. ... 0. 0. 0.]\n",
      " [0. 0. 0. ... 0. 0. 0.]\n",
      " [0. 0. 0. ... 0. 0. 0.]\n",
      " ...\n",
      " [0. 0. 0. ... 0. 0. 0.]\n",
      " [0. 0. 0. ... 0. 0. 0.]\n",
      " [0. 0. 0. ... 0. 0. 0.]]\n"
     ]
    }
   ],
   "source": [
    "print(vord2vec_matrix)"
   ]
  },
  {
   "cell_type": "code",
   "execution_count": 32,
   "id": "dcf54571",
   "metadata": {},
   "outputs": [],
   "source": [
    "from scipy.spatial.distance import cdist"
   ]
  },
  {
   "cell_type": "code",
   "execution_count": 81,
   "id": "42cfe466",
   "metadata": {},
   "outputs": [],
   "source": [
    "x_small_row = []\n",
    "x_small_col = []\n",
    "\n",
    "for i in range(100, 199):\n",
    "    for j in range(100, 199):\n",
    "        x_small_row.append(vord2vec_matrix[i][j])\n",
    "    x_small_col.append(x_small_row)\n",
    "    x_small_row = []"
   ]
  },
  {
   "cell_type": "code",
   "execution_count": 82,
   "id": "7eb3ef36",
   "metadata": {},
   "outputs": [],
   "source": [
    "cosine_simularities_2 = cdist(x_small_col, x_small_col, 'euclidean')"
   ]
  },
  {
   "cell_type": "code",
   "execution_count": 1,
   "id": "2c321621",
   "metadata": {},
   "outputs": [
    {
     "ename": "NameError",
     "evalue": "name 'cosine_simularities_2' is not defined",
     "output_type": "error",
     "traceback": [
      "\u001b[0;31m---------------------------------------------------------------------------\u001b[0m",
      "\u001b[0;31mNameError\u001b[0m                                 Traceback (most recent call last)",
      "Cell \u001b[0;32mIn [1], line 1\u001b[0m\n\u001b[0;32m----> 1\u001b[0m \u001b[38;5;28msum\u001b[39m(\u001b[43mcosine_simularities_2\u001b[49m[\u001b[38;5;241m0\u001b[39m])\n",
      "\u001b[0;31mNameError\u001b[0m: name 'cosine_simularities_2' is not defined"
     ]
    }
   ],
   "source": [
    "cosine_simularities_2"
   ]
  },
  {
   "cell_type": "code",
   "execution_count": 84,
   "id": "54187d17",
   "metadata": {},
   "outputs": [],
   "source": [
    "def sim(i, j):\n",
    "    return float((1 + cosine_simularities_2[i][j]))"
   ]
  },
  {
   "cell_type": "code",
   "execution_count": 85,
   "id": "4136902b",
   "metadata": {},
   "outputs": [
    {
     "name": "stdout",
     "output_type": "stream",
     "text": [
      "CPU times: user 11.1 ms, sys: 297 µs, total: 11.4 ms\n",
      "Wall time: 11.3 ms\n"
     ]
    }
   ],
   "source": [
    "%%time\n",
    "sim_matrix = []\n",
    "sim_row = []\n",
    "for i in range(0, 99):\n",
    "    for j in range(0, 99):\n",
    "        sim_row.append(sim(i, j))\n",
    "    sim_matrix.append(sim_row)\n",
    "    sim_row = []\n",
    "import scipy.cluster.hierarchy as sch\n",
    "from scipy.cluster.hierarchy import dendrogram"
   ]
  },
  {
   "cell_type": "code",
   "execution_count": 86,
   "id": "e7f94012",
   "metadata": {},
   "outputs": [
    {
     "name": "stderr",
     "output_type": "stream",
     "text": [
      "/Library/Frameworks/Python.framework/Versions/3.10/lib/python3.10/site-packages/scipy/cluster/hierarchy.py:834: ClusterWarning: scipy.cluster: The symmetric non-negative hollow observation matrix looks suspiciously like an uncondensed distance matrix\n",
      "  return linkage(y, method='ward', metric='euclidean')\n"
     ]
    },
    {
     "data": {
      "text/plain": [
       "array([0, 0, 0, 0, 0, 0, 0, 0, 0, 0, 0, 0, 0, 0, 0, 0, 0, 0, 0, 0, 0, 0,\n",
       "       0, 0, 0, 0, 0, 0, 0, 0, 0, 0, 0, 0, 0, 0, 0, 0, 0, 0, 0, 0, 0, 0,\n",
       "       0, 0, 0, 0, 0, 0, 0, 0, 0, 0, 0, 0, 0, 0, 0, 0, 0, 0, 0, 0, 0, 0,\n",
       "       0, 0, 0, 0, 0, 0, 0, 0, 0, 0, 0, 0, 0, 0, 0, 0, 0, 0, 0, 0, 0, 0,\n",
       "       0, 0, 9, 8, 7, 6, 5, 4, 3, 2, 1])"
      ]
     },
     "execution_count": 86,
     "metadata": {},
     "output_type": "execute_result"
    }
   ],
   "source": [
    "from sklearn.cluster import AgglomerativeClustering\n",
    "sim_matrix = np.array(cosine_simularities_2)\n",
    "cluster = AgglomerativeClustering(n_clusters=10, affinity='euclidean', linkage='ward')\n",
    "clusters = cluster.fit_predict(sim_matrix)\n",
    "clusters"
   ]
  },
  {
   "cell_type": "code",
   "execution_count": null,
   "id": "7ac0c1ba",
   "metadata": {},
   "outputs": [],
   "source": []
  },
  {
   "cell_type": "code",
   "execution_count": null,
   "id": "90457158",
   "metadata": {},
   "outputs": [],
   "source": []
  },
  {
   "cell_type": "code",
   "execution_count": null,
   "id": "b74c7164",
   "metadata": {},
   "outputs": [],
   "source": []
  },
  {
   "cell_type": "code",
   "execution_count": null,
   "id": "ebb7b35d",
   "metadata": {},
   "outputs": [],
   "source": []
  },
  {
   "cell_type": "code",
   "execution_count": null,
   "id": "869f1524",
   "metadata": {},
   "outputs": [],
   "source": []
  },
  {
   "cell_type": "markdown",
   "id": "e3faae8e",
   "metadata": {},
   "source": [
    "# spaCY"
   ]
  },
  {
   "cell_type": "code",
   "execution_count": 33,
   "id": "5befd245",
   "metadata": {},
   "outputs": [],
   "source": [
    "#pip install spacy"
   ]
  },
  {
   "cell_type": "code",
   "execution_count": 34,
   "id": "d9489d18",
   "metadata": {},
   "outputs": [],
   "source": [
    "#pip install https://github.com/explosion/spacy-models/releases/download/ru_core_news_sm-3.1.0/ru_core_news_sm-3.1.0.tar.gz"
   ]
  },
  {
   "cell_type": "code",
   "execution_count": 35,
   "id": "7fd7ddb7",
   "metadata": {},
   "outputs": [],
   "source": [
    "import spacy"
   ]
  },
  {
   "cell_type": "code",
   "execution_count": 111,
   "id": "9c48d058",
   "metadata": {},
   "outputs": [],
   "source": [
    "start_clustering = 100\n",
    "end_clustering = 150"
   ]
  },
  {
   "cell_type": "code",
   "execution_count": 112,
   "id": "362e6be3",
   "metadata": {},
   "outputs": [],
   "source": [
    "nlp = spacy.load(\"ru_core_news_sm\")\n",
    "df_tokenized_2 = df_tokenized['message'][start_clustering:end_clustering + 1].apply(nlp)"
   ]
  },
  {
   "cell_type": "code",
   "execution_count": 113,
   "id": "aede1e05",
   "metadata": {},
   "outputs": [
    {
     "data": {
      "text/plain": [
       "100    (вид, получить, название, марианский, морской,...\n",
       "101    (запуск, falcon, heavy, состояться, следующий,...\n",
       "102    (момоа, пояснить, наткнуться, спойлер, время, ...\n",
       "103    (инженер, тольяттинский, компания, yagalet, за...\n",
       "104    (смочь, решить, вопрос, украина, именно, прийт...\n",
       "105    (торжественный, зажжение, высокий, мир, живой,...\n",
       "106    (военный, изъять, несколько, тысяча, единица, ...\n",
       "107    (ракета, -, носитель, среднее, класс, союз-2.1...\n",
       "108    (бетти, миллер, подмешивать, яд, пища, напиток...\n",
       "109    (полицейский, мартин, уиллис, около, 15, минут...\n",
       "110    (добавить, всё, свой, ошибка, президент, украи...\n",
       "111    (группа, получить, известность, благодаря, пес...\n",
       "112    (новосибирский, область, пятеро, ребёнок, поги...\n",
       "113    (мария, шарапов, серить, уильямс, принять, уча...\n",
       "114    (идти, выборы, уникальный, программа, право, с...\n",
       "115    (05.12.2017, соответствие, закон, российский, ...\n",
       "116    (знаменитый, французский, певец, композитор, с...\n",
       "117    (захаров, заявить, попытка, сша, вербовать, ро...\n",
       "118                                        (самый, фото)\n",
       "119    (осудить, сша, российский, лётчик, ярошенко, п...\n",
       "120    (наш, настойчивый, требование, российский, лёт...\n",
       "121    (путин, объявить, участие, президентский, выборы)\n",
       "122    (очки, черчилль, уйти, аукцион, 8, тысяча, дол...\n",
       "123    (побережье, чукотка, выбросить, гигантский, мо...\n",
       "124    (московский, метро, запустить, поезд, наука, б...\n",
       "125    (поезд, наука, будущее, курсировать, кольцевой...\n",
       "126    (лидер, хамас, объявить, пятница, день, гнев, ...\n",
       "127    (тренер, украинский, клуб, шахтёр, паула, фонс...\n",
       "128    (европа, разыскивать, 66-летний, поклонник, ги...\n",
       "129    (оценка, полиция, манифестация, брюссель, учас...\n",
       "130    (ростовский, аэропорт, платовпринять, первый, ...\n",
       "131    (аэропорт, плат, расположить, аксайский, район...\n",
       "132    (мощный, последний, слово, улюкаева, ., nя, пр...\n",
       "133    (лидер, антирейтинг, стать, пятый, часть, фран...\n",
       "134    (всё, -, таки, известный, событие, вторник, не...\n",
       "135    (это, май, френдз, организатор, говорить, 50, ...\n",
       "136    (слово, обама, расти, самодовольство, американ...\n",
       "137    (письмо, найти, опубликовать, свой, страница, ...\n",
       "138    (соцсеть, высмеять, новогодний, ёлка, центр, к...\n",
       "139    (ранее, управление, фсб, ставропольский, край,...\n",
       "140    (новогодний, волшебник, проверить, качество, г...\n",
       "141    (4, год, назад, дуров, купить, 2, тысяча, битк...\n",
       "142    (целое, самый, популярный, запрос, яндекс, 201...\n",
       "143    (блогер, опубликовать, видео, странный, поведе...\n",
       "144    (ранее, сми, появиться, текст, запрос, депутат...\n",
       "145               (путин, пойти, выборы, самовыдвиженец)\n",
       "146    (путин, рассказать, анекдот, отвечать, вопрос,...\n",
       "147    (показательно, спонтанный, аплодисменты, зал, ...\n",
       "148    (это, песков, написать, прочитать, вопрос, дат...\n",
       "149    (хотеть, спросить, путин, 1, трамп, -, ещё, ша...\n",
       "150    (фермер, выйти, суд, смотреть, пресс, -, конфе...\n",
       "Name: message, dtype: object"
      ]
     },
     "execution_count": 113,
     "metadata": {},
     "output_type": "execute_result"
    }
   ],
   "source": [
    "df_tokenized_2"
   ]
  },
  {
   "cell_type": "code",
   "execution_count": 114,
   "id": "c704ee38",
   "metadata": {},
   "outputs": [],
   "source": [
    "vectors_list = [doc.vector for doc in df_tokenized_2]\n"
   ]
  },
  {
   "cell_type": "code",
   "execution_count": 115,
   "id": "e0c83792",
   "metadata": {},
   "outputs": [
    {
     "data": {
      "text/plain": [
       "51"
      ]
     },
     "execution_count": 115,
     "metadata": {},
     "output_type": "execute_result"
    }
   ],
   "source": [
    "len(vectors_list)"
   ]
  },
  {
   "cell_type": "code",
   "execution_count": 116,
   "id": "5777c10e",
   "metadata": {},
   "outputs": [],
   "source": [
    "from scipy.spatial.distance import cdist\n",
    "cosine_distance_matrix = cdist(vectors_list, vectors_list, metric='cosine')"
   ]
  },
  {
   "cell_type": "code",
   "execution_count": 117,
   "id": "954e77dc",
   "metadata": {},
   "outputs": [],
   "source": [
    "import scipy.cluster.hierarchy as sch\n",
    "from scipy.cluster.hierarchy import dendrogram"
   ]
  },
  {
   "cell_type": "code",
   "execution_count": 118,
   "id": "9a4e6605",
   "metadata": {},
   "outputs": [],
   "source": [
    "#%%time\n",
    "#import matplotlib.pyplot as plt\n",
    "#dendrogram = sch.dendrogram(sch.linkage(cosine_distance_matrix, method = 'ward'))\n",
    "#plt.figure(figsize=(200, 500))\n",
    "#plt.show()"
   ]
  },
  {
   "cell_type": "code",
   "execution_count": 119,
   "id": "a66093e3",
   "metadata": {},
   "outputs": [
    {
     "data": {
      "text/plain": [
       "51"
      ]
     },
     "execution_count": 119,
     "metadata": {},
     "output_type": "execute_result"
    }
   ],
   "source": [
    "len(cosine_distance_matrix)"
   ]
  },
  {
   "cell_type": "code",
   "execution_count": 120,
   "id": "c4b87555",
   "metadata": {},
   "outputs": [
    {
     "data": {
      "text/plain": [
       "{'icoord': [[15.0, 15.0, 25.0, 25.0],\n",
       "  [5.0, 5.0, 20.0, 20.0],\n",
       "  [65.0, 65.0, 75.0, 75.0],\n",
       "  [55.0, 55.0, 70.0, 70.0],\n",
       "  [45.0, 45.0, 62.5, 62.5],\n",
       "  [95.0, 95.0, 105.0, 105.0],\n",
       "  [115.0, 115.0, 125.0, 125.0],\n",
       "  [100.0, 100.0, 120.0, 120.0],\n",
       "  [85.0, 85.0, 110.0, 110.0],\n",
       "  [145.0, 145.0, 155.0, 155.0],\n",
       "  [135.0, 135.0, 150.0, 150.0],\n",
       "  [97.5, 97.5, 142.5, 142.5],\n",
       "  [53.75, 53.75, 120.0, 120.0],\n",
       "  [175.0, 175.0, 185.0, 185.0],\n",
       "  [165.0, 165.0, 180.0, 180.0],\n",
       "  [86.875, 86.875, 172.5, 172.5],\n",
       "  [35.0, 35.0, 129.6875, 129.6875],\n",
       "  [12.5, 12.5, 82.34375, 82.34375],\n",
       "  [195.0, 195.0, 205.0, 205.0],\n",
       "  [215.0, 215.0, 225.0, 225.0],\n",
       "  [235.0, 235.0, 245.0, 245.0],\n",
       "  [265.0, 265.0, 275.0, 275.0],\n",
       "  [255.0, 255.0, 270.0, 270.0],\n",
       "  [285.0, 285.0, 295.0, 295.0],\n",
       "  [262.5, 262.5, 290.0, 290.0],\n",
       "  [240.0, 240.0, 276.25, 276.25],\n",
       "  [315.0, 315.0, 325.0, 325.0],\n",
       "  [305.0, 305.0, 320.0, 320.0],\n",
       "  [258.125, 258.125, 312.5, 312.5],\n",
       "  [220.0, 220.0, 285.3125, 285.3125],\n",
       "  [200.0, 200.0, 252.65625, 252.65625],\n",
       "  [47.421875, 47.421875, 226.328125, 226.328125],\n",
       "  [355.0, 355.0, 365.0, 365.0],\n",
       "  [345.0, 345.0, 360.0, 360.0],\n",
       "  [335.0, 335.0, 352.5, 352.5],\n",
       "  [395.0, 395.0, 405.0, 405.0],\n",
       "  [385.0, 385.0, 400.0, 400.0],\n",
       "  [415.0, 415.0, 425.0, 425.0],\n",
       "  [465.0, 465.0, 475.0, 475.0],\n",
       "  [455.0, 455.0, 470.0, 470.0],\n",
       "  [445.0, 445.0, 462.5, 462.5],\n",
       "  [495.0, 495.0, 505.0, 505.0],\n",
       "  [485.0, 485.0, 500.0, 500.0],\n",
       "  [453.75, 453.75, 492.5, 492.5],\n",
       "  [435.0, 435.0, 473.125, 473.125],\n",
       "  [420.0, 420.0, 454.0625, 454.0625],\n",
       "  [392.5, 392.5, 437.03125, 437.03125],\n",
       "  [375.0, 375.0, 414.765625, 414.765625],\n",
       "  [343.75, 343.75, 394.8828125, 394.8828125],\n",
       "  [136.875, 136.875, 369.31640625, 369.31640625]],\n",
       " 'dcoord': [[0.0, 0.16610009673303505, 0.16610009673303505, 0.0],\n",
       "  [0.0, 0.35794950701184775, 0.35794950701184775, 0.16610009673303505],\n",
       "  [0.0, 0.12257189218018383, 0.12257189218018383, 0.0],\n",
       "  [0.0, 0.16968787323347365, 0.16968787323347365, 0.12257189218018383],\n",
       "  [0.0, 0.22147112600487512, 0.22147112600487512, 0.16968787323347365],\n",
       "  [0.0, 0.08133238195343406, 0.08133238195343406, 0.0],\n",
       "  [0.0, 0.11458745948493387, 0.11458745948493387, 0.0],\n",
       "  [0.08133238195343406,\n",
       "   0.13733326172325752,\n",
       "   0.13733326172325752,\n",
       "   0.11458745948493387],\n",
       "  [0.0, 0.16524434402552673, 0.16524434402552673, 0.13733326172325752],\n",
       "  [0.0, 0.14803001143947192, 0.14803001143947192, 0.0],\n",
       "  [0.0, 0.2303499442618858, 0.2303499442618858, 0.14803001143947192],\n",
       "  [0.16524434402552673,\n",
       "   0.2516922697917689,\n",
       "   0.2516922697917689,\n",
       "   0.2303499442618858],\n",
       "  [0.22147112600487512,\n",
       "   0.27935921468547037,\n",
       "   0.27935921468547037,\n",
       "   0.2516922697917689],\n",
       "  [0.0, 0.2800102708269976, 0.2800102708269976, 0.0],\n",
       "  [0.0, 0.3223833848723414, 0.3223833848723414, 0.2800102708269976],\n",
       "  [0.27935921468547037,\n",
       "   0.3953613331612833,\n",
       "   0.3953613331612833,\n",
       "   0.3223833848723414],\n",
       "  [0.0, 0.44518345747413596, 0.44518345747413596, 0.3953613331612833],\n",
       "  [0.35794950701184775,\n",
       "   0.5188878193449424,\n",
       "   0.5188878193449424,\n",
       "   0.44518345747413596],\n",
       "  [0.0, 0.31761983947385664, 0.31761983947385664, 0.0],\n",
       "  [0.0, 0.1645649492112775, 0.1645649492112775, 0.0],\n",
       "  [0.0, 0.1624002696332747, 0.1624002696332747, 0.0],\n",
       "  [0.0, 0.1351838346126093, 0.1351838346126093, 0.0],\n",
       "  [0.0, 0.17244150914042258, 0.17244150914042258, 0.1351838346126093],\n",
       "  [0.0, 0.19197357933639503, 0.19197357933639503, 0.0],\n",
       "  [0.17244150914042258,\n",
       "   0.19946161833182235,\n",
       "   0.19946161833182235,\n",
       "   0.19197357933639503],\n",
       "  [0.1624002696332747,\n",
       "   0.23754112192193022,\n",
       "   0.23754112192193022,\n",
       "   0.19946161833182235],\n",
       "  [0.0, 0.2330552789469742, 0.2330552789469742, 0.0],\n",
       "  [0.0, 0.3122429875816769, 0.3122429875816769, 0.2330552789469742],\n",
       "  [0.23754112192193022,\n",
       "   0.48420202532761253,\n",
       "   0.48420202532761253,\n",
       "   0.3122429875816769],\n",
       "  [0.1645649492112775,\n",
       "   0.5437379334026864,\n",
       "   0.5437379334026864,\n",
       "   0.48420202532761253],\n",
       "  [0.31761983947385664,\n",
       "   0.5852202743168217,\n",
       "   0.5852202743168217,\n",
       "   0.5437379334026864],\n",
       "  [0.5188878193449424,\n",
       "   0.7048797649108046,\n",
       "   0.7048797649108046,\n",
       "   0.5852202743168217],\n",
       "  [0.0, 0.25626765983445876, 0.25626765983445876, 0.0],\n",
       "  [0.0, 0.3875324086231094, 0.3875324086231094, 0.25626765983445876],\n",
       "  [0.0, 0.6362440347288945, 0.6362440347288945, 0.3875324086231094],\n",
       "  [0.0, 0.1949914735276287, 0.1949914735276287, 0.0],\n",
       "  [0.0, 0.2854318054095775, 0.2854318054095775, 0.1949914735276287],\n",
       "  [0.0, 0.24117813919293196, 0.24117813919293196, 0.0],\n",
       "  [0.0, 0.168924824774065, 0.168924824774065, 0.0],\n",
       "  [0.0, 0.200081004951734, 0.200081004951734, 0.168924824774065],\n",
       "  [0.0, 0.20765352323671515, 0.20765352323671515, 0.200081004951734],\n",
       "  [0.0, 0.20403961394775794, 0.20403961394775794, 0.0],\n",
       "  [0.0, 0.29564195619863126, 0.29564195619863126, 0.20403961394775794],\n",
       "  [0.20765352323671515,\n",
       "   0.32354507844607977,\n",
       "   0.32354507844607977,\n",
       "   0.29564195619863126],\n",
       "  [0.0, 0.32847722405761165, 0.32847722405761165, 0.32354507844607977],\n",
       "  [0.24117813919293196,\n",
       "   0.4015811319422675,\n",
       "   0.4015811319422675,\n",
       "   0.32847722405761165],\n",
       "  [0.2854318054095775,\n",
       "   0.7387238317139716,\n",
       "   0.7387238317139716,\n",
       "   0.4015811319422675],\n",
       "  [0.0, 0.8078323286046741, 0.8078323286046741, 0.7387238317139716],\n",
       "  [0.6362440347288945,\n",
       "   0.8856601875766952,\n",
       "   0.8856601875766952,\n",
       "   0.8078323286046741],\n",
       "  [0.7048797649108046,\n",
       "   1.2132766417888623,\n",
       "   1.2132766417888623,\n",
       "   0.8856601875766952]],\n",
       " 'ivl': ['34',\n",
       "  '2',\n",
       "  '48',\n",
       "  '50',\n",
       "  '38',\n",
       "  '3',\n",
       "  '0',\n",
       "  '7',\n",
       "  '14',\n",
       "  '8',\n",
       "  '40',\n",
       "  '37',\n",
       "  '43',\n",
       "  '17',\n",
       "  '4',\n",
       "  '20',\n",
       "  '19',\n",
       "  '10',\n",
       "  '30',\n",
       "  '21',\n",
       "  '45',\n",
       "  '1',\n",
       "  '11',\n",
       "  '26',\n",
       "  '49',\n",
       "  '28',\n",
       "  '27',\n",
       "  '46',\n",
       "  '9',\n",
       "  '36',\n",
       "  '13',\n",
       "  '22',\n",
       "  '41',\n",
       "  '29',\n",
       "  '42',\n",
       "  '16',\n",
       "  '35',\n",
       "  '18',\n",
       "  '15',\n",
       "  '24',\n",
       "  '25',\n",
       "  '23',\n",
       "  '32',\n",
       "  '5',\n",
       "  '6',\n",
       "  '12',\n",
       "  '31',\n",
       "  '33',\n",
       "  '44',\n",
       "  '39',\n",
       "  '47'],\n",
       " 'leaves': [34,\n",
       "  2,\n",
       "  48,\n",
       "  50,\n",
       "  38,\n",
       "  3,\n",
       "  0,\n",
       "  7,\n",
       "  14,\n",
       "  8,\n",
       "  40,\n",
       "  37,\n",
       "  43,\n",
       "  17,\n",
       "  4,\n",
       "  20,\n",
       "  19,\n",
       "  10,\n",
       "  30,\n",
       "  21,\n",
       "  45,\n",
       "  1,\n",
       "  11,\n",
       "  26,\n",
       "  49,\n",
       "  28,\n",
       "  27,\n",
       "  46,\n",
       "  9,\n",
       "  36,\n",
       "  13,\n",
       "  22,\n",
       "  41,\n",
       "  29,\n",
       "  42,\n",
       "  16,\n",
       "  35,\n",
       "  18,\n",
       "  15,\n",
       "  24,\n",
       "  25,\n",
       "  23,\n",
       "  32,\n",
       "  5,\n",
       "  6,\n",
       "  12,\n",
       "  31,\n",
       "  33,\n",
       "  44,\n",
       "  39,\n",
       "  47],\n",
       " 'color_list': ['C1',\n",
       "  'C1',\n",
       "  'C1',\n",
       "  'C1',\n",
       "  'C1',\n",
       "  'C1',\n",
       "  'C1',\n",
       "  'C1',\n",
       "  'C1',\n",
       "  'C1',\n",
       "  'C1',\n",
       "  'C1',\n",
       "  'C1',\n",
       "  'C1',\n",
       "  'C1',\n",
       "  'C1',\n",
       "  'C1',\n",
       "  'C1',\n",
       "  'C1',\n",
       "  'C1',\n",
       "  'C1',\n",
       "  'C1',\n",
       "  'C1',\n",
       "  'C1',\n",
       "  'C1',\n",
       "  'C1',\n",
       "  'C1',\n",
       "  'C1',\n",
       "  'C1',\n",
       "  'C1',\n",
       "  'C1',\n",
       "  'C1',\n",
       "  'C2',\n",
       "  'C2',\n",
       "  'C2',\n",
       "  'C3',\n",
       "  'C3',\n",
       "  'C3',\n",
       "  'C3',\n",
       "  'C3',\n",
       "  'C3',\n",
       "  'C3',\n",
       "  'C3',\n",
       "  'C3',\n",
       "  'C3',\n",
       "  'C3',\n",
       "  'C3',\n",
       "  'C3',\n",
       "  'C0',\n",
       "  'C0'],\n",
       " 'leaves_color_list': ['C1',\n",
       "  'C1',\n",
       "  'C1',\n",
       "  'C1',\n",
       "  'C1',\n",
       "  'C1',\n",
       "  'C1',\n",
       "  'C1',\n",
       "  'C1',\n",
       "  'C1',\n",
       "  'C1',\n",
       "  'C1',\n",
       "  'C1',\n",
       "  'C1',\n",
       "  'C1',\n",
       "  'C1',\n",
       "  'C1',\n",
       "  'C1',\n",
       "  'C1',\n",
       "  'C1',\n",
       "  'C1',\n",
       "  'C1',\n",
       "  'C1',\n",
       "  'C1',\n",
       "  'C1',\n",
       "  'C1',\n",
       "  'C1',\n",
       "  'C1',\n",
       "  'C1',\n",
       "  'C1',\n",
       "  'C1',\n",
       "  'C1',\n",
       "  'C1',\n",
       "  'C2',\n",
       "  'C2',\n",
       "  'C2',\n",
       "  'C2',\n",
       "  'C3',\n",
       "  'C3',\n",
       "  'C3',\n",
       "  'C3',\n",
       "  'C3',\n",
       "  'C3',\n",
       "  'C3',\n",
       "  'C3',\n",
       "  'C3',\n",
       "  'C3',\n",
       "  'C3',\n",
       "  'C3',\n",
       "  'C3',\n",
       "  'C3']}"
      ]
     },
     "execution_count": 120,
     "metadata": {},
     "output_type": "execute_result"
    },
    {
     "data": {
      "image/png": "[encoded data removed]",
      "text/plain": [
       "<Figure size 640x480 with 1 Axes>"
      ]
     },
     "metadata": {},
     "output_type": "display_data"
    }
   ],
   "source": [
    "from scipy.spatial.distance import cdist, squareform\n",
    "from scipy.cluster.hierarchy import linkage, dendrogram\n",
    "condensed_distance_matrix = squareform(cosine_distance_matrix, checks=False)\n",
    "\n",
    "# Perform hierarchical clustering\n",
    "linkage_matrix = linkage(condensed_distance_matrix, method='ward')\n",
    "\n",
    "# Plot dendrogram\n",
    "dendrogram(linkage_matrix)"
   ]
  },
  {
   "cell_type": "code",
   "execution_count": 129,
   "id": "20bc4069",
   "metadata": {},
   "outputs": [
    {
     "name": "stdout",
     "output_type": "stream",
     "text": [
      "Cluster 2: [5, 6, 12, 15, 16, 18, 23, 24, 25, 29, 31, 32, 33, 35, 39, 42, 44, 47]\n"
     ]
    }
   ],
   "source": []
  },
  {
   "cell_type": "code",
   "execution_count": 132,
   "id": "797c499d",
   "metadata": {},
   "outputs": [
    {
     "name": "stdout",
     "output_type": "stream",
     "text": [
      "Cluster 1: ['момоа пояснить наткнуться спойлер время посещение съёмочный площадки. рассказать являться больший фанат сериал вовсе не хотеть ранний время знать всё закончится. nя воскликнуть черта не хотеть знать это вспоминать актёр.', 'всё-таки известный событие вторник не пройти мимо меня. вчера сесть голос сегодня подняться температура марш 10.12 обещать снова строй рядом заявить саакашвили.', 'это песков написать прочитать вопрос дать спасибо']\n",
      "Cluster 2: ['вид получить название марианский морской слизень mariana snailfish обитать глубина 81 километра. это исследователь отмечать теория максимально возможный глубина пригодный существование рыба составлять 82 километра.', 'инженер тольяттинский компания yagalet задумать создать автомобиль который ездить летать. режим полёт машина смочь приподняться небольшой высота помощь воздушный подушки.', 'смочь решить вопрос украина именно прийти договорённость который устроить оба сторона получить позитивный результат. это потребовать серьёзный усилие решение спорный вопрос добавить американский дипломат.', 'ракета-носитель среднее класс союз-2.1б стартовать космодром плесецк 1343. всё предстартовый операция старт пройти штатный режиме. военный спутник успешно вывести задать орбита наземный средство космический войско принять управление.', 'бетти миллер подмешивать яд пища напиток постоялец дом престарелый протяжение несколько недель. задержать агент фбр объяснить хотеть протестировать вещество сосед оценить эффективность.', 'добавить всё свой ошибка президент украина допускать всё трезвый голова', 'идти выборы уникальный программа право счастие фокус каждый человек мочь востребовать свой государство сказать ренары отметить главный задача показать рядовой гражданин россия мочь влиять будущее свой страны.', 'захаров заявить попытка сша вербовать российский журналистов. российский средство массовый информация сша оказывать беспрецедентный давление сказать представитель мид.', 'осудить сша российский лётчик ярошенко провести операция', 'наш настойчивый требование российский лётчик похитить американский спецслужба либерии… оказать адекватный медицинский помощь. давно страдать целый рядом заболевание число стать следствие избиение аресте. провести плановый операцию. настоящий время проводиться постхирургический реабилитация рассказать захаров брифинг москве.', 'ростовский аэропорт платовпринять первый рейс который выполнить авиакомпания победа москва', 'письмо найти опубликовать свой страница джей бэнкс сотрудник организация angel tree который заниматься раздача подарок нуждаться детям. слово оно попасть случайно. попросить сант пять предметов. четвероклассник указать новый ботинок счастливый жизнь.', 'соцсеть высмеять новогодний ёлка центр киева. пользователь начать активно комментировать новость. nна вид наш жизнь отмечать юра вовчемыс', 'новогодний волшебник проверить качество готовый покрытие постучать свой посох прокатиться катке. строитель визит гость подготовиться украсить техника мишура шар снежинка сообщать инфоцентр крымский мост.', 'блогер опубликовать видео странный поведение саакашвили который политик смахивать невидимый пылинка гладить лицо одежде. пользователь сеть согласиться блогер отметить саакашвили демонстрировать типичный поведение наркомана.', 'фермер выйти суд смотреть пресс-конференция путина.']\n",
      "Cluster 3: ['путин объявить участие президентский выборы', 'путин пойти выборы самовыдвиженец']\n"
     ]
    }
   ],
   "source": [
    "from scipy.cluster.hierarchy import fcluster\n",
    "\n",
    "# Assign each message to a cluster\n",
    "max_distance = 0.5  # You may need to adjust this value based on the dendrogram\n",
    "clusters = fcluster(linkage_matrix, t=max_distance, criterion='distance')\n",
    "\n",
    "# Create a dictionary that maps cluster numbers to message indices\n",
    "cluster_dict = {}\n",
    "for i in range(len(clusters)):\n",
    "    if clusters[i] not in cluster_dict:\n",
    "        cluster_dict[clusters[i]] = [i]\n",
    "    else:\n",
    "        cluster_dict[clusters[i]].append(i)\n",
    "\n",
    "# Print the list of messages in each cluster\n",
    "for i in range(1, 4):\n",
    "    cluster_messages = [df_tokenized.iloc[j + start_clustering]['message'] for j in cluster_dict[i]]\n",
    "    print(f\"Cluster {i}: {cluster_messages}\")\n"
   ]
  },
  {
   "cell_type": "code",
   "execution_count": 127,
   "id": "894413a5",
   "metadata": {},
   "outputs": [
    {
     "name": "stdout",
     "output_type": "stream",
     "text": [
      "Cluster 1: ['приветствовать весь наш telegram-канал курс ключевой событие', 'награждение победительница конкурс красота среди осудить мисс весна - 2017 колония общий режим женщина ик-10 уфсин россия приморский край', 'американский селекционер джастин кобылка потратить 8 год выведение питон смайлик кожа', 'участие россия конкурс евровидение', 'не болеть друг', 'идея переименование волгоград сталинград', 'поддерживать идея детский омбудсмен', 'нужный старшеклассник дисциплина', 'относиться идея положительно отрицательно', 'идея', 'весь праздник день победа', 'владимир путин президент молдавия игорь додон военный парад ознаменование 72-й годовщина победа великий отечественный война', 'солист aerosmith стивен тайлера время концерт олимпийский москва 23 май 2017 года. рок-группа дать единственный выступление россия рамка прощальный турне aero-vederci baby', 'выглядеть кот-мэр город талкитный штат аляска который скончаться возраст 20 лет. избрать неофициальный мэр городок ещё 1998 году. кот служить пост весь свой жизнь.', 'день шахтёр вспоминать славный имя горняк – первый очередь алексей стаханова. поздравлять праздник', 'искусственный интеллект прорываться власть', 'спиннер', 'забыть напомнить наш замечательный стикер который сделать годовщина октябрьский революции. возможно многий кто-то ещё', 'это самый коробка деньга суде. написать внутри лежать 18 млн доллар найти данные следствие машина бывший министра.', 'сеть разлететься грустный фотография северный белый носорог кличка судан последний свой роде. слишком старый размножаться. сохранение биоматериал носорог нужно 9 млн.', 'день полиция умвд екатеринбург выпустить детский настольный игру. помощь ребёнок бороться криминальный авторитетами. раскрытие преступление герой получать полицейский звания.', 'студия лебедев нарисовать эмблема тамбовский росгвардии. nnи предлагать разработать-ка красивый эмблема тамбовский росгвардии. страшно оживились. красивый nвот получилось.', 'шведский солнечный баня прибыть париж 3 недели. снаружи баня-яйцо выполнить не настоящий золото позолотить зеркальный пластин. яйцо одновременно мочь греться 8 человек', 'пятница 10 ноябрь астана задержать 6 иностранный турист который фотографироваться полуголый вид около надпись i love astana. задержать оказаться гражданин чехии.', 'радикальный популистский группировка протестовать офис фирма-прокатчик сжигать портрет актриса требовать не допустить картина экраны. лента должный выйти первый декабрь продюсерский компания отложить старт показ', 'британия оправдать 40-килограммовый пёс кличка мишка. обвинять нападение велосипедистку. суд постановить пёс слишком толстый набрасываться людей.', 'толстенький - не преступление', 'московский область автодорога м-4 дон опрокинуться автобус. двенадцать человек пострадать 11 госпитализировать состояние средний лёгкий тяжесть', 'вместо жаркий латиноамериканский танец российский клип выпускник новосибирский консерватория павел михайловский кирилл мелентьев василий юрченко показать суровый сибирский климат. свой кавер снять заснеженный лес фон берез. финал экран появляться надпись this is siberia это сибирь', 'сель рядом пассажир инстаграм-блогер khiza13 запостить видео который ехать машина настоящий медведем.', 'соня по-хорошему подзатыльник нужно дать гнойный гнойный. екатеринбург не бояться сказать город говорить больно. ценить честность открытость не терпеть ханжества. любить хороший поэт не поэт лишь казаться написать куйвашева свой страница instagram.nсхожий мнение высказать мэр екатеринбург евгений ройзман. рэпер гнойный приехать гость назвать екатеринбург столица спида. город вежливый промолчать понять гнойный действительно гнойный… написать свой twitter.', 'данные 2016 год сообщать шведский телевидение svt компания сжечь 19 тонна одежда большой соседний дания ранее подобный расследование провести датский канал tv2 выяснить компания сжечь страна прошлый год 96 тонна новый одежды.', 'светлый память невероятно талантливый харизматичный дмитрий хворостовскому...']\n",
      "Cluster 2: ['военный остров ява соорудить статуя тигр вход местный полигон. сооружение мгновенно стать объект насмешка интернете. из-за это руководство база приказать статуя уничтожить. жаль...', 'поздравлять весь подписчик прекрасный праздник - всемирный день сон ⏰', 'считать нужно захоронить тело ленин', 'переехать', 'течение 10 год прошедшее день принятие это закон большинство россиянин продолжать пересекать граница документ не существовать момент государство – ссср', 'также мороженое честь трамп называться trump cup', 'запад вовсю готовиться хэллоуину. сша украсить белый дом. отмечать праздник', 'медведь огромный язык вес 3 кг прооперировать мьянме. мишка кличка няня хто страдать слоновый болезнью. операция длиться 4 час косолапый восстанавливается.', 'американский писательница анна грэхо хантереть заявить дастина хоффман сексуально домогаться 17 лет. попросить сделать массаж нога первый день съёмочный площадке. сделала. открытый флиртовать хватать сзади рассказывать писательница.', 'спрятать корабль человек не спрятать спутников. тысячелетний сокол звёздный война обнаружить карта рядом британский гольф‐клуб 27 миля запад лондона.', 'кристиан бэйл снова приняться старое. актёр набрать вес см.фото справа роль вице-президент сша дик чейни. бэйл не привыкать трансформация свой внешности.', 'бут большой год учиться рисовать карандаш углем. рисунков.', 'сегодня утром управлять грузовой автомобиль foton предварительный данные водитель не справиться управление совершить наезд здание пешеход двое который погибнуть место доставить медицинский учреждение златоуста.', 'унт купить - вообще пафосный стал. пользователь соцсеть сегодня оценить бурятский реклама дизайнерский унтов.', 'николай маркелов набить недавно лицо фраза терять нечего сделать новый тат собчак', 'мочь не входить тим участие делать страна который руководить наш президент это тим меня. пул президентский пусть официально неофициально представлять интерес гастролировать весь страна приезжать крым - заявить певец.', 'роскомнадзор 2018 год проверить социальный сеть facebook соответствие законодательство сообщить глава ведомство александр жаров. добавить надзорный мероприятие пройти любой случае.', 'девушка обнажить грудь улица банковый возле кордон силовик охранять проход двор администрация президент тело надпись dream 2013 free real 2017 roshen']\n"
     ]
    }
   ],
   "source": [
    "for i in range(1, 3):\n",
    "    print(f\"Cluster {i}: {[df_tokenized['message'].iloc[j] for j in cluster_dict[i]]}\")\n"
   ]
  },
  {
   "cell_type": "code",
   "execution_count": 52,
   "id": "6616a705",
   "metadata": {},
   "outputs": [
    {
     "ename": "ValueError",
     "evalue": "Expected 2D array, got 1D array instead:\narray=[0.99596653 1.04385962 1.07193406 ... 0.9055517  0.94017768 0.93516498].\nReshape your data either using array.reshape(-1, 1) if your data has a single feature or array.reshape(1, -1) if it contains a single sample.",
     "output_type": "error",
     "traceback": [
      "\u001b[0;31m---------------------------------------------------------------------------\u001b[0m",
      "\u001b[0;31mValueError\u001b[0m                                Traceback (most recent call last)",
      "File \u001b[0;32m<timed exec>:3\u001b[0m\n",
      "File \u001b[0;32m/Library/Frameworks/Python.framework/Versions/3.10/lib/python3.10/site-packages/sklearn/cluster/_agglomerative.py:1051\u001b[0m, in \u001b[0;36mAgglomerativeClustering.fit_predict\u001b[0;34m(self, X, y)\u001b[0m\n\u001b[1;32m   1030\u001b[0m \u001b[38;5;28;01mdef\u001b[39;00m \u001b[38;5;21mfit_predict\u001b[39m(\u001b[38;5;28mself\u001b[39m, X, y\u001b[38;5;241m=\u001b[39m\u001b[38;5;28;01mNone\u001b[39;00m):\n\u001b[1;32m   1031\u001b[0m     \u001b[38;5;124;03m\"\"\"Fit and return the result of each sample's clustering assignment.\u001b[39;00m\n\u001b[1;32m   1032\u001b[0m \n\u001b[1;32m   1033\u001b[0m \u001b[38;5;124;03m    In addition to fitting, this method also return the result of the\u001b[39;00m\n\u001b[0;32m   (...)\u001b[0m\n\u001b[1;32m   1049\u001b[0m \u001b[38;5;124;03m        Cluster labels.\u001b[39;00m\n\u001b[1;32m   1050\u001b[0m \u001b[38;5;124;03m    \"\"\"\u001b[39;00m\n\u001b[0;32m-> 1051\u001b[0m     \u001b[38;5;28;01mreturn\u001b[39;00m \u001b[38;5;28;43msuper\u001b[39;49m\u001b[43m(\u001b[49m\u001b[43m)\u001b[49m\u001b[38;5;241;43m.\u001b[39;49m\u001b[43mfit_predict\u001b[49m\u001b[43m(\u001b[49m\u001b[43mX\u001b[49m\u001b[43m,\u001b[49m\u001b[43m \u001b[49m\u001b[43my\u001b[49m\u001b[43m)\u001b[49m\n",
      "File \u001b[0;32m/Library/Frameworks/Python.framework/Versions/3.10/lib/python3.10/site-packages/sklearn/base.py:751\u001b[0m, in \u001b[0;36mClusterMixin.fit_predict\u001b[0;34m(self, X, y)\u001b[0m\n\u001b[1;32m    733\u001b[0m \u001b[38;5;124;03m\"\"\"\u001b[39;00m\n\u001b[1;32m    734\u001b[0m \u001b[38;5;124;03mPerform clustering on `X` and returns cluster labels.\u001b[39;00m\n\u001b[1;32m    735\u001b[0m \n\u001b[0;32m   (...)\u001b[0m\n\u001b[1;32m    747\u001b[0m \u001b[38;5;124;03m    Cluster labels.\u001b[39;00m\n\u001b[1;32m    748\u001b[0m \u001b[38;5;124;03m\"\"\"\u001b[39;00m\n\u001b[1;32m    749\u001b[0m \u001b[38;5;66;03m# non-optimized default implementation; override when a better\u001b[39;00m\n\u001b[1;32m    750\u001b[0m \u001b[38;5;66;03m# method is possible for a given clustering algorithm\u001b[39;00m\n\u001b[0;32m--> 751\u001b[0m \u001b[38;5;28;43mself\u001b[39;49m\u001b[38;5;241;43m.\u001b[39;49m\u001b[43mfit\u001b[49m\u001b[43m(\u001b[49m\u001b[43mX\u001b[49m\u001b[43m)\u001b[49m\n\u001b[1;32m    752\u001b[0m \u001b[38;5;28;01mreturn\u001b[39;00m \u001b[38;5;28mself\u001b[39m\u001b[38;5;241m.\u001b[39mlabels_\n",
      "File \u001b[0;32m/Library/Frameworks/Python.framework/Versions/3.10/lib/python3.10/site-packages/sklearn/cluster/_agglomerative.py:914\u001b[0m, in \u001b[0;36mAgglomerativeClustering.fit\u001b[0;34m(self, X, y)\u001b[0m\n\u001b[1;32m    896\u001b[0m \u001b[38;5;28;01mdef\u001b[39;00m \u001b[38;5;21mfit\u001b[39m(\u001b[38;5;28mself\u001b[39m, X, y\u001b[38;5;241m=\u001b[39m\u001b[38;5;28;01mNone\u001b[39;00m):\n\u001b[1;32m    897\u001b[0m     \u001b[38;5;124;03m\"\"\"Fit the hierarchical clustering from features, or distance matrix.\u001b[39;00m\n\u001b[1;32m    898\u001b[0m \n\u001b[1;32m    899\u001b[0m \u001b[38;5;124;03m    Parameters\u001b[39;00m\n\u001b[0;32m   (...)\u001b[0m\n\u001b[1;32m    912\u001b[0m \u001b[38;5;124;03m        Returns the fitted instance.\u001b[39;00m\n\u001b[1;32m    913\u001b[0m \u001b[38;5;124;03m    \"\"\"\u001b[39;00m\n\u001b[0;32m--> 914\u001b[0m     X \u001b[38;5;241m=\u001b[39m \u001b[38;5;28;43mself\u001b[39;49m\u001b[38;5;241;43m.\u001b[39;49m\u001b[43m_validate_data\u001b[49m\u001b[43m(\u001b[49m\u001b[43mX\u001b[49m\u001b[43m,\u001b[49m\u001b[43m \u001b[49m\u001b[43mensure_min_samples\u001b[49m\u001b[38;5;241;43m=\u001b[39;49m\u001b[38;5;241;43m2\u001b[39;49m\u001b[43m)\u001b[49m\n\u001b[1;32m    915\u001b[0m     \u001b[38;5;28;01mreturn\u001b[39;00m \u001b[38;5;28mself\u001b[39m\u001b[38;5;241m.\u001b[39m_fit(X)\n",
      "File \u001b[0;32m/Library/Frameworks/Python.framework/Versions/3.10/lib/python3.10/site-packages/sklearn/base.py:577\u001b[0m, in \u001b[0;36mBaseEstimator._validate_data\u001b[0;34m(self, X, y, reset, validate_separately, **check_params)\u001b[0m\n\u001b[1;32m    575\u001b[0m     \u001b[38;5;28;01mraise\u001b[39;00m \u001b[38;5;167;01mValueError\u001b[39;00m(\u001b[38;5;124m\"\u001b[39m\u001b[38;5;124mValidation should be done on X, y or both.\u001b[39m\u001b[38;5;124m\"\u001b[39m)\n\u001b[1;32m    576\u001b[0m \u001b[38;5;28;01melif\u001b[39;00m \u001b[38;5;129;01mnot\u001b[39;00m no_val_X \u001b[38;5;129;01mand\u001b[39;00m no_val_y:\n\u001b[0;32m--> 577\u001b[0m     X \u001b[38;5;241m=\u001b[39m \u001b[43mcheck_array\u001b[49m\u001b[43m(\u001b[49m\u001b[43mX\u001b[49m\u001b[43m,\u001b[49m\u001b[43m \u001b[49m\u001b[43minput_name\u001b[49m\u001b[38;5;241;43m=\u001b[39;49m\u001b[38;5;124;43m\"\u001b[39;49m\u001b[38;5;124;43mX\u001b[39;49m\u001b[38;5;124;43m\"\u001b[39;49m\u001b[43m,\u001b[49m\u001b[43m \u001b[49m\u001b[38;5;241;43m*\u001b[39;49m\u001b[38;5;241;43m*\u001b[39;49m\u001b[43mcheck_params\u001b[49m\u001b[43m)\u001b[49m\n\u001b[1;32m    578\u001b[0m     out \u001b[38;5;241m=\u001b[39m X\n\u001b[1;32m    579\u001b[0m \u001b[38;5;28;01melif\u001b[39;00m no_val_X \u001b[38;5;129;01mand\u001b[39;00m \u001b[38;5;129;01mnot\u001b[39;00m no_val_y:\n",
      "File \u001b[0;32m/Library/Frameworks/Python.framework/Versions/3.10/lib/python3.10/site-packages/sklearn/utils/validation.py:879\u001b[0m, in \u001b[0;36mcheck_array\u001b[0;34m(array, accept_sparse, accept_large_sparse, dtype, order, copy, force_all_finite, ensure_2d, allow_nd, ensure_min_samples, ensure_min_features, estimator, input_name)\u001b[0m\n\u001b[1;32m    877\u001b[0m     \u001b[38;5;66;03m# If input is 1D raise error\u001b[39;00m\n\u001b[1;32m    878\u001b[0m     \u001b[38;5;28;01mif\u001b[39;00m array\u001b[38;5;241m.\u001b[39mndim \u001b[38;5;241m==\u001b[39m \u001b[38;5;241m1\u001b[39m:\n\u001b[0;32m--> 879\u001b[0m         \u001b[38;5;28;01mraise\u001b[39;00m \u001b[38;5;167;01mValueError\u001b[39;00m(\n\u001b[1;32m    880\u001b[0m             \u001b[38;5;124m\"\u001b[39m\u001b[38;5;124mExpected 2D array, got 1D array instead:\u001b[39m\u001b[38;5;130;01m\\n\u001b[39;00m\u001b[38;5;124marray=\u001b[39m\u001b[38;5;132;01m{}\u001b[39;00m\u001b[38;5;124m.\u001b[39m\u001b[38;5;130;01m\\n\u001b[39;00m\u001b[38;5;124m\"\u001b[39m\n\u001b[1;32m    881\u001b[0m             \u001b[38;5;124m\"\u001b[39m\u001b[38;5;124mReshape your data either using array.reshape(-1, 1) if \u001b[39m\u001b[38;5;124m\"\u001b[39m\n\u001b[1;32m    882\u001b[0m             \u001b[38;5;124m\"\u001b[39m\u001b[38;5;124myour data has a single feature or array.reshape(1, -1) \u001b[39m\u001b[38;5;124m\"\u001b[39m\n\u001b[1;32m    883\u001b[0m             \u001b[38;5;124m\"\u001b[39m\u001b[38;5;124mif it contains a single sample.\u001b[39m\u001b[38;5;124m\"\u001b[39m\u001b[38;5;241m.\u001b[39mformat(array)\n\u001b[1;32m    884\u001b[0m         )\n\u001b[1;32m    886\u001b[0m \u001b[38;5;28;01mif\u001b[39;00m dtype_numeric \u001b[38;5;129;01mand\u001b[39;00m array\u001b[38;5;241m.\u001b[39mdtype\u001b[38;5;241m.\u001b[39mkind \u001b[38;5;129;01min\u001b[39;00m \u001b[38;5;124m\"\u001b[39m\u001b[38;5;124mUSV\u001b[39m\u001b[38;5;124m\"\u001b[39m:\n\u001b[1;32m    887\u001b[0m     \u001b[38;5;28;01mraise\u001b[39;00m \u001b[38;5;167;01mValueError\u001b[39;00m(\n\u001b[1;32m    888\u001b[0m         \u001b[38;5;124m\"\u001b[39m\u001b[38;5;124mdtype=\u001b[39m\u001b[38;5;124m'\u001b[39m\u001b[38;5;124mnumeric\u001b[39m\u001b[38;5;124m'\u001b[39m\u001b[38;5;124m is not compatible with arrays of bytes/strings.\u001b[39m\u001b[38;5;124m\"\u001b[39m\n\u001b[1;32m    889\u001b[0m         \u001b[38;5;124m\"\u001b[39m\u001b[38;5;124mConvert your data to numeric values explicitly instead.\u001b[39m\u001b[38;5;124m\"\u001b[39m\n\u001b[1;32m    890\u001b[0m     )\n",
      "\u001b[0;31mValueError\u001b[0m: Expected 2D array, got 1D array instead:\narray=[0.99596653 1.04385962 1.07193406 ... 0.9055517  0.94017768 0.93516498].\nReshape your data either using array.reshape(-1, 1) if your data has a single feature or array.reshape(1, -1) if it contains a single sample."
     ]
    }
   ],
   "source": [
    "%%time\n",
    "from sklearn.cluster import AgglomerativeClustering\n",
    "cluster = AgglomerativeClustering(n_clusters=12, affinity='euclidean', linkage='ward')\n",
    "clusters = cluster.fit_predict(condensed_distance_matrix)"
   ]
  },
  {
   "cell_type": "code",
   "execution_count": 51,
   "id": "517864b7",
   "metadata": {},
   "outputs": [
    {
     "data": {
      "text/plain": [
       "18826"
      ]
     },
     "execution_count": 51,
     "metadata": {},
     "output_type": "execute_result"
    }
   ],
   "source": [
    "len(clusters)"
   ]
  },
  {
   "cell_type": "code",
   "execution_count": null,
   "id": "148fc677",
   "metadata": {},
   "outputs": [],
   "source": []
  },
  {
   "cell_type": "code",
   "execution_count": null,
   "id": "8d8e9d36",
   "metadata": {},
   "outputs": [],
   "source": []
  },
  {
   "cell_type": "code",
   "execution_count": null,
   "id": "420a849d",
   "metadata": {},
   "outputs": [],
   "source": []
  },
  {
   "cell_type": "code",
   "execution_count": null,
   "id": "a195574d",
   "metadata": {},
   "outputs": [],
   "source": []
  },
  {
   "cell_type": "markdown",
   "id": "0deb8862",
   "metadata": {},
   "source": [
    "# Tf idf tokenizing"
   ]
  },
  {
   "cell_type": "code",
   "execution_count": 60,
   "id": "0aa8a2f5",
   "metadata": {},
   "outputs": [],
   "source": [
    "from sklearn.feature_extraction.text import TfidfVectorizer"
   ]
  },
  {
   "cell_type": "code",
   "execution_count": 61,
   "id": "fbc97c06",
   "metadata": {},
   "outputs": [],
   "source": [
    "v = TfidfVectorizer()\n",
    "x = v.fit_transform(df_tokenized['message'])"
   ]
  },
  {
   "cell_type": "code",
   "execution_count": 72,
   "id": "3ee69090",
   "metadata": {},
   "outputs": [
    {
     "data": {
      "text/plain": [
       "<118283x75907 sparse matrix of type '<class 'numpy.float64'>'\n",
       "\twith 1820588 stored elements in Compressed Sparse Row format>"
      ]
     },
     "execution_count": 72,
     "metadata": {},
     "output_type": "execute_result"
    }
   ],
   "source": [
    "x"
   ]
  },
  {
   "cell_type": "code",
   "execution_count": 62,
   "id": "d10cdd71",
   "metadata": {},
   "outputs": [
    {
     "name": "stdout",
     "output_type": "stream",
     "text": [
      "[0. 0. 0. ... 0. 0. 0.]\n"
     ]
    }
   ],
   "source": [
    "print(x.toarray()[1])"
   ]
  },
  {
   "cell_type": "code",
   "execution_count": 63,
   "id": "89b82f47",
   "metadata": {},
   "outputs": [
    {
     "data": {
      "text/plain": [
       "3.038988790620847"
      ]
     },
     "execution_count": 63,
     "metadata": {},
     "output_type": "execute_result"
    }
   ],
   "source": [
    "sum(x.toarray()[2])"
   ]
  },
  {
   "cell_type": "code",
   "execution_count": 64,
   "id": "45488a53",
   "metadata": {},
   "outputs": [
    {
     "data": {
      "text/plain": [
       "75907"
      ]
     },
     "execution_count": 64,
     "metadata": {},
     "output_type": "execute_result"
    }
   ],
   "source": [
    "len(x.toarray()[81])"
   ]
  },
  {
   "cell_type": "code",
   "execution_count": 65,
   "id": "2b8fdccb",
   "metadata": {},
   "outputs": [],
   "source": [
    "#pip install pca"
   ]
  },
  {
   "cell_type": "code",
   "execution_count": 66,
   "id": "d51320b0",
   "metadata": {},
   "outputs": [],
   "source": [
    "#from sklearn.decomposition import PCA"
   ]
  },
  {
   "cell_type": "markdown",
   "id": "278635f8",
   "metadata": {},
   "source": [
    "# Matrix of tf idf cosine simularities"
   ]
  },
  {
   "cell_type": "code",
   "execution_count": 67,
   "id": "7d303e54",
   "metadata": {},
   "outputs": [],
   "source": [
    "from sklearn.metrics.pairwise import linear_kernel"
   ]
  },
  {
   "cell_type": "code",
   "execution_count": 68,
   "id": "b3d8d6bd",
   "metadata": {},
   "outputs": [],
   "source": [
    "from scipy.spatial.distance import cdist"
   ]
  },
  {
   "cell_type": "code",
   "execution_count": 69,
   "id": "d6446283",
   "metadata": {},
   "outputs": [],
   "source": [
    "#cdist using cdist"
   ]
  },
  {
   "cell_type": "code",
   "execution_count": 70,
   "id": "693d1b0a",
   "metadata": {},
   "outputs": [],
   "source": [
    "x_array = x.toarray()"
   ]
  },
  {
   "cell_type": "code",
   "execution_count": 71,
   "id": "4d0bad00",
   "metadata": {},
   "outputs": [
    {
     "data": {
      "text/plain": [
       "array([[0., 0., 0., ..., 0., 0., 0.],\n",
       "       [0., 0., 0., ..., 0., 0., 0.],\n",
       "       [0., 0., 0., ..., 0., 0., 0.],\n",
       "       ...,\n",
       "       [0., 0., 0., ..., 0., 0., 0.],\n",
       "       [0., 0., 0., ..., 0., 0., 0.],\n",
       "       [0., 0., 0., ..., 0., 0., 0.]])"
      ]
     },
     "execution_count": 71,
     "metadata": {},
     "output_type": "execute_result"
    }
   ],
   "source": [
    "x_array"
   ]
  },
  {
   "cell_type": "code",
   "execution_count": 33,
   "id": "50e89a6f",
   "metadata": {},
   "outputs": [],
   "source": [
    "x_small_row = []\n",
    "x_small_col = []\n",
    "\n",
    "for i in range(100, 199):\n",
    "    for j in range(100, 199):\n",
    "        x_small_row.append(x_array[i][j])\n",
    "    x_small_col.append(x_small_row)\n",
    "    x_small_row = []"
   ]
  },
  {
   "cell_type": "code",
   "execution_count": null,
   "id": "5a40f5c7",
   "metadata": {},
   "outputs": [],
   "source": []
  },
  {
   "cell_type": "code",
   "execution_count": 34,
   "id": "530251ae",
   "metadata": {},
   "outputs": [],
   "source": [
    "cosine_simularities_2 = cdist(x_small_col, x_small_col, 'euclidean')"
   ]
  },
  {
   "cell_type": "code",
   "execution_count": 35,
   "id": "814c6b84",
   "metadata": {},
   "outputs": [
    {
     "data": {
      "text/plain": [
       "array([[0., 0., 0., ..., 0., 0., 0.],\n",
       "       [0., 0., 0., ..., 0., 0., 0.],\n",
       "       [0., 0., 0., ..., 0., 0., 0.],\n",
       "       ...,\n",
       "       [0., 0., 0., ..., 0., 0., 0.],\n",
       "       [0., 0., 0., ..., 0., 0., 0.],\n",
       "       [0., 0., 0., ..., 0., 0., 0.]])"
      ]
     },
     "execution_count": 35,
     "metadata": {},
     "output_type": "execute_result"
    }
   ],
   "source": [
    "cosine_simularities_2"
   ]
  },
  {
   "cell_type": "code",
   "execution_count": 93,
   "id": "fa7dc683",
   "metadata": {},
   "outputs": [
    {
     "data": {
      "text/plain": [
       "0"
      ]
     },
     "execution_count": 93,
     "metadata": {},
     "output_type": "execute_result"
    }
   ],
   "source": [
    "\n",
    "for i in range(len(cosine_simularities_2)):\n",
    "    for j in range(len(cosine_simularities_2[0])):\n",
    "        cosine_simularities_2[i][j] *= 100\n"
   ]
  },
  {
   "cell_type": "code",
   "execution_count": 131,
   "id": "6916fc30",
   "metadata": {},
   "outputs": [
    {
     "data": {
      "text/plain": [
       "2968.086890392515"
      ]
     },
     "execution_count": 131,
     "metadata": {},
     "output_type": "execute_result"
    }
   ],
   "source": [
    "tf_idf_sum = 0\n",
    "for i in cosine_simularities_2:\n",
    "    tf_idf_sum += sum(i)\n",
    "tf_idf_sum"
   ]
  },
  {
   "cell_type": "code",
   "execution_count": 94,
   "id": "b6a18233",
   "metadata": {},
   "outputs": [],
   "source": [
    "#%%time\n",
    "#cosine_simularities_2 = cdist(x_array, x_array, 'euclidean')"
   ]
  },
  {
   "cell_type": "code",
   "execution_count": 95,
   "id": "bd20d9c4",
   "metadata": {},
   "outputs": [
    {
     "data": {
      "text/plain": [
       "array([1.])"
      ]
     },
     "execution_count": 95,
     "metadata": {},
     "output_type": "execute_result"
    }
   ],
   "source": [
    "cosine_similarities = linear_kernel(x[100], x[100]).flatten()\n",
    "cosine_similarities"
   ]
  },
  {
   "cell_type": "code",
   "execution_count": 96,
   "id": "3dfaf7ec",
   "metadata": {},
   "outputs": [],
   "source": [
    "#cdist using linear_kernel"
   ]
  },
  {
   "cell_type": "code",
   "execution_count": 97,
   "id": "66a27ae5",
   "metadata": {},
   "outputs": [],
   "source": [
    "#def cosine_similarity_for_ftidf(i, j):\n",
    "#   if j < i:\n",
    "#       return b[j][i]\n",
    "#   cosine_similarities = linear_kernel(x[i], x[j]).flatten()\n",
    "#   return cosine_similarities\n",
    "\n",
    "\n",
    "#cosine_simularities_2 = cdist().flatten()\n",
    "#def cosine_similarity_for_ftidf_2(i, j):\n",
    "#    cosine_simularities_2 = cdist(x[i], x[j]).flatten()\n",
    "#    return cosine_similarities"
   ]
  },
  {
   "cell_type": "code",
   "execution_count": 98,
   "id": "de391487",
   "metadata": {},
   "outputs": [],
   "source": [
    "#%%time\n",
    "#a = []\n",
    "#b = []\n",
    "#for i in range(100, 199):\n",
    "#    for j in range(100, 199):\n",
    "#        a.append(cosine_similarity_for_ftidf(i, j))\n",
    "#    b.append(a)\n",
    "#    a = []"
   ]
  },
  {
   "cell_type": "code",
   "execution_count": 99,
   "id": "15407218",
   "metadata": {},
   "outputs": [],
   "source": [
    "#pd.set_option('display.max_rows', None)"
   ]
  },
  {
   "cell_type": "markdown",
   "id": "e6ac0a99",
   "metadata": {},
   "source": [
    "# Matrix of date intervals"
   ]
  },
  {
   "cell_type": "code",
   "execution_count": 100,
   "id": "9ffba7f6",
   "metadata": {},
   "outputs": [],
   "source": [
    "from datetime import datetime"
   ]
  },
  {
   "cell_type": "code",
   "execution_count": 101,
   "id": "1ab09c8d",
   "metadata": {},
   "outputs": [],
   "source": [
    "def date_in_datetime(text):\n",
    "    date = datetime.strptime(text, \"%Y-%m-%d %H:%M:%S\")\n",
    "    return date"
   ]
  },
  {
   "cell_type": "code",
   "execution_count": 102,
   "id": "31be813d",
   "metadata": {},
   "outputs": [],
   "source": [
    "def date_interval(date_first, date_second):\n",
    "    date1 = date_in_datetime(date_first)\n",
    "    date2 = date_in_datetime(date_second)\n",
    "    if date1 < date2:\n",
    "        date3 = date2 - date1\n",
    "    else:\n",
    "        date3 = date1 - date2\n",
    "    return date3.days * 24 + date3.seconds / 3600"
   ]
  },
  {
   "cell_type": "code",
   "execution_count": 103,
   "id": "cee9470b",
   "metadata": {},
   "outputs": [],
   "source": [
    "#date1 = date_in_hours('2017-02-28 19:55:32')\n",
    "#date2 = date_in_hours('2022-11-17 16:08:27')"
   ]
  },
  {
   "cell_type": "code",
   "execution_count": 104,
   "id": "dca98e1d",
   "metadata": {},
   "outputs": [],
   "source": [
    "#date_interval('2022-11-17 16:08:27', '2017-02-28 19:55:32')"
   ]
  },
  {
   "cell_type": "code",
   "execution_count": 105,
   "id": "f7d4d447",
   "metadata": {},
   "outputs": [
    {
     "data": {
      "text/plain": [
       "'радикал первомайский демонстрация париж разгромить кафе витрина здание бульвар вольтер'"
      ]
     },
     "execution_count": 105,
     "metadata": {},
     "output_type": "execute_result"
    }
   ],
   "source": [
    "df_tokenized.message[100000]"
   ]
  },
  {
   "cell_type": "code",
   "execution_count": 106,
   "id": "2b260bda",
   "metadata": {},
   "outputs": [
    {
     "data": {
      "text/plain": [
       "118283"
      ]
     },
     "execution_count": 106,
     "metadata": {},
     "output_type": "execute_result"
    }
   ],
   "source": [
    "len(df_tokenized)"
   ]
  },
  {
   "cell_type": "code",
   "execution_count": 107,
   "id": "b5f29f95",
   "metadata": {},
   "outputs": [],
   "source": [
    "date_vec = []\n",
    "for i in range(0, len(df_tokenized)):\n",
    "    date_vec.append(df_tokenized.date[i])\n",
    "    \n",
    "min_time = date_interval(date_vec[0], date_vec[0])\n",
    "    \n",
    "max_time = date_interval(date_vec[0], date_vec[99])\n",
    "\n",
    "def get_interval(i, j):\n",
    "    #if j < i:\n",
    "    #    return time_matrix[j][i]\n",
    "    return ((date_interval(date_vec[i], date_vec[j]) - min_time) / (max_time - min_time))"
   ]
  },
  {
   "cell_type": "code",
   "execution_count": 108,
   "id": "18810387",
   "metadata": {},
   "outputs": [
    {
     "data": {
      "text/plain": [
       "0.0029400462108272237"
      ]
     },
     "execution_count": 108,
     "metadata": {},
     "output_type": "execute_result"
    }
   ],
   "source": [
    "get_interval(193, 192)"
   ]
  },
  {
   "cell_type": "code",
   "execution_count": 109,
   "id": "dda12c30",
   "metadata": {},
   "outputs": [],
   "source": [
    "#x_time_small_row = []\n",
    "#x_time_small_col = []\n",
    "\n",
    "#for i in range(100, 199):\n",
    "#    for j in range(100, 199):\n",
    "#        x_time_small_row.append(x_array[i][j])\n",
    "#    x_time_small_col.append(x_small_row)\n",
    "#    x_time_small_row = []"
   ]
  },
  {
   "cell_type": "code",
   "execution_count": 110,
   "id": "4aaa7f15",
   "metadata": {},
   "outputs": [],
   "source": [
    "import math"
   ]
  },
  {
   "cell_type": "code",
   "execution_count": 111,
   "id": "da3ecab0",
   "metadata": {},
   "outputs": [
    {
     "name": "stdout",
     "output_type": "stream",
     "text": [
      "CPU times: user 90.1 ms, sys: 1.79 ms, total: 91.9 ms\n",
      "Wall time: 90.8 ms\n"
     ]
    }
   ],
   "source": [
    "%%time\n",
    "time_matrix = []\n",
    "time_row = []\n",
    "for i in range(100, 199):\n",
    "    for j in range(100, 199):\n",
    "        time_row.append(get_interval(i, j))\n",
    "    time_matrix.append(time_row)\n",
    "    time_row = []"
   ]
  },
  {
   "cell_type": "code",
   "execution_count": 112,
   "id": "580af954",
   "metadata": {},
   "outputs": [],
   "source": [
    "#ттттуууууттттт"
   ]
  },
  {
   "cell_type": "code",
   "execution_count": 113,
   "id": "2793c50a",
   "metadata": {},
   "outputs": [
    {
     "data": {
      "text/plain": [
       "0.08735988485993977"
      ]
     },
     "execution_count": 113,
     "metadata": {},
     "output_type": "execute_result"
    }
   ],
   "source": [
    "time_matrix[0][98]"
   ]
  },
  {
   "cell_type": "markdown",
   "id": "504d4a35",
   "metadata": {},
   "source": [
    "# Matrix of distances"
   ]
  },
  {
   "cell_type": "code",
   "execution_count": 114,
   "id": "ddfb8fa4",
   "metadata": {},
   "outputs": [],
   "source": [
    "import numpy as np"
   ]
  },
  {
   "cell_type": "code",
   "execution_count": 115,
   "id": "ce057964",
   "metadata": {},
   "outputs": [],
   "source": [
    "#len(sim_matrix[999])"
   ]
  },
  {
   "cell_type": "code",
   "execution_count": null,
   "id": "aed65f44",
   "metadata": {},
   "outputs": [],
   "source": []
  },
  {
   "cell_type": "code",
   "execution_count": 123,
   "id": "0887968c",
   "metadata": {},
   "outputs": [],
   "source": [
    "#def sim(i, j):\n",
    "#    if j < i:\n",
    "#        return sim_matrix[j][i]\n",
    "#    return float(2 * (1 + b[i][j]) * (1 + time_matrix[i][j]) )\n",
    "def sim(i, j):\n",
    "    #if j < i:\n",
    "    #    return sim_matrix[j][i]\n",
    "    return float((1 + cosine_simularities_2[i][j])) #* (1 + time_matrix[i][j]) )"
   ]
  },
  {
   "cell_type": "code",
   "execution_count": 124,
   "id": "d349985f",
   "metadata": {},
   "outputs": [
    {
     "name": "stdout",
     "output_type": "stream",
     "text": [
      "CPU times: user 11.9 ms, sys: 390 µs, total: 12.3 ms\n",
      "Wall time: 12.1 ms\n"
     ]
    }
   ],
   "source": [
    "%%time\n",
    "sim_matrix = []\n",
    "sim_row = []\n",
    "for i in range(0, 99):\n",
    "    for j in range(0, 99):\n",
    "        sim_row.append(sim(i, j))\n",
    "    sim_matrix.append(sim_row)\n",
    "    sim_row = []"
   ]
  },
  {
   "cell_type": "code",
   "execution_count": 125,
   "id": "cb11dcd0",
   "metadata": {},
   "outputs": [],
   "source": [
    "sim_np_matrix = np.matrix(sim_matrix)"
   ]
  },
  {
   "cell_type": "code",
   "execution_count": 47,
   "id": "796b91dc",
   "metadata": {},
   "outputs": [
    {
     "name": "stdout",
     "output_type": "stream",
     "text": [
      "CPU times: user 11.9 ms, sys: 322 µs, total: 12.2 ms\n",
      "Wall time: 12 ms\n"
     ]
    }
   ],
   "source": []
  },
  {
   "cell_type": "code",
   "execution_count": 126,
   "id": "16c268d2",
   "metadata": {},
   "outputs": [],
   "source": [
    "import scipy.cluster.hierarchy as sch"
   ]
  },
  {
   "cell_type": "code",
   "execution_count": 127,
   "id": "69c613ac",
   "metadata": {},
   "outputs": [],
   "source": [
    "from scipy.cluster.hierarchy import dendrogram"
   ]
  },
  {
   "cell_type": "code",
   "execution_count": null,
   "id": "c8fb8248",
   "metadata": {},
   "outputs": [],
   "source": [
    "import scipy.cluster.hierarchy as sch\n",
    "from scipy.cluster.hierarchy import dendrogram\n",
    "%%time\n",
    "import matplotlib.pyplot as plt\n",
    "dendrogram = sch.dendrogram(sch.linkage(sim_matrix, method = 'ward'))\n",
    "plt.figure(figsize=(200, 500))\n",
    "plt.show()\n",
    "%%time\n",
    "from sklearn.cluster import AgglomerativeClustering\n",
    "cluster = AgglomerativeClustering(n_clusters=12, affinity='euclidean', linkage='ward')\n",
    "clusters = cluster.fit_predict(sim_matrix)"
   ]
  },
  {
   "cell_type": "code",
   "execution_count": 128,
   "id": "893736fd",
   "metadata": {},
   "outputs": [
    {
     "data": {
      "image/png": "[encoded data removed]",
      "text/plain": [
       "<Figure size 640x480 with 1 Axes>"
      ]
     },
     "metadata": {},
     "output_type": "display_data"
    },
    {
     "data": {
      "text/plain": [
       "<Figure size 20000x50000 with 0 Axes>"
      ]
     },
     "metadata": {},
     "output_type": "display_data"
    },
    {
     "name": "stdout",
     "output_type": "stream",
     "text": [
      "CPU times: user 746 ms, sys: 30.4 ms, total: 776 ms\n",
      "Wall time: 416 ms\n"
     ]
    }
   ],
   "source": [
    "%%time\n",
    "import matplotlib.pyplot as plt\n",
    "dendrogram = sch.dendrogram(sch.linkage(sim_matrix, method = 'ward'))\n",
    "plt.figure(figsize=(200, 500))\n",
    "plt.show()"
   ]
  },
  {
   "cell_type": "code",
   "execution_count": 129,
   "id": "a24cf149",
   "metadata": {},
   "outputs": [
    {
     "name": "stdout",
     "output_type": "stream",
     "text": [
      "CPU times: user 3.44 ms, sys: 1.13 ms, total: 4.57 ms\n",
      "Wall time: 3.16 ms\n"
     ]
    }
   ],
   "source": [
    "%%time\n",
    "from sklearn.cluster import AgglomerativeClustering\n",
    "cluster = AgglomerativeClustering(n_clusters=12, affinity='euclidean', linkage='ward')\n",
    "clusters = cluster.fit_predict(sim_matrix)"
   ]
  },
  {
   "cell_type": "code",
   "execution_count": 130,
   "id": "b69ad5cb",
   "metadata": {},
   "outputs": [
    {
     "data": {
      "text/plain": [
       "array([ 0,  0,  0,  0,  0,  0,  0,  0,  0,  0,  0,  0,  0,  0,  0,  0,  0,\n",
       "        0,  0,  0,  0,  0,  0,  0,  0,  0,  0,  0,  0,  0,  0,  0,  0,  0,\n",
       "        7,  0,  0,  0,  0,  0,  0,  0,  0,  0,  0,  0,  0,  0,  0,  0,  0,\n",
       "        0,  0,  0,  0,  0,  0,  0,  0,  0,  0,  0,  0,  0,  0,  0,  0,  0,\n",
       "        0,  0,  0,  0,  0,  0,  0,  0,  0,  0,  0,  0,  0,  0,  0,  0,  0,\n",
       "        0,  0,  0,  0, 11, 10,  9,  8,  3,  6,  5,  4,  1,  2])"
      ]
     },
     "execution_count": 130,
     "metadata": {},
     "output_type": "execute_result"
    }
   ],
   "source": [
    "clusters"
   ]
  },
  {
   "cell_type": "markdown",
   "id": "42f32dae",
   "metadata": {},
   "source": [
    "# def for clustering"
   ]
  },
  {
   "cell_type": "code",
   "execution_count": 67,
   "id": "c8b4cba6",
   "metadata": {},
   "outputs": [],
   "source": [
    "def new_clusters(mat_start, mat_end, num_of_clusters):\n",
    "    f_x_small_row = []\n",
    "    f_x_small_col = []\n",
    "\n",
    "    for i in range(mat_start, mat_end):\n",
    "        for j in range(mat_start, mat_end):\n",
    "            f_x_small_row.append(x_array[i][j])\n",
    "        f_x_small_col.append(f_x_small_row)\n",
    "        f_x_small_row = []\n",
    "    f_cosine_simularities_2 = cdist(f_x_small_col, f_x_small_col, 'euclidean')\n",
    "    f_time_matrix = []\n",
    "    f_time_row = []\n",
    "    for i in range(mat_start, mat_end):\n",
    "        for j in range(mat_start, mat_end):\n",
    "            f_time_row.append(get_interval(i, j))\n",
    "        f_time_matrix.append(f_time_row)\n",
    "        f_time_row = []\n",
    "    f_sim_matrix = []\n",
    "    f_sim_row = []\n",
    "    mat_end = mat_end - mat_start - 1\n",
    "    mat_start = 0\n",
    "    for i in range(mat_start, mat_end):\n",
    "        for j in range(mat_start, mat_end):\n",
    "            f_sim_row.append(sim(i, j))\n",
    "        f_sim_matrix.append(f_sim_row)\n",
    "        f_sim_row = []\n",
    "    f_sim_np_matrix = np.matrix(f_sim_matrix)\n",
    "    #cluster = AgglomerativeClustering(n_clusters=num_of_clusters, affinity='euclidean', linkage='ward')\n",
    "    #clusters = cluster.fit_predict(sim_matrix)\n",
    "    return f_sim_np_matrix"
   ]
  },
  {
   "cell_type": "code",
   "execution_count": 68,
   "id": "ce9452c2",
   "metadata": {},
   "outputs": [],
   "source": [
    "def sim(i, j):\n",
    "    return float((1 + tf_idf_matrix[i][j]))#* (1 + time_matrix[i][j]))\n",
    "    #return float((1 + time_matrix[i][j]))"
   ]
  },
  {
   "cell_type": "code",
   "execution_count": 69,
   "id": "50fa3228",
   "metadata": {},
   "outputs": [],
   "source": [
    "def cosine_similarity_for_ftidf(i, j):\n",
    "    cosine_similarities = linear_kernel(x[i], x[j]).flatten()\n",
    "    return cosine_similarities\n",
    "def tf_idf_matrix_func(mat_start, mat_end):\n",
    "    a = []\n",
    "    b = []\n",
    "    for i in range(mat_start, mat_end):\n",
    "        for j in range(mat_start, mat_end):\n",
    "            a.append(cosine_similarity_for_ftidf(mat_start, mat_end))\n",
    "        b.append(a)\n",
    "        a = []\n",
    "    return b"
   ]
  },
  {
   "cell_type": "code",
   "execution_count": 70,
   "id": "ca808255",
   "metadata": {},
   "outputs": [],
   "source": [
    "def tf_idf_matrix_func(mat_start, mat_end):\n",
    "    f_x_small_row = []\n",
    "    f_x_small_col = []\n",
    "\n",
    "    for i in range(mat_start, mat_end):\n",
    "        for j in range(mat_start, mat_end):\n",
    "            f_x_small_row.append(x_array[i][j])\n",
    "        f_x_small_col.append(f_x_small_row)\n",
    "        f_x_small_row = []\n",
    "    f_cosine_simularities_2 = cdist(f_x_small_col, f_x_small_col, 'euclidean')\n",
    "    return f_cosine_simularities_2"
   ]
  },
  {
   "cell_type": "code",
   "execution_count": 71,
   "id": "5d2344a1",
   "metadata": {},
   "outputs": [],
   "source": [
    "def time_matrix_func(mat_start, mat_end):\n",
    "    f_time_matrix = []\n",
    "    f_time_row = []\n",
    "    for i in range(mat_start, mat_end):\n",
    "        for j in range(mat_start, mat_end):\n",
    "            f_time_row.append(get_interval(i, j))\n",
    "        f_time_matrix.append(f_time_row)\n",
    "        f_time_row = []\n",
    "    return f_time_matrix"
   ]
  },
  {
   "cell_type": "code",
   "execution_count": 72,
   "id": "f4f27f92",
   "metadata": {},
   "outputs": [],
   "source": [
    "def sim_matrix_func(mat_start, mat_end):\n",
    "    f_sim_matrix = []\n",
    "    f_sim_row = []\n",
    "    mat_end = mat_end - mat_start - 1\n",
    "    mat_start = 0\n",
    "    for i in range(mat_start, mat_end):\n",
    "        for j in range(mat_start, mat_end):\n",
    "            f_sim_row.append(sim(i, j))\n",
    "        f_sim_matrix.append(f_sim_row)\n",
    "        f_sim_row = []\n",
    "    f_sim_np_matrix = np.matrix(f_sim_matrix)\n",
    "    return f_sim_np_matrix"
   ]
  },
  {
   "cell_type": "code",
   "execution_count": 73,
   "id": "90471836",
   "metadata": {},
   "outputs": [],
   "source": [
    "#sim_matrix = new_clusters(0, 100, 10)\n",
    "#cluster = AgglomerativeClustering(n_clusters=10, affinity='euclidean', linkage='ward')\n",
    "#cluster_model = cluster.fit(sim_matrix)\n",
    "#clasters = cluster.fit_predict(sim_matrix)"
   ]
  },
  {
   "cell_type": "markdown",
   "id": "4ae575fe",
   "metadata": {},
   "source": [
    "# first clustering"
   ]
  },
  {
   "cell_type": "code",
   "execution_count": 74,
   "id": "90e52ff9",
   "metadata": {},
   "outputs": [],
   "source": [
    "mat_start = 200\n",
    "mat_end = 300"
   ]
  },
  {
   "cell_type": "code",
   "execution_count": 75,
   "id": "79ab6f83",
   "metadata": {},
   "outputs": [],
   "source": [
    "# create sim_matrix for first clasterising\n",
    "tf_idf_matrix = tf_idf_matrix_func(mat_start, mat_end)\n",
    "time_matrix = time_matrix_func(mat_start, mat_end)\n",
    "sim_matrix = sim_matrix_func(mat_start, mat_end) "
   ]
  },
  {
   "cell_type": "code",
   "execution_count": 76,
   "id": "52713346",
   "metadata": {},
   "outputs": [
    {
     "data": {
      "text/plain": [
       "matrix([[1., 1., 1., ..., 1., 1., 1.],\n",
       "        [1., 1., 1., ..., 1., 1., 1.],\n",
       "        [1., 1., 1., ..., 1., 1., 1.],\n",
       "        ...,\n",
       "        [1., 1., 1., ..., 1., 1., 1.],\n",
       "        [1., 1., 1., ..., 1., 1., 1.],\n",
       "        [1., 1., 1., ..., 1., 1., 1.]])"
      ]
     },
     "execution_count": 76,
     "metadata": {},
     "output_type": "execute_result"
    }
   ],
   "source": [
    "sim_matrix"
   ]
  },
  {
   "cell_type": "code",
   "execution_count": 77,
   "id": "19fc7d95",
   "metadata": {},
   "outputs": [],
   "source": [
    "sim_matrix = np.array(sim_matrix)"
   ]
  },
  {
   "cell_type": "code",
   "execution_count": 78,
   "id": "3499b6cd",
   "metadata": {},
   "outputs": [
    {
     "data": {
      "text/plain": [
       "array([0, 0, 0, 0, 0, 0, 0, 0, 0, 0, 0, 0, 0, 0, 0, 0, 0, 0, 0, 0, 0, 0,\n",
       "       0, 0, 0, 0, 0, 0, 0, 0, 0, 0, 0, 0, 0, 0, 0, 0, 0, 0, 0, 0, 0, 0,\n",
       "       0, 0, 0, 0, 0, 0, 0, 0, 0, 0, 0, 0, 0, 0, 0, 0, 0, 0, 0, 0, 0, 0,\n",
       "       0, 0, 0, 0, 0, 0, 0, 0, 0, 0, 0, 0, 0, 0, 0, 0, 0, 0, 0, 0, 0, 0,\n",
       "       0, 0, 9, 8, 7, 6, 5, 4, 3, 2, 1])"
      ]
     },
     "execution_count": 78,
     "metadata": {},
     "output_type": "execute_result"
    }
   ],
   "source": [
    "#clusterise for firts sim_matrix\n",
    "cluster = AgglomerativeClustering(n_clusters=10, affinity='euclidean', linkage='ward')\n",
    "clusters = cluster.fit_predict(sim_matrix)\n",
    "clusters"
   ]
  },
  {
   "cell_type": "code",
   "execution_count": 79,
   "id": "62097510",
   "metadata": {},
   "outputs": [],
   "source": [
    "cluster_first_clustering = cluster\n",
    "sim_matrix_firts_clustering = sim_matrix"
   ]
  },
  {
   "cell_type": "code",
   "execution_count": 80,
   "id": "47f761f4",
   "metadata": {},
   "outputs": [],
   "source": [
    "# create list if indices\n",
    "cluster_indices = [np.where(cluster_first_clustering.labels_ == i)[0] for i in range(10)]"
   ]
  },
  {
   "cell_type": "code",
   "execution_count": 81,
   "id": "f279d5b6",
   "metadata": {},
   "outputs": [
    {
     "data": {
      "text/plain": [
       "[array([ 0,  1,  2,  3,  4,  5,  6,  7,  8,  9, 10, 11, 12, 13, 14, 15, 16,\n",
       "        17, 18, 19, 20, 21, 22, 23, 24, 25, 26, 27, 28, 29, 30, 31, 32, 33,\n",
       "        34, 35, 36, 37, 38, 39, 40, 41, 42, 43, 44, 45, 46, 47, 48, 49, 50,\n",
       "        51, 52, 53, 54, 55, 56, 57, 58, 59, 60, 61, 62, 63, 64, 65, 66, 67,\n",
       "        68, 69, 70, 71, 72, 73, 74, 75, 76, 77, 78, 79, 80, 81, 82, 83, 84,\n",
       "        85, 86, 87, 88, 89]),\n",
       " array([98]),\n",
       " array([97]),\n",
       " array([96]),\n",
       " array([95]),\n",
       " array([94]),\n",
       " array([93]),\n",
       " array([92]),\n",
       " array([91]),\n",
       " array([90])]"
      ]
     },
     "execution_count": 81,
     "metadata": {},
     "output_type": "execute_result"
    }
   ],
   "source": [
    "cluster_indices"
   ]
  },
  {
   "cell_type": "code",
   "execution_count": 82,
   "id": "a13d1519",
   "metadata": {},
   "outputs": [],
   "source": [
    "point_array = sim_matrix_firts_clustering"
   ]
  },
  {
   "cell_type": "code",
   "execution_count": 83,
   "id": "00bac14a",
   "metadata": {},
   "outputs": [
    {
     "data": {
      "text/plain": [
       "array([[1., 1., 1., ..., 1., 1., 1.],\n",
       "       [1., 1., 1., ..., 1., 1., 1.],\n",
       "       [1., 1., 1., ..., 1., 1., 1.],\n",
       "       ...,\n",
       "       [1., 1., 1., ..., 1., 1., 1.],\n",
       "       [1., 1., 1., ..., 1., 1., 1.],\n",
       "       [1., 1., 1., ..., 1., 1., 1.]])"
      ]
     },
     "execution_count": 83,
     "metadata": {},
     "output_type": "execute_result"
    }
   ],
   "source": [
    "point_array"
   ]
  },
  {
   "cell_type": "code",
   "execution_count": 84,
   "id": "fda8371f",
   "metadata": {},
   "outputs": [],
   "source": [
    "# find coordinates of pints for every claster \n",
    "n_points = point_array.shape[0] # number of points in sim_matrix for first clusterising\n",
    "cluster_points = []\n",
    "for indices in cluster_indices:\n",
    "    points = np.zeros((len(indices), point_array.shape[1]))\n",
    "    for i, index in enumerate(indices):\n",
    "        points[i, :] = point_array[index, :n_points]\n",
    "    cluster_points.append(points)"
   ]
  },
  {
   "cell_type": "code",
   "execution_count": 85,
   "id": "33dc125c",
   "metadata": {},
   "outputs": [
    {
     "data": {
      "text/plain": [
       "1"
      ]
     },
     "execution_count": 85,
     "metadata": {},
     "output_type": "execute_result"
    }
   ],
   "source": [
    "len(cluster_points[6])"
   ]
  },
  {
   "cell_type": "code",
   "execution_count": 86,
   "id": "78d5d8ea",
   "metadata": {},
   "outputs": [
    {
     "data": {
      "text/plain": [
       "array([1., 1., 1., 1., 1., 1., 1., 1., 1., 1., 1., 1., 1., 1., 1., 1., 1.,\n",
       "       1., 1., 1., 1., 1., 1., 1., 1., 1., 1., 1., 1., 1., 1., 1., 1., 1.,\n",
       "       1., 1., 1., 1., 1., 1., 1., 1., 1., 1., 1., 1., 1., 1., 1., 1., 1.,\n",
       "       1., 1., 1., 1., 1., 1., 1., 1., 1., 1., 1., 1., 1., 1., 1., 1., 1.,\n",
       "       1., 1., 1., 1., 1., 1., 1., 1., 1., 1., 1., 1., 1., 1., 1., 1., 1.,\n",
       "       1., 1., 1., 1., 1., 1., 1., 1., 1., 1., 1., 1., 1., 1.])"
      ]
     },
     "execution_count": 86,
     "metadata": {},
     "output_type": "execute_result"
    }
   ],
   "source": [
    "cluster_points[6][0]"
   ]
  },
  {
   "cell_type": "code",
   "execution_count": null,
   "id": "530bd06f",
   "metadata": {},
   "outputs": [],
   "source": [
    "number_of_points_in_sim_matrix = point_array.shape[0]\n",
    "additional_sim_matrix = sim_matrix\n",
    "for j in range(6):\n",
    "    new_point = cluster_points[7][j]\n",
    "    new_sim_matrix = np.zeros((number_of_points_in_sim_matrix + 1, number_of_points_in_sim_matrix + 1))\n",
    "    new_sim_matrix[:number_of_points_in_sim_matrix, :number_of_points_in_sim_matrix] = additional_sim_matrix\n",
    "    for i in range(number_of_points_in_sim_matrix):\n",
    "        dist = np.linalg.norm(new_point - additional_sim_matrix[i])\n",
    "        new_sim_matrix[number_of_points_in_sim_matrix, i] = dist\n",
    "        new_sim_matrix[i, number_of_points_in_sim_matrix] = dist\n",
    "    additional_sim_matrix = new_sim_matrix\n",
    "    number_of_points_in_sim_matrix += 1"
   ]
  },
  {
   "cell_type": "code",
   "execution_count": null,
   "id": "e72f9ae1",
   "metadata": {},
   "outputs": [],
   "source": [
    "new_point = cluster_points[7][5]   # new point to add"
   ]
  },
  {
   "cell_type": "code",
   "execution_count": null,
   "id": "637b713a",
   "metadata": {},
   "outputs": [],
   "source": [
    "number_of_points_in_sim_matrix = point_array.shape[0]"
   ]
  },
  {
   "cell_type": "code",
   "execution_count": null,
   "id": "d2c81c90",
   "metadata": {},
   "outputs": [],
   "source": [
    "# create new_sim_matrix with size (number of existing point + number of points to add)\n",
    "new_sim_matrix = np.zeros((number_of_points_in_sim_matrix+6, number_of_points_in_sim_matrix+6))"
   ]
  },
  {
   "cell_type": "code",
   "execution_count": null,
   "id": "74393b57",
   "metadata": {},
   "outputs": [],
   "source": [
    "# fill new_sim_matrix with values from sim_matrix\n",
    "new_sim_matrix[:number_of_points_in_sim_matrix, :number_of_points_in_sim_matrix] = sim_matrix"
   ]
  },
  {
   "cell_type": "code",
   "execution_count": null,
   "id": "2be132f3",
   "metadata": {},
   "outputs": [],
   "source": [
    "test_new_sim_matrix = new_sim_matrix"
   ]
  },
  {
   "cell_type": "code",
   "execution_count": null,
   "id": "b8f7afbd",
   "metadata": {},
   "outputs": [],
   "source": [
    "# add new point and find distances for all other points\n",
    "for i in range(number_of_points_in_sim_matrix):\n",
    "    dist = np.linalg.norm(new_point - sim_matrix[i])\n",
    "    new_sim_matrix[number_of_points_in_sim_matrix, i] = dist\n",
    "    new_sim_matrix[i, number_of_points_in_sim_matrix] = dist"
   ]
  },
  {
   "cell_type": "code",
   "execution_count": null,
   "id": "758aa4a4",
   "metadata": {},
   "outputs": [],
   "source": [
    "new_sim_matrix[number_of_points_in_sim_matrix, 4]"
   ]
  },
  {
   "cell_type": "code",
   "execution_count": null,
   "id": "a443cd15",
   "metadata": {},
   "outputs": [],
   "source": [
    "new_sim_matrix[80][100]"
   ]
  },
  {
   "cell_type": "code",
   "execution_count": null,
   "id": "243a03ee",
   "metadata": {},
   "outputs": [],
   "source": [
    "new_sim_matrix.shape[0]"
   ]
  },
  {
   "cell_type": "markdown",
   "id": "8aa2c8ab",
   "metadata": {},
   "source": [
    "# second try of using partial clustering"
   ]
  },
  {
   "cell_type": "code",
   "execution_count": null,
   "id": "c05c4b30",
   "metadata": {},
   "outputs": [],
   "source": [
    "mat_start = 100\n",
    "mat_end = 200\n",
    "tf_idf_matrix = tf_idf_matrix_func(mat_start, mat_end)\n",
    "time_matrix = time_matrix_func(mat_start, mat_end)\n",
    "sim_matrix = sim_matrix_func(mat_start, mat_end) "
   ]
  },
  {
   "cell_type": "code",
   "execution_count": null,
   "id": "892cd185",
   "metadata": {},
   "outputs": [],
   "source": [
    "sim_matrix = np.array(sim_matrix)\n",
    "cluster = AgglomerativeClustering(n_clusters=10, affinity='euclidean', linkage='ward')\n",
    "clusters = cluster.fit_predict(sim_matrix)\n",
    "clusters"
   ]
  },
  {
   "cell_type": "code",
   "execution_count": null,
   "id": "e56afa05",
   "metadata": {},
   "outputs": [],
   "source": [
    "for i in range(len(clusters)):\n",
    "    if clusters[i] == 6:\n",
    "        print(i)"
   ]
  },
  {
   "cell_type": "code",
   "execution_count": null,
   "id": "c6551ce2",
   "metadata": {},
   "outputs": [],
   "source": [
    "#lets choose some point from cluster \"6\", let it be number 93 => in dataset it is number 193"
   ]
  },
  {
   "cell_type": "code",
   "execution_count": null,
   "id": "0810665f",
   "metadata": {},
   "outputs": [],
   "source": [
    "mat_start = 200\n",
    "mat_end = 300\n",
    "tf_idf_matrix = tf_idf_matrix_func(mat_start, mat_end)\n",
    "time_matrix = time_matrix_func(mat_start, mat_end)\n",
    "sim_matrix = sim_matrix_func(mat_start, mat_end) "
   ]
  },
  {
   "cell_type": "code",
   "execution_count": null,
   "id": "3019d92a",
   "metadata": {},
   "outputs": [],
   "source": [
    "sim_matrix = np.array(sim_matrix)\n",
    "cluster = AgglomerativeClustering(n_clusters=10, affinity='euclidean', linkage='ward')\n",
    "clusters = cluster.fit_predict(sim_matrix)\n",
    "clusters"
   ]
  },
  {
   "cell_type": "code",
   "execution_count": null,
   "id": "bb74f6fc",
   "metadata": {},
   "outputs": [],
   "source": [
    "sim_matrix"
   ]
  },
  {
   "cell_type": "code",
   "execution_count": null,
   "id": "4d551f16",
   "metadata": {},
   "outputs": [],
   "source": [
    "#add one point to new matrix of dictances for secong clusterisation\n",
    "n_sim_matrix = sim_matrix.shape[0]\n",
    "sim_matrix_new = np.zeros((n_sim_matrix+1, n_sim_matrix+1))\n",
    "\n",
    "for i in range (n_sim_matrix + 1):\n",
    "    for j in range(i+1, n_sim_matrix + 1):\n",
    "        if i == n_sim_matrix:\n",
    "            sim_matrix_new[i, j] = (1 + linear_kernel(x[193], x[j + mat_start], 'euclidean')) * (1 + get_interval(193, j + mat_start))\n",
    "        elif j == n_sim_matrix:\n",
    "            sim_matrix_new[i, j] = (1 + linear_kernel(x[i + mat_start], x[193], 'euclidean')) * (1 + get_interval(i + mat_start, 193))\n",
    "        else:\n",
    "            sim_matrix_new[i, j] = sim_matrix[i, j]\n",
    "        sim_matrix_new[j, i] = sim_matrix_new[i, j]"
   ]
  },
  {
   "cell_type": "code",
   "execution_count": null,
   "id": "dced8782",
   "metadata": {},
   "outputs": [],
   "source": [
    "sim_matrix"
   ]
  },
  {
   "cell_type": "code",
   "execution_count": null,
   "id": "fe5009e5",
   "metadata": {},
   "outputs": [],
   "source": [
    "sim_matrix_new"
   ]
  },
  {
   "cell_type": "code",
   "execution_count": null,
   "id": "5e709db2",
   "metadata": {},
   "outputs": [],
   "source": [
    "len(sim_matrix_new[0])"
   ]
  },
  {
   "cell_type": "code",
   "execution_count": null,
   "id": "4ac371d3",
   "metadata": {},
   "outputs": [],
   "source": [
    "num_in_new_sim_matrix"
   ]
  },
  {
   "cell_type": "code",
   "execution_count": null,
   "id": "d8ca6229",
   "metadata": {},
   "outputs": [],
   "source": [
    "from random import uniform\n",
    "number_to_add = 5\n",
    "\n",
    "num_in_new_sim_matrix = len(sim_matrix_new[0])\n",
    "\n",
    "new_size = num_in_new_sim_matrix + number_to_add\n",
    "new_matrix = np.zeros((new_size, new_size))\n",
    "\n",
    "new_matrix[:num_in_new_sim_matrix, :num_in_new_sim_matrix] = sim_matrix_new\n",
    "\n",
    "for i in range(number_to_add):\n",
    "    random_deviation = uniform(0.001, 0.01)\n",
    "    new_matrix[num_in_new_sim_matrix+i, :num_in_new_sim_matrix] = sim_matrix_new[-1, :] + random_deviation\n",
    "    new_matrix[:num_in_new_sim_matrix, num_in_new_sim_matrix+i] = sim_matrix_new[:, -1] + random_deviation\n",
    "\n",
    "new_matrix[num_in_new_sim_matrix:, num_in_new_sim_matrix:] = np.zeros((number_to_add, number_to_add))\n",
    "\n",
    "print(new_matrix)"
   ]
  },
  {
   "cell_type": "code",
   "execution_count": null,
   "id": "e2f2029d",
   "metadata": {},
   "outputs": [],
   "source": [
    "import matplotlib.pyplot as plt\n",
    "dendrogram = sch.dendrogram(sch.linkage(new_matrix, method = 'ward'))\n",
    "plt.figure(figsize=(200, 500))\n",
    "plt.show()"
   ]
  },
  {
   "cell_type": "code",
   "execution_count": null,
   "id": "e4004a2a",
   "metadata": {},
   "outputs": [],
   "source": [
    "cluster = AgglomerativeClustering(n_clusters=10, affinity='euclidean', linkage='ward')\n",
    "clusters = cluster.fit_predict(new_sim_matrix)\n",
    "clusters\n"
   ]
  },
  {
   "cell_type": "markdown",
   "id": "982ff300",
   "metadata": {},
   "source": [
    "array([4, 4, 4, 4, 4, 4, 4, 4, 4, 4, 4, 4, 4, 4, 0, 0, 0, 0, 0, 0, 0, 0,\n",
    "       0, 0, 0, 0, 0, 0, 0, 0, 0, 0, 0, 0, 5, 8, 8, 8, 8, 8, 8, 9, 9, 9,\n",
    "       9, 3, 3, 3, 3, 3, 3, 3, 3, 3, 3, 3, 3, 3, 3, 3, 3, 3, 3, 6, 6, 6,\n",
    "       6, 6, 6, 2, 2, 2, 2, 2, 2, 2, 2, 2, 2, 2, 2, 2, 2, 2, 1, 1, 1, 1,\n",
    "       1, 1, 1, 1, 1, 7, 7, 7, 7, 7, 7])"
   ]
  },
  {
   "cell_type": "markdown",
   "id": "ed066135",
   "metadata": {},
   "source": [
    "# third try of clustering"
   ]
  },
  {
   "cell_type": "code",
   "execution_count": null,
   "id": "5c8e3a5f",
   "metadata": {},
   "outputs": [],
   "source": [
    "#main idea of this part:\n",
    "#clusterise first part \n",
    "#create new matrix with \"clouds\" of points\n",
    "#add new points to new matrix"
   ]
  },
  {
   "cell_type": "code",
   "execution_count": null,
   "id": "bb2d603f",
   "metadata": {},
   "outputs": [],
   "source": [
    "mat_start = 100\n",
    "mat_end = 200\n",
    "tf_idf_matrix = tf_idf_matrix_func(mat_start, mat_end)\n",
    "time_matrix = time_matrix_func(mat_start, mat_end)\n",
    "sim_matrix = sim_matrix_func(mat_start, mat_end) "
   ]
  },
  {
   "cell_type": "code",
   "execution_count": null,
   "id": "bfbebb18",
   "metadata": {},
   "outputs": [],
   "source": [
    "import matplotlib.pyplot as plt\n",
    "dendrogram = sch.dendrogram(sch.linkage(sim_matrix, method = 'ward'))\n",
    "plt.figure(figsize=(200, 500))\n",
    "plt.show()"
   ]
  },
  {
   "cell_type": "code",
   "execution_count": null,
   "id": "ad86aafb",
   "metadata": {},
   "outputs": [],
   "source": [
    "sim_matrix = np.array(sim_matrix)\n",
    "cluster = AgglomerativeClustering(n_clusters=5, affinity='euclidean', linkage='ward')\n",
    "clusters = cluster.fit_predict(sim_matrix)\n",
    "clusters"
   ]
  },
  {
   "cell_type": "code",
   "execution_count": null,
   "id": "65d69763",
   "metadata": {},
   "outputs": [],
   "source": [
    "mat_start = 200\n",
    "mat_end = 220\n",
    "tf_idf_matrix = tf_idf_matrix_func(mat_start, mat_end)\n",
    "time_matrix = time_matrix_func(mat_start, mat_end)\n",
    "sim_matrix_second = sim_matrix_func(mat_start, mat_end) "
   ]
  },
  {
   "cell_type": "code",
   "execution_count": null,
   "id": "45e1c3aa",
   "metadata": {},
   "outputs": [],
   "source": [
    "sim_matrix = sim_matrix_second"
   ]
  },
  {
   "cell_type": "code",
   "execution_count": null,
   "id": "c2df1b07",
   "metadata": {},
   "outputs": [],
   "source": [
    "for i in range(len(clusters)):\n",
    "    if clusters[i] == 4:\n",
    "        print(i)"
   ]
  },
  {
   "cell_type": "code",
   "execution_count": null,
   "id": "04eea020",
   "metadata": {},
   "outputs": [],
   "source": [
    "points_previous_clustering = [147, 121, 188, 103, 175]"
   ]
  },
  {
   "cell_type": "code",
   "execution_count": null,
   "id": "e070674d",
   "metadata": {},
   "outputs": [],
   "source": [
    "#add one point to new matrix of dictances for secong clusterisation\n",
    "n_sim_matrix = sim_matrix.shape[0]\n",
    "sim_matrix_new = np.zeros((n_sim_matrix+1, n_sim_matrix+1))\n",
    "\n",
    "for i in range (n_sim_matrix + 1):\n",
    "    for j in range(i+1, n_sim_matrix + 1):\n",
    "        if i == n_sim_matrix:\n",
    "            sim_matrix_new[i, j] = (1 + linear_kernel(x[147], x[j + mat_start], 'euclidean')) * (1 + get_interval(147, j + mat_start))\n",
    "        elif j == n_sim_matrix:\n",
    "            sim_matrix_new[i, j] = (1 + linear_kernel(x[i + mat_start], x[147], 'euclidean')) * (1 + get_interval(i + mat_start, 147))\n",
    "        else:\n",
    "            sim_matrix_new[i, j] = sim_matrix[i, j]\n",
    "        sim_matrix_new[j, i] = sim_matrix_new[i, j]"
   ]
  },
  {
   "cell_type": "code",
   "execution_count": null,
   "id": "2d494ba9",
   "metadata": {},
   "outputs": [],
   "source": [
    "from random import uniform\n",
    "number_to_add = 5\n",
    "\n",
    "num_in_new_sim_matrix = len(sim_matrix_new[0])\n",
    "\n",
    "new_size = num_in_new_sim_matrix + number_to_add\n",
    "new_matrix = np.zeros((new_size, new_size))\n",
    "\n",
    "new_matrix[:num_in_new_sim_matrix, :num_in_new_sim_matrix] = sim_matrix_new\n",
    "\n",
    "for i in range(number_to_add):\n",
    "    random_deviation = uniform(0.001, 0.01)\n",
    "    new_matrix[num_in_new_sim_matrix+i, :num_in_new_sim_matrix] = sim_matrix_new[-1, :] + random_deviation\n",
    "    new_matrix[:num_in_new_sim_matrix, num_in_new_sim_matrix+i] = sim_matrix_new[:, -1] + random_deviation\n",
    "\n",
    "new_matrix[num_in_new_sim_matrix:, num_in_new_sim_matrix:] = np.zeros((number_to_add, number_to_add))\n",
    "\n",
    "print(new_matrix)"
   ]
  },
  {
   "cell_type": "code",
   "execution_count": null,
   "id": "32c8a98a",
   "metadata": {},
   "outputs": [],
   "source": [
    "#add one point to new matrix of dictances for secong clusterisation\n",
    "sim_matrix_new = new_matrix\n",
    "sim_matrix_copy = sim_matrix_new\n",
    "n_sim_matrix = sim_matrix_new.shape[0]\n",
    "sim_matrix_new = np.zeros((n_sim_matrix+1, n_sim_matrix+1))\n",
    "\n",
    "sim_matrix_new[:n_sim_matrix, :n_sim_matrix] = sim_matrix_copy\n",
    "\n",
    "for i in range (n_sim_matrix):\n",
    "    if i <= 105:\n",
    "        sim_matrix_new[i, n_sim_matrix] = (1 + linear_kernel(x[121], x[i + mat_start], 'euclidean')) * (1 + get_interval(121, i + mat_start))\n",
    "        sim_matrix_new[n_sim_matrix, i] = (1 + linear_kernel(x[121], x[i + mat_start], 'euclidean')) * (1 + get_interval(121, i + mat_start))\n",
    "    else:\n",
    "        sim_matrix_new[i, n_sim_matrix] = (1 + linear_kernel(x[121], x[points_previous_clustering[0]], 'euclidean')) * (1 + get_interval(121, points_previous_clustering[0]))\n",
    "        sim_matrix_new[n_sim_matrix, i] = (1 + linear_kernel(x[121], x[points_previous_clustering[0]], 'euclidean')) * (1 + get_interval(121, points_previous_clustering[0]))"
   ]
  },
  {
   "cell_type": "code",
   "execution_count": null,
   "id": "c491df36",
   "metadata": {},
   "outputs": [],
   "source": [
    "print(sim_matrix_new)"
   ]
  },
  {
   "cell_type": "code",
   "execution_count": null,
   "id": "577e03b9",
   "metadata": {},
   "outputs": [],
   "source": [
    "from random import uniform\n",
    "number_to_add = 5\n",
    "\n",
    "num_in_new_sim_matrix = len(sim_matrix_new[0])\n",
    "\n",
    "new_size = num_in_new_sim_matrix + number_to_add\n",
    "new_matrix = np.zeros((new_size, new_size))\n",
    "\n",
    "new_matrix[:num_in_new_sim_matrix, :num_in_new_sim_matrix] = sim_matrix_new\n",
    "\n",
    "for i in range(number_to_add):\n",
    "    random_deviation = uniform(0.001, 0.01)\n",
    "    new_matrix[num_in_new_sim_matrix+i, :num_in_new_sim_matrix] = sim_matrix_new[-1, :] + random_deviation\n",
    "    new_matrix[:num_in_new_sim_matrix, num_in_new_sim_matrix+i] = sim_matrix_new[:, -1] + random_deviation\n",
    "\n",
    "new_matrix[num_in_new_sim_matrix:, num_in_new_sim_matrix:] = np.zeros((number_to_add, number_to_add))\n",
    "\n",
    "print(new_matrix)"
   ]
  },
  {
   "cell_type": "code",
   "execution_count": null,
   "id": "01abb35b",
   "metadata": {},
   "outputs": [],
   "source": [
    "#add one point to new matrix of dictances for secong clusterisation\n",
    "sim_matrix_new = new_matrix\n",
    "sim_matrix_copy = sim_matrix_new\n",
    "n_sim_matrix = sim_matrix_new.shape[0]\n",
    "sim_matrix_new = np.zeros((n_sim_matrix+1, n_sim_matrix+1))\n",
    "\n",
    "sim_matrix_new[:n_sim_matrix, :n_sim_matrix] = sim_matrix_copy\n",
    "\n",
    "for i in range (n_sim_matrix):\n",
    "    if i <= 105:\n",
    "        sim_matrix_new[i, n_sim_matrix] = (1 + linear_kernel(x[points_previous_clustering[2]], x[i + mat_start], 'euclidean')) * (1 + get_interval(points_previous_clustering[2], i + mat_start))\n",
    "        sim_matrix_new[n_sim_matrix, i] = (1 + linear_kernel(x[points_previous_clustering[2]], x[i + mat_start], 'euclidean')) * (1 + get_interval(points_previous_clustering[2], i + mat_start))\n",
    "    else:\n",
    "        sim_matrix_new[i, n_sim_matrix] = (1 + linear_kernel(x[points_previous_clustering[2]], x[points_previous_clustering[1]], 'euclidean')) * (1 + get_interval(points_previous_clustering[2], points_previous_clustering[1]))\n",
    "        sim_matrix_new[n_sim_matrix, i] = (1 + linear_kernel(x[points_previous_clustering[2]], x[points_previous_clustering[1]], 'euclidean')) * (1 + get_interval(points_previous_clustering[2], points_previous_clustering[1]))\n",
    "print(sim_matrix_new)"
   ]
  },
  {
   "cell_type": "code",
   "execution_count": null,
   "id": "0190498c",
   "metadata": {},
   "outputs": [],
   "source": [
    "from random import uniform\n",
    "number_to_add = 5\n",
    "\n",
    "num_in_new_sim_matrix = len(sim_matrix_new[0])\n",
    "\n",
    "new_size = num_in_new_sim_matrix + number_to_add\n",
    "new_matrix = np.zeros((new_size, new_size))\n",
    "\n",
    "new_matrix[:num_in_new_sim_matrix, :num_in_new_sim_matrix] = sim_matrix_new\n",
    "\n",
    "for i in range(number_to_add):\n",
    "    random_deviation = uniform(0.001, 0.01)\n",
    "    new_matrix[num_in_new_sim_matrix+i, :num_in_new_sim_matrix] = sim_matrix_new[-1, :] + random_deviation\n",
    "    new_matrix[:num_in_new_sim_matrix, num_in_new_sim_matrix+i] = sim_matrix_new[:, -1] + random_deviation\n",
    "\n",
    "new_matrix[num_in_new_sim_matrix:, num_in_new_sim_matrix:] = np.zeros((number_to_add, number_to_add))\n",
    "\n",
    "print(new_matrix)"
   ]
  },
  {
   "cell_type": "code",
   "execution_count": null,
   "id": "7f698b5a",
   "metadata": {},
   "outputs": [],
   "source": [
    "#add one point to new matrix of dictances for secong clusterisation\n",
    "sim_matrix_new = new_matrix\n",
    "sim_matrix_copy = sim_matrix_new\n",
    "n_sim_matrix = sim_matrix_new.shape[0]\n",
    "sim_matrix_new = np.zeros((n_sim_matrix+1, n_sim_matrix+1))\n",
    "\n",
    "sim_matrix_new[:n_sim_matrix, :n_sim_matrix] = sim_matrix_copy\n",
    "\n",
    "for i in range (n_sim_matrix):\n",
    "    if i <= 105:\n",
    "        sim_matrix_new[i, n_sim_matrix] = (1 + linear_kernel(x[points_previous_clustering[3]], x[i + mat_start], 'euclidean')) * (1 + get_interval(points_previous_clustering[3], i + mat_start))\n",
    "        sim_matrix_new[n_sim_matrix, i] = (1 + linear_kernel(x[points_previous_clustering[3]], x[i + mat_start], 'euclidean')) * (1 + get_interval(points_previous_clustering[3], i + mat_start))\n",
    "    else:\n",
    "        sim_matrix_new[i, n_sim_matrix] = (1 + linear_kernel(x[points_previous_clustering[3]], x[points_previous_clustering[2]], 'euclidean')) * (1 + get_interval(points_previous_clustering[3], points_previous_clustering[2]))\n",
    "        sim_matrix_new[n_sim_matrix, i] = (1 + linear_kernel(x[points_previous_clustering[3]], x[points_previous_clustering[2]], 'euclidean')) * (1 + get_interval(points_previous_clustering[3], points_previous_clustering[2]))\n",
    "print(sim_matrix_new)"
   ]
  },
  {
   "cell_type": "code",
   "execution_count": null,
   "id": "35337e65",
   "metadata": {},
   "outputs": [],
   "source": [
    "from random import uniform\n",
    "number_to_add = 5\n",
    "\n",
    "num_in_new_sim_matrix = len(sim_matrix_new[0])\n",
    "\n",
    "new_size = num_in_new_sim_matrix + number_to_add\n",
    "new_matrix = np.zeros((new_size, new_size))\n",
    "\n",
    "new_matrix[:num_in_new_sim_matrix, :num_in_new_sim_matrix] = sim_matrix_new\n",
    "\n",
    "for i in range(number_to_add):\n",
    "    random_deviation = uniform(0.001, 0.01)\n",
    "    new_matrix[num_in_new_sim_matrix+i, :num_in_new_sim_matrix] = sim_matrix_new[-1, :] + random_deviation\n",
    "    new_matrix[:num_in_new_sim_matrix, num_in_new_sim_matrix+i] = sim_matrix_new[:, -1] + random_deviation\n",
    "\n",
    "new_matrix[num_in_new_sim_matrix:, num_in_new_sim_matrix:] = np.zeros((number_to_add, number_to_add))\n",
    "\n",
    "print(new_matrix)"
   ]
  },
  {
   "cell_type": "code",
   "execution_count": null,
   "id": "284303c2",
   "metadata": {},
   "outputs": [],
   "source": [
    "#add one point to new matrix of dictances for secong clusterisation\n",
    "sim_matrix_new = new_matrix\n",
    "sim_matrix_copy = sim_matrix_new\n",
    "n_sim_matrix = sim_matrix_new.shape[0]\n",
    "sim_matrix_new = np.zeros((n_sim_matrix+1, n_sim_matrix+1))\n",
    "\n",
    "sim_matrix_new[:n_sim_matrix, :n_sim_matrix] = sim_matrix_copy\n",
    "\n",
    "for i in range (n_sim_matrix):\n",
    "    if i <= 105:\n",
    "        sim_matrix_new[i, n_sim_matrix] = (1 + linear_kernel(x[points_previous_clustering[4]], x[i + mat_start], 'euclidean')) * (1 + get_interval(points_previous_clustering[4], i + mat_start))\n",
    "        sim_matrix_new[n_sim_matrix, i] = (1 + linear_kernel(x[points_previous_clustering[4]], x[i + mat_start], 'euclidean')) * (1 + get_interval(points_previous_clustering[4], i + mat_start))\n",
    "    else:\n",
    "        sim_matrix_new[i, n_sim_matrix] = (1 + linear_kernel(x[points_previous_clustering[4]], x[points_previous_clustering[3]], 'euclidean')) * (1 + get_interval(points_previous_clustering[4], points_previous_clustering[3]))\n",
    "        sim_matrix_new[n_sim_matrix, i] = (1 + linear_kernel(x[points_previous_clustering[4]], x[points_previous_clustering[3]], 'euclidean')) * (1 + get_interval(points_previous_clustering[4], points_previous_clustering[3]))\n",
    "print(sim_matrix_new)"
   ]
  },
  {
   "cell_type": "code",
   "execution_count": null,
   "id": "b1d98674",
   "metadata": {},
   "outputs": [],
   "source": [
    "from random import uniform\n",
    "number_to_add = 5\n",
    "\n",
    "num_in_new_sim_matrix = len(sim_matrix_new[0])\n",
    "\n",
    "new_size = num_in_new_sim_matrix + number_to_add\n",
    "new_matrix = np.zeros((new_size, new_size))\n",
    "\n",
    "new_matrix[:num_in_new_sim_matrix, :num_in_new_sim_matrix] = sim_matrix_new\n",
    "\n",
    "for i in range(number_to_add):\n",
    "    random_deviation = uniform(0.001, 0.01)\n",
    "    new_matrix[num_in_new_sim_matrix+i, :num_in_new_sim_matrix] = sim_matrix_new[-1, :] + random_deviation\n",
    "    new_matrix[:num_in_new_sim_matrix, num_in_new_sim_matrix+i] = sim_matrix_new[:, -1] + random_deviation\n",
    "\n",
    "new_matrix[num_in_new_sim_matrix:, num_in_new_sim_matrix:] = np.zeros((number_to_add, number_to_add))\n",
    "\n",
    "print(new_matrix)"
   ]
  },
  {
   "cell_type": "code",
   "execution_count": null,
   "id": "3557b187",
   "metadata": {},
   "outputs": [],
   "source": [
    "import matplotlib.pyplot as plt\n",
    "dendrogram = sch.dendrogram(sch.linkage(sim_matrix, method = 'ward'))\n",
    "plt.figure(figsize=(200, 500))\n",
    "plt.show()"
   ]
  },
  {
   "cell_type": "code",
   "execution_count": null,
   "id": "e117766b",
   "metadata": {},
   "outputs": [],
   "source": [
    "import matplotlib.pyplot as plt\n",
    "dendrogram = sch.dendrogram(sch.linkage(new_matrix, method = 'ward'))\n",
    "plt.figure(figsize=(200, 500))\n",
    "plt.show()"
   ]
  },
  {
   "cell_type": "code",
   "execution_count": null,
   "id": "e91dd86f",
   "metadata": {},
   "outputs": [],
   "source": [
    "sim_matrix = np.array(sim_matrix)\n",
    "cluster = AgglomerativeClustering(n_clusters=5, affinity='euclidean', linkage='ward')\n",
    "clusters = cluster.fit_predict(sim_matrix)\n",
    "clusters"
   ]
  },
  {
   "cell_type": "code",
   "execution_count": null,
   "id": "ccf78b0a",
   "metadata": {},
   "outputs": [],
   "source": [
    "sim_matrix = np.array(sim_matrix)\n",
    "cluster = AgglomerativeClustering(n_clusters=7, affinity='euclidean', linkage='ward')\n",
    "clusters = cluster.fit_predict(new_matrix)\n",
    "clusters"
   ]
  },
  {
   "cell_type": "code",
   "execution_count": null,
   "id": "73f18b25",
   "metadata": {},
   "outputs": [],
   "source": []
  },
  {
   "cell_type": "code",
   "execution_count": null,
   "id": "09a84246",
   "metadata": {},
   "outputs": [],
   "source": []
  },
  {
   "cell_type": "code",
   "execution_count": null,
   "id": "12e9874f",
   "metadata": {},
   "outputs": [],
   "source": []
  },
  {
   "cell_type": "code",
   "execution_count": null,
   "id": "e8077720",
   "metadata": {},
   "outputs": [],
   "source": [
    "\n",
    "n_sim_matrix = sim_matrix_new.shape[0]\n",
    "print(n_sim_matrix)\n",
    "sim_matrix_new_copy = sim_matrix_new\n",
    "sim_matrix_new = np.zeros((n_sim_matrix+1, n_sim_matrix+1))\n",
    "\n",
    "for i in range (n_sim_matrix + 1):\n",
    "    for j in range(i+1, n_sim_matrix + 1):\n",
    "        print(i)\n",
    "        if i == n_sim_matrix - 1:\n",
    "            sim_matrix_new[i, j] = (1 + linear_kernel(x[193], x[j + mat_start], 'euclidean')) * (1 + get_interval(193, j + mat_start))\n",
    "        elif j == n_sim_matrix:\n",
    "            sim_matrix_new[i, j] = (1 + linear_kernel(x[i + mat_start], x[193], 'euclidean')) * (1 + get_interval(i + mat_start, 193))\n",
    "            #print(sim_matrix_new[i, j])\n",
    "\n",
    "        else:\n",
    "            sim_matrix_new[i, j] = sim_matrix_new_copy[i, j]\n",
    "            #print(sim_matrix_new[i, j])\n",
    "        #sim_matrix_new[j, i] = sim_matrix_new_copy[i, j]"
   ]
  },
  {
   "cell_type": "code",
   "execution_count": null,
   "id": "84ad75cb",
   "metadata": {},
   "outputs": [],
   "source": [
    "sim_matrix_new"
   ]
  },
  {
   "cell_type": "code",
   "execution_count": null,
   "id": "67b0b6cd",
   "metadata": {},
   "outputs": [],
   "source": [
    "n_sim_matrix = sim_matrix_new.shape[0]\n",
    "sim_matrix_new = np.zeros((n_sim_matrix+1, n_sim_matrix+1))\n",
    "\n",
    "for i in range (n_sim_matrix):\n",
    "    sim_matrix_new[i].append(sim_matrix_new[i][n_sim_matrix])"
   ]
  },
  {
   "cell_type": "code",
   "execution_count": null,
   "id": "ba8544f1",
   "metadata": {},
   "outputs": [],
   "source": [
    "len(sim_matrix_new[1])"
   ]
  },
  {
   "cell_type": "code",
   "execution_count": null,
   "id": "553db960",
   "metadata": {},
   "outputs": [],
   "source": [
    "sim_matrix_new"
   ]
  },
  {
   "cell_type": "code",
   "execution_count": null,
   "id": "7a6a6b53",
   "metadata": {},
   "outputs": [],
   "source": [
    "n_sim_matrix"
   ]
  },
  {
   "cell_type": "code",
   "execution_count": null,
   "id": "adec839c",
   "metadata": {},
   "outputs": [],
   "source": []
  },
  {
   "cell_type": "code",
   "execution_count": null,
   "id": "fb91eaa1",
   "metadata": {},
   "outputs": [],
   "source": []
  },
  {
   "cell_type": "code",
   "execution_count": null,
   "id": "97c7f718",
   "metadata": {},
   "outputs": [],
   "source": []
  },
  {
   "cell_type": "code",
   "execution_count": null,
   "id": "2f334f45",
   "metadata": {},
   "outputs": [],
   "source": []
  },
  {
   "cell_type": "code",
   "execution_count": null,
   "id": "9dd65466",
   "metadata": {},
   "outputs": [],
   "source": []
  },
  {
   "cell_type": "code",
   "execution_count": null,
   "id": "766ae937",
   "metadata": {},
   "outputs": [],
   "source": []
  },
  {
   "cell_type": "code",
   "execution_count": null,
   "id": "69caa22c",
   "metadata": {},
   "outputs": [],
   "source": []
  },
  {
   "cell_type": "code",
   "execution_count": null,
   "id": "3eb6b33e",
   "metadata": {},
   "outputs": [],
   "source": []
  },
  {
   "cell_type": "code",
   "execution_count": null,
   "id": "9bde0294",
   "metadata": {},
   "outputs": [],
   "source": []
  },
  {
   "cell_type": "code",
   "execution_count": null,
   "id": "86db5873",
   "metadata": {},
   "outputs": [],
   "source": []
  },
  {
   "cell_type": "code",
   "execution_count": null,
   "id": "e1cbe542",
   "metadata": {},
   "outputs": [],
   "source": [
    "new_sim_matrix"
   ]
  },
  {
   "cell_type": "code",
   "execution_count": null,
   "id": "bb12082f",
   "metadata": {},
   "outputs": [],
   "source": []
  },
  {
   "cell_type": "code",
   "execution_count": null,
   "id": "9237cfb7",
   "metadata": {},
   "outputs": [],
   "source": []
  },
  {
   "cell_type": "code",
   "execution_count": null,
   "id": "38481cd7",
   "metadata": {},
   "outputs": [],
   "source": [
    "import matplotlib.pyplot as plt\n",
    "dendrogram = sch.dendrogram(sch.linkage(sim_matrix, method = 'ward'))\n",
    "plt.figure(figsize=(200, 500))\n",
    "plt.show()"
   ]
  },
  {
   "cell_type": "code",
   "execution_count": null,
   "id": "1b261810",
   "metadata": {},
   "outputs": [],
   "source": [
    "#clusterise second time\n",
    "cluster = AgglomerativeClustering(n_clusters=10, affinity='euclidean', linkage='ward')\n",
    "clusters = cluster.fit_predict(new_sim_matrix)\n",
    "clusters"
   ]
  },
  {
   "cell_type": "markdown",
   "id": "b42d0867",
   "metadata": {},
   "source": [
    "     ([4, 4, 4, 4, 4, 4, 4, 4, 4, 4, 4, 4, 4, 4, 0, 0, 0, 0, 0, 0, 0, 0,\n",
    "       0, 0, 0, 0, 0, 0, 0, 0, 0, 0, 0, 0, 5, 8, 8, 8, 8, 8, 8, 9, 9, 9,\n",
    "       9, 3, 3, 3, 3, 3, 3, 3, 3, 3, 3, 3, 3, 3, 3, 3, 3, 3, 3, 6, 6, 6,\n",
    "       6, 6, 6, 2, 2, 2, 2, 2, 2, 2, 2, 2, 2, 2, 2, 2, 2, 2, 1, 1, 1, 1,\n",
    "       1, 1, 1, 1, 1, 7, 7, 7, 7, 7, 7])"
   ]
  },
  {
   "cell_type": "code",
   "execution_count": null,
   "id": "c8995975",
   "metadata": {},
   "outputs": [],
   "source": []
  },
  {
   "cell_type": "code",
   "execution_count": null,
   "id": "b9a1f383",
   "metadata": {},
   "outputs": [],
   "source": []
  },
  {
   "cell_type": "code",
   "execution_count": null,
   "id": "2c8f2a8e",
   "metadata": {},
   "outputs": [],
   "source": [
    "mat_start = 100\n",
    "mat_end = 200\n",
    "tf_idf_matrix = tf_idf_matrix_func(mat_start, mat_end)\n",
    "time_matrix = time_matrix_func(mat_start, mat_end)\n",
    "sim_matrix = sim_matrix_func(mat_start, mat_end) "
   ]
  },
  {
   "cell_type": "code",
   "execution_count": null,
   "id": "1982031b",
   "metadata": {},
   "outputs": [],
   "source": []
  },
  {
   "cell_type": "code",
   "execution_count": null,
   "id": "f67e23a2",
   "metadata": {},
   "outputs": [],
   "source": []
  },
  {
   "cell_type": "code",
   "execution_count": null,
   "id": "16d06467",
   "metadata": {},
   "outputs": [],
   "source": [
    "plt.scatter(x=[:1], y=[:1], c = df_tokenized_1000.cluster, cmap='rainbow' )"
   ]
  },
  {
   "cell_type": "code",
   "execution_count": null,
   "id": "80e6cfb3",
   "metadata": {},
   "outputs": [],
   "source": [
    "df.message[112]"
   ]
  },
  {
   "cell_type": "code",
   "execution_count": null,
   "id": "e746e8e2",
   "metadata": {},
   "outputs": [],
   "source": [
    "df.message[93]"
   ]
  },
  {
   "cell_type": "code",
   "execution_count": null,
   "id": "bf28c190",
   "metadata": {},
   "outputs": [],
   "source": [
    "df.message[94]"
   ]
  },
  {
   "cell_type": "code",
   "execution_count": null,
   "id": "d2341ed2",
   "metadata": {},
   "outputs": [],
   "source": [
    "df.message[291]"
   ]
  },
  {
   "cell_type": "code",
   "execution_count": null,
   "id": "898f71ca",
   "metadata": {},
   "outputs": [],
   "source": [
    "df.message[306]"
   ]
  },
  {
   "cell_type": "code",
   "execution_count": null,
   "id": "1d474886",
   "metadata": {},
   "outputs": [],
   "source": [
    "df.message[307]"
   ]
  },
  {
   "cell_type": "code",
   "execution_count": null,
   "id": "97853226",
   "metadata": {},
   "outputs": [],
   "source": [
    "df.message[162]"
   ]
  },
  {
   "cell_type": "code",
   "execution_count": null,
   "id": "df832cf2",
   "metadata": {},
   "outputs": [],
   "source": [
    "df.message[999]"
   ]
  },
  {
   "cell_type": "code",
   "execution_count": null,
   "id": "2ceb8870",
   "metadata": {},
   "outputs": [],
   "source": []
  },
  {
   "cell_type": "code",
   "execution_count": null,
   "id": "9a31f46f",
   "metadata": {},
   "outputs": [],
   "source": [
    "df_tokenized_10000 = df_tokenized.drop(index=range(10000, 118283))"
   ]
  },
  {
   "cell_type": "code",
   "execution_count": null,
   "id": "74c4622b",
   "metadata": {},
   "outputs": [],
   "source": [
    "df_tokenized_10000"
   ]
  },
  {
   "cell_type": "code",
   "execution_count": null,
   "id": "0fc363a7",
   "metadata": {},
   "outputs": [],
   "source": [
    "df_tokenized_10000['cluster'] = clusters"
   ]
  },
  {
   "cell_type": "code",
   "execution_count": null,
   "id": "3ab3dd72",
   "metadata": {},
   "outputs": [],
   "source": [
    "df_tokenized_10000"
   ]
  },
  {
   "cell_type": "code",
   "execution_count": null,
   "id": "3be2aef7",
   "metadata": {},
   "outputs": [],
   "source": [
    "import seaborn as sns\n",
    "import matplotlib.pyplot as plt\n",
    "sns.set_theme(style=\"whitegrid\")\n",
    "\n",
    "# Pull out a specific subset of networks\n",
    "used_networks = [1, 2, 3, 4, 5, 6, 7,8, 9, 10]\n",
    "#used_columns = (df.columns.get_level_values(\"cluster\")\n",
    "#                          .astype(int)\n",
    "#                          .isin(used_networks))\n",
    "#df = df.loc[:, used_columns]\n",
    "\n",
    "# Compute the correlation matrix and average over networks\n",
    "#corr_df = df.corr().groupby(level=\"ckuster\").mean()\n",
    "#corr_df.index = corr_df.index.astype(int)\n",
    "#corr_df = corr_df.sort_index().T\n",
    "\n",
    "# Set up the matplotlib figure\n",
    "f, ax = plt.subplots(figsize=(11, 6))\n",
    "\n",
    "# Draw a violinplot with a narrower bandwidth than the default\n",
    "sns.violinplot(data=sim_np_matrix, palette=\"Set3\", bw=.2, cut=1, linewidth=1)\n",
    "\n",
    "# Finalize the figure\n",
    "ax.set(ylim=(-.7, 1.05))\n",
    "sns.despine(left=True, bottom=True)"
   ]
  },
  {
   "cell_type": "code",
   "execution_count": null,
   "id": "a44da4aa",
   "metadata": {},
   "outputs": [],
   "source": [
    "sns.violinplot(data=df_tokenized_10000, x=\"cluster\", y=\"date\", palette=\"Set3\")"
   ]
  },
  {
   "cell_type": "code",
   "execution_count": null,
   "id": "8650a72c",
   "metadata": {},
   "outputs": [],
   "source": [
    "a = false\n",
    "b = 9.4\n"
   ]
  },
  {
   "cell_type": "code",
   "execution_count": null,
   "id": "0e7ec0d1",
   "metadata": {},
   "outputs": [],
   "source": [
    "firstnum = 7\n",
    "secondnum = 6\n",
    "firstnum / secondnum"
   ]
  },
  {
   "cell_type": "code",
   "execution_count": null,
   "id": "033351ea",
   "metadata": {},
   "outputs": [],
   "source": []
  },
  {
   "cell_type": "code",
   "execution_count": null,
   "id": "7d12719d",
   "metadata": {},
   "outputs": [],
   "source": [
    "f(x) = 2 if x < -9\n",
    "f(x) = -7*x + -9 if x >= -9\n",
    "f(x) = 2*x^8 + 9*x^5 - 2*x^2 - 10*x if x == -4\n",
    "f(x) = -10*x + -8 if x > 0"
   ]
  },
  {
   "cell_type": "code",
   "execution_count": null,
   "id": "5089ad80",
   "metadata": {},
   "outputs": [],
   "source": []
  },
  {
   "cell_type": "code",
   "execution_count": null,
   "id": "a4577e39",
   "metadata": {},
   "outputs": [],
   "source": []
  },
  {
   "cell_type": "code",
   "execution_count": null,
   "id": "7a08d4fc",
   "metadata": {},
   "outputs": [],
   "source": []
  },
  {
   "cell_type": "code",
   "execution_count": null,
   "id": "8adf7d1d",
   "metadata": {},
   "outputs": [],
   "source": []
  },
  {
   "cell_type": "code",
   "execution_count": null,
   "id": "6170ea73",
   "metadata": {},
   "outputs": [],
   "source": []
  },
  {
   "cell_type": "code",
   "execution_count": null,
   "id": "07ecd3ae",
   "metadata": {},
   "outputs": [],
   "source": []
  },
  {
   "cell_type": "code",
   "execution_count": null,
   "id": "068ad83e",
   "metadata": {},
   "outputs": [],
   "source": []
  },
  {
   "cell_type": "code",
   "execution_count": null,
   "id": "ef97a6c8",
   "metadata": {},
   "outputs": [],
   "source": []
  },
  {
   "cell_type": "code",
   "execution_count": null,
   "id": "e819c430",
   "metadata": {},
   "outputs": [],
   "source": []
  },
  {
   "cell_type": "code",
   "execution_count": null,
   "id": "5255a22f",
   "metadata": {},
   "outputs": [],
   "source": []
  },
  {
   "cell_type": "code",
   "execution_count": null,
   "id": "b222a3f2",
   "metadata": {},
   "outputs": [],
   "source": []
  }
 ],
 "metadata": {
  "kernelspec": {
   "display_name": "Python 3 (ipykernel)",
   "language": "python",
   "name": "python3"
  },
  "language_info": {
   "codemirror_mode": {
    "name": "ipython",
    "version": 3
   },
   "file_extension": ".py",
   "mimetype": "text/x-python",
   "name": "python",
   "nbconvert_exporter": "python",
   "pygments_lexer": "ipython3",
   "version": "3.10.8"
  }
 },
 "nbformat": 4,
 "nbformat_minor": 5
}
