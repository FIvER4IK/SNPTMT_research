{
 "cells": [
  {
   "cell_type": "code",
   "execution_count": 1,
   "id": "71b54928",
   "metadata": {},
   "outputs": [],
   "source": [
    "import pandas as pd"
   ]
  },
  {
   "cell_type": "code",
   "execution_count": 2,
   "id": "429d68a9",
   "metadata": {},
   "outputs": [],
   "source": [
    "df = pd.read_csv('db.csv', on_bad_lines='skip', sep='\\t')"
   ]
  },
  {
   "cell_type": "code",
   "execution_count": 3,
   "id": "f1dc594e",
   "metadata": {},
   "outputs": [
    {
     "data": {
      "text/html": [
       "<div>\n",
       "<style scoped>\n",
       "    .dataframe tbody tr th:only-of-type {\n",
       "        vertical-align: middle;\n",
       "    }\n",
       "\n",
       "    .dataframe tbody tr th {\n",
       "        vertical-align: top;\n",
       "    }\n",
       "\n",
       "    .dataframe thead th {\n",
       "        text-align: right;\n",
       "    }\n",
       "</style>\n",
       "<table border=\"1\" class=\"dataframe\">\n",
       "  <thead>\n",
       "    <tr style=\"text-align: right;\">\n",
       "      <th></th>\n",
       "      <th>from_id</th>\n",
       "      <th>message</th>\n",
       "      <th>date</th>\n",
       "    </tr>\n",
       "  </thead>\n",
       "  <tbody>\n",
       "    <tr>\n",
       "      <th>0</th>\n",
       "      <td>channel1101170442</td>\n",
       "      <td>Приветствуем всех в нашем Telegram-канале! ✌️️...</td>\n",
       "      <td>2017-02-28 19:55:32</td>\n",
       "    </tr>\n",
       "    <tr>\n",
       "      <th>1</th>\n",
       "      <td>channel1101170442</td>\n",
       "      <td>👑 Награждение победительницы конкурса красоты ...</td>\n",
       "      <td>2017-03-03 18:33:24</td>\n",
       "    </tr>\n",
       "    <tr>\n",
       "      <th>2</th>\n",
       "      <td>channel1101170442</td>\n",
       "      <td>🐍 Американский селекционер Джастин Кобылка пот...</td>\n",
       "      <td>2017-03-09 17:11:06</td>\n",
       "    </tr>\n",
       "    <tr>\n",
       "      <th>3</th>\n",
       "      <td>channel1101170442</td>\n",
       "      <td>А вы за участие России в конкурсе \\\"Евровидени...</td>\n",
       "      <td>2017-03-14 11:13:27</td>\n",
       "    </tr>\n",
       "    <tr>\n",
       "      <th>4</th>\n",
       "      <td>channel1101170442</td>\n",
       "      <td>Не болейте, друзья!</td>\n",
       "      <td>2017-03-14 19:49:56</td>\n",
       "    </tr>\n",
       "    <tr>\n",
       "      <th>...</th>\n",
       "      <td>...</td>\n",
       "      <td>...</td>\n",
       "      <td>...</td>\n",
       "    </tr>\n",
       "    <tr>\n",
       "      <th>118278</th>\n",
       "      <td>channel1101170442</td>\n",
       "      <td>Брифинг Минобороны России</td>\n",
       "      <td>2022-11-17 15:54:29</td>\n",
       "    </tr>\n",
       "    <tr>\n",
       "      <th>118279</th>\n",
       "      <td>channel1101170442</td>\n",
       "      <td>Украинских экспертов допустили на место падени...</td>\n",
       "      <td>2022-11-17 15:57:53</td>\n",
       "    </tr>\n",
       "    <tr>\n",
       "      <th>118280</th>\n",
       "      <td>channel1101170442</td>\n",
       "      <td>Порошенко заявил российским пранкерам, предста...</td>\n",
       "      <td>2022-11-17 16:06:13</td>\n",
       "    </tr>\n",
       "    <tr>\n",
       "      <th>118281</th>\n",
       "      <td>channel1101170442</td>\n",
       "      <td>Израиль сообщил, что завершил испытания морско...</td>\n",
       "      <td>2022-11-17 16:06:57</td>\n",
       "    </tr>\n",
       "    <tr>\n",
       "      <th>118282</th>\n",
       "      <td>channel1101170442</td>\n",
       "      <td>Пожар на московском рынке \\\"Садовод\\\" потушен,...</td>\n",
       "      <td>2022-11-17 16:08:27</td>\n",
       "    </tr>\n",
       "  </tbody>\n",
       "</table>\n",
       "<p>118283 rows × 3 columns</p>\n",
       "</div>"
      ],
      "text/plain": [
       "                  from_id                                            message  \\\n",
       "0       channel1101170442  Приветствуем всех в нашем Telegram-канале! ✌️️...   \n",
       "1       channel1101170442  👑 Награждение победительницы конкурса красоты ...   \n",
       "2       channel1101170442  🐍 Американский селекционер Джастин Кобылка пот...   \n",
       "3       channel1101170442  А вы за участие России в конкурсе \\\"Евровидени...   \n",
       "4       channel1101170442                                Не болейте, друзья!   \n",
       "...                   ...                                                ...   \n",
       "118278  channel1101170442                          Брифинг Минобороны России   \n",
       "118279  channel1101170442  Украинских экспертов допустили на место падени...   \n",
       "118280  channel1101170442  Порошенко заявил российским пранкерам, предста...   \n",
       "118281  channel1101170442  Израиль сообщил, что завершил испытания морско...   \n",
       "118282  channel1101170442  Пожар на московском рынке \\\"Садовод\\\" потушен,...   \n",
       "\n",
       "                       date  \n",
       "0       2017-02-28 19:55:32  \n",
       "1       2017-03-03 18:33:24  \n",
       "2       2017-03-09 17:11:06  \n",
       "3       2017-03-14 11:13:27  \n",
       "4       2017-03-14 19:49:56  \n",
       "...                     ...  \n",
       "118278  2022-11-17 15:54:29  \n",
       "118279  2022-11-17 15:57:53  \n",
       "118280  2022-11-17 16:06:13  \n",
       "118281  2022-11-17 16:06:57  \n",
       "118282  2022-11-17 16:08:27  \n",
       "\n",
       "[118283 rows x 3 columns]"
      ]
     },
     "execution_count": 3,
     "metadata": {},
     "output_type": "execute_result"
    }
   ],
   "source": [
    "df"
   ]
  },
  {
   "cell_type": "markdown",
   "id": "f45b2215",
   "metadata": {},
   "source": [
    "# Removing stopwords"
   ]
  },
  {
   "cell_type": "code",
   "execution_count": 4,
   "id": "98ff9cf6",
   "metadata": {},
   "outputs": [],
   "source": [
    "#pip install nltk"
   ]
  },
  {
   "cell_type": "code",
   "execution_count": 5,
   "id": "9f3c4e36",
   "metadata": {},
   "outputs": [],
   "source": [
    "import nltk"
   ]
  },
  {
   "cell_type": "code",
   "execution_count": 6,
   "id": "bd7ccfa5",
   "metadata": {},
   "outputs": [],
   "source": [
    "from nltk.tokenize import sent_tokenize, word_tokenize\n",
    "from nltk.corpus import stopwords"
   ]
  },
  {
   "cell_type": "code",
   "execution_count": null,
   "id": "103c8a08",
   "metadata": {},
   "outputs": [],
   "source": []
  },
  {
   "cell_type": "code",
   "execution_count": 7,
   "id": "18ac38e2",
   "metadata": {},
   "outputs": [],
   "source": [
    "stopsRUS = stopwords.words('russian')\n",
    "stopsENG = stopwords.words('english')\n",
    "\n",
    "stopsRUS.remove('не')\n",
    "stopsENG.remove('not')"
   ]
  },
  {
   "cell_type": "code",
   "execution_count": 8,
   "id": "c9498c5c",
   "metadata": {},
   "outputs": [
    {
     "name": "stderr",
     "output_type": "stream",
     "text": [
      "[nltk_data] Downloading package stopwords to\n",
      "[nltk_data]     /Users/andrewshatalov/nltk_data...\n",
      "[nltk_data]   Package stopwords is already up-to-date!\n"
     ]
    },
    {
     "data": {
      "text/plain": [
       "True"
      ]
     },
     "execution_count": 8,
     "metadata": {},
     "output_type": "execute_result"
    }
   ],
   "source": [
    "import nltk\n",
    "import ssl\n",
    "\n",
    "try:\n",
    "    _create_unverified_https_context = ssl._create_unverified_context\n",
    "except AttributeError:\n",
    "    pass\n",
    "else:\n",
    "    ssl._create_default_https_context = _create_unverified_https_context\n",
    "\n",
    "nltk.download(\"stopwords\")"
   ]
  },
  {
   "cell_type": "code",
   "execution_count": 9,
   "id": "92c6c5d6",
   "metadata": {},
   "outputs": [
    {
     "name": "stdout",
     "output_type": "stream",
     "text": [
      "['и', 'в', 'во', 'что', 'он', 'на', 'я', 'с', 'со', 'как', 'а', 'то', 'все', 'она', 'так', 'его', 'но', 'да', 'ты', 'к', 'у', 'же', 'вы', 'за', 'бы', 'по', 'только', 'ее', 'мне', 'было', 'вот', 'от', 'меня', 'еще', 'нет', 'о', 'из', 'ему', 'теперь', 'когда', 'даже', 'ну', 'вдруг', 'ли', 'если', 'уже', 'или', 'ни', 'быть', 'был', 'него', 'до', 'вас', 'нибудь', 'опять', 'уж', 'вам', 'ведь', 'там', 'потом', 'себя', 'ничего', 'ей', 'может', 'они', 'тут', 'где', 'есть', 'надо', 'ней', 'для', 'мы', 'тебя', 'их', 'чем', 'была', 'сам', 'чтоб', 'без', 'будто', 'чего', 'раз', 'тоже', 'себе', 'под', 'будет', 'ж', 'тогда', 'кто', 'этот', 'того', 'потому', 'этого', 'какой', 'совсем', 'ним', 'здесь', 'этом', 'один', 'почти', 'мой', 'тем', 'чтобы', 'нее', 'сейчас', 'были', 'куда', 'зачем', 'всех', 'никогда', 'можно', 'при', 'наконец', 'два', 'об', 'другой', 'хоть', 'после', 'над', 'больше', 'тот', 'через', 'эти', 'нас', 'про', 'всего', 'них', 'какая', 'много', 'разве', 'три', 'эту', 'моя', 'впрочем', 'хорошо', 'свою', 'этой', 'перед', 'иногда', 'лучше', 'чуть', 'том', 'нельзя', 'такой', 'им', 'более', 'всегда', 'конечно', 'всю', 'между']\n",
      "['i', 'me', 'my', 'myself', 'we', 'our', 'ours', 'ourselves', 'you', \"you're\", \"you've\", \"you'll\", \"you'd\", 'your', 'yours', 'yourself', 'yourselves', 'he', 'him', 'his', 'himself', 'she', \"she's\", 'her', 'hers', 'herself', 'it', \"it's\", 'its', 'itself', 'they', 'them', 'their', 'theirs', 'themselves', 'what', 'which', 'who', 'whom', 'this', 'that', \"that'll\", 'these', 'those', 'am', 'is', 'are', 'was', 'were', 'be', 'been', 'being', 'have', 'has', 'had', 'having', 'do', 'does', 'did', 'doing', 'a', 'an', 'the', 'and', 'but', 'if', 'or', 'because', 'as', 'until', 'while', 'of', 'at', 'by', 'for', 'with', 'about', 'against', 'between', 'into', 'through', 'during', 'before', 'after', 'above', 'below', 'to', 'from', 'up', 'down', 'in', 'out', 'on', 'off', 'over', 'under', 'again', 'further', 'then', 'once', 'here', 'there', 'when', 'where', 'why', 'how', 'all', 'any', 'both', 'each', 'few', 'more', 'most', 'other', 'some', 'such', 'no', 'nor', 'only', 'own', 'same', 'so', 'than', 'too', 'very', 's', 't', 'can', 'will', 'just', 'don', \"don't\", 'should', \"should've\", 'now', 'd', 'll', 'm', 'o', 're', 've', 'y', 'ain', 'aren', \"aren't\", 'couldn', \"couldn't\", 'didn', \"didn't\", 'doesn', \"doesn't\", 'hadn', \"hadn't\", 'hasn', \"hasn't\", 'haven', \"haven't\", 'isn', \"isn't\", 'ma', 'mightn', \"mightn't\", 'mustn', \"mustn't\", 'needn', \"needn't\", 'shan', \"shan't\", 'shouldn', \"shouldn't\", 'wasn', \"wasn't\", 'weren', \"weren't\", 'won', \"won't\", 'wouldn', \"wouldn't\"]\n"
     ]
    }
   ],
   "source": [
    "print(stopsRUS)\n",
    "print(stopsENG)"
   ]
  },
  {
   "cell_type": "markdown",
   "id": "0e25b99c",
   "metadata": {},
   "source": [
    "# removing emojies"
   ]
  },
  {
   "cell_type": "code",
   "execution_count": 10,
   "id": "92479bba",
   "metadata": {},
   "outputs": [],
   "source": [
    "import re\n",
    "df_without_emoji = df\n",
    "\n",
    "def deEmojify(text):\n",
    "    regrex_pattern = re.compile(pattern = \"[\"\n",
    "        u\"\\U0001F600-\\U0001F64F\"  # emoticons\n",
    "        u\"\\U0001F300-\\U0001F5FF\"  # symbols & pictographs\n",
    "        u\"\\U0001F680-\\U0001F6FF\"  # transport & map symbols\n",
    "        u\"\\U0001F1E0-\\U0001F1FF\"  # flags (iOS)\n",
    "        u\"\\U00002500-\\U00002BEF\"  # chinese char\n",
    "        u\"\\U00002702-\\U000027B0\"\n",
    "        u\"\\U00002702-\\U000027B0\"\n",
    "        u\"\\U000024C2-\\U0001F251\"\n",
    "        u\"\\U0001f926-\\U0001f937\"\n",
    "        u\"\\U00010000-\\U0010ffff\"\n",
    "        u\"\\u2640-\\u2642\" \n",
    "        u\"\\u2600-\\u2B55\"\n",
    "        u\"\\u200d\"\n",
    "        u\"\\u23cf\"\n",
    "        u\"\\u23e9\"\n",
    "        u\"\\u231a\"\n",
    "        u\"\\ufe0f\"  # dingbats\n",
    "        u\"\\u3030\"\n",
    "                           \"]+\", flags = re.UNICODE)\n",
    "    return regrex_pattern.sub(r'',text)\n",
    "\n",
    "df_without_emoji['message'] = df_without_emoji['message'].apply(deEmojify)"
   ]
  },
  {
   "cell_type": "code",
   "execution_count": 11,
   "id": "d82b8db3",
   "metadata": {},
   "outputs": [
    {
     "data": {
      "text/html": [
       "<div>\n",
       "<style scoped>\n",
       "    .dataframe tbody tr th:only-of-type {\n",
       "        vertical-align: middle;\n",
       "    }\n",
       "\n",
       "    .dataframe tbody tr th {\n",
       "        vertical-align: top;\n",
       "    }\n",
       "\n",
       "    .dataframe thead th {\n",
       "        text-align: right;\n",
       "    }\n",
       "</style>\n",
       "<table border=\"1\" class=\"dataframe\">\n",
       "  <thead>\n",
       "    <tr style=\"text-align: right;\">\n",
       "      <th></th>\n",
       "      <th>from_id</th>\n",
       "      <th>message</th>\n",
       "      <th>date</th>\n",
       "    </tr>\n",
       "  </thead>\n",
       "  <tbody>\n",
       "    <tr>\n",
       "      <th>0</th>\n",
       "      <td>channel1101170442</td>\n",
       "      <td>Приветствуем всех в нашем Telegram-канале!  Вс...</td>\n",
       "      <td>2017-02-28 19:55:32</td>\n",
       "    </tr>\n",
       "    <tr>\n",
       "      <th>1</th>\n",
       "      <td>channel1101170442</td>\n",
       "      <td>Награждение победительницы конкурса красоты с...</td>\n",
       "      <td>2017-03-03 18:33:24</td>\n",
       "    </tr>\n",
       "    <tr>\n",
       "      <th>2</th>\n",
       "      <td>channel1101170442</td>\n",
       "      <td>Американский селекционер Джастин Кобылка потр...</td>\n",
       "      <td>2017-03-09 17:11:06</td>\n",
       "    </tr>\n",
       "    <tr>\n",
       "      <th>3</th>\n",
       "      <td>channel1101170442</td>\n",
       "      <td>А вы за участие России в конкурсе \\\"Евровидени...</td>\n",
       "      <td>2017-03-14 11:13:27</td>\n",
       "    </tr>\n",
       "    <tr>\n",
       "      <th>4</th>\n",
       "      <td>channel1101170442</td>\n",
       "      <td>Не болейте, друзья!</td>\n",
       "      <td>2017-03-14 19:49:56</td>\n",
       "    </tr>\n",
       "    <tr>\n",
       "      <th>...</th>\n",
       "      <td>...</td>\n",
       "      <td>...</td>\n",
       "      <td>...</td>\n",
       "    </tr>\n",
       "    <tr>\n",
       "      <th>118278</th>\n",
       "      <td>channel1101170442</td>\n",
       "      <td>Брифинг Минобороны России</td>\n",
       "      <td>2022-11-17 15:54:29</td>\n",
       "    </tr>\n",
       "    <tr>\n",
       "      <th>118279</th>\n",
       "      <td>channel1101170442</td>\n",
       "      <td>Украинских экспертов допустили на место падени...</td>\n",
       "      <td>2022-11-17 15:57:53</td>\n",
       "    </tr>\n",
       "    <tr>\n",
       "      <th>118280</th>\n",
       "      <td>channel1101170442</td>\n",
       "      <td>Порошенко заявил российским пранкерам, предста...</td>\n",
       "      <td>2022-11-17 16:06:13</td>\n",
       "    </tr>\n",
       "    <tr>\n",
       "      <th>118281</th>\n",
       "      <td>channel1101170442</td>\n",
       "      <td>Израиль сообщил, что завершил испытания морско...</td>\n",
       "      <td>2022-11-17 16:06:57</td>\n",
       "    </tr>\n",
       "    <tr>\n",
       "      <th>118282</th>\n",
       "      <td>channel1101170442</td>\n",
       "      <td>Пожар на московском рынке \\\"Садовод\\\" потушен,...</td>\n",
       "      <td>2022-11-17 16:08:27</td>\n",
       "    </tr>\n",
       "  </tbody>\n",
       "</table>\n",
       "<p>118283 rows × 3 columns</p>\n",
       "</div>"
      ],
      "text/plain": [
       "                  from_id                                            message  \\\n",
       "0       channel1101170442  Приветствуем всех в нашем Telegram-канале!  Вс...   \n",
       "1       channel1101170442   Награждение победительницы конкурса красоты с...   \n",
       "2       channel1101170442   Американский селекционер Джастин Кобылка потр...   \n",
       "3       channel1101170442  А вы за участие России в конкурсе \\\"Евровидени...   \n",
       "4       channel1101170442                                Не болейте, друзья!   \n",
       "...                   ...                                                ...   \n",
       "118278  channel1101170442                          Брифинг Минобороны России   \n",
       "118279  channel1101170442  Украинских экспертов допустили на место падени...   \n",
       "118280  channel1101170442  Порошенко заявил российским пранкерам, предста...   \n",
       "118281  channel1101170442  Израиль сообщил, что завершил испытания морско...   \n",
       "118282  channel1101170442  Пожар на московском рынке \\\"Садовод\\\" потушен,...   \n",
       "\n",
       "                       date  \n",
       "0       2017-02-28 19:55:32  \n",
       "1       2017-03-03 18:33:24  \n",
       "2       2017-03-09 17:11:06  \n",
       "3       2017-03-14 11:13:27  \n",
       "4       2017-03-14 19:49:56  \n",
       "...                     ...  \n",
       "118278  2022-11-17 15:54:29  \n",
       "118279  2022-11-17 15:57:53  \n",
       "118280  2022-11-17 16:06:13  \n",
       "118281  2022-11-17 16:06:57  \n",
       "118282  2022-11-17 16:08:27  \n",
       "\n",
       "[118283 rows x 3 columns]"
      ]
     },
     "execution_count": 11,
     "metadata": {},
     "output_type": "execute_result"
    }
   ],
   "source": [
    "df_without_emoji"
   ]
  },
  {
   "cell_type": "code",
   "execution_count": 12,
   "id": "b8b67b3d",
   "metadata": {},
   "outputs": [],
   "source": [
    "#nltk.download('punkt')"
   ]
  },
  {
   "cell_type": "markdown",
   "id": "5ebfd282",
   "metadata": {},
   "source": [
    "# Removing signs"
   ]
  },
  {
   "cell_type": "code",
   "execution_count": 13,
   "id": "3902ec6d",
   "metadata": {},
   "outputs": [],
   "source": [
    "df_without_signs = df_without_emoji\n",
    "\n",
    "def deSigns(text):\n",
    "    regrex_pattern = re.compile(pattern = '[!@\"“’«»#\\\\\\\\$%&\\'()*+,—/:;<=>?^_`{|}~\\[\\]]', flags = re.UNICODE)\n",
    "    return regrex_pattern.sub(r'',text)\n",
    "#def deSignsBackSlash(text):\n",
    "#    regrex_pattern = re.compile(pattern = '\\\\\\\\', flags = re.UNICODE)\n",
    "#    return regrex_pattern.sub(r'',text)\n",
    "\n",
    "df_without_signs['message'] = df_without_signs['message'].apply(deSigns)\n",
    "#df_without_signs['message'] = df_without_signs['message'].apply(deSignsBackSlash"
   ]
  },
  {
   "cell_type": "code",
   "execution_count": 14,
   "id": "d9799196",
   "metadata": {},
   "outputs": [
    {
     "data": {
      "text/html": [
       "<div>\n",
       "<style scoped>\n",
       "    .dataframe tbody tr th:only-of-type {\n",
       "        vertical-align: middle;\n",
       "    }\n",
       "\n",
       "    .dataframe tbody tr th {\n",
       "        vertical-align: top;\n",
       "    }\n",
       "\n",
       "    .dataframe thead th {\n",
       "        text-align: right;\n",
       "    }\n",
       "</style>\n",
       "<table border=\"1\" class=\"dataframe\">\n",
       "  <thead>\n",
       "    <tr style=\"text-align: right;\">\n",
       "      <th></th>\n",
       "      <th>from_id</th>\n",
       "      <th>message</th>\n",
       "      <th>date</th>\n",
       "    </tr>\n",
       "  </thead>\n",
       "  <tbody>\n",
       "    <tr>\n",
       "      <th>0</th>\n",
       "      <td>channel1101170442</td>\n",
       "      <td>Приветствуем всех в нашем Telegram-канале  Все...</td>\n",
       "      <td>2017-02-28 19:55:32</td>\n",
       "    </tr>\n",
       "    <tr>\n",
       "      <th>1</th>\n",
       "      <td>channel1101170442</td>\n",
       "      <td>Награждение победительницы конкурса красоты с...</td>\n",
       "      <td>2017-03-03 18:33:24</td>\n",
       "    </tr>\n",
       "    <tr>\n",
       "      <th>2</th>\n",
       "      <td>channel1101170442</td>\n",
       "      <td>Американский селекционер Джастин Кобылка потр...</td>\n",
       "      <td>2017-03-09 17:11:06</td>\n",
       "    </tr>\n",
       "    <tr>\n",
       "      <th>3</th>\n",
       "      <td>channel1101170442</td>\n",
       "      <td>А вы за участие России в конкурсе Евровидение</td>\n",
       "      <td>2017-03-14 11:13:27</td>\n",
       "    </tr>\n",
       "    <tr>\n",
       "      <th>4</th>\n",
       "      <td>channel1101170442</td>\n",
       "      <td>Не болейте друзья</td>\n",
       "      <td>2017-03-14 19:49:56</td>\n",
       "    </tr>\n",
       "    <tr>\n",
       "      <th>...</th>\n",
       "      <td>...</td>\n",
       "      <td>...</td>\n",
       "      <td>...</td>\n",
       "    </tr>\n",
       "    <tr>\n",
       "      <th>118278</th>\n",
       "      <td>channel1101170442</td>\n",
       "      <td>Брифинг Минобороны России</td>\n",
       "      <td>2022-11-17 15:54:29</td>\n",
       "    </tr>\n",
       "    <tr>\n",
       "      <th>118279</th>\n",
       "      <td>channel1101170442</td>\n",
       "      <td>Украинских экспертов допустили на место падени...</td>\n",
       "      <td>2022-11-17 15:57:53</td>\n",
       "    </tr>\n",
       "    <tr>\n",
       "      <th>118280</th>\n",
       "      <td>channel1101170442</td>\n",
       "      <td>Порошенко заявил российским пранкерам представ...</td>\n",
       "      <td>2022-11-17 16:06:13</td>\n",
       "    </tr>\n",
       "    <tr>\n",
       "      <th>118281</th>\n",
       "      <td>channel1101170442</td>\n",
       "      <td>Израиль сообщил что завершил испытания морской...</td>\n",
       "      <td>2022-11-17 16:06:57</td>\n",
       "    </tr>\n",
       "    <tr>\n",
       "      <th>118282</th>\n",
       "      <td>channel1101170442</td>\n",
       "      <td>Пожар на московском рынке Садовод потушен его ...</td>\n",
       "      <td>2022-11-17 16:08:27</td>\n",
       "    </tr>\n",
       "  </tbody>\n",
       "</table>\n",
       "<p>118283 rows × 3 columns</p>\n",
       "</div>"
      ],
      "text/plain": [
       "                  from_id                                            message  \\\n",
       "0       channel1101170442  Приветствуем всех в нашем Telegram-канале  Все...   \n",
       "1       channel1101170442   Награждение победительницы конкурса красоты с...   \n",
       "2       channel1101170442   Американский селекционер Джастин Кобылка потр...   \n",
       "3       channel1101170442      А вы за участие России в конкурсе Евровидение   \n",
       "4       channel1101170442                                  Не болейте друзья   \n",
       "...                   ...                                                ...   \n",
       "118278  channel1101170442                          Брифинг Минобороны России   \n",
       "118279  channel1101170442  Украинских экспертов допустили на место падени...   \n",
       "118280  channel1101170442  Порошенко заявил российским пранкерам представ...   \n",
       "118281  channel1101170442  Израиль сообщил что завершил испытания морской...   \n",
       "118282  channel1101170442  Пожар на московском рынке Садовод потушен его ...   \n",
       "\n",
       "                       date  \n",
       "0       2017-02-28 19:55:32  \n",
       "1       2017-03-03 18:33:24  \n",
       "2       2017-03-09 17:11:06  \n",
       "3       2017-03-14 11:13:27  \n",
       "4       2017-03-14 19:49:56  \n",
       "...                     ...  \n",
       "118278  2022-11-17 15:54:29  \n",
       "118279  2022-11-17 15:57:53  \n",
       "118280  2022-11-17 16:06:13  \n",
       "118281  2022-11-17 16:06:57  \n",
       "118282  2022-11-17 16:08:27  \n",
       "\n",
       "[118283 rows x 3 columns]"
      ]
     },
     "execution_count": 14,
     "metadata": {},
     "output_type": "execute_result"
    }
   ],
   "source": [
    "df_without_signs"
   ]
  },
  {
   "cell_type": "markdown",
   "id": "36ee460d",
   "metadata": {},
   "source": [
    "# Lemmatization"
   ]
  },
  {
   "cell_type": "code",
   "execution_count": 15,
   "id": "4ea704b0",
   "metadata": {},
   "outputs": [],
   "source": [
    "#pip install pymorphy2"
   ]
  },
  {
   "cell_type": "code",
   "execution_count": 16,
   "id": "353f9ac0",
   "metadata": {},
   "outputs": [],
   "source": [
    "import pymorphy2"
   ]
  },
  {
   "cell_type": "code",
   "execution_count": 17,
   "id": "277ce8a8",
   "metadata": {},
   "outputs": [
    {
     "name": "stdout",
     "output_type": "stream",
     "text": [
      "CPU times: user 7min 15s, sys: 1.24 s, total: 7min 16s\n",
      "Wall time: 7min 16s\n"
     ]
    }
   ],
   "source": [
    "%%time\n",
    "df_normal = df_without_signs\n",
    "\n",
    "morph = pymorphy2.MorphAnalyzer()\n",
    "\n",
    "def converter (sentence):\n",
    "    list = []\n",
    "    words = sentence.split()\n",
    "    for item in words:\n",
    "        list.append(morph.parse(item)[0].normal_form)\n",
    "    return ' '.join(list) \n",
    "\n",
    "df_normal['message'] = df_normal['message'].apply(converter)"
   ]
  },
  {
   "cell_type": "code",
   "execution_count": 18,
   "id": "a11a1d25",
   "metadata": {},
   "outputs": [
    {
     "data": {
      "text/html": [
       "<div>\n",
       "<style scoped>\n",
       "    .dataframe tbody tr th:only-of-type {\n",
       "        vertical-align: middle;\n",
       "    }\n",
       "\n",
       "    .dataframe tbody tr th {\n",
       "        vertical-align: top;\n",
       "    }\n",
       "\n",
       "    .dataframe thead th {\n",
       "        text-align: right;\n",
       "    }\n",
       "</style>\n",
       "<table border=\"1\" class=\"dataframe\">\n",
       "  <thead>\n",
       "    <tr style=\"text-align: right;\">\n",
       "      <th></th>\n",
       "      <th>from_id</th>\n",
       "      <th>message</th>\n",
       "      <th>date</th>\n",
       "    </tr>\n",
       "  </thead>\n",
       "  <tbody>\n",
       "    <tr>\n",
       "      <th>0</th>\n",
       "      <td>channel1101170442</td>\n",
       "      <td>приветствовать весь в наш telegram-канал всегд...</td>\n",
       "      <td>2017-02-28 19:55:32</td>\n",
       "    </tr>\n",
       "    <tr>\n",
       "      <th>1</th>\n",
       "      <td>channel1101170442</td>\n",
       "      <td>награждение победительница конкурс красота сре...</td>\n",
       "      <td>2017-03-03 18:33:24</td>\n",
       "    </tr>\n",
       "    <tr>\n",
       "      <th>2</th>\n",
       "      <td>channel1101170442</td>\n",
       "      <td>американский селекционер джастин кобылка потра...</td>\n",
       "      <td>2017-03-09 17:11:06</td>\n",
       "    </tr>\n",
       "    <tr>\n",
       "      <th>3</th>\n",
       "      <td>channel1101170442</td>\n",
       "      <td>а вы за участие россия в конкурс евровидение</td>\n",
       "      <td>2017-03-14 11:13:27</td>\n",
       "    </tr>\n",
       "    <tr>\n",
       "      <th>4</th>\n",
       "      <td>channel1101170442</td>\n",
       "      <td>не болеть друг</td>\n",
       "      <td>2017-03-14 19:49:56</td>\n",
       "    </tr>\n",
       "    <tr>\n",
       "      <th>...</th>\n",
       "      <td>...</td>\n",
       "      <td>...</td>\n",
       "      <td>...</td>\n",
       "    </tr>\n",
       "    <tr>\n",
       "      <th>118278</th>\n",
       "      <td>channel1101170442</td>\n",
       "      <td>брифинг минобороны россия</td>\n",
       "      <td>2022-11-17 15:54:29</td>\n",
       "    </tr>\n",
       "    <tr>\n",
       "      <th>118279</th>\n",
       "      <td>channel1101170442</td>\n",
       "      <td>украинский эксперт допустить на место падение ...</td>\n",
       "      <td>2022-11-17 15:57:53</td>\n",
       "    </tr>\n",
       "    <tr>\n",
       "      <th>118280</th>\n",
       "      <td>channel1101170442</td>\n",
       "      <td>порошенко заявить российский пранкер представи...</td>\n",
       "      <td>2022-11-17 16:06:13</td>\n",
       "    </tr>\n",
       "    <tr>\n",
       "      <th>118281</th>\n",
       "      <td>channel1101170442</td>\n",
       "      <td>израиль сообщить что завершить испытание морск...</td>\n",
       "      <td>2022-11-17 16:06:57</td>\n",
       "    </tr>\n",
       "    <tr>\n",
       "      <th>118282</th>\n",
       "      <td>channel1101170442</td>\n",
       "      <td>пожар на московский рынок садовод потушить он ...</td>\n",
       "      <td>2022-11-17 16:08:27</td>\n",
       "    </tr>\n",
       "  </tbody>\n",
       "</table>\n",
       "<p>118283 rows × 3 columns</p>\n",
       "</div>"
      ],
      "text/plain": [
       "                  from_id                                            message  \\\n",
       "0       channel1101170442  приветствовать весь в наш telegram-канал всегд...   \n",
       "1       channel1101170442  награждение победительница конкурс красота сре...   \n",
       "2       channel1101170442  американский селекционер джастин кобылка потра...   \n",
       "3       channel1101170442       а вы за участие россия в конкурс евровидение   \n",
       "4       channel1101170442                                     не болеть друг   \n",
       "...                   ...                                                ...   \n",
       "118278  channel1101170442                          брифинг минобороны россия   \n",
       "118279  channel1101170442  украинский эксперт допустить на место падение ...   \n",
       "118280  channel1101170442  порошенко заявить российский пранкер представи...   \n",
       "118281  channel1101170442  израиль сообщить что завершить испытание морск...   \n",
       "118282  channel1101170442  пожар на московский рынок садовод потушить он ...   \n",
       "\n",
       "                       date  \n",
       "0       2017-02-28 19:55:32  \n",
       "1       2017-03-03 18:33:24  \n",
       "2       2017-03-09 17:11:06  \n",
       "3       2017-03-14 11:13:27  \n",
       "4       2017-03-14 19:49:56  \n",
       "...                     ...  \n",
       "118278  2022-11-17 15:54:29  \n",
       "118279  2022-11-17 15:57:53  \n",
       "118280  2022-11-17 16:06:13  \n",
       "118281  2022-11-17 16:06:57  \n",
       "118282  2022-11-17 16:08:27  \n",
       "\n",
       "[118283 rows x 3 columns]"
      ]
     },
     "execution_count": 18,
     "metadata": {},
     "output_type": "execute_result"
    }
   ],
   "source": [
    "df_normal"
   ]
  },
  {
   "cell_type": "markdown",
   "id": "42074e02",
   "metadata": {},
   "source": [
    "# Tokenizing"
   ]
  },
  {
   "cell_type": "code",
   "execution_count": 19,
   "id": "f02edcfc",
   "metadata": {},
   "outputs": [],
   "source": [
    "df['message'] = df['message'].apply(lambda x: ' '.join([word for word in x.split() if word not in (stopsRUS)]))"
   ]
  },
  {
   "cell_type": "code",
   "execution_count": 20,
   "id": "60070a45",
   "metadata": {},
   "outputs": [],
   "source": [
    "df_tokenized = df_without_emoji\n",
    "def tokenize(column):\n",
    "    tokens = nltk.word_tokenize(column)\n",
    "    return [w for w in tokens if w.isalpha()]\n",
    "\n",
    "df_tokenized['tokenized'] = df_tokenized.apply(lambda x: tokenize(x['message']), axis=1)"
   ]
  },
  {
   "cell_type": "code",
   "execution_count": 21,
   "id": "417abcce",
   "metadata": {},
   "outputs": [
    {
     "data": {
      "text/html": [
       "<div>\n",
       "<style scoped>\n",
       "    .dataframe tbody tr th:only-of-type {\n",
       "        vertical-align: middle;\n",
       "    }\n",
       "\n",
       "    .dataframe tbody tr th {\n",
       "        vertical-align: top;\n",
       "    }\n",
       "\n",
       "    .dataframe thead th {\n",
       "        text-align: right;\n",
       "    }\n",
       "</style>\n",
       "<table border=\"1\" class=\"dataframe\">\n",
       "  <thead>\n",
       "    <tr style=\"text-align: right;\">\n",
       "      <th></th>\n",
       "      <th>from_id</th>\n",
       "      <th>message</th>\n",
       "      <th>date</th>\n",
       "      <th>tokenized</th>\n",
       "    </tr>\n",
       "  </thead>\n",
       "  <tbody>\n",
       "    <tr>\n",
       "      <th>0</th>\n",
       "      <td>channel1101170442</td>\n",
       "      <td>приветствовать весь наш telegram-канал курс кл...</td>\n",
       "      <td>2017-02-28 19:55:32</td>\n",
       "      <td>[приветствовать, весь, наш, курс, ключевой, со...</td>\n",
       "    </tr>\n",
       "    <tr>\n",
       "      <th>1</th>\n",
       "      <td>channel1101170442</td>\n",
       "      <td>награждение победительница конкурс красота сре...</td>\n",
       "      <td>2017-03-03 18:33:24</td>\n",
       "      <td>[награждение, победительница, конкурс, красота...</td>\n",
       "    </tr>\n",
       "    <tr>\n",
       "      <th>2</th>\n",
       "      <td>channel1101170442</td>\n",
       "      <td>американский селекционер джастин кобылка потра...</td>\n",
       "      <td>2017-03-09 17:11:06</td>\n",
       "      <td>[американский, селекционер, джастин, кобылка, ...</td>\n",
       "    </tr>\n",
       "    <tr>\n",
       "      <th>3</th>\n",
       "      <td>channel1101170442</td>\n",
       "      <td>участие россия конкурс евровидение</td>\n",
       "      <td>2017-03-14 11:13:27</td>\n",
       "      <td>[участие, россия, конкурс, евровидение]</td>\n",
       "    </tr>\n",
       "    <tr>\n",
       "      <th>4</th>\n",
       "      <td>channel1101170442</td>\n",
       "      <td>не болеть друг</td>\n",
       "      <td>2017-03-14 19:49:56</td>\n",
       "      <td>[не, болеть, друг]</td>\n",
       "    </tr>\n",
       "    <tr>\n",
       "      <th>...</th>\n",
       "      <td>...</td>\n",
       "      <td>...</td>\n",
       "      <td>...</td>\n",
       "      <td>...</td>\n",
       "    </tr>\n",
       "    <tr>\n",
       "      <th>118278</th>\n",
       "      <td>channel1101170442</td>\n",
       "      <td>брифинг минобороны россия</td>\n",
       "      <td>2022-11-17 15:54:29</td>\n",
       "      <td>[брифинг, минобороны, россия]</td>\n",
       "    </tr>\n",
       "    <tr>\n",
       "      <th>118279</th>\n",
       "      <td>channel1101170442</td>\n",
       "      <td>украинский эксперт допустить место падение рак...</td>\n",
       "      <td>2022-11-17 15:57:53</td>\n",
       "      <td>[украинский, эксперт, допустить, место, падени...</td>\n",
       "    </tr>\n",
       "    <tr>\n",
       "      <th>118280</th>\n",
       "      <td>channel1101170442</td>\n",
       "      <td>порошенко заявить российский пранкер представи...</td>\n",
       "      <td>2022-11-17 16:06:13</td>\n",
       "      <td>[порошенко, заявить, российский, пранкер, пред...</td>\n",
       "    </tr>\n",
       "    <tr>\n",
       "      <th>118281</th>\n",
       "      <td>channel1101170442</td>\n",
       "      <td>израиль сообщить завершить испытание морской с...</td>\n",
       "      <td>2022-11-17 16:06:57</td>\n",
       "      <td>[израиль, сообщить, завершить, испытание, морс...</td>\n",
       "    </tr>\n",
       "    <tr>\n",
       "      <th>118282</th>\n",
       "      <td>channel1101170442</td>\n",
       "      <td>пожар московский рынок садовод потушить площад...</td>\n",
       "      <td>2022-11-17 16:08:27</td>\n",
       "      <td>[пожар, московский, рынок, садовод, потушить, ...</td>\n",
       "    </tr>\n",
       "  </tbody>\n",
       "</table>\n",
       "<p>118283 rows × 4 columns</p>\n",
       "</div>"
      ],
      "text/plain": [
       "                  from_id                                            message  \\\n",
       "0       channel1101170442  приветствовать весь наш telegram-канал курс кл...   \n",
       "1       channel1101170442  награждение победительница конкурс красота сре...   \n",
       "2       channel1101170442  американский селекционер джастин кобылка потра...   \n",
       "3       channel1101170442                 участие россия конкурс евровидение   \n",
       "4       channel1101170442                                     не болеть друг   \n",
       "...                   ...                                                ...   \n",
       "118278  channel1101170442                          брифинг минобороны россия   \n",
       "118279  channel1101170442  украинский эксперт допустить место падение рак...   \n",
       "118280  channel1101170442  порошенко заявить российский пранкер представи...   \n",
       "118281  channel1101170442  израиль сообщить завершить испытание морской с...   \n",
       "118282  channel1101170442  пожар московский рынок садовод потушить площад...   \n",
       "\n",
       "                       date                                          tokenized  \n",
       "0       2017-02-28 19:55:32  [приветствовать, весь, наш, курс, ключевой, со...  \n",
       "1       2017-03-03 18:33:24  [награждение, победительница, конкурс, красота...  \n",
       "2       2017-03-09 17:11:06  [американский, селекционер, джастин, кобылка, ...  \n",
       "3       2017-03-14 11:13:27            [участие, россия, конкурс, евровидение]  \n",
       "4       2017-03-14 19:49:56                                 [не, болеть, друг]  \n",
       "...                     ...                                                ...  \n",
       "118278  2022-11-17 15:54:29                      [брифинг, минобороны, россия]  \n",
       "118279  2022-11-17 15:57:53  [украинский, эксперт, допустить, место, падени...  \n",
       "118280  2022-11-17 16:06:13  [порошенко, заявить, российский, пранкер, пред...  \n",
       "118281  2022-11-17 16:06:57  [израиль, сообщить, завершить, испытание, морс...  \n",
       "118282  2022-11-17 16:08:27  [пожар, московский, рынок, садовод, потушить, ...  \n",
       "\n",
       "[118283 rows x 4 columns]"
      ]
     },
     "execution_count": 21,
     "metadata": {},
     "output_type": "execute_result"
    }
   ],
   "source": [
    "df_tokenized"
   ]
  },
  {
   "cell_type": "markdown",
   "id": "23ea2b5e",
   "metadata": {},
   "source": [
    "# word2vec"
   ]
  },
  {
   "cell_type": "code",
   "execution_count": 23,
   "id": "592b5d63",
   "metadata": {},
   "outputs": [
    {
     "name": "stdout",
     "output_type": "stream",
     "text": [
      "Collecting gensim\n",
      "  Downloading gensim-4.3.1-cp310-cp310-macosx_11_0_arm64.whl (24.0 MB)\n",
      "\u001b[2K     \u001b[90m━━━━━━━━━━━━━━━━━━━━━━━━━━━━━━━━━━━━━━━━\u001b[0m \u001b[32m24.0/24.0 MB\u001b[0m \u001b[31m6.1 MB/s\u001b[0m eta \u001b[36m0:00:00\u001b[0m00:01\u001b[0m00:01\u001b[0m\n",
      "\u001b[?25hRequirement already satisfied: smart-open>=1.8.1 in /Library/Frameworks/Python.framework/Versions/3.10/lib/python3.10/site-packages (from gensim) (6.3.0)\n",
      "Requirement already satisfied: scipy>=1.7.0 in /Library/Frameworks/Python.framework/Versions/3.10/lib/python3.10/site-packages (from gensim) (1.9.2)\n",
      "Requirement already satisfied: numpy>=1.18.5 in /Library/Frameworks/Python.framework/Versions/3.10/lib/python3.10/site-packages (from gensim) (1.23.4)\n",
      "Installing collected packages: gensim\n",
      "Successfully installed gensim-4.3.1\n",
      "\n",
      "\u001b[1m[\u001b[0m\u001b[34;49mnotice\u001b[0m\u001b[1;39;49m]\u001b[0m\u001b[39;49m A new release of pip available: \u001b[0m\u001b[31;49m22.2.2\u001b[0m\u001b[39;49m -> \u001b[0m\u001b[32;49m23.0.1\u001b[0m\n",
      "\u001b[1m[\u001b[0m\u001b[34;49mnotice\u001b[0m\u001b[1;39;49m]\u001b[0m\u001b[39;49m To update, run: \u001b[0m\u001b[32;49mpip3 install --upgrade pip\u001b[0m\n",
      "Note: you may need to restart the kernel to use updated packages.\n"
     ]
    }
   ],
   "source": [
    "pip install gensim"
   ]
  },
  {
   "cell_type": "code",
   "execution_count": 30,
   "id": "1cd2313a",
   "metadata": {},
   "outputs": [
    {
     "name": "stdout",
     "output_type": "stream",
     "text": [
      "[==================================================] 100.0% 198.8/198.8MB downloaded\n"
     ]
    }
   ],
   "source": [
    "import gensim.downloader as api\n",
    "\n",
    "model = api.load(\"word2vec-ruscorpora-300\")"
   ]
  },
  {
   "cell_type": "code",
   "execution_count": 35,
   "id": "c01760cd",
   "metadata": {},
   "outputs": [],
   "source": [
    "import numpy as np"
   ]
  },
  {
   "cell_type": "code",
   "execution_count": 36,
   "id": "9ddceb1c",
   "metadata": {},
   "outputs": [],
   "source": [
    "def vectorize_message(message):\n",
    "    # разбиваем сообщение на слова\n",
    "    words = message.split()\n",
    "    # получаем вектор для каждого слова в сообщении и усредняем их\n",
    "    vectors = [model[word] for word in words if word in model]\n",
    "    if vectors:\n",
    "        return np.mean(vectors, axis=0)\n",
    "    else:\n",
    "        return np.zeros(model.vector_size)"
   ]
  },
  {
   "cell_type": "code",
   "execution_count": 37,
   "id": "ca55bda5",
   "metadata": {},
   "outputs": [],
   "source": [
    "df_tokenized['message_vector'] = df_tokenized['message'].apply(vectorize_message)"
   ]
  },
  {
   "cell_type": "code",
   "execution_count": 38,
   "id": "9e109fb4",
   "metadata": {},
   "outputs": [
    {
     "data": {
      "text/html": [
       "<div>\n",
       "<style scoped>\n",
       "    .dataframe tbody tr th:only-of-type {\n",
       "        vertical-align: middle;\n",
       "    }\n",
       "\n",
       "    .dataframe tbody tr th {\n",
       "        vertical-align: top;\n",
       "    }\n",
       "\n",
       "    .dataframe thead th {\n",
       "        text-align: right;\n",
       "    }\n",
       "</style>\n",
       "<table border=\"1\" class=\"dataframe\">\n",
       "  <thead>\n",
       "    <tr style=\"text-align: right;\">\n",
       "      <th></th>\n",
       "      <th>from_id</th>\n",
       "      <th>message</th>\n",
       "      <th>date</th>\n",
       "      <th>tokenized</th>\n",
       "      <th>message_vector</th>\n",
       "    </tr>\n",
       "  </thead>\n",
       "  <tbody>\n",
       "    <tr>\n",
       "      <th>0</th>\n",
       "      <td>channel1101170442</td>\n",
       "      <td>приветствовать весь наш telegram-канал курс кл...</td>\n",
       "      <td>2017-02-28 19:55:32</td>\n",
       "      <td>[приветствовать, весь, наш, курс, ключевой, со...</td>\n",
       "      <td>[0.0, 0.0, 0.0, 0.0, 0.0, 0.0, 0.0, 0.0, 0.0, ...</td>\n",
       "    </tr>\n",
       "    <tr>\n",
       "      <th>1</th>\n",
       "      <td>channel1101170442</td>\n",
       "      <td>награждение победительница конкурс красота сре...</td>\n",
       "      <td>2017-03-03 18:33:24</td>\n",
       "      <td>[награждение, победительница, конкурс, красота...</td>\n",
       "      <td>[0.0, 0.0, 0.0, 0.0, 0.0, 0.0, 0.0, 0.0, 0.0, ...</td>\n",
       "    </tr>\n",
       "    <tr>\n",
       "      <th>2</th>\n",
       "      <td>channel1101170442</td>\n",
       "      <td>американский селекционер джастин кобылка потра...</td>\n",
       "      <td>2017-03-09 17:11:06</td>\n",
       "      <td>[американский, селекционер, джастин, кобылка, ...</td>\n",
       "      <td>[0.0, 0.0, 0.0, 0.0, 0.0, 0.0, 0.0, 0.0, 0.0, ...</td>\n",
       "    </tr>\n",
       "    <tr>\n",
       "      <th>3</th>\n",
       "      <td>channel1101170442</td>\n",
       "      <td>участие россия конкурс евровидение</td>\n",
       "      <td>2017-03-14 11:13:27</td>\n",
       "      <td>[участие, россия, конкурс, евровидение]</td>\n",
       "      <td>[0.0, 0.0, 0.0, 0.0, 0.0, 0.0, 0.0, 0.0, 0.0, ...</td>\n",
       "    </tr>\n",
       "    <tr>\n",
       "      <th>4</th>\n",
       "      <td>channel1101170442</td>\n",
       "      <td>не болеть друг</td>\n",
       "      <td>2017-03-14 19:49:56</td>\n",
       "      <td>[не, болеть, друг]</td>\n",
       "      <td>[0.0, 0.0, 0.0, 0.0, 0.0, 0.0, 0.0, 0.0, 0.0, ...</td>\n",
       "    </tr>\n",
       "    <tr>\n",
       "      <th>...</th>\n",
       "      <td>...</td>\n",
       "      <td>...</td>\n",
       "      <td>...</td>\n",
       "      <td>...</td>\n",
       "      <td>...</td>\n",
       "    </tr>\n",
       "    <tr>\n",
       "      <th>118278</th>\n",
       "      <td>channel1101170442</td>\n",
       "      <td>брифинг минобороны россия</td>\n",
       "      <td>2022-11-17 15:54:29</td>\n",
       "      <td>[брифинг, минобороны, россия]</td>\n",
       "      <td>[0.0, 0.0, 0.0, 0.0, 0.0, 0.0, 0.0, 0.0, 0.0, ...</td>\n",
       "    </tr>\n",
       "    <tr>\n",
       "      <th>118279</th>\n",
       "      <td>channel1101170442</td>\n",
       "      <td>украинский эксперт допустить место падение рак...</td>\n",
       "      <td>2022-11-17 15:57:53</td>\n",
       "      <td>[украинский, эксперт, допустить, место, падени...</td>\n",
       "      <td>[0.0, 0.0, 0.0, 0.0, 0.0, 0.0, 0.0, 0.0, 0.0, ...</td>\n",
       "    </tr>\n",
       "    <tr>\n",
       "      <th>118280</th>\n",
       "      <td>channel1101170442</td>\n",
       "      <td>порошенко заявить российский пранкер представи...</td>\n",
       "      <td>2022-11-17 16:06:13</td>\n",
       "      <td>[порошенко, заявить, российский, пранкер, пред...</td>\n",
       "      <td>[0.0, 0.0, 0.0, 0.0, 0.0, 0.0, 0.0, 0.0, 0.0, ...</td>\n",
       "    </tr>\n",
       "    <tr>\n",
       "      <th>118281</th>\n",
       "      <td>channel1101170442</td>\n",
       "      <td>израиль сообщить завершить испытание морской с...</td>\n",
       "      <td>2022-11-17 16:06:57</td>\n",
       "      <td>[израиль, сообщить, завершить, испытание, морс...</td>\n",
       "      <td>[0.0, 0.0, 0.0, 0.0, 0.0, 0.0, 0.0, 0.0, 0.0, ...</td>\n",
       "    </tr>\n",
       "    <tr>\n",
       "      <th>118282</th>\n",
       "      <td>channel1101170442</td>\n",
       "      <td>пожар московский рынок садовод потушить площад...</td>\n",
       "      <td>2022-11-17 16:08:27</td>\n",
       "      <td>[пожар, московский, рынок, садовод, потушить, ...</td>\n",
       "      <td>[0.0, 0.0, 0.0, 0.0, 0.0, 0.0, 0.0, 0.0, 0.0, ...</td>\n",
       "    </tr>\n",
       "  </tbody>\n",
       "</table>\n",
       "<p>118283 rows × 5 columns</p>\n",
       "</div>"
      ],
      "text/plain": [
       "                  from_id                                            message  \\\n",
       "0       channel1101170442  приветствовать весь наш telegram-канал курс кл...   \n",
       "1       channel1101170442  награждение победительница конкурс красота сре...   \n",
       "2       channel1101170442  американский селекционер джастин кобылка потра...   \n",
       "3       channel1101170442                 участие россия конкурс евровидение   \n",
       "4       channel1101170442                                     не болеть друг   \n",
       "...                   ...                                                ...   \n",
       "118278  channel1101170442                          брифинг минобороны россия   \n",
       "118279  channel1101170442  украинский эксперт допустить место падение рак...   \n",
       "118280  channel1101170442  порошенко заявить российский пранкер представи...   \n",
       "118281  channel1101170442  израиль сообщить завершить испытание морской с...   \n",
       "118282  channel1101170442  пожар московский рынок садовод потушить площад...   \n",
       "\n",
       "                       date  \\\n",
       "0       2017-02-28 19:55:32   \n",
       "1       2017-03-03 18:33:24   \n",
       "2       2017-03-09 17:11:06   \n",
       "3       2017-03-14 11:13:27   \n",
       "4       2017-03-14 19:49:56   \n",
       "...                     ...   \n",
       "118278  2022-11-17 15:54:29   \n",
       "118279  2022-11-17 15:57:53   \n",
       "118280  2022-11-17 16:06:13   \n",
       "118281  2022-11-17 16:06:57   \n",
       "118282  2022-11-17 16:08:27   \n",
       "\n",
       "                                                tokenized  \\\n",
       "0       [приветствовать, весь, наш, курс, ключевой, со...   \n",
       "1       [награждение, победительница, конкурс, красота...   \n",
       "2       [американский, селекционер, джастин, кобылка, ...   \n",
       "3                 [участие, россия, конкурс, евровидение]   \n",
       "4                                      [не, болеть, друг]   \n",
       "...                                                   ...   \n",
       "118278                      [брифинг, минобороны, россия]   \n",
       "118279  [украинский, эксперт, допустить, место, падени...   \n",
       "118280  [порошенко, заявить, российский, пранкер, пред...   \n",
       "118281  [израиль, сообщить, завершить, испытание, морс...   \n",
       "118282  [пожар, московский, рынок, садовод, потушить, ...   \n",
       "\n",
       "                                           message_vector  \n",
       "0       [0.0, 0.0, 0.0, 0.0, 0.0, 0.0, 0.0, 0.0, 0.0, ...  \n",
       "1       [0.0, 0.0, 0.0, 0.0, 0.0, 0.0, 0.0, 0.0, 0.0, ...  \n",
       "2       [0.0, 0.0, 0.0, 0.0, 0.0, 0.0, 0.0, 0.0, 0.0, ...  \n",
       "3       [0.0, 0.0, 0.0, 0.0, 0.0, 0.0, 0.0, 0.0, 0.0, ...  \n",
       "4       [0.0, 0.0, 0.0, 0.0, 0.0, 0.0, 0.0, 0.0, 0.0, ...  \n",
       "...                                                   ...  \n",
       "118278  [0.0, 0.0, 0.0, 0.0, 0.0, 0.0, 0.0, 0.0, 0.0, ...  \n",
       "118279  [0.0, 0.0, 0.0, 0.0, 0.0, 0.0, 0.0, 0.0, 0.0, ...  \n",
       "118280  [0.0, 0.0, 0.0, 0.0, 0.0, 0.0, 0.0, 0.0, 0.0, ...  \n",
       "118281  [0.0, 0.0, 0.0, 0.0, 0.0, 0.0, 0.0, 0.0, 0.0, ...  \n",
       "118282  [0.0, 0.0, 0.0, 0.0, 0.0, 0.0, 0.0, 0.0, 0.0, ...  \n",
       "\n",
       "[118283 rows x 5 columns]"
      ]
     },
     "execution_count": 38,
     "metadata": {},
     "output_type": "execute_result"
    }
   ],
   "source": [
    "df_tokenized"
   ]
  },
  {
   "cell_type": "code",
   "execution_count": 40,
   "id": "2592ef5b",
   "metadata": {},
   "outputs": [],
   "source": [
    "vord2vec_matrix = np.array(df_tokenized['message_vector'].tolist())"
   ]
  },
  {
   "cell_type": "code",
   "execution_count": 41,
   "id": "9bb7fa72",
   "metadata": {},
   "outputs": [],
   "source": [
    "from scipy.spatial.distance import cdist"
   ]
  },
  {
   "cell_type": "code",
   "execution_count": 42,
   "id": "e0ab4d08",
   "metadata": {},
   "outputs": [],
   "source": [
    "x_small_row = []\n",
    "x_small_col = []\n",
    "\n",
    "for i in range(100, 199):\n",
    "    for j in range(100, 199):\n",
    "        x_small_row.append(vord2vec_matrix[i][j])\n",
    "    x_small_col.append(x_small_row)\n",
    "    x_small_row = []"
   ]
  },
  {
   "cell_type": "code",
   "execution_count": 43,
   "id": "2f1ec7bb",
   "metadata": {},
   "outputs": [],
   "source": [
    "cosine_simularities_2 = cdist(x_small_col, x_small_col, 'euclidean')"
   ]
  },
  {
   "cell_type": "code",
   "execution_count": null,
   "id": "c6ff0b0c",
   "metadata": {
    "collapsed": true
   },
   "outputs": [],
   "source": []
  },
  {
   "cell_type": "code",
   "execution_count": null,
   "id": "87864759",
   "metadata": {},
   "outputs": [],
   "source": []
  },
  {
   "cell_type": "code",
   "execution_count": null,
   "id": "d725ef40",
   "metadata": {},
   "outputs": [],
   "source": []
  },
  {
   "cell_type": "code",
   "execution_count": null,
   "id": "c049c8ed",
   "metadata": {},
   "outputs": [],
   "source": []
  },
  {
   "cell_type": "markdown",
   "id": "e3faae8e",
   "metadata": {},
   "source": [
    "# spaCY"
   ]
  },
  {
   "cell_type": "code",
   "execution_count": 27,
   "id": "5befd245",
   "metadata": {},
   "outputs": [
    {
     "name": "stdout",
     "output_type": "stream",
     "text": [
      "Requirement already satisfied: spacy in /Library/Frameworks/Python.framework/Versions/3.10/lib/python3.10/site-packages (3.1.7)\n",
      "Requirement already satisfied: thinc<8.1.0,>=8.0.12 in /Library/Frameworks/Python.framework/Versions/3.10/lib/python3.10/site-packages (from spacy) (8.0.17)\n",
      "Requirement already satisfied: spacy-legacy<3.1.0,>=3.0.8 in /Library/Frameworks/Python.framework/Versions/3.10/lib/python3.10/site-packages (from spacy) (3.0.12)\n",
      "Requirement already satisfied: jinja2 in /Library/Frameworks/Python.framework/Versions/3.10/lib/python3.10/site-packages (from spacy) (3.1.2)\n",
      "Requirement already satisfied: srsly<3.0.0,>=2.4.1 in /Library/Frameworks/Python.framework/Versions/3.10/lib/python3.10/site-packages (from spacy) (2.4.6)\n",
      "Requirement already satisfied: numpy>=1.15.0 in /Library/Frameworks/Python.framework/Versions/3.10/lib/python3.10/site-packages (from spacy) (1.23.4)\n",
      "Requirement already satisfied: wasabi<1.1.0,>=0.8.1 in /Library/Frameworks/Python.framework/Versions/3.10/lib/python3.10/site-packages (from spacy) (0.10.1)\n",
      "Requirement already satisfied: typer<0.5.0,>=0.3.0 in /Library/Frameworks/Python.framework/Versions/3.10/lib/python3.10/site-packages (from spacy) (0.4.2)\n",
      "Requirement already satisfied: packaging>=20.0 in /Library/Frameworks/Python.framework/Versions/3.10/lib/python3.10/site-packages (from spacy) (21.3)\n",
      "Requirement already satisfied: catalogue<2.1.0,>=2.0.6 in /Library/Frameworks/Python.framework/Versions/3.10/lib/python3.10/site-packages (from spacy) (2.0.8)\n",
      "Requirement already satisfied: blis<0.8.0,>=0.4.0 in /Library/Frameworks/Python.framework/Versions/3.10/lib/python3.10/site-packages (from spacy) (0.7.9)\n",
      "Requirement already satisfied: pydantic!=1.8,!=1.8.1,<1.9.0,>=1.7.4 in /Library/Frameworks/Python.framework/Versions/3.10/lib/python3.10/site-packages (from spacy) (1.8.2)\n",
      "Requirement already satisfied: tqdm<5.0.0,>=4.38.0 in /Library/Frameworks/Python.framework/Versions/3.10/lib/python3.10/site-packages (from spacy) (4.64.1)\n",
      "Requirement already satisfied: murmurhash<1.1.0,>=0.28.0 in /Library/Frameworks/Python.framework/Versions/3.10/lib/python3.10/site-packages (from spacy) (1.0.9)\n",
      "Requirement already satisfied: preshed<3.1.0,>=3.0.2 in /Library/Frameworks/Python.framework/Versions/3.10/lib/python3.10/site-packages (from spacy) (3.0.8)\n",
      "Requirement already satisfied: requests<3.0.0,>=2.13.0 in /Library/Frameworks/Python.framework/Versions/3.10/lib/python3.10/site-packages (from spacy) (2.28.2)\n",
      "Requirement already satisfied: pathy>=0.3.5 in /Library/Frameworks/Python.framework/Versions/3.10/lib/python3.10/site-packages (from spacy) (0.10.1)\n",
      "Requirement already satisfied: smart-open<7.0.0,>=5.2.1 in /Library/Frameworks/Python.framework/Versions/3.10/lib/python3.10/site-packages (from spacy) (6.3.0)\n",
      "Requirement already satisfied: setuptools in /Library/Frameworks/Python.framework/Versions/3.10/lib/python3.10/site-packages (from spacy) (63.2.0)\n",
      "Requirement already satisfied: cymem<2.1.0,>=2.0.2 in /Library/Frameworks/Python.framework/Versions/3.10/lib/python3.10/site-packages (from spacy) (2.0.7)\n",
      "Requirement already satisfied: pyparsing!=3.0.5,>=2.0.2 in /Library/Frameworks/Python.framework/Versions/3.10/lib/python3.10/site-packages (from packaging>=20.0->spacy) (3.0.9)\n",
      "Requirement already satisfied: typing-extensions>=3.7.4.3 in /Library/Frameworks/Python.framework/Versions/3.10/lib/python3.10/site-packages (from pydantic!=1.8,!=1.8.1,<1.9.0,>=1.7.4->spacy) (4.5.0)\n",
      "Requirement already satisfied: certifi>=2017.4.17 in /Library/Frameworks/Python.framework/Versions/3.10/lib/python3.10/site-packages (from requests<3.0.0,>=2.13.0->spacy) (2022.12.7)\n",
      "Requirement already satisfied: idna<4,>=2.5 in /Library/Frameworks/Python.framework/Versions/3.10/lib/python3.10/site-packages (from requests<3.0.0,>=2.13.0->spacy) (3.4)\n",
      "Requirement already satisfied: urllib3<1.27,>=1.21.1 in /Library/Frameworks/Python.framework/Versions/3.10/lib/python3.10/site-packages (from requests<3.0.0,>=2.13.0->spacy) (1.26.14)\n",
      "Requirement already satisfied: charset-normalizer<4,>=2 in /Library/Frameworks/Python.framework/Versions/3.10/lib/python3.10/site-packages (from requests<3.0.0,>=2.13.0->spacy) (3.0.1)\n",
      "Requirement already satisfied: click<9.0.0,>=7.1.1 in /Library/Frameworks/Python.framework/Versions/3.10/lib/python3.10/site-packages (from typer<0.5.0,>=0.3.0->spacy) (8.1.3)\n",
      "Requirement already satisfied: MarkupSafe>=2.0 in /Library/Frameworks/Python.framework/Versions/3.10/lib/python3.10/site-packages (from jinja2->spacy) (2.1.1)\n",
      "\n",
      "\u001b[1m[\u001b[0m\u001b[34;49mnotice\u001b[0m\u001b[1;39;49m]\u001b[0m\u001b[39;49m A new release of pip available: \u001b[0m\u001b[31;49m22.2.2\u001b[0m\u001b[39;49m -> \u001b[0m\u001b[32;49m23.0.1\u001b[0m\n",
      "\u001b[1m[\u001b[0m\u001b[34;49mnotice\u001b[0m\u001b[1;39;49m]\u001b[0m\u001b[39;49m To update, run: \u001b[0m\u001b[32;49mpip3 install --upgrade pip\u001b[0m\n",
      "Note: you may need to restart the kernel to use updated packages.\n"
     ]
    }
   ],
   "source": [
    "pip install spacy\n"
   ]
  },
  {
   "cell_type": "code",
   "execution_count": 28,
   "id": "d9489d18",
   "metadata": {},
   "outputs": [
    {
     "name": "stdout",
     "output_type": "stream",
     "text": [
      "Collecting https://github.com/explosion/spacy-models/releases/download/ru_core_news_sm-3.1.0/ru_core_news_sm-3.1.0.tar.gz\n",
      "  Downloading https://github.com/explosion/spacy-models/releases/download/ru_core_news_sm-3.1.0/ru_core_news_sm-3.1.0.tar.gz (15.9 MB)\n",
      "\u001b[2K     \u001b[90m━━━━━━━━━━━━━━━━━━━━━━━━━━━━━━━━━━━━━━━━\u001b[0m \u001b[32m15.9/15.9 MB\u001b[0m \u001b[31m4.4 MB/s\u001b[0m eta \u001b[36m0:00:00\u001b[0m00:01\u001b[0m00:01\u001b[0m\n",
      "\u001b[?25h  Preparing metadata (setup.py) ... \u001b[?25ldone\n",
      "\u001b[?25hRequirement already satisfied: spacy<3.2.0,>=3.1.0 in /Library/Frameworks/Python.framework/Versions/3.10/lib/python3.10/site-packages (from ru-core-news-sm==3.1.0) (3.1.7)\n",
      "Requirement already satisfied: pymorphy2>=0.9 in /Library/Frameworks/Python.framework/Versions/3.10/lib/python3.10/site-packages (from ru-core-news-sm==3.1.0) (0.9.1)\n",
      "Requirement already satisfied: docopt>=0.6 in /Library/Frameworks/Python.framework/Versions/3.10/lib/python3.10/site-packages (from pymorphy2>=0.9->ru-core-news-sm==3.1.0) (0.6.2)\n",
      "Requirement already satisfied: pymorphy2-dicts-ru<3.0,>=2.4 in /Library/Frameworks/Python.framework/Versions/3.10/lib/python3.10/site-packages (from pymorphy2>=0.9->ru-core-news-sm==3.1.0) (2.4.417127.4579844)\n",
      "Requirement already satisfied: dawg-python>=0.7.1 in /Library/Frameworks/Python.framework/Versions/3.10/lib/python3.10/site-packages (from pymorphy2>=0.9->ru-core-news-sm==3.1.0) (0.7.2)\n",
      "Requirement already satisfied: preshed<3.1.0,>=3.0.2 in /Library/Frameworks/Python.framework/Versions/3.10/lib/python3.10/site-packages (from spacy<3.2.0,>=3.1.0->ru-core-news-sm==3.1.0) (3.0.8)\n",
      "Requirement already satisfied: pydantic!=1.8,!=1.8.1,<1.9.0,>=1.7.4 in /Library/Frameworks/Python.framework/Versions/3.10/lib/python3.10/site-packages (from spacy<3.2.0,>=3.1.0->ru-core-news-sm==3.1.0) (1.8.2)\n",
      "Requirement already satisfied: blis<0.8.0,>=0.4.0 in /Library/Frameworks/Python.framework/Versions/3.10/lib/python3.10/site-packages (from spacy<3.2.0,>=3.1.0->ru-core-news-sm==3.1.0) (0.7.9)\n",
      "Requirement already satisfied: requests<3.0.0,>=2.13.0 in /Library/Frameworks/Python.framework/Versions/3.10/lib/python3.10/site-packages (from spacy<3.2.0,>=3.1.0->ru-core-news-sm==3.1.0) (2.28.2)\n",
      "Requirement already satisfied: wasabi<1.1.0,>=0.8.1 in /Library/Frameworks/Python.framework/Versions/3.10/lib/python3.10/site-packages (from spacy<3.2.0,>=3.1.0->ru-core-news-sm==3.1.0) (0.10.1)\n",
      "Requirement already satisfied: smart-open<7.0.0,>=5.2.1 in /Library/Frameworks/Python.framework/Versions/3.10/lib/python3.10/site-packages (from spacy<3.2.0,>=3.1.0->ru-core-news-sm==3.1.0) (6.3.0)\n",
      "Requirement already satisfied: tqdm<5.0.0,>=4.38.0 in /Library/Frameworks/Python.framework/Versions/3.10/lib/python3.10/site-packages (from spacy<3.2.0,>=3.1.0->ru-core-news-sm==3.1.0) (4.64.1)\n",
      "Requirement already satisfied: jinja2 in /Library/Frameworks/Python.framework/Versions/3.10/lib/python3.10/site-packages (from spacy<3.2.0,>=3.1.0->ru-core-news-sm==3.1.0) (3.1.2)\n",
      "Requirement already satisfied: setuptools in /Library/Frameworks/Python.framework/Versions/3.10/lib/python3.10/site-packages (from spacy<3.2.0,>=3.1.0->ru-core-news-sm==3.1.0) (63.2.0)\n",
      "Requirement already satisfied: typer<0.5.0,>=0.3.0 in /Library/Frameworks/Python.framework/Versions/3.10/lib/python3.10/site-packages (from spacy<3.2.0,>=3.1.0->ru-core-news-sm==3.1.0) (0.4.2)\n",
      "Requirement already satisfied: packaging>=20.0 in /Library/Frameworks/Python.framework/Versions/3.10/lib/python3.10/site-packages (from spacy<3.2.0,>=3.1.0->ru-core-news-sm==3.1.0) (21.3)\n",
      "Requirement already satisfied: srsly<3.0.0,>=2.4.1 in /Library/Frameworks/Python.framework/Versions/3.10/lib/python3.10/site-packages (from spacy<3.2.0,>=3.1.0->ru-core-news-sm==3.1.0) (2.4.6)\n",
      "Requirement already satisfied: thinc<8.1.0,>=8.0.12 in /Library/Frameworks/Python.framework/Versions/3.10/lib/python3.10/site-packages (from spacy<3.2.0,>=3.1.0->ru-core-news-sm==3.1.0) (8.0.17)\n",
      "Requirement already satisfied: pathy>=0.3.5 in /Library/Frameworks/Python.framework/Versions/3.10/lib/python3.10/site-packages (from spacy<3.2.0,>=3.1.0->ru-core-news-sm==3.1.0) (0.10.1)\n",
      "Requirement already satisfied: cymem<2.1.0,>=2.0.2 in /Library/Frameworks/Python.framework/Versions/3.10/lib/python3.10/site-packages (from spacy<3.2.0,>=3.1.0->ru-core-news-sm==3.1.0) (2.0.7)\n",
      "Requirement already satisfied: murmurhash<1.1.0,>=0.28.0 in /Library/Frameworks/Python.framework/Versions/3.10/lib/python3.10/site-packages (from spacy<3.2.0,>=3.1.0->ru-core-news-sm==3.1.0) (1.0.9)\n",
      "Requirement already satisfied: numpy>=1.15.0 in /Library/Frameworks/Python.framework/Versions/3.10/lib/python3.10/site-packages (from spacy<3.2.0,>=3.1.0->ru-core-news-sm==3.1.0) (1.23.4)\n",
      "Requirement already satisfied: catalogue<2.1.0,>=2.0.6 in /Library/Frameworks/Python.framework/Versions/3.10/lib/python3.10/site-packages (from spacy<3.2.0,>=3.1.0->ru-core-news-sm==3.1.0) (2.0.8)\n",
      "Requirement already satisfied: spacy-legacy<3.1.0,>=3.0.8 in /Library/Frameworks/Python.framework/Versions/3.10/lib/python3.10/site-packages (from spacy<3.2.0,>=3.1.0->ru-core-news-sm==3.1.0) (3.0.12)\n",
      "Requirement already satisfied: pyparsing!=3.0.5,>=2.0.2 in /Library/Frameworks/Python.framework/Versions/3.10/lib/python3.10/site-packages (from packaging>=20.0->spacy<3.2.0,>=3.1.0->ru-core-news-sm==3.1.0) (3.0.9)\n",
      "Requirement already satisfied: typing-extensions>=3.7.4.3 in /Library/Frameworks/Python.framework/Versions/3.10/lib/python3.10/site-packages (from pydantic!=1.8,!=1.8.1,<1.9.0,>=1.7.4->spacy<3.2.0,>=3.1.0->ru-core-news-sm==3.1.0) (4.5.0)\n",
      "Requirement already satisfied: charset-normalizer<4,>=2 in /Library/Frameworks/Python.framework/Versions/3.10/lib/python3.10/site-packages (from requests<3.0.0,>=2.13.0->spacy<3.2.0,>=3.1.0->ru-core-news-sm==3.1.0) (3.0.1)\n",
      "Requirement already satisfied: certifi>=2017.4.17 in /Library/Frameworks/Python.framework/Versions/3.10/lib/python3.10/site-packages (from requests<3.0.0,>=2.13.0->spacy<3.2.0,>=3.1.0->ru-core-news-sm==3.1.0) (2022.12.7)\n",
      "Requirement already satisfied: idna<4,>=2.5 in /Library/Frameworks/Python.framework/Versions/3.10/lib/python3.10/site-packages (from requests<3.0.0,>=2.13.0->spacy<3.2.0,>=3.1.0->ru-core-news-sm==3.1.0) (3.4)\n",
      "Requirement already satisfied: urllib3<1.27,>=1.21.1 in /Library/Frameworks/Python.framework/Versions/3.10/lib/python3.10/site-packages (from requests<3.0.0,>=2.13.0->spacy<3.2.0,>=3.1.0->ru-core-news-sm==3.1.0) (1.26.14)\n",
      "Requirement already satisfied: click<9.0.0,>=7.1.1 in /Library/Frameworks/Python.framework/Versions/3.10/lib/python3.10/site-packages (from typer<0.5.0,>=0.3.0->spacy<3.2.0,>=3.1.0->ru-core-news-sm==3.1.0) (8.1.3)\n",
      "Requirement already satisfied: MarkupSafe>=2.0 in /Library/Frameworks/Python.framework/Versions/3.10/lib/python3.10/site-packages (from jinja2->spacy<3.2.0,>=3.1.0->ru-core-news-sm==3.1.0) (2.1.1)\n",
      "\n",
      "\u001b[1m[\u001b[0m\u001b[34;49mnotice\u001b[0m\u001b[1;39;49m]\u001b[0m\u001b[39;49m A new release of pip available: \u001b[0m\u001b[31;49m22.2.2\u001b[0m\u001b[39;49m -> \u001b[0m\u001b[32;49m23.0.1\u001b[0m\n",
      "\u001b[1m[\u001b[0m\u001b[34;49mnotice\u001b[0m\u001b[1;39;49m]\u001b[0m\u001b[39;49m To update, run: \u001b[0m\u001b[32;49mpip3 install --upgrade pip\u001b[0m\n",
      "Note: you may need to restart the kernel to use updated packages.\n"
     ]
    }
   ],
   "source": [
    "pip install https://github.com/explosion/spacy-models/releases/download/ru_core_news_sm-3.1.0/ru_core_news_sm-3.1.0.tar.gz"
   ]
  },
  {
   "cell_type": "code",
   "execution_count": 29,
   "id": "7fd7ddb7",
   "metadata": {},
   "outputs": [],
   "source": [
    "import spacy"
   ]
  },
  {
   "cell_type": "code",
   "execution_count": 32,
   "id": "362e6be3",
   "metadata": {},
   "outputs": [],
   "source": [
    "nlp = spacy.load(\"ru_core_news_sm\")\n",
    "df_tokenized_2 = df_tokenized['message'].head(1000).apply(nlp)"
   ]
  },
  {
   "cell_type": "code",
   "execution_count": 33,
   "id": "c704ee38",
   "metadata": {},
   "outputs": [
    {
     "ename": "AttributeError",
     "evalue": "'str' object has no attribute 'vector'",
     "output_type": "error",
     "traceback": [
      "\u001b[0;31m---------------------------------------------------------------------------\u001b[0m",
      "\u001b[0;31mAttributeError\u001b[0m                            Traceback (most recent call last)",
      "Cell \u001b[0;32mIn [33], line 1\u001b[0m\n\u001b[0;32m----> 1\u001b[0m vectors_list \u001b[38;5;241m=\u001b[39m [token\u001b[38;5;241m.\u001b[39mvector \u001b[38;5;28;01mfor\u001b[39;00m message \u001b[38;5;129;01min\u001b[39;00m df_tokenized \u001b[38;5;28;01mfor\u001b[39;00m token \u001b[38;5;129;01min\u001b[39;00m message]\n",
      "Cell \u001b[0;32mIn [33], line 1\u001b[0m, in \u001b[0;36m<listcomp>\u001b[0;34m(.0)\u001b[0m\n\u001b[0;32m----> 1\u001b[0m vectors_list \u001b[38;5;241m=\u001b[39m [\u001b[43mtoken\u001b[49m\u001b[38;5;241;43m.\u001b[39;49m\u001b[43mvector\u001b[49m \u001b[38;5;28;01mfor\u001b[39;00m message \u001b[38;5;129;01min\u001b[39;00m df_tokenized \u001b[38;5;28;01mfor\u001b[39;00m token \u001b[38;5;129;01min\u001b[39;00m message]\n",
      "\u001b[0;31mAttributeError\u001b[0m: 'str' object has no attribute 'vector'"
     ]
    }
   ],
   "source": [
    "vectors_list = [token.vector for message in df_tokenized for token in message]"
   ]
  },
  {
   "cell_type": "code",
   "execution_count": 35,
   "id": "e0c83792",
   "metadata": {},
   "outputs": [
    {
     "data": {
      "text/plain": [
       "0      (приветствовать, весь, наш, telegram, -, канал...\n",
       "1      (награждение, победительница, конкурс, красота...\n",
       "2      (американский, селекционер, джастин, кобылка, ...\n",
       "3                (участие, россия, конкурс, евровидение)\n",
       "4                                     (не, болеть, друг)\n",
       "                             ...                        \n",
       "995    (президент, также, напомнить, жертва, пострада...\n",
       "996    (сша, испытать, крылатый, ракета, запретить, д...\n",
       "997    (пентагон, сообщить, испытанный, ракета, вариа...\n",
       "998    (пират, похитить, россиянин, берег, камерун, в...\n",
       "999    (заседание, суд, жалоба, продление, арест, кир...\n",
       "Name: message, Length: 1000, dtype: object"
      ]
     },
     "execution_count": 35,
     "metadata": {},
     "output_type": "execute_result"
    }
   ],
   "source": [
    "df_tokenized_2"
   ]
  },
  {
   "cell_type": "code",
   "execution_count": null,
   "id": "5777c10e",
   "metadata": {},
   "outputs": [],
   "source": []
  },
  {
   "cell_type": "code",
   "execution_count": null,
   "id": "954e77dc",
   "metadata": {},
   "outputs": [],
   "source": []
  },
  {
   "cell_type": "code",
   "execution_count": null,
   "id": "9a4e6605",
   "metadata": {},
   "outputs": [],
   "source": []
  },
  {
   "cell_type": "code",
   "execution_count": null,
   "id": "7d953728",
   "metadata": {},
   "outputs": [],
   "source": []
  },
  {
   "cell_type": "code",
   "execution_count": null,
   "id": "517864b7",
   "metadata": {},
   "outputs": [],
   "source": []
  },
  {
   "cell_type": "code",
   "execution_count": null,
   "id": "148fc677",
   "metadata": {},
   "outputs": [],
   "source": []
  },
  {
   "cell_type": "code",
   "execution_count": null,
   "id": "8d8e9d36",
   "metadata": {},
   "outputs": [],
   "source": []
  },
  {
   "cell_type": "code",
   "execution_count": null,
   "id": "420a849d",
   "metadata": {},
   "outputs": [],
   "source": []
  },
  {
   "cell_type": "code",
   "execution_count": null,
   "id": "a195574d",
   "metadata": {},
   "outputs": [],
   "source": []
  },
  {
   "cell_type": "markdown",
   "id": "0deb8862",
   "metadata": {},
   "source": [
    "# Tf idf tokenizing"
   ]
  },
  {
   "cell_type": "code",
   "execution_count": 22,
   "id": "0aa8a2f5",
   "metadata": {},
   "outputs": [],
   "source": [
    "from sklearn.feature_extraction.text import TfidfVectorizer"
   ]
  },
  {
   "cell_type": "code",
   "execution_count": 23,
   "id": "fbc97c06",
   "metadata": {},
   "outputs": [],
   "source": [
    "v = TfidfVectorizer()\n",
    "x = v.fit_transform(df_tokenized['message'])"
   ]
  },
  {
   "cell_type": "code",
   "execution_count": 24,
   "id": "d10cdd71",
   "metadata": {},
   "outputs": [
    {
     "name": "stdout",
     "output_type": "stream",
     "text": [
      "[0. 0. 0. ... 0. 0. 0.]\n"
     ]
    }
   ],
   "source": [
    "print(x.toarray()[1])"
   ]
  },
  {
   "cell_type": "code",
   "execution_count": 89,
   "id": "89b82f47",
   "metadata": {},
   "outputs": [
    {
     "data": {
      "text/plain": [
       "3.038988790620847"
      ]
     },
     "execution_count": 89,
     "metadata": {},
     "output_type": "execute_result"
    }
   ],
   "source": [
    "sum(x.toarray()[2])"
   ]
  },
  {
   "cell_type": "code",
   "execution_count": 25,
   "id": "45488a53",
   "metadata": {},
   "outputs": [
    {
     "data": {
      "text/plain": [
       "75907"
      ]
     },
     "execution_count": 25,
     "metadata": {},
     "output_type": "execute_result"
    }
   ],
   "source": [
    "len(x.toarray()[81])"
   ]
  },
  {
   "cell_type": "code",
   "execution_count": 26,
   "id": "2b8fdccb",
   "metadata": {},
   "outputs": [],
   "source": [
    "#pip install pca"
   ]
  },
  {
   "cell_type": "code",
   "execution_count": 28,
   "id": "d51320b0",
   "metadata": {},
   "outputs": [],
   "source": [
    "#from sklearn.decomposition import PCA"
   ]
  },
  {
   "cell_type": "markdown",
   "id": "278635f8",
   "metadata": {},
   "source": [
    "# Matrix of tf idf cosine simularities"
   ]
  },
  {
   "cell_type": "code",
   "execution_count": 29,
   "id": "7d303e54",
   "metadata": {},
   "outputs": [],
   "source": [
    "from sklearn.metrics.pairwise import linear_kernel"
   ]
  },
  {
   "cell_type": "code",
   "execution_count": 30,
   "id": "b3d8d6bd",
   "metadata": {},
   "outputs": [],
   "source": [
    "from scipy.spatial.distance import cdist"
   ]
  },
  {
   "cell_type": "code",
   "execution_count": 31,
   "id": "d6446283",
   "metadata": {},
   "outputs": [],
   "source": [
    "#cdist using cdist"
   ]
  },
  {
   "cell_type": "code",
   "execution_count": 32,
   "id": "693d1b0a",
   "metadata": {},
   "outputs": [],
   "source": [
    "x_array = x.toarray()"
   ]
  },
  {
   "cell_type": "code",
   "execution_count": 33,
   "id": "50e89a6f",
   "metadata": {},
   "outputs": [],
   "source": [
    "x_small_row = []\n",
    "x_small_col = []\n",
    "\n",
    "for i in range(100, 199):\n",
    "    for j in range(100, 199):\n",
    "        x_small_row.append(x_array[i][j])\n",
    "    x_small_col.append(x_small_row)\n",
    "    x_small_row = []"
   ]
  },
  {
   "cell_type": "code",
   "execution_count": null,
   "id": "5a40f5c7",
   "metadata": {},
   "outputs": [],
   "source": []
  },
  {
   "cell_type": "code",
   "execution_count": 34,
   "id": "530251ae",
   "metadata": {},
   "outputs": [],
   "source": [
    "cosine_simularities_2 = cdist(x_small_col, x_small_col, 'euclidean')"
   ]
  },
  {
   "cell_type": "code",
   "execution_count": 35,
   "id": "814c6b84",
   "metadata": {},
   "outputs": [
    {
     "data": {
      "text/plain": [
       "array([[0., 0., 0., ..., 0., 0., 0.],\n",
       "       [0., 0., 0., ..., 0., 0., 0.],\n",
       "       [0., 0., 0., ..., 0., 0., 0.],\n",
       "       ...,\n",
       "       [0., 0., 0., ..., 0., 0., 0.],\n",
       "       [0., 0., 0., ..., 0., 0., 0.],\n",
       "       [0., 0., 0., ..., 0., 0., 0.]])"
      ]
     },
     "execution_count": 35,
     "metadata": {},
     "output_type": "execute_result"
    }
   ],
   "source": [
    "cosine_simularities_2"
   ]
  },
  {
   "cell_type": "code",
   "execution_count": 93,
   "id": "fa7dc683",
   "metadata": {},
   "outputs": [
    {
     "data": {
      "text/plain": [
       "0"
      ]
     },
     "execution_count": 93,
     "metadata": {},
     "output_type": "execute_result"
    }
   ],
   "source": [
    "\n",
    "for i in range(len(cosine_simularities_2)):\n",
    "    for j in range(len(cosine_simularities_2[0])):\n",
    "        cosine_simularities_2[i][j] *= 100\n"
   ]
  },
  {
   "cell_type": "code",
   "execution_count": 131,
   "id": "6916fc30",
   "metadata": {},
   "outputs": [
    {
     "data": {
      "text/plain": [
       "2968.086890392515"
      ]
     },
     "execution_count": 131,
     "metadata": {},
     "output_type": "execute_result"
    }
   ],
   "source": [
    "tf_idf_sum = 0\n",
    "for i in cosine_simularities_2:\n",
    "    tf_idf_sum += sum(i)\n",
    "tf_idf_sum"
   ]
  },
  {
   "cell_type": "code",
   "execution_count": 94,
   "id": "b6a18233",
   "metadata": {},
   "outputs": [],
   "source": [
    "#%%time\n",
    "#cosine_simularities_2 = cdist(x_array, x_array, 'euclidean')"
   ]
  },
  {
   "cell_type": "code",
   "execution_count": 95,
   "id": "bd20d9c4",
   "metadata": {},
   "outputs": [
    {
     "data": {
      "text/plain": [
       "array([1.])"
      ]
     },
     "execution_count": 95,
     "metadata": {},
     "output_type": "execute_result"
    }
   ],
   "source": [
    "cosine_similarities = linear_kernel(x[100], x[100]).flatten()\n",
    "cosine_similarities"
   ]
  },
  {
   "cell_type": "code",
   "execution_count": 96,
   "id": "3dfaf7ec",
   "metadata": {},
   "outputs": [],
   "source": [
    "#cdist using linear_kernel"
   ]
  },
  {
   "cell_type": "code",
   "execution_count": 97,
   "id": "66a27ae5",
   "metadata": {},
   "outputs": [],
   "source": [
    "#def cosine_similarity_for_ftidf(i, j):\n",
    "#   if j < i:\n",
    "#       return b[j][i]\n",
    "#   cosine_similarities = linear_kernel(x[i], x[j]).flatten()\n",
    "#   return cosine_similarities\n",
    "\n",
    "\n",
    "#cosine_simularities_2 = cdist().flatten()\n",
    "#def cosine_similarity_for_ftidf_2(i, j):\n",
    "#    cosine_simularities_2 = cdist(x[i], x[j]).flatten()\n",
    "#    return cosine_similarities"
   ]
  },
  {
   "cell_type": "code",
   "execution_count": 98,
   "id": "de391487",
   "metadata": {},
   "outputs": [],
   "source": [
    "#%%time\n",
    "#a = []\n",
    "#b = []\n",
    "#for i in range(100, 199):\n",
    "#    for j in range(100, 199):\n",
    "#        a.append(cosine_similarity_for_ftidf(i, j))\n",
    "#    b.append(a)\n",
    "#    a = []"
   ]
  },
  {
   "cell_type": "code",
   "execution_count": 99,
   "id": "15407218",
   "metadata": {},
   "outputs": [],
   "source": [
    "#pd.set_option('display.max_rows', None)"
   ]
  },
  {
   "cell_type": "markdown",
   "id": "e6ac0a99",
   "metadata": {},
   "source": [
    "# Matrix of date intervals"
   ]
  },
  {
   "cell_type": "code",
   "execution_count": 100,
   "id": "9ffba7f6",
   "metadata": {},
   "outputs": [],
   "source": [
    "from datetime import datetime"
   ]
  },
  {
   "cell_type": "code",
   "execution_count": 101,
   "id": "1ab09c8d",
   "metadata": {},
   "outputs": [],
   "source": [
    "def date_in_datetime(text):\n",
    "    date = datetime.strptime(text, \"%Y-%m-%d %H:%M:%S\")\n",
    "    return date"
   ]
  },
  {
   "cell_type": "code",
   "execution_count": 102,
   "id": "31be813d",
   "metadata": {},
   "outputs": [],
   "source": [
    "def date_interval(date_first, date_second):\n",
    "    date1 = date_in_datetime(date_first)\n",
    "    date2 = date_in_datetime(date_second)\n",
    "    if date1 < date2:\n",
    "        date3 = date2 - date1\n",
    "    else:\n",
    "        date3 = date1 - date2\n",
    "    return date3.days * 24 + date3.seconds / 3600"
   ]
  },
  {
   "cell_type": "code",
   "execution_count": 103,
   "id": "cee9470b",
   "metadata": {},
   "outputs": [],
   "source": [
    "#date1 = date_in_hours('2017-02-28 19:55:32')\n",
    "#date2 = date_in_hours('2022-11-17 16:08:27')"
   ]
  },
  {
   "cell_type": "code",
   "execution_count": 104,
   "id": "dca98e1d",
   "metadata": {},
   "outputs": [],
   "source": [
    "#date_interval('2022-11-17 16:08:27', '2017-02-28 19:55:32')"
   ]
  },
  {
   "cell_type": "code",
   "execution_count": 105,
   "id": "f7d4d447",
   "metadata": {},
   "outputs": [
    {
     "data": {
      "text/plain": [
       "'радикал первомайский демонстрация париж разгромить кафе витрина здание бульвар вольтер'"
      ]
     },
     "execution_count": 105,
     "metadata": {},
     "output_type": "execute_result"
    }
   ],
   "source": [
    "df_tokenized.message[100000]"
   ]
  },
  {
   "cell_type": "code",
   "execution_count": 106,
   "id": "2b260bda",
   "metadata": {},
   "outputs": [
    {
     "data": {
      "text/plain": [
       "118283"
      ]
     },
     "execution_count": 106,
     "metadata": {},
     "output_type": "execute_result"
    }
   ],
   "source": [
    "len(df_tokenized)"
   ]
  },
  {
   "cell_type": "code",
   "execution_count": 107,
   "id": "b5f29f95",
   "metadata": {},
   "outputs": [],
   "source": [
    "date_vec = []\n",
    "for i in range(0, len(df_tokenized)):\n",
    "    date_vec.append(df_tokenized.date[i])\n",
    "    \n",
    "min_time = date_interval(date_vec[0], date_vec[0])\n",
    "    \n",
    "max_time = date_interval(date_vec[0], date_vec[99])\n",
    "\n",
    "def get_interval(i, j):\n",
    "    #if j < i:\n",
    "    #    return time_matrix[j][i]\n",
    "    return ((date_interval(date_vec[i], date_vec[j]) - min_time) / (max_time - min_time))"
   ]
  },
  {
   "cell_type": "code",
   "execution_count": 108,
   "id": "18810387",
   "metadata": {},
   "outputs": [
    {
     "data": {
      "text/plain": [
       "0.0029400462108272237"
      ]
     },
     "execution_count": 108,
     "metadata": {},
     "output_type": "execute_result"
    }
   ],
   "source": [
    "get_interval(193, 192)"
   ]
  },
  {
   "cell_type": "code",
   "execution_count": 109,
   "id": "dda12c30",
   "metadata": {},
   "outputs": [],
   "source": [
    "#x_time_small_row = []\n",
    "#x_time_small_col = []\n",
    "\n",
    "#for i in range(100, 199):\n",
    "#    for j in range(100, 199):\n",
    "#        x_time_small_row.append(x_array[i][j])\n",
    "#    x_time_small_col.append(x_small_row)\n",
    "#    x_time_small_row = []"
   ]
  },
  {
   "cell_type": "code",
   "execution_count": 110,
   "id": "4aaa7f15",
   "metadata": {},
   "outputs": [],
   "source": [
    "import math"
   ]
  },
  {
   "cell_type": "code",
   "execution_count": 111,
   "id": "da3ecab0",
   "metadata": {},
   "outputs": [
    {
     "name": "stdout",
     "output_type": "stream",
     "text": [
      "CPU times: user 90.1 ms, sys: 1.79 ms, total: 91.9 ms\n",
      "Wall time: 90.8 ms\n"
     ]
    }
   ],
   "source": [
    "%%time\n",
    "time_matrix = []\n",
    "time_row = []\n",
    "for i in range(100, 199):\n",
    "    for j in range(100, 199):\n",
    "        time_row.append(get_interval(i, j))\n",
    "    time_matrix.append(time_row)\n",
    "    time_row = []"
   ]
  },
  {
   "cell_type": "code",
   "execution_count": 112,
   "id": "580af954",
   "metadata": {},
   "outputs": [],
   "source": [
    "#ттттуууууттттт"
   ]
  },
  {
   "cell_type": "code",
   "execution_count": 113,
   "id": "2793c50a",
   "metadata": {},
   "outputs": [
    {
     "data": {
      "text/plain": [
       "0.08735988485993977"
      ]
     },
     "execution_count": 113,
     "metadata": {},
     "output_type": "execute_result"
    }
   ],
   "source": [
    "time_matrix[0][98]"
   ]
  },
  {
   "cell_type": "markdown",
   "id": "504d4a35",
   "metadata": {},
   "source": [
    "# Matrix of distances"
   ]
  },
  {
   "cell_type": "code",
   "execution_count": 114,
   "id": "ddfb8fa4",
   "metadata": {},
   "outputs": [],
   "source": [
    "import numpy as np"
   ]
  },
  {
   "cell_type": "code",
   "execution_count": 115,
   "id": "ce057964",
   "metadata": {},
   "outputs": [],
   "source": [
    "#len(sim_matrix[999])"
   ]
  },
  {
   "cell_type": "code",
   "execution_count": null,
   "id": "aed65f44",
   "metadata": {},
   "outputs": [],
   "source": []
  },
  {
   "cell_type": "code",
   "execution_count": 123,
   "id": "0887968c",
   "metadata": {},
   "outputs": [],
   "source": [
    "#def sim(i, j):\n",
    "#    if j < i:\n",
    "#        return sim_matrix[j][i]\n",
    "#    return float(2 * (1 + b[i][j]) * (1 + time_matrix[i][j]) )\n",
    "def sim(i, j):\n",
    "    #if j < i:\n",
    "    #    return sim_matrix[j][i]\n",
    "    return float((1 + cosine_simularities_2[i][j])) #* (1 + time_matrix[i][j]) )"
   ]
  },
  {
   "cell_type": "code",
   "execution_count": 124,
   "id": "d349985f",
   "metadata": {},
   "outputs": [
    {
     "name": "stdout",
     "output_type": "stream",
     "text": [
      "CPU times: user 11.9 ms, sys: 390 µs, total: 12.3 ms\n",
      "Wall time: 12.1 ms\n"
     ]
    }
   ],
   "source": [
    "%%time\n",
    "sim_matrix = []\n",
    "sim_row = []\n",
    "for i in range(0, 99):\n",
    "    for j in range(0, 99):\n",
    "        sim_row.append(sim(i, j))\n",
    "    sim_matrix.append(sim_row)\n",
    "    sim_row = []"
   ]
  },
  {
   "cell_type": "code",
   "execution_count": 125,
   "id": "cb11dcd0",
   "metadata": {},
   "outputs": [],
   "source": [
    "sim_np_matrix = np.matrix(sim_matrix)"
   ]
  },
  {
   "cell_type": "code",
   "execution_count": null,
   "id": "796b91dc",
   "metadata": {},
   "outputs": [],
   "source": []
  },
  {
   "cell_type": "code",
   "execution_count": 126,
   "id": "16c268d2",
   "metadata": {},
   "outputs": [],
   "source": [
    "import scipy.cluster.hierarchy as sch"
   ]
  },
  {
   "cell_type": "code",
   "execution_count": 127,
   "id": "69c613ac",
   "metadata": {},
   "outputs": [],
   "source": [
    "from scipy.cluster.hierarchy import dendrogram"
   ]
  },
  {
   "cell_type": "code",
   "execution_count": 128,
   "id": "893736fd",
   "metadata": {},
   "outputs": [
    {
     "data": {
      "image/png": "[encoded data removed]",
      "text/plain": [
       "<Figure size 640x480 with 1 Axes>"
      ]
     },
     "metadata": {},
     "output_type": "display_data"
    },
    {
     "data": {
      "text/plain": [
       "<Figure size 20000x50000 with 0 Axes>"
      ]
     },
     "metadata": {},
     "output_type": "display_data"
    },
    {
     "name": "stdout",
     "output_type": "stream",
     "text": [
      "CPU times: user 746 ms, sys: 30.4 ms, total: 776 ms\n",
      "Wall time: 416 ms\n"
     ]
    }
   ],
   "source": [
    "%%time\n",
    "import matplotlib.pyplot as plt\n",
    "dendrogram = sch.dendrogram(sch.linkage(sim_matrix, method = 'ward'))\n",
    "plt.figure(figsize=(200, 500))\n",
    "plt.show()"
   ]
  },
  {
   "cell_type": "code",
   "execution_count": 129,
   "id": "a24cf149",
   "metadata": {},
   "outputs": [
    {
     "name": "stdout",
     "output_type": "stream",
     "text": [
      "CPU times: user 3.44 ms, sys: 1.13 ms, total: 4.57 ms\n",
      "Wall time: 3.16 ms\n"
     ]
    }
   ],
   "source": [
    "%%time\n",
    "from sklearn.cluster import AgglomerativeClustering\n",
    "cluster = AgglomerativeClustering(n_clusters=12, affinity='euclidean', linkage='ward')\n",
    "clusters = cluster.fit_predict(sim_matrix)"
   ]
  },
  {
   "cell_type": "code",
   "execution_count": 130,
   "id": "b69ad5cb",
   "metadata": {},
   "outputs": [
    {
     "data": {
      "text/plain": [
       "array([ 0,  0,  0,  0,  0,  0,  0,  0,  0,  0,  0,  0,  0,  0,  0,  0,  0,\n",
       "        0,  0,  0,  0,  0,  0,  0,  0,  0,  0,  0,  0,  0,  0,  0,  0,  0,\n",
       "        7,  0,  0,  0,  0,  0,  0,  0,  0,  0,  0,  0,  0,  0,  0,  0,  0,\n",
       "        0,  0,  0,  0,  0,  0,  0,  0,  0,  0,  0,  0,  0,  0,  0,  0,  0,\n",
       "        0,  0,  0,  0,  0,  0,  0,  0,  0,  0,  0,  0,  0,  0,  0,  0,  0,\n",
       "        0,  0,  0,  0, 11, 10,  9,  8,  3,  6,  5,  4,  1,  2])"
      ]
     },
     "execution_count": 130,
     "metadata": {},
     "output_type": "execute_result"
    }
   ],
   "source": [
    "clusters"
   ]
  },
  {
   "cell_type": "markdown",
   "id": "42f32dae",
   "metadata": {},
   "source": [
    "# def for clustering"
   ]
  },
  {
   "cell_type": "code",
   "execution_count": 67,
   "id": "c8b4cba6",
   "metadata": {},
   "outputs": [],
   "source": [
    "def new_clusters(mat_start, mat_end, num_of_clusters):\n",
    "    f_x_small_row = []\n",
    "    f_x_small_col = []\n",
    "\n",
    "    for i in range(mat_start, mat_end):\n",
    "        for j in range(mat_start, mat_end):\n",
    "            f_x_small_row.append(x_array[i][j])\n",
    "        f_x_small_col.append(f_x_small_row)\n",
    "        f_x_small_row = []\n",
    "    f_cosine_simularities_2 = cdist(f_x_small_col, f_x_small_col, 'euclidean')\n",
    "    f_time_matrix = []\n",
    "    f_time_row = []\n",
    "    for i in range(mat_start, mat_end):\n",
    "        for j in range(mat_start, mat_end):\n",
    "            f_time_row.append(get_interval(i, j))\n",
    "        f_time_matrix.append(f_time_row)\n",
    "        f_time_row = []\n",
    "    f_sim_matrix = []\n",
    "    f_sim_row = []\n",
    "    mat_end = mat_end - mat_start - 1\n",
    "    mat_start = 0\n",
    "    for i in range(mat_start, mat_end):\n",
    "        for j in range(mat_start, mat_end):\n",
    "            f_sim_row.append(sim(i, j))\n",
    "        f_sim_matrix.append(f_sim_row)\n",
    "        f_sim_row = []\n",
    "    f_sim_np_matrix = np.matrix(f_sim_matrix)\n",
    "    #cluster = AgglomerativeClustering(n_clusters=num_of_clusters, affinity='euclidean', linkage='ward')\n",
    "    #clusters = cluster.fit_predict(sim_matrix)\n",
    "    return f_sim_np_matrix"
   ]
  },
  {
   "cell_type": "code",
   "execution_count": 68,
   "id": "ce9452c2",
   "metadata": {},
   "outputs": [],
   "source": [
    "def sim(i, j):\n",
    "    return float((1 + tf_idf_matrix[i][j]))#* (1 + time_matrix[i][j]))\n",
    "    #return float((1 + time_matrix[i][j]))"
   ]
  },
  {
   "cell_type": "code",
   "execution_count": 69,
   "id": "50fa3228",
   "metadata": {},
   "outputs": [],
   "source": [
    "def cosine_similarity_for_ftidf(i, j):\n",
    "    cosine_similarities = linear_kernel(x[i], x[j]).flatten()\n",
    "    return cosine_similarities\n",
    "def tf_idf_matrix_func(mat_start, mat_end):\n",
    "    a = []\n",
    "    b = []\n",
    "    for i in range(mat_start, mat_end):\n",
    "        for j in range(mat_start, mat_end):\n",
    "            a.append(cosine_similarity_for_ftidf(mat_start, mat_end))\n",
    "        b.append(a)\n",
    "        a = []\n",
    "    return b"
   ]
  },
  {
   "cell_type": "code",
   "execution_count": 70,
   "id": "ca808255",
   "metadata": {},
   "outputs": [],
   "source": [
    "def tf_idf_matrix_func(mat_start, mat_end):\n",
    "    f_x_small_row = []\n",
    "    f_x_small_col = []\n",
    "\n",
    "    for i in range(mat_start, mat_end):\n",
    "        for j in range(mat_start, mat_end):\n",
    "            f_x_small_row.append(x_array[i][j])\n",
    "        f_x_small_col.append(f_x_small_row)\n",
    "        f_x_small_row = []\n",
    "    f_cosine_simularities_2 = cdist(f_x_small_col, f_x_small_col, 'euclidean')\n",
    "    return f_cosine_simularities_2"
   ]
  },
  {
   "cell_type": "code",
   "execution_count": 71,
   "id": "5d2344a1",
   "metadata": {},
   "outputs": [],
   "source": [
    "def time_matrix_func(mat_start, mat_end):\n",
    "    f_time_matrix = []\n",
    "    f_time_row = []\n",
    "    for i in range(mat_start, mat_end):\n",
    "        for j in range(mat_start, mat_end):\n",
    "            f_time_row.append(get_interval(i, j))\n",
    "        f_time_matrix.append(f_time_row)\n",
    "        f_time_row = []\n",
    "    return f_time_matrix"
   ]
  },
  {
   "cell_type": "code",
   "execution_count": 72,
   "id": "f4f27f92",
   "metadata": {},
   "outputs": [],
   "source": [
    "def sim_matrix_func(mat_start, mat_end):\n",
    "    f_sim_matrix = []\n",
    "    f_sim_row = []\n",
    "    mat_end = mat_end - mat_start - 1\n",
    "    mat_start = 0\n",
    "    for i in range(mat_start, mat_end):\n",
    "        for j in range(mat_start, mat_end):\n",
    "            f_sim_row.append(sim(i, j))\n",
    "        f_sim_matrix.append(f_sim_row)\n",
    "        f_sim_row = []\n",
    "    f_sim_np_matrix = np.matrix(f_sim_matrix)\n",
    "    return f_sim_np_matrix"
   ]
  },
  {
   "cell_type": "code",
   "execution_count": 73,
   "id": "90471836",
   "metadata": {},
   "outputs": [],
   "source": [
    "#sim_matrix = new_clusters(0, 100, 10)\n",
    "#cluster = AgglomerativeClustering(n_clusters=10, affinity='euclidean', linkage='ward')\n",
    "#cluster_model = cluster.fit(sim_matrix)\n",
    "#clasters = cluster.fit_predict(sim_matrix)"
   ]
  },
  {
   "cell_type": "markdown",
   "id": "4ae575fe",
   "metadata": {},
   "source": [
    "# first clustering"
   ]
  },
  {
   "cell_type": "code",
   "execution_count": 74,
   "id": "90e52ff9",
   "metadata": {},
   "outputs": [],
   "source": [
    "mat_start = 200\n",
    "mat_end = 300"
   ]
  },
  {
   "cell_type": "code",
   "execution_count": 75,
   "id": "79ab6f83",
   "metadata": {},
   "outputs": [],
   "source": [
    "# create sim_matrix for first clasterising\n",
    "tf_idf_matrix = tf_idf_matrix_func(mat_start, mat_end)\n",
    "time_matrix = time_matrix_func(mat_start, mat_end)\n",
    "sim_matrix = sim_matrix_func(mat_start, mat_end) "
   ]
  },
  {
   "cell_type": "code",
   "execution_count": 76,
   "id": "52713346",
   "metadata": {},
   "outputs": [
    {
     "data": {
      "text/plain": [
       "matrix([[1., 1., 1., ..., 1., 1., 1.],\n",
       "        [1., 1., 1., ..., 1., 1., 1.],\n",
       "        [1., 1., 1., ..., 1., 1., 1.],\n",
       "        ...,\n",
       "        [1., 1., 1., ..., 1., 1., 1.],\n",
       "        [1., 1., 1., ..., 1., 1., 1.],\n",
       "        [1., 1., 1., ..., 1., 1., 1.]])"
      ]
     },
     "execution_count": 76,
     "metadata": {},
     "output_type": "execute_result"
    }
   ],
   "source": [
    "sim_matrix"
   ]
  },
  {
   "cell_type": "code",
   "execution_count": 77,
   "id": "19fc7d95",
   "metadata": {},
   "outputs": [],
   "source": [
    "sim_matrix = np.array(sim_matrix)"
   ]
  },
  {
   "cell_type": "code",
   "execution_count": 78,
   "id": "3499b6cd",
   "metadata": {},
   "outputs": [
    {
     "data": {
      "text/plain": [
       "array([0, 0, 0, 0, 0, 0, 0, 0, 0, 0, 0, 0, 0, 0, 0, 0, 0, 0, 0, 0, 0, 0,\n",
       "       0, 0, 0, 0, 0, 0, 0, 0, 0, 0, 0, 0, 0, 0, 0, 0, 0, 0, 0, 0, 0, 0,\n",
       "       0, 0, 0, 0, 0, 0, 0, 0, 0, 0, 0, 0, 0, 0, 0, 0, 0, 0, 0, 0, 0, 0,\n",
       "       0, 0, 0, 0, 0, 0, 0, 0, 0, 0, 0, 0, 0, 0, 0, 0, 0, 0, 0, 0, 0, 0,\n",
       "       0, 0, 9, 8, 7, 6, 5, 4, 3, 2, 1])"
      ]
     },
     "execution_count": 78,
     "metadata": {},
     "output_type": "execute_result"
    }
   ],
   "source": [
    "#clusterise for firts sim_matrix\n",
    "cluster = AgglomerativeClustering(n_clusters=10, affinity='euclidean', linkage='ward')\n",
    "clusters = cluster.fit_predict(sim_matrix)\n",
    "clusters"
   ]
  },
  {
   "cell_type": "code",
   "execution_count": 79,
   "id": "62097510",
   "metadata": {},
   "outputs": [],
   "source": [
    "cluster_first_clustering = cluster\n",
    "sim_matrix_firts_clustering = sim_matrix"
   ]
  },
  {
   "cell_type": "code",
   "execution_count": 80,
   "id": "47f761f4",
   "metadata": {},
   "outputs": [],
   "source": [
    "# create list if indices\n",
    "cluster_indices = [np.where(cluster_first_clustering.labels_ == i)[0] for i in range(10)]"
   ]
  },
  {
   "cell_type": "code",
   "execution_count": 81,
   "id": "f279d5b6",
   "metadata": {},
   "outputs": [
    {
     "data": {
      "text/plain": [
       "[array([ 0,  1,  2,  3,  4,  5,  6,  7,  8,  9, 10, 11, 12, 13, 14, 15, 16,\n",
       "        17, 18, 19, 20, 21, 22, 23, 24, 25, 26, 27, 28, 29, 30, 31, 32, 33,\n",
       "        34, 35, 36, 37, 38, 39, 40, 41, 42, 43, 44, 45, 46, 47, 48, 49, 50,\n",
       "        51, 52, 53, 54, 55, 56, 57, 58, 59, 60, 61, 62, 63, 64, 65, 66, 67,\n",
       "        68, 69, 70, 71, 72, 73, 74, 75, 76, 77, 78, 79, 80, 81, 82, 83, 84,\n",
       "        85, 86, 87, 88, 89]),\n",
       " array([98]),\n",
       " array([97]),\n",
       " array([96]),\n",
       " array([95]),\n",
       " array([94]),\n",
       " array([93]),\n",
       " array([92]),\n",
       " array([91]),\n",
       " array([90])]"
      ]
     },
     "execution_count": 81,
     "metadata": {},
     "output_type": "execute_result"
    }
   ],
   "source": [
    "cluster_indices"
   ]
  },
  {
   "cell_type": "code",
   "execution_count": 82,
   "id": "a13d1519",
   "metadata": {},
   "outputs": [],
   "source": [
    "point_array = sim_matrix_firts_clustering"
   ]
  },
  {
   "cell_type": "code",
   "execution_count": 83,
   "id": "00bac14a",
   "metadata": {},
   "outputs": [
    {
     "data": {
      "text/plain": [
       "array([[1., 1., 1., ..., 1., 1., 1.],\n",
       "       [1., 1., 1., ..., 1., 1., 1.],\n",
       "       [1., 1., 1., ..., 1., 1., 1.],\n",
       "       ...,\n",
       "       [1., 1., 1., ..., 1., 1., 1.],\n",
       "       [1., 1., 1., ..., 1., 1., 1.],\n",
       "       [1., 1., 1., ..., 1., 1., 1.]])"
      ]
     },
     "execution_count": 83,
     "metadata": {},
     "output_type": "execute_result"
    }
   ],
   "source": [
    "point_array"
   ]
  },
  {
   "cell_type": "code",
   "execution_count": 84,
   "id": "fda8371f",
   "metadata": {},
   "outputs": [],
   "source": [
    "# find coordinates of pints for every claster \n",
    "n_points = point_array.shape[0] # number of points in sim_matrix for first clusterising\n",
    "cluster_points = []\n",
    "for indices in cluster_indices:\n",
    "    points = np.zeros((len(indices), point_array.shape[1]))\n",
    "    for i, index in enumerate(indices):\n",
    "        points[i, :] = point_array[index, :n_points]\n",
    "    cluster_points.append(points)"
   ]
  },
  {
   "cell_type": "code",
   "execution_count": 85,
   "id": "33dc125c",
   "metadata": {},
   "outputs": [
    {
     "data": {
      "text/plain": [
       "1"
      ]
     },
     "execution_count": 85,
     "metadata": {},
     "output_type": "execute_result"
    }
   ],
   "source": [
    "len(cluster_points[6])"
   ]
  },
  {
   "cell_type": "code",
   "execution_count": 86,
   "id": "78d5d8ea",
   "metadata": {},
   "outputs": [
    {
     "data": {
      "text/plain": [
       "array([1., 1., 1., 1., 1., 1., 1., 1., 1., 1., 1., 1., 1., 1., 1., 1., 1.,\n",
       "       1., 1., 1., 1., 1., 1., 1., 1., 1., 1., 1., 1., 1., 1., 1., 1., 1.,\n",
       "       1., 1., 1., 1., 1., 1., 1., 1., 1., 1., 1., 1., 1., 1., 1., 1., 1.,\n",
       "       1., 1., 1., 1., 1., 1., 1., 1., 1., 1., 1., 1., 1., 1., 1., 1., 1.,\n",
       "       1., 1., 1., 1., 1., 1., 1., 1., 1., 1., 1., 1., 1., 1., 1., 1., 1.,\n",
       "       1., 1., 1., 1., 1., 1., 1., 1., 1., 1., 1., 1., 1., 1.])"
      ]
     },
     "execution_count": 86,
     "metadata": {},
     "output_type": "execute_result"
    }
   ],
   "source": [
    "cluster_points[6][0]"
   ]
  },
  {
   "cell_type": "code",
   "execution_count": null,
   "id": "530bd06f",
   "metadata": {},
   "outputs": [],
   "source": [
    "number_of_points_in_sim_matrix = point_array.shape[0]\n",
    "additional_sim_matrix = sim_matrix\n",
    "for j in range(6):\n",
    "    new_point = cluster_points[7][j]\n",
    "    new_sim_matrix = np.zeros((number_of_points_in_sim_matrix + 1, number_of_points_in_sim_matrix + 1))\n",
    "    new_sim_matrix[:number_of_points_in_sim_matrix, :number_of_points_in_sim_matrix] = additional_sim_matrix\n",
    "    for i in range(number_of_points_in_sim_matrix):\n",
    "        dist = np.linalg.norm(new_point - additional_sim_matrix[i])\n",
    "        new_sim_matrix[number_of_points_in_sim_matrix, i] = dist\n",
    "        new_sim_matrix[i, number_of_points_in_sim_matrix] = dist\n",
    "    additional_sim_matrix = new_sim_matrix\n",
    "    number_of_points_in_sim_matrix += 1"
   ]
  },
  {
   "cell_type": "code",
   "execution_count": null,
   "id": "e72f9ae1",
   "metadata": {},
   "outputs": [],
   "source": [
    "new_point = cluster_points[7][5]   # new point to add"
   ]
  },
  {
   "cell_type": "code",
   "execution_count": null,
   "id": "637b713a",
   "metadata": {},
   "outputs": [],
   "source": [
    "number_of_points_in_sim_matrix = point_array.shape[0]"
   ]
  },
  {
   "cell_type": "code",
   "execution_count": null,
   "id": "d2c81c90",
   "metadata": {},
   "outputs": [],
   "source": [
    "# create new_sim_matrix with size (number of existing point + number of points to add)\n",
    "new_sim_matrix = np.zeros((number_of_points_in_sim_matrix+6, number_of_points_in_sim_matrix+6))"
   ]
  },
  {
   "cell_type": "code",
   "execution_count": null,
   "id": "74393b57",
   "metadata": {},
   "outputs": [],
   "source": [
    "# fill new_sim_matrix with values from sim_matrix\n",
    "new_sim_matrix[:number_of_points_in_sim_matrix, :number_of_points_in_sim_matrix] = sim_matrix"
   ]
  },
  {
   "cell_type": "code",
   "execution_count": null,
   "id": "2be132f3",
   "metadata": {},
   "outputs": [],
   "source": [
    "test_new_sim_matrix = new_sim_matrix"
   ]
  },
  {
   "cell_type": "code",
   "execution_count": null,
   "id": "b8f7afbd",
   "metadata": {},
   "outputs": [],
   "source": [
    "# add new point and find distances for all other points\n",
    "for i in range(number_of_points_in_sim_matrix):\n",
    "    dist = np.linalg.norm(new_point - sim_matrix[i])\n",
    "    new_sim_matrix[number_of_points_in_sim_matrix, i] = dist\n",
    "    new_sim_matrix[i, number_of_points_in_sim_matrix] = dist"
   ]
  },
  {
   "cell_type": "code",
   "execution_count": null,
   "id": "758aa4a4",
   "metadata": {},
   "outputs": [],
   "source": [
    "new_sim_matrix[number_of_points_in_sim_matrix, 4]"
   ]
  },
  {
   "cell_type": "code",
   "execution_count": null,
   "id": "a443cd15",
   "metadata": {},
   "outputs": [],
   "source": [
    "new_sim_matrix[80][100]"
   ]
  },
  {
   "cell_type": "code",
   "execution_count": null,
   "id": "243a03ee",
   "metadata": {},
   "outputs": [],
   "source": [
    "new_sim_matrix.shape[0]"
   ]
  },
  {
   "cell_type": "markdown",
   "id": "8aa2c8ab",
   "metadata": {},
   "source": [
    "# second try of using partial clustering"
   ]
  },
  {
   "cell_type": "code",
   "execution_count": null,
   "id": "c05c4b30",
   "metadata": {},
   "outputs": [],
   "source": [
    "mat_start = 100\n",
    "mat_end = 200\n",
    "tf_idf_matrix = tf_idf_matrix_func(mat_start, mat_end)\n",
    "time_matrix = time_matrix_func(mat_start, mat_end)\n",
    "sim_matrix = sim_matrix_func(mat_start, mat_end) "
   ]
  },
  {
   "cell_type": "code",
   "execution_count": null,
   "id": "892cd185",
   "metadata": {},
   "outputs": [],
   "source": [
    "sim_matrix = np.array(sim_matrix)\n",
    "cluster = AgglomerativeClustering(n_clusters=10, affinity='euclidean', linkage='ward')\n",
    "clusters = cluster.fit_predict(sim_matrix)\n",
    "clusters"
   ]
  },
  {
   "cell_type": "code",
   "execution_count": null,
   "id": "e56afa05",
   "metadata": {},
   "outputs": [],
   "source": [
    "for i in range(len(clusters)):\n",
    "    if clusters[i] == 6:\n",
    "        print(i)"
   ]
  },
  {
   "cell_type": "code",
   "execution_count": null,
   "id": "c6551ce2",
   "metadata": {},
   "outputs": [],
   "source": [
    "#lets choose some point from cluster \"6\", let it be number 93 => in dataset it is number 193"
   ]
  },
  {
   "cell_type": "code",
   "execution_count": null,
   "id": "0810665f",
   "metadata": {},
   "outputs": [],
   "source": [
    "mat_start = 200\n",
    "mat_end = 300\n",
    "tf_idf_matrix = tf_idf_matrix_func(mat_start, mat_end)\n",
    "time_matrix = time_matrix_func(mat_start, mat_end)\n",
    "sim_matrix = sim_matrix_func(mat_start, mat_end) "
   ]
  },
  {
   "cell_type": "code",
   "execution_count": null,
   "id": "3019d92a",
   "metadata": {},
   "outputs": [],
   "source": [
    "sim_matrix = np.array(sim_matrix)\n",
    "cluster = AgglomerativeClustering(n_clusters=10, affinity='euclidean', linkage='ward')\n",
    "clusters = cluster.fit_predict(sim_matrix)\n",
    "clusters"
   ]
  },
  {
   "cell_type": "code",
   "execution_count": null,
   "id": "bb74f6fc",
   "metadata": {},
   "outputs": [],
   "source": [
    "sim_matrix"
   ]
  },
  {
   "cell_type": "code",
   "execution_count": null,
   "id": "4d551f16",
   "metadata": {},
   "outputs": [],
   "source": [
    "#add one point to new matrix of dictances for secong clusterisation\n",
    "n_sim_matrix = sim_matrix.shape[0]\n",
    "sim_matrix_new = np.zeros((n_sim_matrix+1, n_sim_matrix+1))\n",
    "\n",
    "for i in range (n_sim_matrix + 1):\n",
    "    for j in range(i+1, n_sim_matrix + 1):\n",
    "        if i == n_sim_matrix:\n",
    "            sim_matrix_new[i, j] = (1 + linear_kernel(x[193], x[j + mat_start], 'euclidean')) * (1 + get_interval(193, j + mat_start))\n",
    "        elif j == n_sim_matrix:\n",
    "            sim_matrix_new[i, j] = (1 + linear_kernel(x[i + mat_start], x[193], 'euclidean')) * (1 + get_interval(i + mat_start, 193))\n",
    "        else:\n",
    "            sim_matrix_new[i, j] = sim_matrix[i, j]\n",
    "        sim_matrix_new[j, i] = sim_matrix_new[i, j]"
   ]
  },
  {
   "cell_type": "code",
   "execution_count": null,
   "id": "dced8782",
   "metadata": {},
   "outputs": [],
   "source": [
    "sim_matrix"
   ]
  },
  {
   "cell_type": "code",
   "execution_count": null,
   "id": "fe5009e5",
   "metadata": {},
   "outputs": [],
   "source": [
    "sim_matrix_new"
   ]
  },
  {
   "cell_type": "code",
   "execution_count": null,
   "id": "5e709db2",
   "metadata": {},
   "outputs": [],
   "source": [
    "len(sim_matrix_new[0])"
   ]
  },
  {
   "cell_type": "code",
   "execution_count": null,
   "id": "4ac371d3",
   "metadata": {},
   "outputs": [],
   "source": [
    "num_in_new_sim_matrix"
   ]
  },
  {
   "cell_type": "code",
   "execution_count": null,
   "id": "d8ca6229",
   "metadata": {},
   "outputs": [],
   "source": [
    "from random import uniform\n",
    "number_to_add = 5\n",
    "\n",
    "num_in_new_sim_matrix = len(sim_matrix_new[0])\n",
    "\n",
    "new_size = num_in_new_sim_matrix + number_to_add\n",
    "new_matrix = np.zeros((new_size, new_size))\n",
    "\n",
    "new_matrix[:num_in_new_sim_matrix, :num_in_new_sim_matrix] = sim_matrix_new\n",
    "\n",
    "for i in range(number_to_add):\n",
    "    random_deviation = uniform(0.001, 0.01)\n",
    "    new_matrix[num_in_new_sim_matrix+i, :num_in_new_sim_matrix] = sim_matrix_new[-1, :] + random_deviation\n",
    "    new_matrix[:num_in_new_sim_matrix, num_in_new_sim_matrix+i] = sim_matrix_new[:, -1] + random_deviation\n",
    "\n",
    "new_matrix[num_in_new_sim_matrix:, num_in_new_sim_matrix:] = np.zeros((number_to_add, number_to_add))\n",
    "\n",
    "print(new_matrix)"
   ]
  },
  {
   "cell_type": "code",
   "execution_count": null,
   "id": "e2f2029d",
   "metadata": {},
   "outputs": [],
   "source": [
    "import matplotlib.pyplot as plt\n",
    "dendrogram = sch.dendrogram(sch.linkage(new_matrix, method = 'ward'))\n",
    "plt.figure(figsize=(200, 500))\n",
    "plt.show()"
   ]
  },
  {
   "cell_type": "code",
   "execution_count": null,
   "id": "e4004a2a",
   "metadata": {},
   "outputs": [],
   "source": [
    "cluster = AgglomerativeClustering(n_clusters=10, affinity='euclidean', linkage='ward')\n",
    "clusters = cluster.fit_predict(new_sim_matrix)\n",
    "clusters\n"
   ]
  },
  {
   "cell_type": "markdown",
   "id": "982ff300",
   "metadata": {},
   "source": [
    "array([4, 4, 4, 4, 4, 4, 4, 4, 4, 4, 4, 4, 4, 4, 0, 0, 0, 0, 0, 0, 0, 0,\n",
    "       0, 0, 0, 0, 0, 0, 0, 0, 0, 0, 0, 0, 5, 8, 8, 8, 8, 8, 8, 9, 9, 9,\n",
    "       9, 3, 3, 3, 3, 3, 3, 3, 3, 3, 3, 3, 3, 3, 3, 3, 3, 3, 3, 6, 6, 6,\n",
    "       6, 6, 6, 2, 2, 2, 2, 2, 2, 2, 2, 2, 2, 2, 2, 2, 2, 2, 1, 1, 1, 1,\n",
    "       1, 1, 1, 1, 1, 7, 7, 7, 7, 7, 7])"
   ]
  },
  {
   "cell_type": "markdown",
   "id": "ed066135",
   "metadata": {},
   "source": [
    "# third try of clustering"
   ]
  },
  {
   "cell_type": "code",
   "execution_count": null,
   "id": "5c8e3a5f",
   "metadata": {},
   "outputs": [],
   "source": [
    "#main idea of this part:\n",
    "#clusterise first part \n",
    "#create new matrix with \"clouds\" of points\n",
    "#add new points to new matrix"
   ]
  },
  {
   "cell_type": "code",
   "execution_count": null,
   "id": "bb2d603f",
   "metadata": {},
   "outputs": [],
   "source": [
    "mat_start = 100\n",
    "mat_end = 200\n",
    "tf_idf_matrix = tf_idf_matrix_func(mat_start, mat_end)\n",
    "time_matrix = time_matrix_func(mat_start, mat_end)\n",
    "sim_matrix = sim_matrix_func(mat_start, mat_end) "
   ]
  },
  {
   "cell_type": "code",
   "execution_count": null,
   "id": "bfbebb18",
   "metadata": {},
   "outputs": [],
   "source": [
    "import matplotlib.pyplot as plt\n",
    "dendrogram = sch.dendrogram(sch.linkage(sim_matrix, method = 'ward'))\n",
    "plt.figure(figsize=(200, 500))\n",
    "plt.show()"
   ]
  },
  {
   "cell_type": "code",
   "execution_count": null,
   "id": "ad86aafb",
   "metadata": {},
   "outputs": [],
   "source": [
    "sim_matrix = np.array(sim_matrix)\n",
    "cluster = AgglomerativeClustering(n_clusters=5, affinity='euclidean', linkage='ward')\n",
    "clusters = cluster.fit_predict(sim_matrix)\n",
    "clusters"
   ]
  },
  {
   "cell_type": "code",
   "execution_count": null,
   "id": "65d69763",
   "metadata": {},
   "outputs": [],
   "source": [
    "mat_start = 200\n",
    "mat_end = 220\n",
    "tf_idf_matrix = tf_idf_matrix_func(mat_start, mat_end)\n",
    "time_matrix = time_matrix_func(mat_start, mat_end)\n",
    "sim_matrix_second = sim_matrix_func(mat_start, mat_end) "
   ]
  },
  {
   "cell_type": "code",
   "execution_count": null,
   "id": "45e1c3aa",
   "metadata": {},
   "outputs": [],
   "source": [
    "sim_matrix = sim_matrix_second"
   ]
  },
  {
   "cell_type": "code",
   "execution_count": null,
   "id": "c2df1b07",
   "metadata": {},
   "outputs": [],
   "source": [
    "for i in range(len(clusters)):\n",
    "    if clusters[i] == 4:\n",
    "        print(i)"
   ]
  },
  {
   "cell_type": "code",
   "execution_count": null,
   "id": "04eea020",
   "metadata": {},
   "outputs": [],
   "source": [
    "points_previous_clustering = [147, 121, 188, 103, 175]"
   ]
  },
  {
   "cell_type": "code",
   "execution_count": null,
   "id": "e070674d",
   "metadata": {},
   "outputs": [],
   "source": [
    "#add one point to new matrix of dictances for secong clusterisation\n",
    "n_sim_matrix = sim_matrix.shape[0]\n",
    "sim_matrix_new = np.zeros((n_sim_matrix+1, n_sim_matrix+1))\n",
    "\n",
    "for i in range (n_sim_matrix + 1):\n",
    "    for j in range(i+1, n_sim_matrix + 1):\n",
    "        if i == n_sim_matrix:\n",
    "            sim_matrix_new[i, j] = (1 + linear_kernel(x[147], x[j + mat_start], 'euclidean')) * (1 + get_interval(147, j + mat_start))\n",
    "        elif j == n_sim_matrix:\n",
    "            sim_matrix_new[i, j] = (1 + linear_kernel(x[i + mat_start], x[147], 'euclidean')) * (1 + get_interval(i + mat_start, 147))\n",
    "        else:\n",
    "            sim_matrix_new[i, j] = sim_matrix[i, j]\n",
    "        sim_matrix_new[j, i] = sim_matrix_new[i, j]"
   ]
  },
  {
   "cell_type": "code",
   "execution_count": null,
   "id": "2d494ba9",
   "metadata": {},
   "outputs": [],
   "source": [
    "from random import uniform\n",
    "number_to_add = 5\n",
    "\n",
    "num_in_new_sim_matrix = len(sim_matrix_new[0])\n",
    "\n",
    "new_size = num_in_new_sim_matrix + number_to_add\n",
    "new_matrix = np.zeros((new_size, new_size))\n",
    "\n",
    "new_matrix[:num_in_new_sim_matrix, :num_in_new_sim_matrix] = sim_matrix_new\n",
    "\n",
    "for i in range(number_to_add):\n",
    "    random_deviation = uniform(0.001, 0.01)\n",
    "    new_matrix[num_in_new_sim_matrix+i, :num_in_new_sim_matrix] = sim_matrix_new[-1, :] + random_deviation\n",
    "    new_matrix[:num_in_new_sim_matrix, num_in_new_sim_matrix+i] = sim_matrix_new[:, -1] + random_deviation\n",
    "\n",
    "new_matrix[num_in_new_sim_matrix:, num_in_new_sim_matrix:] = np.zeros((number_to_add, number_to_add))\n",
    "\n",
    "print(new_matrix)"
   ]
  },
  {
   "cell_type": "code",
   "execution_count": null,
   "id": "32c8a98a",
   "metadata": {},
   "outputs": [],
   "source": [
    "#add one point to new matrix of dictances for secong clusterisation\n",
    "sim_matrix_new = new_matrix\n",
    "sim_matrix_copy = sim_matrix_new\n",
    "n_sim_matrix = sim_matrix_new.shape[0]\n",
    "sim_matrix_new = np.zeros((n_sim_matrix+1, n_sim_matrix+1))\n",
    "\n",
    "sim_matrix_new[:n_sim_matrix, :n_sim_matrix] = sim_matrix_copy\n",
    "\n",
    "for i in range (n_sim_matrix):\n",
    "    if i <= 105:\n",
    "        sim_matrix_new[i, n_sim_matrix] = (1 + linear_kernel(x[121], x[i + mat_start], 'euclidean')) * (1 + get_interval(121, i + mat_start))\n",
    "        sim_matrix_new[n_sim_matrix, i] = (1 + linear_kernel(x[121], x[i + mat_start], 'euclidean')) * (1 + get_interval(121, i + mat_start))\n",
    "    else:\n",
    "        sim_matrix_new[i, n_sim_matrix] = (1 + linear_kernel(x[121], x[points_previous_clustering[0]], 'euclidean')) * (1 + get_interval(121, points_previous_clustering[0]))\n",
    "        sim_matrix_new[n_sim_matrix, i] = (1 + linear_kernel(x[121], x[points_previous_clustering[0]], 'euclidean')) * (1 + get_interval(121, points_previous_clustering[0]))"
   ]
  },
  {
   "cell_type": "code",
   "execution_count": null,
   "id": "c491df36",
   "metadata": {},
   "outputs": [],
   "source": [
    "print(sim_matrix_new)"
   ]
  },
  {
   "cell_type": "code",
   "execution_count": null,
   "id": "577e03b9",
   "metadata": {},
   "outputs": [],
   "source": [
    "from random import uniform\n",
    "number_to_add = 5\n",
    "\n",
    "num_in_new_sim_matrix = len(sim_matrix_new[0])\n",
    "\n",
    "new_size = num_in_new_sim_matrix + number_to_add\n",
    "new_matrix = np.zeros((new_size, new_size))\n",
    "\n",
    "new_matrix[:num_in_new_sim_matrix, :num_in_new_sim_matrix] = sim_matrix_new\n",
    "\n",
    "for i in range(number_to_add):\n",
    "    random_deviation = uniform(0.001, 0.01)\n",
    "    new_matrix[num_in_new_sim_matrix+i, :num_in_new_sim_matrix] = sim_matrix_new[-1, :] + random_deviation\n",
    "    new_matrix[:num_in_new_sim_matrix, num_in_new_sim_matrix+i] = sim_matrix_new[:, -1] + random_deviation\n",
    "\n",
    "new_matrix[num_in_new_sim_matrix:, num_in_new_sim_matrix:] = np.zeros((number_to_add, number_to_add))\n",
    "\n",
    "print(new_matrix)"
   ]
  },
  {
   "cell_type": "code",
   "execution_count": null,
   "id": "01abb35b",
   "metadata": {},
   "outputs": [],
   "source": [
    "#add one point to new matrix of dictances for secong clusterisation\n",
    "sim_matrix_new = new_matrix\n",
    "sim_matrix_copy = sim_matrix_new\n",
    "n_sim_matrix = sim_matrix_new.shape[0]\n",
    "sim_matrix_new = np.zeros((n_sim_matrix+1, n_sim_matrix+1))\n",
    "\n",
    "sim_matrix_new[:n_sim_matrix, :n_sim_matrix] = sim_matrix_copy\n",
    "\n",
    "for i in range (n_sim_matrix):\n",
    "    if i <= 105:\n",
    "        sim_matrix_new[i, n_sim_matrix] = (1 + linear_kernel(x[points_previous_clustering[2]], x[i + mat_start], 'euclidean')) * (1 + get_interval(points_previous_clustering[2], i + mat_start))\n",
    "        sim_matrix_new[n_sim_matrix, i] = (1 + linear_kernel(x[points_previous_clustering[2]], x[i + mat_start], 'euclidean')) * (1 + get_interval(points_previous_clustering[2], i + mat_start))\n",
    "    else:\n",
    "        sim_matrix_new[i, n_sim_matrix] = (1 + linear_kernel(x[points_previous_clustering[2]], x[points_previous_clustering[1]], 'euclidean')) * (1 + get_interval(points_previous_clustering[2], points_previous_clustering[1]))\n",
    "        sim_matrix_new[n_sim_matrix, i] = (1 + linear_kernel(x[points_previous_clustering[2]], x[points_previous_clustering[1]], 'euclidean')) * (1 + get_interval(points_previous_clustering[2], points_previous_clustering[1]))\n",
    "print(sim_matrix_new)"
   ]
  },
  {
   "cell_type": "code",
   "execution_count": null,
   "id": "0190498c",
   "metadata": {},
   "outputs": [],
   "source": [
    "from random import uniform\n",
    "number_to_add = 5\n",
    "\n",
    "num_in_new_sim_matrix = len(sim_matrix_new[0])\n",
    "\n",
    "new_size = num_in_new_sim_matrix + number_to_add\n",
    "new_matrix = np.zeros((new_size, new_size))\n",
    "\n",
    "new_matrix[:num_in_new_sim_matrix, :num_in_new_sim_matrix] = sim_matrix_new\n",
    "\n",
    "for i in range(number_to_add):\n",
    "    random_deviation = uniform(0.001, 0.01)\n",
    "    new_matrix[num_in_new_sim_matrix+i, :num_in_new_sim_matrix] = sim_matrix_new[-1, :] + random_deviation\n",
    "    new_matrix[:num_in_new_sim_matrix, num_in_new_sim_matrix+i] = sim_matrix_new[:, -1] + random_deviation\n",
    "\n",
    "new_matrix[num_in_new_sim_matrix:, num_in_new_sim_matrix:] = np.zeros((number_to_add, number_to_add))\n",
    "\n",
    "print(new_matrix)"
   ]
  },
  {
   "cell_type": "code",
   "execution_count": null,
   "id": "7f698b5a",
   "metadata": {},
   "outputs": [],
   "source": [
    "#add one point to new matrix of dictances for secong clusterisation\n",
    "sim_matrix_new = new_matrix\n",
    "sim_matrix_copy = sim_matrix_new\n",
    "n_sim_matrix = sim_matrix_new.shape[0]\n",
    "sim_matrix_new = np.zeros((n_sim_matrix+1, n_sim_matrix+1))\n",
    "\n",
    "sim_matrix_new[:n_sim_matrix, :n_sim_matrix] = sim_matrix_copy\n",
    "\n",
    "for i in range (n_sim_matrix):\n",
    "    if i <= 105:\n",
    "        sim_matrix_new[i, n_sim_matrix] = (1 + linear_kernel(x[points_previous_clustering[3]], x[i + mat_start], 'euclidean')) * (1 + get_interval(points_previous_clustering[3], i + mat_start))\n",
    "        sim_matrix_new[n_sim_matrix, i] = (1 + linear_kernel(x[points_previous_clustering[3]], x[i + mat_start], 'euclidean')) * (1 + get_interval(points_previous_clustering[3], i + mat_start))\n",
    "    else:\n",
    "        sim_matrix_new[i, n_sim_matrix] = (1 + linear_kernel(x[points_previous_clustering[3]], x[points_previous_clustering[2]], 'euclidean')) * (1 + get_interval(points_previous_clustering[3], points_previous_clustering[2]))\n",
    "        sim_matrix_new[n_sim_matrix, i] = (1 + linear_kernel(x[points_previous_clustering[3]], x[points_previous_clustering[2]], 'euclidean')) * (1 + get_interval(points_previous_clustering[3], points_previous_clustering[2]))\n",
    "print(sim_matrix_new)"
   ]
  },
  {
   "cell_type": "code",
   "execution_count": null,
   "id": "35337e65",
   "metadata": {},
   "outputs": [],
   "source": [
    "from random import uniform\n",
    "number_to_add = 5\n",
    "\n",
    "num_in_new_sim_matrix = len(sim_matrix_new[0])\n",
    "\n",
    "new_size = num_in_new_sim_matrix + number_to_add\n",
    "new_matrix = np.zeros((new_size, new_size))\n",
    "\n",
    "new_matrix[:num_in_new_sim_matrix, :num_in_new_sim_matrix] = sim_matrix_new\n",
    "\n",
    "for i in range(number_to_add):\n",
    "    random_deviation = uniform(0.001, 0.01)\n",
    "    new_matrix[num_in_new_sim_matrix+i, :num_in_new_sim_matrix] = sim_matrix_new[-1, :] + random_deviation\n",
    "    new_matrix[:num_in_new_sim_matrix, num_in_new_sim_matrix+i] = sim_matrix_new[:, -1] + random_deviation\n",
    "\n",
    "new_matrix[num_in_new_sim_matrix:, num_in_new_sim_matrix:] = np.zeros((number_to_add, number_to_add))\n",
    "\n",
    "print(new_matrix)"
   ]
  },
  {
   "cell_type": "code",
   "execution_count": null,
   "id": "284303c2",
   "metadata": {},
   "outputs": [],
   "source": [
    "#add one point to new matrix of dictances for secong clusterisation\n",
    "sim_matrix_new = new_matrix\n",
    "sim_matrix_copy = sim_matrix_new\n",
    "n_sim_matrix = sim_matrix_new.shape[0]\n",
    "sim_matrix_new = np.zeros((n_sim_matrix+1, n_sim_matrix+1))\n",
    "\n",
    "sim_matrix_new[:n_sim_matrix, :n_sim_matrix] = sim_matrix_copy\n",
    "\n",
    "for i in range (n_sim_matrix):\n",
    "    if i <= 105:\n",
    "        sim_matrix_new[i, n_sim_matrix] = (1 + linear_kernel(x[points_previous_clustering[4]], x[i + mat_start], 'euclidean')) * (1 + get_interval(points_previous_clustering[4], i + mat_start))\n",
    "        sim_matrix_new[n_sim_matrix, i] = (1 + linear_kernel(x[points_previous_clustering[4]], x[i + mat_start], 'euclidean')) * (1 + get_interval(points_previous_clustering[4], i + mat_start))\n",
    "    else:\n",
    "        sim_matrix_new[i, n_sim_matrix] = (1 + linear_kernel(x[points_previous_clustering[4]], x[points_previous_clustering[3]], 'euclidean')) * (1 + get_interval(points_previous_clustering[4], points_previous_clustering[3]))\n",
    "        sim_matrix_new[n_sim_matrix, i] = (1 + linear_kernel(x[points_previous_clustering[4]], x[points_previous_clustering[3]], 'euclidean')) * (1 + get_interval(points_previous_clustering[4], points_previous_clustering[3]))\n",
    "print(sim_matrix_new)"
   ]
  },
  {
   "cell_type": "code",
   "execution_count": null,
   "id": "b1d98674",
   "metadata": {},
   "outputs": [],
   "source": [
    "from random import uniform\n",
    "number_to_add = 5\n",
    "\n",
    "num_in_new_sim_matrix = len(sim_matrix_new[0])\n",
    "\n",
    "new_size = num_in_new_sim_matrix + number_to_add\n",
    "new_matrix = np.zeros((new_size, new_size))\n",
    "\n",
    "new_matrix[:num_in_new_sim_matrix, :num_in_new_sim_matrix] = sim_matrix_new\n",
    "\n",
    "for i in range(number_to_add):\n",
    "    random_deviation = uniform(0.001, 0.01)\n",
    "    new_matrix[num_in_new_sim_matrix+i, :num_in_new_sim_matrix] = sim_matrix_new[-1, :] + random_deviation\n",
    "    new_matrix[:num_in_new_sim_matrix, num_in_new_sim_matrix+i] = sim_matrix_new[:, -1] + random_deviation\n",
    "\n",
    "new_matrix[num_in_new_sim_matrix:, num_in_new_sim_matrix:] = np.zeros((number_to_add, number_to_add))\n",
    "\n",
    "print(new_matrix)"
   ]
  },
  {
   "cell_type": "code",
   "execution_count": null,
   "id": "3557b187",
   "metadata": {},
   "outputs": [],
   "source": [
    "import matplotlib.pyplot as plt\n",
    "dendrogram = sch.dendrogram(sch.linkage(sim_matrix, method = 'ward'))\n",
    "plt.figure(figsize=(200, 500))\n",
    "plt.show()"
   ]
  },
  {
   "cell_type": "code",
   "execution_count": null,
   "id": "e117766b",
   "metadata": {},
   "outputs": [],
   "source": [
    "import matplotlib.pyplot as plt\n",
    "dendrogram = sch.dendrogram(sch.linkage(new_matrix, method = 'ward'))\n",
    "plt.figure(figsize=(200, 500))\n",
    "plt.show()"
   ]
  },
  {
   "cell_type": "code",
   "execution_count": null,
   "id": "e91dd86f",
   "metadata": {},
   "outputs": [],
   "source": [
    "sim_matrix = np.array(sim_matrix)\n",
    "cluster = AgglomerativeClustering(n_clusters=5, affinity='euclidean', linkage='ward')\n",
    "clusters = cluster.fit_predict(sim_matrix)\n",
    "clusters"
   ]
  },
  {
   "cell_type": "code",
   "execution_count": null,
   "id": "ccf78b0a",
   "metadata": {},
   "outputs": [],
   "source": [
    "sim_matrix = np.array(sim_matrix)\n",
    "cluster = AgglomerativeClustering(n_clusters=7, affinity='euclidean', linkage='ward')\n",
    "clusters = cluster.fit_predict(new_matrix)\n",
    "clusters"
   ]
  },
  {
   "cell_type": "code",
   "execution_count": null,
   "id": "73f18b25",
   "metadata": {},
   "outputs": [],
   "source": []
  },
  {
   "cell_type": "code",
   "execution_count": null,
   "id": "09a84246",
   "metadata": {},
   "outputs": [],
   "source": []
  },
  {
   "cell_type": "code",
   "execution_count": null,
   "id": "12e9874f",
   "metadata": {},
   "outputs": [],
   "source": []
  },
  {
   "cell_type": "code",
   "execution_count": null,
   "id": "e8077720",
   "metadata": {},
   "outputs": [],
   "source": [
    "\n",
    "n_sim_matrix = sim_matrix_new.shape[0]\n",
    "print(n_sim_matrix)\n",
    "sim_matrix_new_copy = sim_matrix_new\n",
    "sim_matrix_new = np.zeros((n_sim_matrix+1, n_sim_matrix+1))\n",
    "\n",
    "for i in range (n_sim_matrix + 1):\n",
    "    for j in range(i+1, n_sim_matrix + 1):\n",
    "        print(i)\n",
    "        if i == n_sim_matrix - 1:\n",
    "            sim_matrix_new[i, j] = (1 + linear_kernel(x[193], x[j + mat_start], 'euclidean')) * (1 + get_interval(193, j + mat_start))\n",
    "        elif j == n_sim_matrix:\n",
    "            sim_matrix_new[i, j] = (1 + linear_kernel(x[i + mat_start], x[193], 'euclidean')) * (1 + get_interval(i + mat_start, 193))\n",
    "            #print(sim_matrix_new[i, j])\n",
    "\n",
    "        else:\n",
    "            sim_matrix_new[i, j] = sim_matrix_new_copy[i, j]\n",
    "            #print(sim_matrix_new[i, j])\n",
    "        #sim_matrix_new[j, i] = sim_matrix_new_copy[i, j]"
   ]
  },
  {
   "cell_type": "code",
   "execution_count": null,
   "id": "84ad75cb",
   "metadata": {},
   "outputs": [],
   "source": [
    "sim_matrix_new"
   ]
  },
  {
   "cell_type": "code",
   "execution_count": null,
   "id": "67b0b6cd",
   "metadata": {},
   "outputs": [],
   "source": [
    "n_sim_matrix = sim_matrix_new.shape[0]\n",
    "sim_matrix_new = np.zeros((n_sim_matrix+1, n_sim_matrix+1))\n",
    "\n",
    "for i in range (n_sim_matrix):\n",
    "    sim_matrix_new[i].append(sim_matrix_new[i][n_sim_matrix])"
   ]
  },
  {
   "cell_type": "code",
   "execution_count": null,
   "id": "ba8544f1",
   "metadata": {},
   "outputs": [],
   "source": [
    "len(sim_matrix_new[1])"
   ]
  },
  {
   "cell_type": "code",
   "execution_count": null,
   "id": "553db960",
   "metadata": {},
   "outputs": [],
   "source": [
    "sim_matrix_new"
   ]
  },
  {
   "cell_type": "code",
   "execution_count": null,
   "id": "7a6a6b53",
   "metadata": {},
   "outputs": [],
   "source": [
    "n_sim_matrix"
   ]
  },
  {
   "cell_type": "code",
   "execution_count": null,
   "id": "adec839c",
   "metadata": {},
   "outputs": [],
   "source": []
  },
  {
   "cell_type": "code",
   "execution_count": null,
   "id": "fb91eaa1",
   "metadata": {},
   "outputs": [],
   "source": []
  },
  {
   "cell_type": "code",
   "execution_count": null,
   "id": "97c7f718",
   "metadata": {},
   "outputs": [],
   "source": []
  },
  {
   "cell_type": "code",
   "execution_count": null,
   "id": "2f334f45",
   "metadata": {},
   "outputs": [],
   "source": []
  },
  {
   "cell_type": "code",
   "execution_count": null,
   "id": "9dd65466",
   "metadata": {},
   "outputs": [],
   "source": []
  },
  {
   "cell_type": "code",
   "execution_count": null,
   "id": "766ae937",
   "metadata": {},
   "outputs": [],
   "source": []
  },
  {
   "cell_type": "code",
   "execution_count": null,
   "id": "69caa22c",
   "metadata": {},
   "outputs": [],
   "source": []
  },
  {
   "cell_type": "code",
   "execution_count": null,
   "id": "3eb6b33e",
   "metadata": {},
   "outputs": [],
   "source": []
  },
  {
   "cell_type": "code",
   "execution_count": null,
   "id": "9bde0294",
   "metadata": {},
   "outputs": [],
   "source": []
  },
  {
   "cell_type": "code",
   "execution_count": null,
   "id": "86db5873",
   "metadata": {},
   "outputs": [],
   "source": []
  },
  {
   "cell_type": "code",
   "execution_count": null,
   "id": "e1cbe542",
   "metadata": {},
   "outputs": [],
   "source": [
    "new_sim_matrix"
   ]
  },
  {
   "cell_type": "code",
   "execution_count": null,
   "id": "bb12082f",
   "metadata": {},
   "outputs": [],
   "source": []
  },
  {
   "cell_type": "code",
   "execution_count": null,
   "id": "9237cfb7",
   "metadata": {},
   "outputs": [],
   "source": []
  },
  {
   "cell_type": "code",
   "execution_count": null,
   "id": "38481cd7",
   "metadata": {},
   "outputs": [],
   "source": [
    "import matplotlib.pyplot as plt\n",
    "dendrogram = sch.dendrogram(sch.linkage(sim_matrix, method = 'ward'))\n",
    "plt.figure(figsize=(200, 500))\n",
    "plt.show()"
   ]
  },
  {
   "cell_type": "code",
   "execution_count": null,
   "id": "1b261810",
   "metadata": {},
   "outputs": [],
   "source": [
    "#clusterise second time\n",
    "cluster = AgglomerativeClustering(n_clusters=10, affinity='euclidean', linkage='ward')\n",
    "clusters = cluster.fit_predict(new_sim_matrix)\n",
    "clusters"
   ]
  },
  {
   "cell_type": "markdown",
   "id": "b42d0867",
   "metadata": {},
   "source": [
    "     ([4, 4, 4, 4, 4, 4, 4, 4, 4, 4, 4, 4, 4, 4, 0, 0, 0, 0, 0, 0, 0, 0,\n",
    "       0, 0, 0, 0, 0, 0, 0, 0, 0, 0, 0, 0, 5, 8, 8, 8, 8, 8, 8, 9, 9, 9,\n",
    "       9, 3, 3, 3, 3, 3, 3, 3, 3, 3, 3, 3, 3, 3, 3, 3, 3, 3, 3, 6, 6, 6,\n",
    "       6, 6, 6, 2, 2, 2, 2, 2, 2, 2, 2, 2, 2, 2, 2, 2, 2, 2, 1, 1, 1, 1,\n",
    "       1, 1, 1, 1, 1, 7, 7, 7, 7, 7, 7])"
   ]
  },
  {
   "cell_type": "code",
   "execution_count": null,
   "id": "c8995975",
   "metadata": {},
   "outputs": [],
   "source": []
  },
  {
   "cell_type": "code",
   "execution_count": null,
   "id": "b9a1f383",
   "metadata": {},
   "outputs": [],
   "source": []
  },
  {
   "cell_type": "code",
   "execution_count": null,
   "id": "2c8f2a8e",
   "metadata": {},
   "outputs": [],
   "source": [
    "mat_start = 100\n",
    "mat_end = 200\n",
    "tf_idf_matrix = tf_idf_matrix_func(mat_start, mat_end)\n",
    "time_matrix = time_matrix_func(mat_start, mat_end)\n",
    "sim_matrix = sim_matrix_func(mat_start, mat_end) "
   ]
  },
  {
   "cell_type": "code",
   "execution_count": null,
   "id": "1982031b",
   "metadata": {},
   "outputs": [],
   "source": []
  },
  {
   "cell_type": "code",
   "execution_count": null,
   "id": "f67e23a2",
   "metadata": {},
   "outputs": [],
   "source": []
  },
  {
   "cell_type": "code",
   "execution_count": null,
   "id": "16d06467",
   "metadata": {},
   "outputs": [],
   "source": [
    "plt.scatter(x=[:1], y=[:1], c = df_tokenized_1000.cluster, cmap='rainbow' )"
   ]
  },
  {
   "cell_type": "code",
   "execution_count": null,
   "id": "80e6cfb3",
   "metadata": {},
   "outputs": [],
   "source": [
    "df.message[112]"
   ]
  },
  {
   "cell_type": "code",
   "execution_count": null,
   "id": "e746e8e2",
   "metadata": {},
   "outputs": [],
   "source": [
    "df.message[93]"
   ]
  },
  {
   "cell_type": "code",
   "execution_count": null,
   "id": "bf28c190",
   "metadata": {},
   "outputs": [],
   "source": [
    "df.message[94]"
   ]
  },
  {
   "cell_type": "code",
   "execution_count": null,
   "id": "d2341ed2",
   "metadata": {},
   "outputs": [],
   "source": [
    "df.message[291]"
   ]
  },
  {
   "cell_type": "code",
   "execution_count": null,
   "id": "898f71ca",
   "metadata": {},
   "outputs": [],
   "source": [
    "df.message[306]"
   ]
  },
  {
   "cell_type": "code",
   "execution_count": null,
   "id": "1d474886",
   "metadata": {},
   "outputs": [],
   "source": [
    "df.message[307]"
   ]
  },
  {
   "cell_type": "code",
   "execution_count": null,
   "id": "97853226",
   "metadata": {},
   "outputs": [],
   "source": [
    "df.message[162]"
   ]
  },
  {
   "cell_type": "code",
   "execution_count": null,
   "id": "df832cf2",
   "metadata": {},
   "outputs": [],
   "source": [
    "df.message[999]"
   ]
  },
  {
   "cell_type": "code",
   "execution_count": null,
   "id": "2ceb8870",
   "metadata": {},
   "outputs": [],
   "source": []
  },
  {
   "cell_type": "code",
   "execution_count": null,
   "id": "9a31f46f",
   "metadata": {},
   "outputs": [],
   "source": [
    "df_tokenized_10000 = df_tokenized.drop(index=range(10000, 118283))"
   ]
  },
  {
   "cell_type": "code",
   "execution_count": null,
   "id": "74c4622b",
   "metadata": {},
   "outputs": [],
   "source": [
    "df_tokenized_10000"
   ]
  },
  {
   "cell_type": "code",
   "execution_count": null,
   "id": "0fc363a7",
   "metadata": {},
   "outputs": [],
   "source": [
    "df_tokenized_10000['cluster'] = clusters"
   ]
  },
  {
   "cell_type": "code",
   "execution_count": null,
   "id": "3ab3dd72",
   "metadata": {},
   "outputs": [],
   "source": [
    "df_tokenized_10000"
   ]
  },
  {
   "cell_type": "code",
   "execution_count": null,
   "id": "3be2aef7",
   "metadata": {},
   "outputs": [],
   "source": [
    "import seaborn as sns\n",
    "import matplotlib.pyplot as plt\n",
    "sns.set_theme(style=\"whitegrid\")\n",
    "\n",
    "# Pull out a specific subset of networks\n",
    "used_networks = [1, 2, 3, 4, 5, 6, 7,8, 9, 10]\n",
    "#used_columns = (df.columns.get_level_values(\"cluster\")\n",
    "#                          .astype(int)\n",
    "#                          .isin(used_networks))\n",
    "#df = df.loc[:, used_columns]\n",
    "\n",
    "# Compute the correlation matrix and average over networks\n",
    "#corr_df = df.corr().groupby(level=\"ckuster\").mean()\n",
    "#corr_df.index = corr_df.index.astype(int)\n",
    "#corr_df = corr_df.sort_index().T\n",
    "\n",
    "# Set up the matplotlib figure\n",
    "f, ax = plt.subplots(figsize=(11, 6))\n",
    "\n",
    "# Draw a violinplot with a narrower bandwidth than the default\n",
    "sns.violinplot(data=sim_np_matrix, palette=\"Set3\", bw=.2, cut=1, linewidth=1)\n",
    "\n",
    "# Finalize the figure\n",
    "ax.set(ylim=(-.7, 1.05))\n",
    "sns.despine(left=True, bottom=True)"
   ]
  },
  {
   "cell_type": "code",
   "execution_count": null,
   "id": "a44da4aa",
   "metadata": {},
   "outputs": [],
   "source": [
    "sns.violinplot(data=df_tokenized_10000, x=\"cluster\", y=\"date\", palette=\"Set3\")"
   ]
  },
  {
   "cell_type": "code",
   "execution_count": null,
   "id": "8650a72c",
   "metadata": {},
   "outputs": [],
   "source": [
    "a = false\n",
    "b = 9.4\n"
   ]
  },
  {
   "cell_type": "code",
   "execution_count": null,
   "id": "0e7ec0d1",
   "metadata": {},
   "outputs": [],
   "source": [
    "firstnum = 7\n",
    "secondnum = 6\n",
    "firstnum / secondnum"
   ]
  },
  {
   "cell_type": "code",
   "execution_count": null,
   "id": "033351ea",
   "metadata": {},
   "outputs": [],
   "source": []
  },
  {
   "cell_type": "code",
   "execution_count": null,
   "id": "7d12719d",
   "metadata": {},
   "outputs": [],
   "source": [
    "f(x) = 2 if x < -9\n",
    "f(x) = -7*x + -9 if x >= -9\n",
    "f(x) = 2*x^8 + 9*x^5 - 2*x^2 - 10*x if x == -4\n",
    "f(x) = -10*x + -8 if x > 0"
   ]
  },
  {
   "cell_type": "code",
   "execution_count": null,
   "id": "5089ad80",
   "metadata": {},
   "outputs": [],
   "source": []
  },
  {
   "cell_type": "code",
   "execution_count": null,
   "id": "a4577e39",
   "metadata": {},
   "outputs": [],
   "source": []
  },
  {
   "cell_type": "code",
   "execution_count": null,
   "id": "7a08d4fc",
   "metadata": {},
   "outputs": [],
   "source": []
  },
  {
   "cell_type": "code",
   "execution_count": null,
   "id": "8adf7d1d",
   "metadata": {},
   "outputs": [],
   "source": []
  },
  {
   "cell_type": "code",
   "execution_count": null,
   "id": "6170ea73",
   "metadata": {},
   "outputs": [],
   "source": []
  },
  {
   "cell_type": "code",
   "execution_count": null,
   "id": "07ecd3ae",
   "metadata": {},
   "outputs": [],
   "source": []
  },
  {
   "cell_type": "code",
   "execution_count": null,
   "id": "068ad83e",
   "metadata": {},
   "outputs": [],
   "source": []
  },
  {
   "cell_type": "code",
   "execution_count": null,
   "id": "ef97a6c8",
   "metadata": {},
   "outputs": [],
   "source": []
  },
  {
   "cell_type": "code",
   "execution_count": null,
   "id": "e819c430",
   "metadata": {},
   "outputs": [],
   "source": []
  },
  {
   "cell_type": "code",
   "execution_count": null,
   "id": "5255a22f",
   "metadata": {},
   "outputs": [],
   "source": []
  },
  {
   "cell_type": "code",
   "execution_count": null,
   "id": "b222a3f2",
   "metadata": {},
   "outputs": [],
   "source": []
  }
 ],
 "metadata": {
  "kernelspec": {
   "display_name": "Python 3 (ipykernel)",
   "language": "python",
   "name": "python3"
  },
  "language_info": {
   "codemirror_mode": {
    "name": "ipython",
    "version": 3
   },
   "file_extension": ".py",
   "mimetype": "text/x-python",
   "name": "python",
   "nbconvert_exporter": "python",
   "pygments_lexer": "ipython3",
   "version": "3.10.8"
  }
 },
 "nbformat": 4,
 "nbformat_minor": 5
}
