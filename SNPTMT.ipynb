{
 "cells": [
  {
   "cell_type": "code",
   "execution_count": 70,
   "id": "b6b80125",
   "metadata": {},
   "outputs": [],
   "source": [
    "import pandas as pd"
   ]
  },
  {
   "cell_type": "code",
   "execution_count": 71,
   "id": "b23d5205",
   "metadata": {},
   "outputs": [],
   "source": [
    "df = pd.read_csv('db.csv', on_bad_lines='skip', sep='\\t')"
   ]
  },
  {
   "cell_type": "code",
   "execution_count": 72,
   "id": "dcfe2e3e",
   "metadata": {},
   "outputs": [
    {
     "data": {
      "text/html": [
       "<div>\n",
       "<style scoped>\n",
       "    .dataframe tbody tr th:only-of-type {\n",
       "        vertical-align: middle;\n",
       "    }\n",
       "\n",
       "    .dataframe tbody tr th {\n",
       "        vertical-align: top;\n",
       "    }\n",
       "\n",
       "    .dataframe thead th {\n",
       "        text-align: right;\n",
       "    }\n",
       "</style>\n",
       "<table border=\"1\" class=\"dataframe\">\n",
       "  <thead>\n",
       "    <tr style=\"text-align: right;\">\n",
       "      <th></th>\n",
       "      <th>from_id</th>\n",
       "      <th>message</th>\n",
       "      <th>date</th>\n",
       "    </tr>\n",
       "  </thead>\n",
       "  <tbody>\n",
       "    <tr>\n",
       "      <th>0</th>\n",
       "      <td>channel1101170442</td>\n",
       "      <td>Приветствуем всех в нашем Telegram-канале! ✌️️...</td>\n",
       "      <td>2017-02-28 19:55:32</td>\n",
       "    </tr>\n",
       "    <tr>\n",
       "      <th>1</th>\n",
       "      <td>channel1101170442</td>\n",
       "      <td>👑 Награждение победительницы конкурса красоты ...</td>\n",
       "      <td>2017-03-03 18:33:24</td>\n",
       "    </tr>\n",
       "    <tr>\n",
       "      <th>2</th>\n",
       "      <td>channel1101170442</td>\n",
       "      <td>🐍 Американский селекционер Джастин Кобылка пот...</td>\n",
       "      <td>2017-03-09 17:11:06</td>\n",
       "    </tr>\n",
       "    <tr>\n",
       "      <th>3</th>\n",
       "      <td>channel1101170442</td>\n",
       "      <td>А вы за участие России в конкурсе \\\"Евровидени...</td>\n",
       "      <td>2017-03-14 11:13:27</td>\n",
       "    </tr>\n",
       "    <tr>\n",
       "      <th>4</th>\n",
       "      <td>channel1101170442</td>\n",
       "      <td>Не болейте, друзья!</td>\n",
       "      <td>2017-03-14 19:49:56</td>\n",
       "    </tr>\n",
       "    <tr>\n",
       "      <th>...</th>\n",
       "      <td>...</td>\n",
       "      <td>...</td>\n",
       "      <td>...</td>\n",
       "    </tr>\n",
       "    <tr>\n",
       "      <th>118278</th>\n",
       "      <td>channel1101170442</td>\n",
       "      <td>Брифинг Минобороны России</td>\n",
       "      <td>2022-11-17 15:54:29</td>\n",
       "    </tr>\n",
       "    <tr>\n",
       "      <th>118279</th>\n",
       "      <td>channel1101170442</td>\n",
       "      <td>Украинских экспертов допустили на место падени...</td>\n",
       "      <td>2022-11-17 15:57:53</td>\n",
       "    </tr>\n",
       "    <tr>\n",
       "      <th>118280</th>\n",
       "      <td>channel1101170442</td>\n",
       "      <td>Порошенко заявил российским пранкерам, предста...</td>\n",
       "      <td>2022-11-17 16:06:13</td>\n",
       "    </tr>\n",
       "    <tr>\n",
       "      <th>118281</th>\n",
       "      <td>channel1101170442</td>\n",
       "      <td>Израиль сообщил, что завершил испытания морско...</td>\n",
       "      <td>2022-11-17 16:06:57</td>\n",
       "    </tr>\n",
       "    <tr>\n",
       "      <th>118282</th>\n",
       "      <td>channel1101170442</td>\n",
       "      <td>Пожар на московском рынке \\\"Садовод\\\" потушен,...</td>\n",
       "      <td>2022-11-17 16:08:27</td>\n",
       "    </tr>\n",
       "  </tbody>\n",
       "</table>\n",
       "<p>118283 rows × 3 columns</p>\n",
       "</div>"
      ],
      "text/plain": [
       "                  from_id                                            message  \\\n",
       "0       channel1101170442  Приветствуем всех в нашем Telegram-канале! ✌️️...   \n",
       "1       channel1101170442  👑 Награждение победительницы конкурса красоты ...   \n",
       "2       channel1101170442  🐍 Американский селекционер Джастин Кобылка пот...   \n",
       "3       channel1101170442  А вы за участие России в конкурсе \\\"Евровидени...   \n",
       "4       channel1101170442                                Не болейте, друзья!   \n",
       "...                   ...                                                ...   \n",
       "118278  channel1101170442                          Брифинг Минобороны России   \n",
       "118279  channel1101170442  Украинских экспертов допустили на место падени...   \n",
       "118280  channel1101170442  Порошенко заявил российским пранкерам, предста...   \n",
       "118281  channel1101170442  Израиль сообщил, что завершил испытания морско...   \n",
       "118282  channel1101170442  Пожар на московском рынке \\\"Садовод\\\" потушен,...   \n",
       "\n",
       "                       date  \n",
       "0       2017-02-28 19:55:32  \n",
       "1       2017-03-03 18:33:24  \n",
       "2       2017-03-09 17:11:06  \n",
       "3       2017-03-14 11:13:27  \n",
       "4       2017-03-14 19:49:56  \n",
       "...                     ...  \n",
       "118278  2022-11-17 15:54:29  \n",
       "118279  2022-11-17 15:57:53  \n",
       "118280  2022-11-17 16:06:13  \n",
       "118281  2022-11-17 16:06:57  \n",
       "118282  2022-11-17 16:08:27  \n",
       "\n",
       "[118283 rows x 3 columns]"
      ]
     },
     "execution_count": 72,
     "metadata": {},
     "output_type": "execute_result"
    }
   ],
   "source": [
    "df"
   ]
  },
  {
   "cell_type": "markdown",
   "id": "f5279e22",
   "metadata": {},
   "source": [
    "# Removing stopwords"
   ]
  },
  {
   "cell_type": "code",
   "execution_count": 73,
   "id": "5359d8a9",
   "metadata": {},
   "outputs": [],
   "source": [
    "#pip install nltk"
   ]
  },
  {
   "cell_type": "code",
   "execution_count": 74,
   "id": "61365bbe",
   "metadata": {},
   "outputs": [],
   "source": [
    "import nltk"
   ]
  },
  {
   "cell_type": "code",
   "execution_count": 75,
   "id": "6a4373d9",
   "metadata": {},
   "outputs": [],
   "source": [
    "from nltk.tokenize import sent_tokenize, word_tokenize\n",
    "from nltk.corpus import stopwords"
   ]
  },
  {
   "cell_type": "code",
   "execution_count": 76,
   "id": "94032e38",
   "metadata": {},
   "outputs": [],
   "source": [
    "stopsRUS = stopwords.words('russian')\n",
    "stopsENG = stopwords.words('english')\n",
    "\n",
    "stopsRUS.remove('не')\n",
    "stopsENG.remove('not')"
   ]
  },
  {
   "cell_type": "code",
   "execution_count": 77,
   "id": "e456f6fc",
   "metadata": {},
   "outputs": [
    {
     "name": "stderr",
     "output_type": "stream",
     "text": [
      "[nltk_data] Downloading package stopwords to\n",
      "[nltk_data]     /Users/andrewshatalov/nltk_data...\n",
      "[nltk_data]   Package stopwords is already up-to-date!\n"
     ]
    },
    {
     "data": {
      "text/plain": [
       "True"
      ]
     },
     "execution_count": 77,
     "metadata": {},
     "output_type": "execute_result"
    }
   ],
   "source": [
    "import nltk\n",
    "import ssl\n",
    "\n",
    "try:\n",
    "    _create_unverified_https_context = ssl._create_unverified_context\n",
    "except AttributeError:\n",
    "    pass\n",
    "else:\n",
    "    ssl._create_default_https_context = _create_unverified_https_context\n",
    "\n",
    "nltk.download(\"stopwords\")"
   ]
  },
  {
   "cell_type": "code",
   "execution_count": 78,
   "id": "b3a73e3c",
   "metadata": {},
   "outputs": [
    {
     "name": "stdout",
     "output_type": "stream",
     "text": [
      "['и', 'в', 'во', 'что', 'он', 'на', 'я', 'с', 'со', 'как', 'а', 'то', 'все', 'она', 'так', 'его', 'но', 'да', 'ты', 'к', 'у', 'же', 'вы', 'за', 'бы', 'по', 'только', 'ее', 'мне', 'было', 'вот', 'от', 'меня', 'еще', 'нет', 'о', 'из', 'ему', 'теперь', 'когда', 'даже', 'ну', 'вдруг', 'ли', 'если', 'уже', 'или', 'ни', 'быть', 'был', 'него', 'до', 'вас', 'нибудь', 'опять', 'уж', 'вам', 'ведь', 'там', 'потом', 'себя', 'ничего', 'ей', 'может', 'они', 'тут', 'где', 'есть', 'надо', 'ней', 'для', 'мы', 'тебя', 'их', 'чем', 'была', 'сам', 'чтоб', 'без', 'будто', 'чего', 'раз', 'тоже', 'себе', 'под', 'будет', 'ж', 'тогда', 'кто', 'этот', 'того', 'потому', 'этого', 'какой', 'совсем', 'ним', 'здесь', 'этом', 'один', 'почти', 'мой', 'тем', 'чтобы', 'нее', 'сейчас', 'были', 'куда', 'зачем', 'всех', 'никогда', 'можно', 'при', 'наконец', 'два', 'об', 'другой', 'хоть', 'после', 'над', 'больше', 'тот', 'через', 'эти', 'нас', 'про', 'всего', 'них', 'какая', 'много', 'разве', 'три', 'эту', 'моя', 'впрочем', 'хорошо', 'свою', 'этой', 'перед', 'иногда', 'лучше', 'чуть', 'том', 'нельзя', 'такой', 'им', 'более', 'всегда', 'конечно', 'всю', 'между']\n",
      "['i', 'me', 'my', 'myself', 'we', 'our', 'ours', 'ourselves', 'you', \"you're\", \"you've\", \"you'll\", \"you'd\", 'your', 'yours', 'yourself', 'yourselves', 'he', 'him', 'his', 'himself', 'she', \"she's\", 'her', 'hers', 'herself', 'it', \"it's\", 'its', 'itself', 'they', 'them', 'their', 'theirs', 'themselves', 'what', 'which', 'who', 'whom', 'this', 'that', \"that'll\", 'these', 'those', 'am', 'is', 'are', 'was', 'were', 'be', 'been', 'being', 'have', 'has', 'had', 'having', 'do', 'does', 'did', 'doing', 'a', 'an', 'the', 'and', 'but', 'if', 'or', 'because', 'as', 'until', 'while', 'of', 'at', 'by', 'for', 'with', 'about', 'against', 'between', 'into', 'through', 'during', 'before', 'after', 'above', 'below', 'to', 'from', 'up', 'down', 'in', 'out', 'on', 'off', 'over', 'under', 'again', 'further', 'then', 'once', 'here', 'there', 'when', 'where', 'why', 'how', 'all', 'any', 'both', 'each', 'few', 'more', 'most', 'other', 'some', 'such', 'no', 'nor', 'only', 'own', 'same', 'so', 'than', 'too', 'very', 's', 't', 'can', 'will', 'just', 'don', \"don't\", 'should', \"should've\", 'now', 'd', 'll', 'm', 'o', 're', 've', 'y', 'ain', 'aren', \"aren't\", 'couldn', \"couldn't\", 'didn', \"didn't\", 'doesn', \"doesn't\", 'hadn', \"hadn't\", 'hasn', \"hasn't\", 'haven', \"haven't\", 'isn', \"isn't\", 'ma', 'mightn', \"mightn't\", 'mustn', \"mustn't\", 'needn', \"needn't\", 'shan', \"shan't\", 'shouldn', \"shouldn't\", 'wasn', \"wasn't\", 'weren', \"weren't\", 'won', \"won't\", 'wouldn', \"wouldn't\"]\n"
     ]
    }
   ],
   "source": [
    "print(stopsRUS)\n",
    "print(stopsENG)"
   ]
  },
  {
   "cell_type": "markdown",
   "id": "3e6c11eb",
   "metadata": {},
   "source": [
    "# removing emojies\n"
   ]
  },
  {
   "cell_type": "code",
   "execution_count": 79,
   "id": "e853881b",
   "metadata": {},
   "outputs": [],
   "source": [
    "import re\n",
    "df_without_emoji = df\n",
    "\n",
    "def deEmojify(text):\n",
    "    regrex_pattern = re.compile(pattern = \"[\"\n",
    "        u\"\\U0001F600-\\U0001F64F\"  # emoticons\n",
    "        u\"\\U0001F300-\\U0001F5FF\"  # symbols & pictographs\n",
    "        u\"\\U0001F680-\\U0001F6FF\"  # transport & map symbols\n",
    "        u\"\\U0001F1E0-\\U0001F1FF\"  # flags (iOS)\n",
    "        u\"\\U00002500-\\U00002BEF\"  # chinese char\n",
    "        u\"\\U00002702-\\U000027B0\"\n",
    "        u\"\\U00002702-\\U000027B0\"\n",
    "        u\"\\U000024C2-\\U0001F251\"\n",
    "        u\"\\U0001f926-\\U0001f937\"\n",
    "        u\"\\U00010000-\\U0010ffff\"\n",
    "        u\"\\u2640-\\u2642\" \n",
    "        u\"\\u2600-\\u2B55\"\n",
    "        u\"\\u200d\"\n",
    "        u\"\\u23cf\"\n",
    "        u\"\\u23e9\"\n",
    "        u\"\\u231a\"\n",
    "        u\"\\ufe0f\"  # dingbats\n",
    "        u\"\\u3030\"\n",
    "                           \"]+\", flags = re.UNICODE)\n",
    "    return regrex_pattern.sub(r'',text)\n",
    "\n",
    "df_without_emoji['message'] = df_without_emoji['message'].apply(deEmojify)"
   ]
  },
  {
   "cell_type": "code",
   "execution_count": 80,
   "id": "48f6ec96",
   "metadata": {},
   "outputs": [
    {
     "data": {
      "text/html": [
       "<div>\n",
       "<style scoped>\n",
       "    .dataframe tbody tr th:only-of-type {\n",
       "        vertical-align: middle;\n",
       "    }\n",
       "\n",
       "    .dataframe tbody tr th {\n",
       "        vertical-align: top;\n",
       "    }\n",
       "\n",
       "    .dataframe thead th {\n",
       "        text-align: right;\n",
       "    }\n",
       "</style>\n",
       "<table border=\"1\" class=\"dataframe\">\n",
       "  <thead>\n",
       "    <tr style=\"text-align: right;\">\n",
       "      <th></th>\n",
       "      <th>from_id</th>\n",
       "      <th>message</th>\n",
       "      <th>date</th>\n",
       "    </tr>\n",
       "  </thead>\n",
       "  <tbody>\n",
       "    <tr>\n",
       "      <th>0</th>\n",
       "      <td>channel1101170442</td>\n",
       "      <td>Приветствуем всех в нашем Telegram-канале!  Вс...</td>\n",
       "      <td>2017-02-28 19:55:32</td>\n",
       "    </tr>\n",
       "    <tr>\n",
       "      <th>1</th>\n",
       "      <td>channel1101170442</td>\n",
       "      <td>Награждение победительницы конкурса красоты с...</td>\n",
       "      <td>2017-03-03 18:33:24</td>\n",
       "    </tr>\n",
       "    <tr>\n",
       "      <th>2</th>\n",
       "      <td>channel1101170442</td>\n",
       "      <td>Американский селекционер Джастин Кобылка потр...</td>\n",
       "      <td>2017-03-09 17:11:06</td>\n",
       "    </tr>\n",
       "    <tr>\n",
       "      <th>3</th>\n",
       "      <td>channel1101170442</td>\n",
       "      <td>А вы за участие России в конкурсе \\\"Евровидени...</td>\n",
       "      <td>2017-03-14 11:13:27</td>\n",
       "    </tr>\n",
       "    <tr>\n",
       "      <th>4</th>\n",
       "      <td>channel1101170442</td>\n",
       "      <td>Не болейте, друзья!</td>\n",
       "      <td>2017-03-14 19:49:56</td>\n",
       "    </tr>\n",
       "    <tr>\n",
       "      <th>...</th>\n",
       "      <td>...</td>\n",
       "      <td>...</td>\n",
       "      <td>...</td>\n",
       "    </tr>\n",
       "    <tr>\n",
       "      <th>118278</th>\n",
       "      <td>channel1101170442</td>\n",
       "      <td>Брифинг Минобороны России</td>\n",
       "      <td>2022-11-17 15:54:29</td>\n",
       "    </tr>\n",
       "    <tr>\n",
       "      <th>118279</th>\n",
       "      <td>channel1101170442</td>\n",
       "      <td>Украинских экспертов допустили на место падени...</td>\n",
       "      <td>2022-11-17 15:57:53</td>\n",
       "    </tr>\n",
       "    <tr>\n",
       "      <th>118280</th>\n",
       "      <td>channel1101170442</td>\n",
       "      <td>Порошенко заявил российским пранкерам, предста...</td>\n",
       "      <td>2022-11-17 16:06:13</td>\n",
       "    </tr>\n",
       "    <tr>\n",
       "      <th>118281</th>\n",
       "      <td>channel1101170442</td>\n",
       "      <td>Израиль сообщил, что завершил испытания морско...</td>\n",
       "      <td>2022-11-17 16:06:57</td>\n",
       "    </tr>\n",
       "    <tr>\n",
       "      <th>118282</th>\n",
       "      <td>channel1101170442</td>\n",
       "      <td>Пожар на московском рынке \\\"Садовод\\\" потушен,...</td>\n",
       "      <td>2022-11-17 16:08:27</td>\n",
       "    </tr>\n",
       "  </tbody>\n",
       "</table>\n",
       "<p>118283 rows × 3 columns</p>\n",
       "</div>"
      ],
      "text/plain": [
       "                  from_id                                            message  \\\n",
       "0       channel1101170442  Приветствуем всех в нашем Telegram-канале!  Вс...   \n",
       "1       channel1101170442   Награждение победительницы конкурса красоты с...   \n",
       "2       channel1101170442   Американский селекционер Джастин Кобылка потр...   \n",
       "3       channel1101170442  А вы за участие России в конкурсе \\\"Евровидени...   \n",
       "4       channel1101170442                                Не болейте, друзья!   \n",
       "...                   ...                                                ...   \n",
       "118278  channel1101170442                          Брифинг Минобороны России   \n",
       "118279  channel1101170442  Украинских экспертов допустили на место падени...   \n",
       "118280  channel1101170442  Порошенко заявил российским пранкерам, предста...   \n",
       "118281  channel1101170442  Израиль сообщил, что завершил испытания морско...   \n",
       "118282  channel1101170442  Пожар на московском рынке \\\"Садовод\\\" потушен,...   \n",
       "\n",
       "                       date  \n",
       "0       2017-02-28 19:55:32  \n",
       "1       2017-03-03 18:33:24  \n",
       "2       2017-03-09 17:11:06  \n",
       "3       2017-03-14 11:13:27  \n",
       "4       2017-03-14 19:49:56  \n",
       "...                     ...  \n",
       "118278  2022-11-17 15:54:29  \n",
       "118279  2022-11-17 15:57:53  \n",
       "118280  2022-11-17 16:06:13  \n",
       "118281  2022-11-17 16:06:57  \n",
       "118282  2022-11-17 16:08:27  \n",
       "\n",
       "[118283 rows x 3 columns]"
      ]
     },
     "execution_count": 80,
     "metadata": {},
     "output_type": "execute_result"
    }
   ],
   "source": [
    "df_without_emoji"
   ]
  },
  {
   "cell_type": "markdown",
   "id": "6fc4f9e3",
   "metadata": {},
   "source": [
    "# Removing signs"
   ]
  },
  {
   "cell_type": "code",
   "execution_count": 81,
   "id": "8684c74f",
   "metadata": {},
   "outputs": [],
   "source": [
    "#nltk.download('punkt')"
   ]
  },
  {
   "cell_type": "code",
   "execution_count": 82,
   "id": "007de6c4",
   "metadata": {},
   "outputs": [],
   "source": [
    "df_without_signs = df_without_emoji\n",
    "\n",
    "def deSigns(text):\n",
    "    regrex_pattern = re.compile(pattern = '[!@\"“’«»#\\\\\\\\$%&\\'()*+,—/:;<=>?^_`{|}~\\[\\]]', flags = re.UNICODE)\n",
    "    return regrex_pattern.sub(r'',text)\n",
    "#def deSignsBackSlash(text):\n",
    "#    regrex_pattern = re.compile(pattern = '\\\\\\\\', flags = re.UNICODE)\n",
    "#    return regrex_pattern.sub(r'',text)\n",
    "\n",
    "df_without_signs['message'] = df_without_signs['message'].apply(deSigns)\n",
    "#df_without_signs['message'] = df_without_signs['message'].apply(deSignsBackSlash"
   ]
  },
  {
   "cell_type": "code",
   "execution_count": 83,
   "id": "34db87b6",
   "metadata": {},
   "outputs": [
    {
     "data": {
      "text/html": [
       "<div>\n",
       "<style scoped>\n",
       "    .dataframe tbody tr th:only-of-type {\n",
       "        vertical-align: middle;\n",
       "    }\n",
       "\n",
       "    .dataframe tbody tr th {\n",
       "        vertical-align: top;\n",
       "    }\n",
       "\n",
       "    .dataframe thead th {\n",
       "        text-align: right;\n",
       "    }\n",
       "</style>\n",
       "<table border=\"1\" class=\"dataframe\">\n",
       "  <thead>\n",
       "    <tr style=\"text-align: right;\">\n",
       "      <th></th>\n",
       "      <th>from_id</th>\n",
       "      <th>message</th>\n",
       "      <th>date</th>\n",
       "    </tr>\n",
       "  </thead>\n",
       "  <tbody>\n",
       "    <tr>\n",
       "      <th>0</th>\n",
       "      <td>channel1101170442</td>\n",
       "      <td>Приветствуем всех в нашем Telegram-канале  Все...</td>\n",
       "      <td>2017-02-28 19:55:32</td>\n",
       "    </tr>\n",
       "    <tr>\n",
       "      <th>1</th>\n",
       "      <td>channel1101170442</td>\n",
       "      <td>Награждение победительницы конкурса красоты с...</td>\n",
       "      <td>2017-03-03 18:33:24</td>\n",
       "    </tr>\n",
       "    <tr>\n",
       "      <th>2</th>\n",
       "      <td>channel1101170442</td>\n",
       "      <td>Американский селекционер Джастин Кобылка потр...</td>\n",
       "      <td>2017-03-09 17:11:06</td>\n",
       "    </tr>\n",
       "    <tr>\n",
       "      <th>3</th>\n",
       "      <td>channel1101170442</td>\n",
       "      <td>А вы за участие России в конкурсе Евровидение</td>\n",
       "      <td>2017-03-14 11:13:27</td>\n",
       "    </tr>\n",
       "    <tr>\n",
       "      <th>4</th>\n",
       "      <td>channel1101170442</td>\n",
       "      <td>Не болейте друзья</td>\n",
       "      <td>2017-03-14 19:49:56</td>\n",
       "    </tr>\n",
       "    <tr>\n",
       "      <th>...</th>\n",
       "      <td>...</td>\n",
       "      <td>...</td>\n",
       "      <td>...</td>\n",
       "    </tr>\n",
       "    <tr>\n",
       "      <th>118278</th>\n",
       "      <td>channel1101170442</td>\n",
       "      <td>Брифинг Минобороны России</td>\n",
       "      <td>2022-11-17 15:54:29</td>\n",
       "    </tr>\n",
       "    <tr>\n",
       "      <th>118279</th>\n",
       "      <td>channel1101170442</td>\n",
       "      <td>Украинских экспертов допустили на место падени...</td>\n",
       "      <td>2022-11-17 15:57:53</td>\n",
       "    </tr>\n",
       "    <tr>\n",
       "      <th>118280</th>\n",
       "      <td>channel1101170442</td>\n",
       "      <td>Порошенко заявил российским пранкерам представ...</td>\n",
       "      <td>2022-11-17 16:06:13</td>\n",
       "    </tr>\n",
       "    <tr>\n",
       "      <th>118281</th>\n",
       "      <td>channel1101170442</td>\n",
       "      <td>Израиль сообщил что завершил испытания морской...</td>\n",
       "      <td>2022-11-17 16:06:57</td>\n",
       "    </tr>\n",
       "    <tr>\n",
       "      <th>118282</th>\n",
       "      <td>channel1101170442</td>\n",
       "      <td>Пожар на московском рынке Садовод потушен его ...</td>\n",
       "      <td>2022-11-17 16:08:27</td>\n",
       "    </tr>\n",
       "  </tbody>\n",
       "</table>\n",
       "<p>118283 rows × 3 columns</p>\n",
       "</div>"
      ],
      "text/plain": [
       "                  from_id                                            message  \\\n",
       "0       channel1101170442  Приветствуем всех в нашем Telegram-канале  Все...   \n",
       "1       channel1101170442   Награждение победительницы конкурса красоты с...   \n",
       "2       channel1101170442   Американский селекционер Джастин Кобылка потр...   \n",
       "3       channel1101170442      А вы за участие России в конкурсе Евровидение   \n",
       "4       channel1101170442                                  Не болейте друзья   \n",
       "...                   ...                                                ...   \n",
       "118278  channel1101170442                          Брифинг Минобороны России   \n",
       "118279  channel1101170442  Украинских экспертов допустили на место падени...   \n",
       "118280  channel1101170442  Порошенко заявил российским пранкерам представ...   \n",
       "118281  channel1101170442  Израиль сообщил что завершил испытания морской...   \n",
       "118282  channel1101170442  Пожар на московском рынке Садовод потушен его ...   \n",
       "\n",
       "                       date  \n",
       "0       2017-02-28 19:55:32  \n",
       "1       2017-03-03 18:33:24  \n",
       "2       2017-03-09 17:11:06  \n",
       "3       2017-03-14 11:13:27  \n",
       "4       2017-03-14 19:49:56  \n",
       "...                     ...  \n",
       "118278  2022-11-17 15:54:29  \n",
       "118279  2022-11-17 15:57:53  \n",
       "118280  2022-11-17 16:06:13  \n",
       "118281  2022-11-17 16:06:57  \n",
       "118282  2022-11-17 16:08:27  \n",
       "\n",
       "[118283 rows x 3 columns]"
      ]
     },
     "execution_count": 83,
     "metadata": {},
     "output_type": "execute_result"
    }
   ],
   "source": [
    "df_without_signs"
   ]
  },
  {
   "cell_type": "markdown",
   "id": "afabd947",
   "metadata": {},
   "source": [
    "# Lemmatization"
   ]
  },
  {
   "cell_type": "code",
   "execution_count": 84,
   "id": "171bfdb6",
   "metadata": {},
   "outputs": [],
   "source": [
    "#pip install pymorphy2"
   ]
  },
  {
   "cell_type": "code",
   "execution_count": 85,
   "id": "b45e1bb5",
   "metadata": {},
   "outputs": [],
   "source": [
    "import pymorphy2"
   ]
  },
  {
   "cell_type": "code",
   "execution_count": 86,
   "id": "2b71888c",
   "metadata": {},
   "outputs": [
    {
     "name": "stdout",
     "output_type": "stream",
     "text": [
      "CPU times: user 7min 18s, sys: 1.05 s, total: 7min 19s\n",
      "Wall time: 7min 19s\n"
     ]
    }
   ],
   "source": [
    "%%time\n",
    "df_normal = df_without_signs\n",
    "\n",
    "morph = pymorphy2.MorphAnalyzer()\n",
    "\n",
    "def converter (sentence):\n",
    "    list = []\n",
    "    words = sentence.split()\n",
    "    for item in words:\n",
    "        list.append(morph.parse(item)[0].normal_form)\n",
    "    return ' '.join(list) \n",
    "\n",
    "df_normal['message'] = df_normal['message'].apply(converter)"
   ]
  },
  {
   "cell_type": "code",
   "execution_count": 88,
   "id": "bd134df7",
   "metadata": {},
   "outputs": [
    {
     "data": {
      "text/html": [
       "<div>\n",
       "<style scoped>\n",
       "    .dataframe tbody tr th:only-of-type {\n",
       "        vertical-align: middle;\n",
       "    }\n",
       "\n",
       "    .dataframe tbody tr th {\n",
       "        vertical-align: top;\n",
       "    }\n",
       "\n",
       "    .dataframe thead th {\n",
       "        text-align: right;\n",
       "    }\n",
       "</style>\n",
       "<table border=\"1\" class=\"dataframe\">\n",
       "  <thead>\n",
       "    <tr style=\"text-align: right;\">\n",
       "      <th></th>\n",
       "      <th>from_id</th>\n",
       "      <th>message</th>\n",
       "      <th>date</th>\n",
       "    </tr>\n",
       "  </thead>\n",
       "  <tbody>\n",
       "    <tr>\n",
       "      <th>0</th>\n",
       "      <td>channel1101170442</td>\n",
       "      <td>приветствовать весь в наш telegram-канал всегд...</td>\n",
       "      <td>2017-02-28 19:55:32</td>\n",
       "    </tr>\n",
       "    <tr>\n",
       "      <th>1</th>\n",
       "      <td>channel1101170442</td>\n",
       "      <td>награждение победительница конкурс красота сре...</td>\n",
       "      <td>2017-03-03 18:33:24</td>\n",
       "    </tr>\n",
       "    <tr>\n",
       "      <th>2</th>\n",
       "      <td>channel1101170442</td>\n",
       "      <td>американский селекционер джастин кобылка потра...</td>\n",
       "      <td>2017-03-09 17:11:06</td>\n",
       "    </tr>\n",
       "    <tr>\n",
       "      <th>3</th>\n",
       "      <td>channel1101170442</td>\n",
       "      <td>а вы за участие россия в конкурс евровидение</td>\n",
       "      <td>2017-03-14 11:13:27</td>\n",
       "    </tr>\n",
       "    <tr>\n",
       "      <th>4</th>\n",
       "      <td>channel1101170442</td>\n",
       "      <td>не болеть друг</td>\n",
       "      <td>2017-03-14 19:49:56</td>\n",
       "    </tr>\n",
       "    <tr>\n",
       "      <th>...</th>\n",
       "      <td>...</td>\n",
       "      <td>...</td>\n",
       "      <td>...</td>\n",
       "    </tr>\n",
       "    <tr>\n",
       "      <th>118278</th>\n",
       "      <td>channel1101170442</td>\n",
       "      <td>брифинг минобороны россия</td>\n",
       "      <td>2022-11-17 15:54:29</td>\n",
       "    </tr>\n",
       "    <tr>\n",
       "      <th>118279</th>\n",
       "      <td>channel1101170442</td>\n",
       "      <td>украинский эксперт допустить на место падение ...</td>\n",
       "      <td>2022-11-17 15:57:53</td>\n",
       "    </tr>\n",
       "    <tr>\n",
       "      <th>118280</th>\n",
       "      <td>channel1101170442</td>\n",
       "      <td>порошенко заявить российский пранкер представи...</td>\n",
       "      <td>2022-11-17 16:06:13</td>\n",
       "    </tr>\n",
       "    <tr>\n",
       "      <th>118281</th>\n",
       "      <td>channel1101170442</td>\n",
       "      <td>израиль сообщить что завершить испытание морск...</td>\n",
       "      <td>2022-11-17 16:06:57</td>\n",
       "    </tr>\n",
       "    <tr>\n",
       "      <th>118282</th>\n",
       "      <td>channel1101170442</td>\n",
       "      <td>пожар на московский рынок садовод потушить он ...</td>\n",
       "      <td>2022-11-17 16:08:27</td>\n",
       "    </tr>\n",
       "  </tbody>\n",
       "</table>\n",
       "<p>118283 rows × 3 columns</p>\n",
       "</div>"
      ],
      "text/plain": [
       "                  from_id                                            message  \\\n",
       "0       channel1101170442  приветствовать весь в наш telegram-канал всегд...   \n",
       "1       channel1101170442  награждение победительница конкурс красота сре...   \n",
       "2       channel1101170442  американский селекционер джастин кобылка потра...   \n",
       "3       channel1101170442       а вы за участие россия в конкурс евровидение   \n",
       "4       channel1101170442                                     не болеть друг   \n",
       "...                   ...                                                ...   \n",
       "118278  channel1101170442                          брифинг минобороны россия   \n",
       "118279  channel1101170442  украинский эксперт допустить на место падение ...   \n",
       "118280  channel1101170442  порошенко заявить российский пранкер представи...   \n",
       "118281  channel1101170442  израиль сообщить что завершить испытание морск...   \n",
       "118282  channel1101170442  пожар на московский рынок садовод потушить он ...   \n",
       "\n",
       "                       date  \n",
       "0       2017-02-28 19:55:32  \n",
       "1       2017-03-03 18:33:24  \n",
       "2       2017-03-09 17:11:06  \n",
       "3       2017-03-14 11:13:27  \n",
       "4       2017-03-14 19:49:56  \n",
       "...                     ...  \n",
       "118278  2022-11-17 15:54:29  \n",
       "118279  2022-11-17 15:57:53  \n",
       "118280  2022-11-17 16:06:13  \n",
       "118281  2022-11-17 16:06:57  \n",
       "118282  2022-11-17 16:08:27  \n",
       "\n",
       "[118283 rows x 3 columns]"
      ]
     },
     "execution_count": 88,
     "metadata": {},
     "output_type": "execute_result"
    }
   ],
   "source": [
    "df_normal"
   ]
  },
  {
   "cell_type": "markdown",
   "id": "9992c561",
   "metadata": {},
   "source": [
    "# Tokenizing"
   ]
  },
  {
   "cell_type": "code",
   "execution_count": 373,
   "id": "520466f3",
   "metadata": {},
   "outputs": [],
   "source": [
    "df['message'] = df['message'].apply(lambda x: ' '.join([word for word in x.split() if word not in (stopsRUS)]))"
   ]
  },
  {
   "cell_type": "code",
   "execution_count": 374,
   "id": "6306e675",
   "metadata": {},
   "outputs": [],
   "source": [
    "df_tokenized = df_without_emoji\n",
    "def tokenize(column):\n",
    "    tokens = nltk.word_tokenize(column)\n",
    "    return [w for w in tokens if w.isalpha()]\n",
    "\n",
    "df_tokenized['tokenized'] = df_tokenized.apply(lambda x: tokenize(x['message']), axis=1)"
   ]
  },
  {
   "cell_type": "code",
   "execution_count": 375,
   "id": "ae93542f",
   "metadata": {},
   "outputs": [
    {
     "data": {
      "text/html": [
       "<div>\n",
       "<style scoped>\n",
       "    .dataframe tbody tr th:only-of-type {\n",
       "        vertical-align: middle;\n",
       "    }\n",
       "\n",
       "    .dataframe tbody tr th {\n",
       "        vertical-align: top;\n",
       "    }\n",
       "\n",
       "    .dataframe thead th {\n",
       "        text-align: right;\n",
       "    }\n",
       "</style>\n",
       "<table border=\"1\" class=\"dataframe\">\n",
       "  <thead>\n",
       "    <tr style=\"text-align: right;\">\n",
       "      <th></th>\n",
       "      <th>from_id</th>\n",
       "      <th>message</th>\n",
       "      <th>date</th>\n",
       "      <th>tokenized</th>\n",
       "    </tr>\n",
       "  </thead>\n",
       "  <tbody>\n",
       "    <tr>\n",
       "      <th>0</th>\n",
       "      <td>channel1101170442</td>\n",
       "      <td>приветствовать весь наш telegram-канал курс кл...</td>\n",
       "      <td>2017-02-28 19:55:32</td>\n",
       "      <td>[приветствовать, весь, наш, курс, ключевой, со...</td>\n",
       "    </tr>\n",
       "    <tr>\n",
       "      <th>1</th>\n",
       "      <td>channel1101170442</td>\n",
       "      <td>награждение победительница конкурс красота сре...</td>\n",
       "      <td>2017-03-03 18:33:24</td>\n",
       "      <td>[награждение, победительница, конкурс, красота...</td>\n",
       "    </tr>\n",
       "    <tr>\n",
       "      <th>2</th>\n",
       "      <td>channel1101170442</td>\n",
       "      <td>американский селекционер джастин кобылка потра...</td>\n",
       "      <td>2017-03-09 17:11:06</td>\n",
       "      <td>[американский, селекционер, джастин, кобылка, ...</td>\n",
       "    </tr>\n",
       "    <tr>\n",
       "      <th>3</th>\n",
       "      <td>channel1101170442</td>\n",
       "      <td>участие россия конкурс евровидение</td>\n",
       "      <td>2017-03-14 11:13:27</td>\n",
       "      <td>[участие, россия, конкурс, евровидение]</td>\n",
       "    </tr>\n",
       "    <tr>\n",
       "      <th>4</th>\n",
       "      <td>channel1101170442</td>\n",
       "      <td>не болеть друг</td>\n",
       "      <td>2017-03-14 19:49:56</td>\n",
       "      <td>[не, болеть, друг]</td>\n",
       "    </tr>\n",
       "    <tr>\n",
       "      <th>...</th>\n",
       "      <td>...</td>\n",
       "      <td>...</td>\n",
       "      <td>...</td>\n",
       "      <td>...</td>\n",
       "    </tr>\n",
       "    <tr>\n",
       "      <th>118278</th>\n",
       "      <td>channel1101170442</td>\n",
       "      <td>брифинг минобороны россия</td>\n",
       "      <td>2022-11-17 15:54:29</td>\n",
       "      <td>[брифинг, минобороны, россия]</td>\n",
       "    </tr>\n",
       "    <tr>\n",
       "      <th>118279</th>\n",
       "      <td>channel1101170442</td>\n",
       "      <td>украинский эксперт допустить место падение рак...</td>\n",
       "      <td>2022-11-17 15:57:53</td>\n",
       "      <td>[украинский, эксперт, допустить, место, падени...</td>\n",
       "    </tr>\n",
       "    <tr>\n",
       "      <th>118280</th>\n",
       "      <td>channel1101170442</td>\n",
       "      <td>порошенко заявить российский пранкер представи...</td>\n",
       "      <td>2022-11-17 16:06:13</td>\n",
       "      <td>[порошенко, заявить, российский, пранкер, пред...</td>\n",
       "    </tr>\n",
       "    <tr>\n",
       "      <th>118281</th>\n",
       "      <td>channel1101170442</td>\n",
       "      <td>израиль сообщить завершить испытание морской с...</td>\n",
       "      <td>2022-11-17 16:06:57</td>\n",
       "      <td>[израиль, сообщить, завершить, испытание, морс...</td>\n",
       "    </tr>\n",
       "    <tr>\n",
       "      <th>118282</th>\n",
       "      <td>channel1101170442</td>\n",
       "      <td>пожар московский рынок садовод потушить площад...</td>\n",
       "      <td>2022-11-17 16:08:27</td>\n",
       "      <td>[пожар, московский, рынок, садовод, потушить, ...</td>\n",
       "    </tr>\n",
       "  </tbody>\n",
       "</table>\n",
       "<p>118283 rows × 4 columns</p>\n",
       "</div>"
      ],
      "text/plain": [
       "                  from_id                                            message  \\\n",
       "0       channel1101170442  приветствовать весь наш telegram-канал курс кл...   \n",
       "1       channel1101170442  награждение победительница конкурс красота сре...   \n",
       "2       channel1101170442  американский селекционер джастин кобылка потра...   \n",
       "3       channel1101170442                 участие россия конкурс евровидение   \n",
       "4       channel1101170442                                     не болеть друг   \n",
       "...                   ...                                                ...   \n",
       "118278  channel1101170442                          брифинг минобороны россия   \n",
       "118279  channel1101170442  украинский эксперт допустить место падение рак...   \n",
       "118280  channel1101170442  порошенко заявить российский пранкер представи...   \n",
       "118281  channel1101170442  израиль сообщить завершить испытание морской с...   \n",
       "118282  channel1101170442  пожар московский рынок садовод потушить площад...   \n",
       "\n",
       "                       date                                          tokenized  \n",
       "0       2017-02-28 19:55:32  [приветствовать, весь, наш, курс, ключевой, со...  \n",
       "1       2017-03-03 18:33:24  [награждение, победительница, конкурс, красота...  \n",
       "2       2017-03-09 17:11:06  [американский, селекционер, джастин, кобылка, ...  \n",
       "3       2017-03-14 11:13:27            [участие, россия, конкурс, евровидение]  \n",
       "4       2017-03-14 19:49:56                                 [не, болеть, друг]  \n",
       "...                     ...                                                ...  \n",
       "118278  2022-11-17 15:54:29                      [брифинг, минобороны, россия]  \n",
       "118279  2022-11-17 15:57:53  [украинский, эксперт, допустить, место, падени...  \n",
       "118280  2022-11-17 16:06:13  [порошенко, заявить, российский, пранкер, пред...  \n",
       "118281  2022-11-17 16:06:57  [израиль, сообщить, завершить, испытание, морс...  \n",
       "118282  2022-11-17 16:08:27  [пожар, московский, рынок, садовод, потушить, ...  \n",
       "\n",
       "[118283 rows x 4 columns]"
      ]
     },
     "execution_count": 375,
     "metadata": {},
     "output_type": "execute_result"
    }
   ],
   "source": [
    "df_tokenized"
   ]
  },
  {
   "cell_type": "markdown",
   "id": "ff9d1b10",
   "metadata": {},
   "source": [
    "# spaCY"
   ]
  },
  {
   "cell_type": "code",
   "execution_count": 376,
   "id": "2f1b0fe9",
   "metadata": {},
   "outputs": [],
   "source": [
    "#pip install spacy"
   ]
  },
  {
   "cell_type": "code",
   "execution_count": 377,
   "id": "d92ca18c",
   "metadata": {},
   "outputs": [],
   "source": [
    "#pip install https://github.com/explosion/spacy-models/releases/download/ru_core_news_sm-3.1.0/ru_core_news_sm-3.1.0.tar.gz"
   ]
  },
  {
   "cell_type": "code",
   "execution_count": 378,
   "id": "89d697a8",
   "metadata": {},
   "outputs": [],
   "source": [
    "import spacy"
   ]
  },
  {
   "cell_type": "code",
   "execution_count": 379,
   "id": "2ca0e600",
   "metadata": {},
   "outputs": [],
   "source": [
    "start_clustering = 100\n",
    "end_clustering = 150"
   ]
  },
  {
   "cell_type": "code",
   "execution_count": 380,
   "id": "9a00a08b",
   "metadata": {},
   "outputs": [],
   "source": [
    "nlp = spacy.load(\"ru_core_news_sm\")\n",
    "df_tokenized_2 = df_tokenized['message'][start_clustering:end_clustering + 1].apply(nlp)"
   ]
  },
  {
   "cell_type": "code",
   "execution_count": 381,
   "id": "27718d5c",
   "metadata": {},
   "outputs": [
    {
     "data": {
      "text/plain": [
       "100    (вид, получить, название, марианский, морской,...\n",
       "101    (запуск, falcon, heavy, состояться, следующий,...\n",
       "102    (момоа, пояснить, наткнуться, спойлер, время, ...\n",
       "103    (инженер, тольяттинский, компания, yagalet, за...\n",
       "104    (смочь, решить, вопрос, украина, именно, прийт...\n",
       "105    (торжественный, зажжение, высокий, мир, живой,...\n",
       "106    (военный, изъять, несколько, тысяча, единица, ...\n",
       "107    (ракета, -, носитель, среднее, класс, союз-2.1...\n",
       "108    (бетти, миллер, подмешивать, яд, пища, напиток...\n",
       "109    (полицейский, мартин, уиллис, около, 15, минут...\n",
       "110    (добавить, всё, свой, ошибка, президент, украи...\n",
       "111    (группа, получить, известность, благодаря, пес...\n",
       "112    (новосибирский, область, пятеро, ребёнок, поги...\n",
       "113    (мария, шарапов, серить, уильямс, принять, уча...\n",
       "114    (идти, выборы, уникальный, программа, право, с...\n",
       "115    (05.12.2017, соответствие, закон, российский, ...\n",
       "116    (знаменитый, французский, певец, композитор, с...\n",
       "117    (захаров, заявить, попытка, сша, вербовать, ро...\n",
       "118                                        (самый, фото)\n",
       "119    (осудить, сша, российский, лётчик, ярошенко, п...\n",
       "120    (наш, настойчивый, требование, российский, лёт...\n",
       "121    (путин, объявить, участие, президентский, выборы)\n",
       "122    (очки, черчилль, уйти, аукцион, 8, тысяча, дол...\n",
       "123    (побережье, чукотка, выбросить, гигантский, мо...\n",
       "124    (московский, метро, запустить, поезд, наука, б...\n",
       "125    (поезд, наука, будущее, курсировать, кольцевой...\n",
       "126    (лидер, хамас, объявить, пятница, день, гнев, ...\n",
       "127    (тренер, украинский, клуб, шахтёр, паула, фонс...\n",
       "128    (европа, разыскивать, 66-летний, поклонник, ги...\n",
       "129    (оценка, полиция, манифестация, брюссель, учас...\n",
       "130    (ростовский, аэропорт, платовпринять, первый, ...\n",
       "131    (аэропорт, плат, расположить, аксайский, район...\n",
       "132    (мощный, последний, слово, улюкаева, ., nя, пр...\n",
       "133    (лидер, антирейтинг, стать, пятый, часть, фран...\n",
       "134    (всё, -, таки, известный, событие, вторник, не...\n",
       "135    (это, май, френдз, организатор, говорить, 50, ...\n",
       "136    (слово, обама, расти, самодовольство, американ...\n",
       "137    (письмо, найти, опубликовать, свой, страница, ...\n",
       "138    (соцсеть, высмеять, новогодний, ёлка, центр, к...\n",
       "139    (ранее, управление, фсб, ставропольский, край,...\n",
       "140    (новогодний, волшебник, проверить, качество, г...\n",
       "141    (4, год, назад, дуров, купить, 2, тысяча, битк...\n",
       "142    (целое, самый, популярный, запрос, яндекс, 201...\n",
       "143    (блогер, опубликовать, видео, странный, поведе...\n",
       "144    (ранее, сми, появиться, текст, запрос, депутат...\n",
       "145               (путин, пойти, выборы, самовыдвиженец)\n",
       "146    (путин, рассказать, анекдот, отвечать, вопрос,...\n",
       "147    (показательно, спонтанный, аплодисменты, зал, ...\n",
       "148    (это, песков, написать, прочитать, вопрос, дат...\n",
       "149    (хотеть, спросить, путин, 1, трамп, -, ещё, ша...\n",
       "150    (фермер, выйти, суд, смотреть, пресс, -, конфе...\n",
       "Name: message, dtype: object"
      ]
     },
     "execution_count": 381,
     "metadata": {},
     "output_type": "execute_result"
    }
   ],
   "source": [
    "df_tokenized_2"
   ]
  },
  {
   "cell_type": "code",
   "execution_count": 382,
   "id": "84b5aef1",
   "metadata": {},
   "outputs": [],
   "source": [
    "vectors_list = [doc.vector for doc in df_tokenized_2]"
   ]
  },
  {
   "cell_type": "code",
   "execution_count": 383,
   "id": "21f3c2f9",
   "metadata": {},
   "outputs": [
    {
     "data": {
      "text/plain": [
       "51"
      ]
     },
     "execution_count": 383,
     "metadata": {},
     "output_type": "execute_result"
    }
   ],
   "source": [
    "len(vectors_list)"
   ]
  },
  {
   "cell_type": "code",
   "execution_count": 384,
   "id": "1b8f58ae",
   "metadata": {},
   "outputs": [],
   "source": [
    "from scipy.spatial.distance import cdist\n",
    "cosine_distance_matrix = cdist(vectors_list, vectors_list, metric='cosine')"
   ]
  },
  {
   "cell_type": "code",
   "execution_count": 385,
   "id": "c396891b",
   "metadata": {},
   "outputs": [],
   "source": [
    "import scipy.cluster.hierarchy as sch\n",
    "from scipy.cluster.hierarchy import dendrogram"
   ]
  },
  {
   "cell_type": "code",
   "execution_count": 386,
   "id": "b24bcacc",
   "metadata": {},
   "outputs": [
    {
     "name": "stdout",
     "output_type": "stream",
     "text": [
      "[[1.11022302e-16 1.92136769e-01 2.14116145e-01 ... 2.91192125e-01\n",
      "  2.32283138e-01 3.42079957e-01]\n",
      " [1.92136769e-01 1.11022302e-16 3.28949479e-01 ... 4.35270241e-01\n",
      "  2.33384019e-01 4.55906675e-01]\n",
      " [2.14116145e-01 3.28949479e-01 1.11022302e-16 ... 1.66100097e-01\n",
      "  2.10677514e-01 3.97492179e-01]\n",
      " ...\n",
      " [2.91192125e-01 4.35270241e-01 1.66100097e-01 ... 1.11022302e-16\n",
      "  2.94745764e-01 4.37366390e-01]\n",
      " [2.32283138e-01 2.33384019e-01 2.10677514e-01 ... 2.94745764e-01\n",
      "  0.00000000e+00 4.38503036e-01]\n",
      " [3.42079957e-01 4.55906675e-01 3.97492179e-01 ... 4.37366390e-01\n",
      "  4.38503036e-01 2.22044605e-16]]\n"
     ]
    }
   ],
   "source": [
    "print(cosine_distance_matrix)"
   ]
  },
  {
   "cell_type": "code",
   "execution_count": 387,
   "id": "cda25c45",
   "metadata": {},
   "outputs": [
    {
     "data": {
      "text/plain": [
       "51"
      ]
     },
     "execution_count": 387,
     "metadata": {},
     "output_type": "execute_result"
    }
   ],
   "source": [
    "len(cosine_distance_matrix)"
   ]
  },
  {
   "cell_type": "code",
   "execution_count": 388,
   "id": "fffd3b21",
   "metadata": {},
   "outputs": [
    {
     "data": {
      "text/plain": [
       "{'icoord': [[15.0, 15.0, 25.0, 25.0],\n",
       "  [5.0, 5.0, 20.0, 20.0],\n",
       "  [65.0, 65.0, 75.0, 75.0],\n",
       "  [55.0, 55.0, 70.0, 70.0],\n",
       "  [45.0, 45.0, 62.5, 62.5],\n",
       "  [95.0, 95.0, 105.0, 105.0],\n",
       "  [115.0, 115.0, 125.0, 125.0],\n",
       "  [100.0, 100.0, 120.0, 120.0],\n",
       "  [85.0, 85.0, 110.0, 110.0],\n",
       "  [145.0, 145.0, 155.0, 155.0],\n",
       "  [135.0, 135.0, 150.0, 150.0],\n",
       "  [97.5, 97.5, 142.5, 142.5],\n",
       "  [53.75, 53.75, 120.0, 120.0],\n",
       "  [175.0, 175.0, 185.0, 185.0],\n",
       "  [165.0, 165.0, 180.0, 180.0],\n",
       "  [86.875, 86.875, 172.5, 172.5],\n",
       "  [35.0, 35.0, 129.6875, 129.6875],\n",
       "  [12.5, 12.5, 82.34375, 82.34375],\n",
       "  [195.0, 195.0, 205.0, 205.0],\n",
       "  [215.0, 215.0, 225.0, 225.0],\n",
       "  [235.0, 235.0, 245.0, 245.0],\n",
       "  [265.0, 265.0, 275.0, 275.0],\n",
       "  [255.0, 255.0, 270.0, 270.0],\n",
       "  [285.0, 285.0, 295.0, 295.0],\n",
       "  [262.5, 262.5, 290.0, 290.0],\n",
       "  [240.0, 240.0, 276.25, 276.25],\n",
       "  [315.0, 315.0, 325.0, 325.0],\n",
       "  [305.0, 305.0, 320.0, 320.0],\n",
       "  [258.125, 258.125, 312.5, 312.5],\n",
       "  [220.0, 220.0, 285.3125, 285.3125],\n",
       "  [200.0, 200.0, 252.65625, 252.65625],\n",
       "  [47.421875, 47.421875, 226.328125, 226.328125],\n",
       "  [355.0, 355.0, 365.0, 365.0],\n",
       "  [345.0, 345.0, 360.0, 360.0],\n",
       "  [335.0, 335.0, 352.5, 352.5],\n",
       "  [395.0, 395.0, 405.0, 405.0],\n",
       "  [385.0, 385.0, 400.0, 400.0],\n",
       "  [415.0, 415.0, 425.0, 425.0],\n",
       "  [465.0, 465.0, 475.0, 475.0],\n",
       "  [455.0, 455.0, 470.0, 470.0],\n",
       "  [445.0, 445.0, 462.5, 462.5],\n",
       "  [495.0, 495.0, 505.0, 505.0],\n",
       "  [485.0, 485.0, 500.0, 500.0],\n",
       "  [453.75, 453.75, 492.5, 492.5],\n",
       "  [435.0, 435.0, 473.125, 473.125],\n",
       "  [420.0, 420.0, 454.0625, 454.0625],\n",
       "  [392.5, 392.5, 437.03125, 437.03125],\n",
       "  [375.0, 375.0, 414.765625, 414.765625],\n",
       "  [343.75, 343.75, 394.8828125, 394.8828125],\n",
       "  [136.875, 136.875, 369.31640625, 369.31640625]],\n",
       " 'dcoord': [[0.0, 0.16610009673303505, 0.16610009673303505, 0.0],\n",
       "  [0.0, 0.35794950701184775, 0.35794950701184775, 0.16610009673303505],\n",
       "  [0.0, 0.12257189218018383, 0.12257189218018383, 0.0],\n",
       "  [0.0, 0.16968787323347365, 0.16968787323347365, 0.12257189218018383],\n",
       "  [0.0, 0.22147112600487512, 0.22147112600487512, 0.16968787323347365],\n",
       "  [0.0, 0.08133238195343406, 0.08133238195343406, 0.0],\n",
       "  [0.0, 0.11458745948493387, 0.11458745948493387, 0.0],\n",
       "  [0.08133238195343406,\n",
       "   0.13733326172325752,\n",
       "   0.13733326172325752,\n",
       "   0.11458745948493387],\n",
       "  [0.0, 0.16524434402552673, 0.16524434402552673, 0.13733326172325752],\n",
       "  [0.0, 0.14803001143947192, 0.14803001143947192, 0.0],\n",
       "  [0.0, 0.2303499442618858, 0.2303499442618858, 0.14803001143947192],\n",
       "  [0.16524434402552673,\n",
       "   0.2516922697917689,\n",
       "   0.2516922697917689,\n",
       "   0.2303499442618858],\n",
       "  [0.22147112600487512,\n",
       "   0.27935921468547037,\n",
       "   0.27935921468547037,\n",
       "   0.2516922697917689],\n",
       "  [0.0, 0.2800102708269976, 0.2800102708269976, 0.0],\n",
       "  [0.0, 0.3223833848723414, 0.3223833848723414, 0.2800102708269976],\n",
       "  [0.27935921468547037,\n",
       "   0.3953613331612833,\n",
       "   0.3953613331612833,\n",
       "   0.3223833848723414],\n",
       "  [0.0, 0.44518345747413596, 0.44518345747413596, 0.3953613331612833],\n",
       "  [0.35794950701184775,\n",
       "   0.5188878193449424,\n",
       "   0.5188878193449424,\n",
       "   0.44518345747413596],\n",
       "  [0.0, 0.31761983947385664, 0.31761983947385664, 0.0],\n",
       "  [0.0, 0.1645649492112775, 0.1645649492112775, 0.0],\n",
       "  [0.0, 0.1624002696332747, 0.1624002696332747, 0.0],\n",
       "  [0.0, 0.1351838346126093, 0.1351838346126093, 0.0],\n",
       "  [0.0, 0.17244150914042258, 0.17244150914042258, 0.1351838346126093],\n",
       "  [0.0, 0.19197357933639503, 0.19197357933639503, 0.0],\n",
       "  [0.17244150914042258,\n",
       "   0.19946161833182235,\n",
       "   0.19946161833182235,\n",
       "   0.19197357933639503],\n",
       "  [0.1624002696332747,\n",
       "   0.23754112192193022,\n",
       "   0.23754112192193022,\n",
       "   0.19946161833182235],\n",
       "  [0.0, 0.2330552789469742, 0.2330552789469742, 0.0],\n",
       "  [0.0, 0.3122429875816769, 0.3122429875816769, 0.2330552789469742],\n",
       "  [0.23754112192193022,\n",
       "   0.48420202532761253,\n",
       "   0.48420202532761253,\n",
       "   0.3122429875816769],\n",
       "  [0.1645649492112775,\n",
       "   0.5437379334026864,\n",
       "   0.5437379334026864,\n",
       "   0.48420202532761253],\n",
       "  [0.31761983947385664,\n",
       "   0.5852202743168217,\n",
       "   0.5852202743168217,\n",
       "   0.5437379334026864],\n",
       "  [0.5188878193449424,\n",
       "   0.7048797649108046,\n",
       "   0.7048797649108046,\n",
       "   0.5852202743168217],\n",
       "  [0.0, 0.25626765983445876, 0.25626765983445876, 0.0],\n",
       "  [0.0, 0.3875324086231094, 0.3875324086231094, 0.25626765983445876],\n",
       "  [0.0, 0.6362440347288945, 0.6362440347288945, 0.3875324086231094],\n",
       "  [0.0, 0.1949914735276287, 0.1949914735276287, 0.0],\n",
       "  [0.0, 0.2854318054095775, 0.2854318054095775, 0.1949914735276287],\n",
       "  [0.0, 0.24117813919293196, 0.24117813919293196, 0.0],\n",
       "  [0.0, 0.168924824774065, 0.168924824774065, 0.0],\n",
       "  [0.0, 0.200081004951734, 0.200081004951734, 0.168924824774065],\n",
       "  [0.0, 0.20765352323671515, 0.20765352323671515, 0.200081004951734],\n",
       "  [0.0, 0.20403961394775794, 0.20403961394775794, 0.0],\n",
       "  [0.0, 0.29564195619863126, 0.29564195619863126, 0.20403961394775794],\n",
       "  [0.20765352323671515,\n",
       "   0.32354507844607977,\n",
       "   0.32354507844607977,\n",
       "   0.29564195619863126],\n",
       "  [0.0, 0.32847722405761165, 0.32847722405761165, 0.32354507844607977],\n",
       "  [0.24117813919293196,\n",
       "   0.4015811319422675,\n",
       "   0.4015811319422675,\n",
       "   0.32847722405761165],\n",
       "  [0.2854318054095775,\n",
       "   0.7387238317139716,\n",
       "   0.7387238317139716,\n",
       "   0.4015811319422675],\n",
       "  [0.0, 0.8078323286046741, 0.8078323286046741, 0.7387238317139716],\n",
       "  [0.6362440347288945,\n",
       "   0.8856601875766952,\n",
       "   0.8856601875766952,\n",
       "   0.8078323286046741],\n",
       "  [0.7048797649108046,\n",
       "   1.2132766417888623,\n",
       "   1.2132766417888623,\n",
       "   0.8856601875766952]],\n",
       " 'ivl': ['34',\n",
       "  '2',\n",
       "  '48',\n",
       "  '50',\n",
       "  '38',\n",
       "  '3',\n",
       "  '0',\n",
       "  '7',\n",
       "  '14',\n",
       "  '8',\n",
       "  '40',\n",
       "  '37',\n",
       "  '43',\n",
       "  '17',\n",
       "  '4',\n",
       "  '20',\n",
       "  '19',\n",
       "  '10',\n",
       "  '30',\n",
       "  '21',\n",
       "  '45',\n",
       "  '1',\n",
       "  '11',\n",
       "  '26',\n",
       "  '49',\n",
       "  '28',\n",
       "  '27',\n",
       "  '46',\n",
       "  '9',\n",
       "  '36',\n",
       "  '13',\n",
       "  '22',\n",
       "  '41',\n",
       "  '29',\n",
       "  '42',\n",
       "  '16',\n",
       "  '35',\n",
       "  '18',\n",
       "  '15',\n",
       "  '24',\n",
       "  '25',\n",
       "  '23',\n",
       "  '32',\n",
       "  '5',\n",
       "  '6',\n",
       "  '12',\n",
       "  '31',\n",
       "  '33',\n",
       "  '44',\n",
       "  '39',\n",
       "  '47'],\n",
       " 'leaves': [34,\n",
       "  2,\n",
       "  48,\n",
       "  50,\n",
       "  38,\n",
       "  3,\n",
       "  0,\n",
       "  7,\n",
       "  14,\n",
       "  8,\n",
       "  40,\n",
       "  37,\n",
       "  43,\n",
       "  17,\n",
       "  4,\n",
       "  20,\n",
       "  19,\n",
       "  10,\n",
       "  30,\n",
       "  21,\n",
       "  45,\n",
       "  1,\n",
       "  11,\n",
       "  26,\n",
       "  49,\n",
       "  28,\n",
       "  27,\n",
       "  46,\n",
       "  9,\n",
       "  36,\n",
       "  13,\n",
       "  22,\n",
       "  41,\n",
       "  29,\n",
       "  42,\n",
       "  16,\n",
       "  35,\n",
       "  18,\n",
       "  15,\n",
       "  24,\n",
       "  25,\n",
       "  23,\n",
       "  32,\n",
       "  5,\n",
       "  6,\n",
       "  12,\n",
       "  31,\n",
       "  33,\n",
       "  44,\n",
       "  39,\n",
       "  47],\n",
       " 'color_list': ['C1',\n",
       "  'C1',\n",
       "  'C1',\n",
       "  'C1',\n",
       "  'C1',\n",
       "  'C1',\n",
       "  'C1',\n",
       "  'C1',\n",
       "  'C1',\n",
       "  'C1',\n",
       "  'C1',\n",
       "  'C1',\n",
       "  'C1',\n",
       "  'C1',\n",
       "  'C1',\n",
       "  'C1',\n",
       "  'C1',\n",
       "  'C1',\n",
       "  'C1',\n",
       "  'C1',\n",
       "  'C1',\n",
       "  'C1',\n",
       "  'C1',\n",
       "  'C1',\n",
       "  'C1',\n",
       "  'C1',\n",
       "  'C1',\n",
       "  'C1',\n",
       "  'C1',\n",
       "  'C1',\n",
       "  'C1',\n",
       "  'C1',\n",
       "  'C2',\n",
       "  'C2',\n",
       "  'C2',\n",
       "  'C3',\n",
       "  'C3',\n",
       "  'C3',\n",
       "  'C3',\n",
       "  'C3',\n",
       "  'C3',\n",
       "  'C3',\n",
       "  'C3',\n",
       "  'C3',\n",
       "  'C3',\n",
       "  'C3',\n",
       "  'C3',\n",
       "  'C3',\n",
       "  'C0',\n",
       "  'C0'],\n",
       " 'leaves_color_list': ['C1',\n",
       "  'C1',\n",
       "  'C1',\n",
       "  'C1',\n",
       "  'C1',\n",
       "  'C1',\n",
       "  'C1',\n",
       "  'C1',\n",
       "  'C1',\n",
       "  'C1',\n",
       "  'C1',\n",
       "  'C1',\n",
       "  'C1',\n",
       "  'C1',\n",
       "  'C1',\n",
       "  'C1',\n",
       "  'C1',\n",
       "  'C1',\n",
       "  'C1',\n",
       "  'C1',\n",
       "  'C1',\n",
       "  'C1',\n",
       "  'C1',\n",
       "  'C1',\n",
       "  'C1',\n",
       "  'C1',\n",
       "  'C1',\n",
       "  'C1',\n",
       "  'C1',\n",
       "  'C1',\n",
       "  'C1',\n",
       "  'C1',\n",
       "  'C1',\n",
       "  'C2',\n",
       "  'C2',\n",
       "  'C2',\n",
       "  'C2',\n",
       "  'C3',\n",
       "  'C3',\n",
       "  'C3',\n",
       "  'C3',\n",
       "  'C3',\n",
       "  'C3',\n",
       "  'C3',\n",
       "  'C3',\n",
       "  'C3',\n",
       "  'C3',\n",
       "  'C3',\n",
       "  'C3',\n",
       "  'C3',\n",
       "  'C3']}"
      ]
     },
     "execution_count": 388,
     "metadata": {},
     "output_type": "execute_result"
    },
    {
     "data": {
      "image/png": "[encoded data removed]",
      "text/plain": [
       "<Figure size 640x480 with 1 Axes>"
      ]
     },
     "metadata": {},
     "output_type": "display_data"
    }
   ],
   "source": [
    "from scipy.spatial.distance import cdist, squareform\n",
    "from scipy.cluster.hierarchy import linkage, dendrogram\n",
    "condensed_distance_matrix = squareform(cosine_distance_matrix, checks=False)\n",
    "\n",
    "# Perform hierarchical clustering\n",
    "linkage_matrix = linkage(condensed_distance_matrix, method='ward')\n",
    "\n",
    "# Plot dendrogram\n",
    "dendrogram(linkage_matrix)"
   ]
  },
  {
   "cell_type": "code",
   "execution_count": 389,
   "id": "53c7d34f",
   "metadata": {},
   "outputs": [
    {
     "data": {
      "text/plain": [
       "array([0.19213677, 0.21411614, 0.15804324, ..., 0.29474576, 0.43736639,\n",
       "       0.43850304])"
      ]
     },
     "execution_count": 389,
     "metadata": {},
     "output_type": "execute_result"
    }
   ],
   "source": [
    "condensed_distance_matrix"
   ]
  },
  {
   "cell_type": "code",
   "execution_count": 390,
   "id": "66be1fd3",
   "metadata": {},
   "outputs": [
    {
     "name": "stdout",
     "output_type": "stream",
     "text": [
      "Cluster 1: ['момоа пояснить наткнуться спойлер время посещение съёмочный площадки. рассказать являться больший фанат сериал вовсе не хотеть ранний время знать всё закончится. nя воскликнуть черта не хотеть знать это вспоминать актёр.', 'всё-таки известный событие вторник не пройти мимо меня. вчера сесть голос сегодня подняться температура марш 10.12 обещать снова строй рядом заявить саакашвили.', 'это песков написать прочитать вопрос дать спасибо']\n",
      "Cluster 2: ['вид получить название марианский морской слизень mariana snailfish обитать глубина 81 километра. это исследователь отмечать теория максимально возможный глубина пригодный существование рыба составлять 82 километра.', 'инженер тольяттинский компания yagalet задумать создать автомобиль который ездить летать. режим полёт машина смочь приподняться небольшой высота помощь воздушный подушки.', 'смочь решить вопрос украина именно прийти договорённость который устроить оба сторона получить позитивный результат. это потребовать серьёзный усилие решение спорный вопрос добавить американский дипломат.', 'ракета-носитель среднее класс союз-2.1б стартовать космодром плесецк 1343. всё предстартовый операция старт пройти штатный режиме. военный спутник успешно вывести задать орбита наземный средство космический войско принять управление.', 'бетти миллер подмешивать яд пища напиток постоялец дом престарелый протяжение несколько недель. задержать агент фбр объяснить хотеть протестировать вещество сосед оценить эффективность.', 'добавить всё свой ошибка президент украина допускать всё трезвый голова', 'идти выборы уникальный программа право счастие фокус каждый человек мочь востребовать свой государство сказать ренары отметить главный задача показать рядовой гражданин россия мочь влиять будущее свой страны.', 'захаров заявить попытка сша вербовать российский журналистов. российский средство массовый информация сша оказывать беспрецедентный давление сказать представитель мид.', 'осудить сша российский лётчик ярошенко провести операция', 'наш настойчивый требование российский лётчик похитить американский спецслужба либерии… оказать адекватный медицинский помощь. давно страдать целый рядом заболевание число стать следствие избиение аресте. провести плановый операцию. настоящий время проводиться постхирургический реабилитация рассказать захаров брифинг москве.', 'ростовский аэропорт платовпринять первый рейс который выполнить авиакомпания победа москва', 'письмо найти опубликовать свой страница джей бэнкс сотрудник организация angel tree который заниматься раздача подарок нуждаться детям. слово оно попасть случайно. попросить сант пять предметов. четвероклассник указать новый ботинок счастливый жизнь.', 'соцсеть высмеять новогодний ёлка центр киева. пользователь начать активно комментировать новость. nна вид наш жизнь отмечать юра вовчемыс', 'новогодний волшебник проверить качество готовый покрытие постучать свой посох прокатиться катке. строитель визит гость подготовиться украсить техника мишура шар снежинка сообщать инфоцентр крымский мост.', 'блогер опубликовать видео странный поведение саакашвили который политик смахивать невидимый пылинка гладить лицо одежде. пользователь сеть согласиться блогер отметить саакашвили демонстрировать типичный поведение наркомана.', 'фермер выйти суд смотреть пресс-конференция путина.']\n",
      "Cluster 3: ['путин объявить участие президентский выборы', 'путин пойти выборы самовыдвиженец']\n",
      "Cluster 4: ['запуск falcon heavy состояться следующий месяц мыс канаверал написать маск пообещать иначе это захватывающе. кроме бизнесмен сообщить полезный нагрузка ракета спортивный электромобиль tesla roadster вишнёвый цвет играть песня дэвид боуя space oddity.', 'группа получить известность благодаря песня the lion sleeps tonight известный российский аудитория wimoweh стать саундтрек мультфильм король лев']\n",
      "Cluster 5: ['полицейский мартин уиллис около 15 минута удерживать падение мост грузовик кабина который застрять водитель пока не приехать спасатели.', 'мария шарапов серить уильямс принять участие съёмка фильм восемь подруга мисс оушный - спин-офф криминальный трилогия оушить', 'очки черчилль уйти аукцион 8 тысяча доллар выше ожидать стоимости. круглый очки черепаховый оправа сделать черчилль компания cw dixey son.', 'лидер хамас объявить пятница день гнев который начаться новый движение лозунг свобода иерусалим западный берегу. ждать палестинский буря продолжиться пока трамп не пожалеет.', 'тренер украинский клуб шахтёр паула фонсек прийти послематчевый пресс-конференция костюм зорро. ранее фонсек пообещать надеть костюм зорро шахтёр выйти 18 финал лига чемпионов.', 'европа разыскивать 66-летний поклонник гитлер который убить соседей. прошлый год мужчина приклеить стекло машина баннер нацистский приветствие отношение адольф гитлеру.', 'слово обама расти самодовольство американский лидер принцип америка прежде весь представлять угроза страны. провести параллель веймарский германия который слово также страна развитой демократии. однако это не помешать национал-социалист утвердиться власть отметить экс-президент.', '4 год назад дуров купить 2 тысяча биткоин цена 750 монету. образ объём инвестиция составить 15 миллиона. декабрь стоимость криптовалютный портфель предприниматель превысить 35 млн', 'путин рассказать анекдот отвечать вопрос гонка вооружений. довольно современный шутка бывший офицер приходить сын сын спрашиваетn- кортик онn- не ругаться поменять часы мальчик соседний двора.n- показать часы хорошие. завтра прийти бандит убить мать брат твой сестра изнасилуют. сказать добрый вечер московский время 12 час 30 минута', 'хотеть спросить путин 1 трамп - ещё шанс договориться вообще договариваться не простой хиллари 2 фермер который светить 4 год покупка трекер коровы. курс путин это думать это надо.']\n",
      "Cluster 6: ['знаменитый французский певец композитор скончаться возраст 74 лет. около год бороться рак легких.', 'это май френдз организатор говорить 50 000 человек западный сми - 20 000. это. не некоторый пытаться выдать десятка тысяч.', 'целое самый популярный запрос яндекс 2017-м выглядеть такnnсобытие россия миреn1. теракт петербургский метрополитене.n2. синий кит группа смерти.n3. скандал вокруг фильм матильда.nnвещий явленияn1. криптовалюта.n2. спиннер.n3. iphone x.nnспортn1. чемпионат мир хоккею.n2. кубок конфедераций.n3. чемпионат россия футболу.nnмемыn1. эщкере.n2. ждун.n3. это фиаско братанnnмужчиныn1. дима билан n2. андрей малахов n3. армен джигарханян nnженщиныn1. мария максаков n2. юлия самойлов n3. диана шурыгин']\n",
      "Cluster 7: ['оценка полиция манифестация брюссель участвовать около 45 тысяча житель выходец каталония']\n",
      "Cluster 8: ['05.12.2017 соответствие закон российский федерация средство массовый информация решение минюст россия иностранный средство массовый информация выполнять функция иностранный агент признать голос америка радио свободный европарадио свобода рсерс телеканал настоящий время татаро-башкирский служба радио свобода azatliqradiosi сибирь.реалия idel.реалия фактограф кавказ.реалия крым.реалии.', 'московский метро запустить поезд наука будущее посвятить год наука образование великобритания россия 2017 который начать курсировать кольцевой ветка метро четверг', 'поезд наука будущее курсировать кольцевой линия московский метро течение полгода']\n",
      "Cluster 9: ['торжественный зажжение высокий мир живой рождественский состояться суббота японский город кобе ровно 17.30 местный время 11.30 мск 30-метровый дерево осветиться огонь', 'военный изъять несколько тысяча единица стрелковый оружие запас ствол зенитный установка крупнокалиберный танковый пулеметы. кроме захватить несколько грузовик артиллерийский орудиями.', 'новосибирский область пятеро ребёнок погибнуть пожаре. возможный причина пожар - неосторожный обращение огнём. отец ребёнок вместе свой сожительница удаться покинуть гореть дом.', 'побережье чукотка выбросить гигантский морской змейный дело это представитель бурый водорослей. заросль нереоцистис бывать настолько густой невозможно пробраться лодка', 'аэропорт плат расположить аксайский район ростовский область 4 километр станица грушевская. проектный пропускной способность пассажирский терминал составлять 8 миллион человек год', 'мощный последний слово улюкаева. nя продолжать придерживаться свой непопулярный вызывающе хиппанский бесить весь знакомый мнение - человек не должный сидеть тюрьма преступление не связанный насилием. особенно наш тюрьме. эффективный наказаний.', 'лидер антирейтинг стать пятый часть франшиза трансформера название последний рыцарь. второй место оказаться экранизация книжный цикл стивен кинг тёмный башня снятой николай арселем. третий строчка занять картина пятьдесят оттенок тёмный джеймс фоули.', 'ранее управление фсб ставропольский край сообщить уничтожение боевик ход контртеррористический операции. боевик планировать теракт людный местах.', 'ранее сми появиться текст запрос депутат просьба проверить выступление школьник новый уренгой бундестаге.', 'показательно спонтанный аплодисменты зал вызвать именно слово русский украинец - народ. дважды. это вопрос настроение народа. ещё делать поправка зал журналист - традиционно самый либеральный скептический публика.']\n",
      "Cluster 10: ['самый фото']\n"
     ]
    }
   ],
   "source": [
    "from scipy.cluster.hierarchy import fcluster\n",
    "\n",
    "# Assign each message to a cluster\n",
    "max_distance = 0.5  # You may need to adjust this value based on the dendrogram\n",
    "clusters = fcluster(linkage_matrix, t=max_distance, criterion='distance')\n",
    "\n",
    "# Create a dictionary that maps cluster numbers to message indices\n",
    "cluster_dict = {}\n",
    "for i in range(len(clusters)):\n",
    "    if clusters[i] not in cluster_dict:\n",
    "        cluster_dict[clusters[i]] = [i]\n",
    "    else:\n",
    "        cluster_dict[clusters[i]].append(i)\n",
    "\n",
    "n_clusters = len(cluster_dict)\n",
    "for i in range(1, n_clusters + 1):\n",
    "    cluster_messages = [df_tokenized.iloc[j + start_clustering]['message'] for j in cluster_dict[i]]\n",
    "    print(f\"Cluster {i}: {cluster_messages}\")\n"
   ]
  },
  {
   "cell_type": "markdown",
   "id": "8d3d1cac",
   "metadata": {},
   "source": [
    "# Func for clustering"
   ]
  },
  {
   "cell_type": "code",
   "execution_count": 392,
   "id": "b8794125",
   "metadata": {},
   "outputs": [],
   "source": [
    "cluster_dict_prev = cluster_dict"
   ]
  },
  {
   "cell_type": "code",
   "execution_count": 393,
   "id": "16bf607b",
   "metadata": {},
   "outputs": [],
   "source": [
    "import math\n",
    "import random"
   ]
  },
  {
   "cell_type": "code",
   "execution_count": 394,
   "id": "a9dbf745",
   "metadata": {},
   "outputs": [],
   "source": [
    "def add_points(start_clustering, end_clustering, cluster_dict):\n",
    "    #take part of prev clusters\n",
    "    half_cluster_dict = {}\n",
    "    for key, value in cluster_dict.items():\n",
    "        half_len = math.ceil(len(value)/2)\n",
    "        half_cluster_dict[key] = random.sample(value, half_len)\n",
    "    #this if we want to compare half_clusters\n",
    "    ###global cluster_dict_prev \n",
    "    ###cluster_dict_prev = half_cluster_dict\n",
    "    #add points from prev clustering to list prev_points\n",
    "    prev_points = []\n",
    "    for points in half_cluster_dict.values():\n",
    "        prev_points.extend(points)\n",
    "    \n",
    "    #make actual indexes\n",
    "    prev_points = list(map(lambda x: x + start_clustering, prev_points))\n",
    "    \n",
    "    #print(prev_points)\n",
    "    \n",
    "    #add new points to prev_points\n",
    "    for i in range(start_clustering, end_clustering+1):\n",
    "        prev_points.append(i)\n",
    "        \n",
    "    #print(prev_points)\n",
    "    \n",
    "    #creade a new object\n",
    "    df_tokenized_for_new_clustring = df_tokenized.loc[prev_points, 'message'].apply(nlp)\n",
    "    \n",
    "    vectors_list = [doc.vector for doc in df_tokenized_for_new_clustring]\n",
    "    \n",
    "    #create matrix of distances\n",
    "    cosine_distance_matrix = cdist(vectors_list, vectors_list, metric='cosine')\n",
    "    condensed_distance_matrix = squareform(cosine_distance_matrix, checks=False)\n",
    "\n",
    "    # Perform hierarchical clustering\n",
    "    linkage_matrix = linkage(condensed_distance_matrix, method='ward')\n",
    "\n",
    "    # Plot dendrogram\n",
    "    dendrogram(linkage_matrix)\n",
    "    \n",
    "    # Assign each message to a cluster\n",
    "    max_distance = 0.5  # You may need to adjust this value based on the dendrogram\n",
    "    clusters = fcluster(linkage_matrix, t=max_distance, criterion='distance')\n",
    "\n",
    "    # Create a dictionary that maps cluster numbers to message indices\n",
    "    cluster_dict = {}\n",
    "    for i in range(len(clusters)):\n",
    "        if clusters[i] not in cluster_dict:\n",
    "            cluster_dict[clusters[i]] = [i]\n",
    "        else:\n",
    "            cluster_dict[clusters[i]].append(i)\n",
    "\n",
    "    n_clusters = len(cluster_dict)\n",
    "    return cluster_dict"
   ]
  },
  {
   "cell_type": "code",
   "execution_count": 395,
   "id": "b9d72728",
   "metadata": {},
   "outputs": [
    {
     "data": {
      "image/png": "[encoded data removed]",
      "text/plain": [
       "<Figure size 640x480 with 1 Axes>"
      ]
     },
     "metadata": {},
     "output_type": "display_data"
    }
   ],
   "source": [
    "cluster_dict = add_points(151, 200, cluster_dict)"
   ]
  },
  {
   "cell_type": "code",
   "execution_count": 396,
   "id": "5afba3c3",
   "metadata": {},
   "outputs": [
    {
     "data": {
      "text/plain": [
       "{8: [0, 13, 24, 25, 29, 43, 46, 49, 50, 51, 63, 65, 67, 69, 74, 77],\n",
       " 11: [1, 6, 9, 62, 66, 71],\n",
       " 5: [2, 8, 10, 35, 36, 39, 76],\n",
       " 7: [3, 14, 28, 31, 34],\n",
       " 2: [4, 12, 17, 27, 40, 41, 42, 47, 57, 59, 60, 61],\n",
       " 1: [5, 21, 23, 33, 44, 52, 68],\n",
       " 10: [7, 19, 38, 45, 54],\n",
       " 6: [11, 26, 32, 55, 72, 73],\n",
       " 9: [15, 16, 56, 70, 75],\n",
       " 12: [18, 37],\n",
       " 4: [20, 30, 64],\n",
       " 13: [22, 48, 53],\n",
       " 3: [58]}"
      ]
     },
     "execution_count": 396,
     "metadata": {},
     "output_type": "execute_result"
    }
   ],
   "source": [
    "cluster_dict"
   ]
  },
  {
   "cell_type": "raw",
   "id": "d57aa707",
   "metadata": {},
   "source": [
    "{2: [0, 3, 4, 7, 8, 10, 14, 17, 19, 20, 30, 37, 38, 40, 43, 50],\n",
    " 4: [1, 11],\n",
    " 1: [2, 34, 48],\n",
    " 9: [5, 6, 12, 23, 31, 32, 33, 39, 44, 47],\n",
    " 5: [9, 13, 22, 26, 27, 28, 36, 41, 46, 49],\n",
    " 8: [15, 24, 25],\n",
    " 6: [16, 35, 42],\n",
    " 10: [18],\n",
    " 3: [21, 45],\n",
    " 7: [29]}"
   ]
  },
  {
   "cell_type": "code",
   "execution_count": 397,
   "id": "7c56ebfb",
   "metadata": {},
   "outputs": [],
   "source": [
    "def find_base_clusters_old_version(cluster_dict_prev, cluster_dict):\n",
    "    base_clusters = {}\n",
    "\n",
    "    for new_cluster_id, new_cluster in cluster_dict.items():\n",
    "        max_intersection = []\n",
    "        base_cluster_id = None\n",
    "\n",
    "        for old_cluster_id, old_cluster in cluster_dict_prev.items():\n",
    "            intersection = list(set(old_cluster) & set(new_cluster))\n",
    "            if len(intersection) > len(max_intersection):\n",
    "                max_intersection = intersection\n",
    "                base_cluster_id = old_cluster_id\n",
    "\n",
    "        if base_cluster_id is not None:\n",
    "            base_clusters[base_cluster_id] = new_cluster_id\n",
    "\n",
    "    return list(base_clusters.items())"
   ]
  },
  {
   "cell_type": "code",
   "execution_count": 398,
   "id": "35b47510",
   "metadata": {},
   "outputs": [],
   "source": [
    "def find_base_clusters_with_intersaction(cluster_dict_prev, cluster_dict):\n",
    "    base_clusters = []\n",
    "\n",
    "    for new_cluster_id, new_cluster in cluster_dict.items():\n",
    "        max_intersection = []\n",
    "        base_cluster_id = None\n",
    "\n",
    "        for old_cluster_id, old_cluster in cluster_dict_prev.items():\n",
    "            intersection = list(set(old_cluster) & set(new_cluster))\n",
    "            if len(intersection) > len(max_intersection):\n",
    "                max_intersection = intersection\n",
    "                base_cluster_id = old_cluster_id\n",
    "\n",
    "        if base_cluster_id is not None and max_intersection:\n",
    "            missing_points = list(set(cluster_dict_prev[base_cluster_id]) - set(max_intersection))\n",
    "            base_clusters.append((base_cluster_id, new_cluster_id, max_intersection, missing_points))\n",
    "\n",
    "    return base_clusters"
   ]
  },
  {
   "cell_type": "code",
   "execution_count": 399,
   "id": "2f5e7eba",
   "metadata": {},
   "outputs": [],
   "source": [
    "def find_base_clusters(cluster_dict_prev, cluster_dict):\n",
    "    base_clusters = []\n",
    "    for new_cluster_id, new_cluster in cluster_dict.items():\n",
    "        max_intersection = []\n",
    "        base_cluster_id = None\n",
    "        for old_cluster_id, old_cluster in cluster_dict_prev.items():\n",
    "            intersection = list(set(old_cluster) & set(new_cluster))\n",
    "            if len(intersection) > len(max_intersection):\n",
    "                max_intersection = intersection\n",
    "                base_cluster_id = old_cluster_id\n",
    "        if base_cluster_id is not None and max_intersection:\n",
    "            base_clusters.append((base_cluster_id, new_cluster_id, max_intersection))\n",
    "    return base_clusters\n",
    "\n",
    "\n",
    "def remove_outdated_clusters(cluster_dict, base_clusters, cluster_counters, threshold, added_points):\n",
    "    updated_cluster_counters = {key: 0 for key in cluster_dict.keys()}\n",
    "    for base_cluster, new_cluster, common_elements in base_clusters:\n",
    "        # Если базовый кластер и новый кластер имеют одинаковое содержание, значит, новые точки не были добавлены\n",
    "        if set(cluster_dict[new_cluster]) == set(cluster_dict_prev[base_cluster]):\n",
    "            increment = 1 - 1/added_points\n",
    "            updated_cluster_counters[new_cluster] = cluster_counters.get(base_cluster, 0) + increment\n",
    "        else:\n",
    "            # Если были добавлены новые точки, обнуляем счетчик\n",
    "            updated_cluster_counters[new_cluster] = 0\n",
    "            \n",
    "    # Удалить устаревшие кластеры\n",
    "    for cluster_id in list(cluster_dict.keys()):\n",
    "        if updated_cluster_counters.get(cluster_id, 0) > threshold:\n",
    "            del cluster_dict[cluster_id]\n",
    "    return cluster_dict, updated_cluster_counters"
   ]
  },
  {
   "cell_type": "code",
   "execution_count": 400,
   "id": "57d342bc",
   "metadata": {},
   "outputs": [],
   "source": [
    "def initialize_cluster_counters(cluster_dict):\n",
    "    cluster_counters = {cluster_id: 1 for cluster_id in cluster_dict}\n",
    "    return cluster_counters\n"
   ]
  },
  {
   "cell_type": "code",
   "execution_count": 401,
   "id": "32dc927f",
   "metadata": {},
   "outputs": [],
   "source": [
    "cluster_counters = initialize_cluster_counters(cluster_dict_prev)"
   ]
  },
  {
   "cell_type": "code",
   "execution_count": 402,
   "id": "b945bcc4",
   "metadata": {},
   "outputs": [
    {
     "data": {
      "text/plain": [
       "[(2, 8, [50, 43]),\n",
       " (9, 11, [6]),\n",
       " (2, 5, [8]),\n",
       " (2, 7, [3]),\n",
       " (2, 2, [40, 17]),\n",
       " (9, 1, [44, 23]),\n",
       " (2, 10, [19, 38]),\n",
       " (4, 6, [11]),\n",
       " (6, 9, [16]),\n",
       " (10, 12, [18]),\n",
       " (1, 13, [48])]"
      ]
     },
     "execution_count": 402,
     "metadata": {},
     "output_type": "execute_result"
    }
   ],
   "source": [
    "base_clusters = find_base_clusters(cluster_dict_prev, cluster_dict)\n",
    "base_clusters"
   ]
  },
  {
   "cell_type": "code",
   "execution_count": 403,
   "id": "74c18b82",
   "metadata": {},
   "outputs": [],
   "source": [
    "cluster_dict, cluster_counters = remove_outdated_clusters(cluster_dict, base_clusters, \n",
    "                                                          cluster_counters, threshold=1, added_points=50)"
   ]
  },
  {
   "cell_type": "code",
   "execution_count": 405,
   "id": "ea7b1d0d",
   "metadata": {},
   "outputs": [
    {
     "data": {
      "text/plain": [
       "{8: [0, 13, 24, 25, 29, 43, 46, 49, 50, 51, 63, 65, 67, 69, 74, 77],\n",
       " 11: [1, 6, 9, 62, 66, 71],\n",
       " 5: [2, 8, 10, 35, 36, 39, 76],\n",
       " 7: [3, 14, 28, 31, 34],\n",
       " 2: [4, 12, 17, 27, 40, 41, 42, 47, 57, 59, 60, 61],\n",
       " 1: [5, 21, 23, 33, 44, 52, 68],\n",
       " 10: [7, 19, 38, 45, 54],\n",
       " 6: [11, 26, 32, 55, 72, 73],\n",
       " 9: [15, 16, 56, 70, 75],\n",
       " 12: [18, 37],\n",
       " 4: [20, 30, 64],\n",
       " 13: [22, 48, 53],\n",
       " 3: [58]}"
      ]
     },
     "execution_count": 405,
     "metadata": {},
     "output_type": "execute_result"
    }
   ],
   "source": [
    "cluster_dict"
   ]
  },
  {
   "cell_type": "code",
   "execution_count": null,
   "id": "d080dadd",
   "metadata": {},
   "outputs": [],
   "source": []
  },
  {
   "cell_type": "code",
   "execution_count": null,
   "id": "9716fdc5",
   "metadata": {},
   "outputs": [],
   "source": []
  },
  {
   "cell_type": "code",
   "execution_count": 406,
   "id": "e6742ad4",
   "metadata": {},
   "outputs": [],
   "source": [
    "cluster_dict_prev = cluster_dict"
   ]
  },
  {
   "cell_type": "code",
   "execution_count": 407,
   "id": "25890400",
   "metadata": {},
   "outputs": [
    {
     "data": {
      "text/plain": [
       "{8: [0, 13, 24, 25, 29, 43, 46, 49, 50, 51, 63, 65, 67, 69, 74, 77],\n",
       " 11: [1, 6, 9, 62, 66, 71],\n",
       " 5: [2, 8, 10, 35, 36, 39, 76],\n",
       " 7: [3, 14, 28, 31, 34],\n",
       " 2: [4, 12, 17, 27, 40, 41, 42, 47, 57, 59, 60, 61],\n",
       " 1: [5, 21, 23, 33, 44, 52, 68],\n",
       " 10: [7, 19, 38, 45, 54],\n",
       " 6: [11, 26, 32, 55, 72, 73],\n",
       " 9: [15, 16, 56, 70, 75],\n",
       " 12: [18, 37],\n",
       " 4: [20, 30, 64],\n",
       " 13: [22, 48, 53],\n",
       " 3: [58]}"
      ]
     },
     "execution_count": 407,
     "metadata": {},
     "output_type": "execute_result"
    }
   ],
   "source": [
    "cluster_dict_prev"
   ]
  },
  {
   "cell_type": "code",
   "execution_count": 408,
   "id": "f114ff15",
   "metadata": {},
   "outputs": [
    {
     "data": {
      "image/png": "[encoded data removed]",
      "text/plain": [
       "<Figure size 640x480 with 1 Axes>"
      ]
     },
     "metadata": {},
     "output_type": "display_data"
    }
   ],
   "source": [
    "cluster_dict = add_points(201, 250, cluster_dict)"
   ]
  },
  {
   "cell_type": "code",
   "execution_count": 409,
   "id": "a0c63642",
   "metadata": {},
   "outputs": [
    {
     "data": {
      "text/plain": [
       "{4: [0, 18, 26, 64, 84, 90],\n",
       " 11: [1, 16, 46, 86],\n",
       " 16: [2, 59, 68],\n",
       " 8: [3, 29, 77],\n",
       " 5: [4, 21, 38, 55, 63, 72],\n",
       " 17: [5, 6, 7, 10, 22, 25, 27, 42, 45, 51, 57, 58, 67, 75, 87, 89, 92],\n",
       " 2: [8, 13, 24, 28, 35, 44, 48, 81, 82],\n",
       " 6: [9, 32, 33, 50, 56, 79, 85],\n",
       " 1: [11, 52, 53],\n",
       " 7: [12, 30, 36, 41, 43, 62, 65, 69, 76, 78, 80, 83],\n",
       " 15: [14, 40, 66, 91],\n",
       " 10: [15, 19, 34, 60, 74, 88],\n",
       " 13: [17, 37, 61, 71],\n",
       " 12: [20, 70],\n",
       " 14: [23],\n",
       " 3: [31, 54],\n",
       " 9: [39, 47, 49, 73]}"
      ]
     },
     "execution_count": 409,
     "metadata": {},
     "output_type": "execute_result"
    }
   ],
   "source": [
    "cluster_dict"
   ]
  },
  {
   "cell_type": "code",
   "execution_count": 411,
   "id": "cf7d844b",
   "metadata": {},
   "outputs": [
    {
     "data": {
      "text/plain": [
       "{8: [67, 43, 25, 77, 29, 46, 74, 49],\n",
       " 11: [1, 66, 62],\n",
       " 5: [10, 35, 39, 76],\n",
       " 7: [31, 3, 28],\n",
       " 2: [47, 17, 27, 12, 60, 61],\n",
       " 1: [5, 68, 21, 52],\n",
       " 10: [38, 54, 19],\n",
       " 6: [11, 55, 72],\n",
       " 9: [75, 56, 70],\n",
       " 12: [18],\n",
       " 4: [20, 30],\n",
       " 13: [48, 22],\n",
       " 3: [58]}"
      ]
     },
     "execution_count": 411,
     "metadata": {},
     "output_type": "execute_result"
    }
   ],
   "source": [
    "cluster_dict_prev"
   ]
  },
  {
   "cell_type": "code",
   "execution_count": null,
   "id": "fc5396de",
   "metadata": {},
   "outputs": [],
   "source": []
  },
  {
   "cell_type": "code",
   "execution_count": null,
   "id": "fa21e88a",
   "metadata": {},
   "outputs": [],
   "source": []
  },
  {
   "cell_type": "code",
   "execution_count": null,
   "id": "5f41b33c",
   "metadata": {},
   "outputs": [],
   "source": []
  },
  {
   "cell_type": "code",
   "execution_count": null,
   "id": "4e4931dd",
   "metadata": {},
   "outputs": [],
   "source": []
  },
  {
   "cell_type": "code",
   "execution_count": null,
   "id": "31ff843b",
   "metadata": {},
   "outputs": [],
   "source": []
  },
  {
   "cell_type": "code",
   "execution_count": null,
   "id": "411cee3a",
   "metadata": {},
   "outputs": [],
   "source": []
  },
  {
   "cell_type": "code",
   "execution_count": null,
   "id": "83f57856",
   "metadata": {},
   "outputs": [],
   "source": []
  },
  {
   "cell_type": "code",
   "execution_count": null,
   "id": "5128c8f2",
   "metadata": {},
   "outputs": [],
   "source": []
  },
  {
   "cell_type": "code",
   "execution_count": null,
   "id": "68d50248",
   "metadata": {},
   "outputs": [],
   "source": []
  },
  {
   "cell_type": "code",
   "execution_count": null,
   "id": "33ed49b5",
   "metadata": {},
   "outputs": [],
   "source": []
  },
  {
   "cell_type": "code",
   "execution_count": null,
   "id": "1388afbe",
   "metadata": {},
   "outputs": [],
   "source": []
  },
  {
   "cell_type": "code",
   "execution_count": null,
   "id": "44777ccb",
   "metadata": {},
   "outputs": [],
   "source": []
  },
  {
   "cell_type": "code",
   "execution_count": null,
   "id": "491819a8",
   "metadata": {},
   "outputs": [],
   "source": []
  },
  {
   "cell_type": "code",
   "execution_count": null,
   "id": "dd076a89",
   "metadata": {},
   "outputs": [],
   "source": []
  },
  {
   "cell_type": "code",
   "execution_count": null,
   "id": "595cc3ac",
   "metadata": {},
   "outputs": [],
   "source": []
  },
  {
   "cell_type": "code",
   "execution_count": null,
   "id": "4dc7d4f2",
   "metadata": {},
   "outputs": [],
   "source": []
  },
  {
   "cell_type": "code",
   "execution_count": null,
   "id": "aeb68236",
   "metadata": {},
   "outputs": [],
   "source": []
  },
  {
   "cell_type": "code",
   "execution_count": null,
   "id": "2e3f923f",
   "metadata": {},
   "outputs": [],
   "source": []
  },
  {
   "cell_type": "code",
   "execution_count": null,
   "id": "13079e45",
   "metadata": {},
   "outputs": [],
   "source": []
  },
  {
   "cell_type": "code",
   "execution_count": null,
   "id": "4784666a",
   "metadata": {},
   "outputs": [],
   "source": []
  },
  {
   "cell_type": "code",
   "execution_count": null,
   "id": "3ed53ab5",
   "metadata": {},
   "outputs": [],
   "source": []
  },
  {
   "cell_type": "code",
   "execution_count": null,
   "id": "8cf6f18d",
   "metadata": {},
   "outputs": [],
   "source": []
  },
  {
   "cell_type": "code",
   "execution_count": null,
   "id": "06d638eb",
   "metadata": {},
   "outputs": [],
   "source": []
  },
  {
   "cell_type": "code",
   "execution_count": null,
   "id": "666b0932",
   "metadata": {},
   "outputs": [],
   "source": []
  },
  {
   "cell_type": "code",
   "execution_count": null,
   "id": "a1a65632",
   "metadata": {},
   "outputs": [],
   "source": []
  },
  {
   "cell_type": "code",
   "execution_count": null,
   "id": "a249e9b3",
   "metadata": {},
   "outputs": [],
   "source": [
    "\n"
   ]
  },
  {
   "cell_type": "code",
   "execution_count": null,
   "id": "4485c4e8",
   "metadata": {},
   "outputs": [],
   "source": []
  },
  {
   "cell_type": "code",
   "execution_count": null,
   "id": "4071dc6a",
   "metadata": {},
   "outputs": [],
   "source": []
  },
  {
   "cell_type": "code",
   "execution_count": null,
   "id": "957f8cf0",
   "metadata": {},
   "outputs": [],
   "source": []
  },
  {
   "cell_type": "code",
   "execution_count": null,
   "id": "1acf3449",
   "metadata": {},
   "outputs": [],
   "source": []
  },
  {
   "cell_type": "code",
   "execution_count": null,
   "id": "0bf9acfc",
   "metadata": {},
   "outputs": [],
   "source": []
  },
  {
   "cell_type": "code",
   "execution_count": null,
   "id": "5fc03703",
   "metadata": {},
   "outputs": [],
   "source": []
  },
  {
   "cell_type": "code",
   "execution_count": null,
   "id": "2bc1da5c",
   "metadata": {},
   "outputs": [],
   "source": []
  },
  {
   "cell_type": "code",
   "execution_count": null,
   "id": "7a8c21fc",
   "metadata": {},
   "outputs": [],
   "source": []
  },
  {
   "cell_type": "code",
   "execution_count": null,
   "id": "78bee3e2",
   "metadata": {},
   "outputs": [],
   "source": []
  },
  {
   "cell_type": "code",
   "execution_count": null,
   "id": "39eb0a2e",
   "metadata": {},
   "outputs": [],
   "source": []
  },
  {
   "cell_type": "code",
   "execution_count": null,
   "id": "09295092",
   "metadata": {},
   "outputs": [],
   "source": []
  },
  {
   "cell_type": "code",
   "execution_count": null,
   "id": "99041b67",
   "metadata": {},
   "outputs": [],
   "source": []
  },
  {
   "cell_type": "code",
   "execution_count": null,
   "id": "27b64e39",
   "metadata": {},
   "outputs": [],
   "source": []
  },
  {
   "cell_type": "code",
   "execution_count": null,
   "id": "beddae20",
   "metadata": {},
   "outputs": [],
   "source": []
  },
  {
   "cell_type": "code",
   "execution_count": null,
   "id": "e7311822",
   "metadata": {},
   "outputs": [],
   "source": []
  },
  {
   "cell_type": "code",
   "execution_count": null,
   "id": "f47a7fc0",
   "metadata": {},
   "outputs": [],
   "source": []
  },
  {
   "cell_type": "code",
   "execution_count": null,
   "id": "bbe3f7bd",
   "metadata": {},
   "outputs": [],
   "source": []
  }
 ],
 "metadata": {
  "kernelspec": {
   "display_name": "Python 3 (ipykernel)",
   "language": "python",
   "name": "python3"
  },
  "language_info": {
   "codemirror_mode": {
    "name": "ipython",
    "version": 3
   },
   "file_extension": ".py",
   "mimetype": "text/x-python",
   "name": "python",
   "nbconvert_exporter": "python",
   "pygments_lexer": "ipython3",
   "version": "3.10.8"
  }
 },
 "nbformat": 4,
 "nbformat_minor": 5
}
