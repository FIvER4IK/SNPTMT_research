{
 "cells": [
  {
   "cell_type": "code",
   "execution_count": 1,
   "id": "71b54928",
   "metadata": {},
   "outputs": [],
   "source": [
    "import pandas as pd"
   ]
  },
  {
   "cell_type": "code",
   "execution_count": 2,
   "id": "429d68a9",
   "metadata": {},
   "outputs": [],
   "source": [
    "df = pd.read_csv('db.csv', on_bad_lines='skip', sep='\\t')"
   ]
  },
  {
   "cell_type": "code",
   "execution_count": 3,
   "id": "f1dc594e",
   "metadata": {},
   "outputs": [
    {
     "data": {
      "text/html": [
       "<div>\n",
       "<style scoped>\n",
       "    .dataframe tbody tr th:only-of-type {\n",
       "        vertical-align: middle;\n",
       "    }\n",
       "\n",
       "    .dataframe tbody tr th {\n",
       "        vertical-align: top;\n",
       "    }\n",
       "\n",
       "    .dataframe thead th {\n",
       "        text-align: right;\n",
       "    }\n",
       "</style>\n",
       "<table border=\"1\" class=\"dataframe\">\n",
       "  <thead>\n",
       "    <tr style=\"text-align: right;\">\n",
       "      <th></th>\n",
       "      <th>from_id</th>\n",
       "      <th>message</th>\n",
       "      <th>date</th>\n",
       "    </tr>\n",
       "  </thead>\n",
       "  <tbody>\n",
       "    <tr>\n",
       "      <th>0</th>\n",
       "      <td>channel1101170442</td>\n",
       "      <td>Приветствуем всех в нашем Telegram-канале! ✌️️...</td>\n",
       "      <td>2017-02-28 19:55:32</td>\n",
       "    </tr>\n",
       "    <tr>\n",
       "      <th>1</th>\n",
       "      <td>channel1101170442</td>\n",
       "      <td>👑 Награждение победительницы конкурса красоты ...</td>\n",
       "      <td>2017-03-03 18:33:24</td>\n",
       "    </tr>\n",
       "    <tr>\n",
       "      <th>2</th>\n",
       "      <td>channel1101170442</td>\n",
       "      <td>🐍 Американский селекционер Джастин Кобылка пот...</td>\n",
       "      <td>2017-03-09 17:11:06</td>\n",
       "    </tr>\n",
       "    <tr>\n",
       "      <th>3</th>\n",
       "      <td>channel1101170442</td>\n",
       "      <td>А вы за участие России в конкурсе \\\"Евровидени...</td>\n",
       "      <td>2017-03-14 11:13:27</td>\n",
       "    </tr>\n",
       "    <tr>\n",
       "      <th>4</th>\n",
       "      <td>channel1101170442</td>\n",
       "      <td>Не болейте, друзья!</td>\n",
       "      <td>2017-03-14 19:49:56</td>\n",
       "    </tr>\n",
       "    <tr>\n",
       "      <th>...</th>\n",
       "      <td>...</td>\n",
       "      <td>...</td>\n",
       "      <td>...</td>\n",
       "    </tr>\n",
       "    <tr>\n",
       "      <th>118278</th>\n",
       "      <td>channel1101170442</td>\n",
       "      <td>Брифинг Минобороны России</td>\n",
       "      <td>2022-11-17 15:54:29</td>\n",
       "    </tr>\n",
       "    <tr>\n",
       "      <th>118279</th>\n",
       "      <td>channel1101170442</td>\n",
       "      <td>Украинских экспертов допустили на место падени...</td>\n",
       "      <td>2022-11-17 15:57:53</td>\n",
       "    </tr>\n",
       "    <tr>\n",
       "      <th>118280</th>\n",
       "      <td>channel1101170442</td>\n",
       "      <td>Порошенко заявил российским пранкерам, предста...</td>\n",
       "      <td>2022-11-17 16:06:13</td>\n",
       "    </tr>\n",
       "    <tr>\n",
       "      <th>118281</th>\n",
       "      <td>channel1101170442</td>\n",
       "      <td>Израиль сообщил, что завершил испытания морско...</td>\n",
       "      <td>2022-11-17 16:06:57</td>\n",
       "    </tr>\n",
       "    <tr>\n",
       "      <th>118282</th>\n",
       "      <td>channel1101170442</td>\n",
       "      <td>Пожар на московском рынке \\\"Садовод\\\" потушен,...</td>\n",
       "      <td>2022-11-17 16:08:27</td>\n",
       "    </tr>\n",
       "  </tbody>\n",
       "</table>\n",
       "<p>118283 rows × 3 columns</p>\n",
       "</div>"
      ],
      "text/plain": [
       "                  from_id                                            message  \\\n",
       "0       channel1101170442  Приветствуем всех в нашем Telegram-канале! ✌️️...   \n",
       "1       channel1101170442  👑 Награждение победительницы конкурса красоты ...   \n",
       "2       channel1101170442  🐍 Американский селекционер Джастин Кобылка пот...   \n",
       "3       channel1101170442  А вы за участие России в конкурсе \\\"Евровидени...   \n",
       "4       channel1101170442                                Не болейте, друзья!   \n",
       "...                   ...                                                ...   \n",
       "118278  channel1101170442                          Брифинг Минобороны России   \n",
       "118279  channel1101170442  Украинских экспертов допустили на место падени...   \n",
       "118280  channel1101170442  Порошенко заявил российским пранкерам, предста...   \n",
       "118281  channel1101170442  Израиль сообщил, что завершил испытания морско...   \n",
       "118282  channel1101170442  Пожар на московском рынке \\\"Садовод\\\" потушен,...   \n",
       "\n",
       "                       date  \n",
       "0       2017-02-28 19:55:32  \n",
       "1       2017-03-03 18:33:24  \n",
       "2       2017-03-09 17:11:06  \n",
       "3       2017-03-14 11:13:27  \n",
       "4       2017-03-14 19:49:56  \n",
       "...                     ...  \n",
       "118278  2022-11-17 15:54:29  \n",
       "118279  2022-11-17 15:57:53  \n",
       "118280  2022-11-17 16:06:13  \n",
       "118281  2022-11-17 16:06:57  \n",
       "118282  2022-11-17 16:08:27  \n",
       "\n",
       "[118283 rows x 3 columns]"
      ]
     },
     "execution_count": 3,
     "metadata": {},
     "output_type": "execute_result"
    }
   ],
   "source": [
    "df"
   ]
  },
  {
   "cell_type": "markdown",
   "id": "f45b2215",
   "metadata": {},
   "source": [
    "# Removing stopwords"
   ]
  },
  {
   "cell_type": "code",
   "execution_count": 4,
   "id": "98ff9cf6",
   "metadata": {},
   "outputs": [],
   "source": [
    "#pip install nltk"
   ]
  },
  {
   "cell_type": "code",
   "execution_count": 5,
   "id": "9f3c4e36",
   "metadata": {},
   "outputs": [],
   "source": [
    "import nltk"
   ]
  },
  {
   "cell_type": "code",
   "execution_count": 6,
   "id": "bd7ccfa5",
   "metadata": {},
   "outputs": [],
   "source": [
    "from nltk.tokenize import sent_tokenize, word_tokenize\n",
    "from nltk.corpus import stopwords"
   ]
  },
  {
   "cell_type": "code",
   "execution_count": null,
   "id": "103c8a08",
   "metadata": {},
   "outputs": [],
   "source": []
  },
  {
   "cell_type": "code",
   "execution_count": 7,
   "id": "18ac38e2",
   "metadata": {},
   "outputs": [],
   "source": [
    "stopsRUS = stopwords.words('russian')\n",
    "stopsENG = stopwords.words('english')\n",
    "\n",
    "stopsRUS.remove('не')\n",
    "stopsENG.remove('not')"
   ]
  },
  {
   "cell_type": "code",
   "execution_count": 8,
   "id": "c9498c5c",
   "metadata": {},
   "outputs": [
    {
     "name": "stderr",
     "output_type": "stream",
     "text": [
      "[nltk_data] Downloading package stopwords to\n",
      "[nltk_data]     /Users/andrewshatalov/nltk_data...\n",
      "[nltk_data]   Package stopwords is already up-to-date!\n"
     ]
    },
    {
     "data": {
      "text/plain": [
       "True"
      ]
     },
     "execution_count": 8,
     "metadata": {},
     "output_type": "execute_result"
    }
   ],
   "source": [
    "import nltk\n",
    "import ssl\n",
    "\n",
    "try:\n",
    "    _create_unverified_https_context = ssl._create_unverified_context\n",
    "except AttributeError:\n",
    "    pass\n",
    "else:\n",
    "    ssl._create_default_https_context = _create_unverified_https_context\n",
    "\n",
    "nltk.download(\"stopwords\")"
   ]
  },
  {
   "cell_type": "code",
   "execution_count": 9,
   "id": "92c6c5d6",
   "metadata": {},
   "outputs": [
    {
     "name": "stdout",
     "output_type": "stream",
     "text": [
      "['и', 'в', 'во', 'что', 'он', 'на', 'я', 'с', 'со', 'как', 'а', 'то', 'все', 'она', 'так', 'его', 'но', 'да', 'ты', 'к', 'у', 'же', 'вы', 'за', 'бы', 'по', 'только', 'ее', 'мне', 'было', 'вот', 'от', 'меня', 'еще', 'нет', 'о', 'из', 'ему', 'теперь', 'когда', 'даже', 'ну', 'вдруг', 'ли', 'если', 'уже', 'или', 'ни', 'быть', 'был', 'него', 'до', 'вас', 'нибудь', 'опять', 'уж', 'вам', 'ведь', 'там', 'потом', 'себя', 'ничего', 'ей', 'может', 'они', 'тут', 'где', 'есть', 'надо', 'ней', 'для', 'мы', 'тебя', 'их', 'чем', 'была', 'сам', 'чтоб', 'без', 'будто', 'чего', 'раз', 'тоже', 'себе', 'под', 'будет', 'ж', 'тогда', 'кто', 'этот', 'того', 'потому', 'этого', 'какой', 'совсем', 'ним', 'здесь', 'этом', 'один', 'почти', 'мой', 'тем', 'чтобы', 'нее', 'сейчас', 'были', 'куда', 'зачем', 'всех', 'никогда', 'можно', 'при', 'наконец', 'два', 'об', 'другой', 'хоть', 'после', 'над', 'больше', 'тот', 'через', 'эти', 'нас', 'про', 'всего', 'них', 'какая', 'много', 'разве', 'три', 'эту', 'моя', 'впрочем', 'хорошо', 'свою', 'этой', 'перед', 'иногда', 'лучше', 'чуть', 'том', 'нельзя', 'такой', 'им', 'более', 'всегда', 'конечно', 'всю', 'между']\n",
      "['i', 'me', 'my', 'myself', 'we', 'our', 'ours', 'ourselves', 'you', \"you're\", \"you've\", \"you'll\", \"you'd\", 'your', 'yours', 'yourself', 'yourselves', 'he', 'him', 'his', 'himself', 'she', \"she's\", 'her', 'hers', 'herself', 'it', \"it's\", 'its', 'itself', 'they', 'them', 'their', 'theirs', 'themselves', 'what', 'which', 'who', 'whom', 'this', 'that', \"that'll\", 'these', 'those', 'am', 'is', 'are', 'was', 'were', 'be', 'been', 'being', 'have', 'has', 'had', 'having', 'do', 'does', 'did', 'doing', 'a', 'an', 'the', 'and', 'but', 'if', 'or', 'because', 'as', 'until', 'while', 'of', 'at', 'by', 'for', 'with', 'about', 'against', 'between', 'into', 'through', 'during', 'before', 'after', 'above', 'below', 'to', 'from', 'up', 'down', 'in', 'out', 'on', 'off', 'over', 'under', 'again', 'further', 'then', 'once', 'here', 'there', 'when', 'where', 'why', 'how', 'all', 'any', 'both', 'each', 'few', 'more', 'most', 'other', 'some', 'such', 'no', 'nor', 'only', 'own', 'same', 'so', 'than', 'too', 'very', 's', 't', 'can', 'will', 'just', 'don', \"don't\", 'should', \"should've\", 'now', 'd', 'll', 'm', 'o', 're', 've', 'y', 'ain', 'aren', \"aren't\", 'couldn', \"couldn't\", 'didn', \"didn't\", 'doesn', \"doesn't\", 'hadn', \"hadn't\", 'hasn', \"hasn't\", 'haven', \"haven't\", 'isn', \"isn't\", 'ma', 'mightn', \"mightn't\", 'mustn', \"mustn't\", 'needn', \"needn't\", 'shan', \"shan't\", 'shouldn', \"shouldn't\", 'wasn', \"wasn't\", 'weren', \"weren't\", 'won', \"won't\", 'wouldn', \"wouldn't\"]\n"
     ]
    }
   ],
   "source": [
    "print(stopsRUS)\n",
    "print(stopsENG)"
   ]
  },
  {
   "cell_type": "markdown",
   "id": "0e25b99c",
   "metadata": {},
   "source": [
    "# removing emojies"
   ]
  },
  {
   "cell_type": "code",
   "execution_count": 10,
   "id": "92479bba",
   "metadata": {},
   "outputs": [],
   "source": [
    "import re\n",
    "df_without_emoji = df\n",
    "\n",
    "def deEmojify(text):\n",
    "    regrex_pattern = re.compile(pattern = \"[\"\n",
    "        u\"\\U0001F600-\\U0001F64F\"  # emoticons\n",
    "        u\"\\U0001F300-\\U0001F5FF\"  # symbols & pictographs\n",
    "        u\"\\U0001F680-\\U0001F6FF\"  # transport & map symbols\n",
    "        u\"\\U0001F1E0-\\U0001F1FF\"  # flags (iOS)\n",
    "        u\"\\U00002500-\\U00002BEF\"  # chinese char\n",
    "        u\"\\U00002702-\\U000027B0\"\n",
    "        u\"\\U00002702-\\U000027B0\"\n",
    "        u\"\\U000024C2-\\U0001F251\"\n",
    "        u\"\\U0001f926-\\U0001f937\"\n",
    "        u\"\\U00010000-\\U0010ffff\"\n",
    "        u\"\\u2640-\\u2642\" \n",
    "        u\"\\u2600-\\u2B55\"\n",
    "        u\"\\u200d\"\n",
    "        u\"\\u23cf\"\n",
    "        u\"\\u23e9\"\n",
    "        u\"\\u231a\"\n",
    "        u\"\\ufe0f\"  # dingbats\n",
    "        u\"\\u3030\"\n",
    "                           \"]+\", flags = re.UNICODE)\n",
    "    return regrex_pattern.sub(r'',text)\n",
    "\n",
    "df_without_emoji['message'] = df_without_emoji['message'].apply(deEmojify)"
   ]
  },
  {
   "cell_type": "code",
   "execution_count": 11,
   "id": "d82b8db3",
   "metadata": {},
   "outputs": [
    {
     "data": {
      "text/html": [
       "<div>\n",
       "<style scoped>\n",
       "    .dataframe tbody tr th:only-of-type {\n",
       "        vertical-align: middle;\n",
       "    }\n",
       "\n",
       "    .dataframe tbody tr th {\n",
       "        vertical-align: top;\n",
       "    }\n",
       "\n",
       "    .dataframe thead th {\n",
       "        text-align: right;\n",
       "    }\n",
       "</style>\n",
       "<table border=\"1\" class=\"dataframe\">\n",
       "  <thead>\n",
       "    <tr style=\"text-align: right;\">\n",
       "      <th></th>\n",
       "      <th>from_id</th>\n",
       "      <th>message</th>\n",
       "      <th>date</th>\n",
       "    </tr>\n",
       "  </thead>\n",
       "  <tbody>\n",
       "    <tr>\n",
       "      <th>0</th>\n",
       "      <td>channel1101170442</td>\n",
       "      <td>Приветствуем всех в нашем Telegram-канале!  Вс...</td>\n",
       "      <td>2017-02-28 19:55:32</td>\n",
       "    </tr>\n",
       "    <tr>\n",
       "      <th>1</th>\n",
       "      <td>channel1101170442</td>\n",
       "      <td>Награждение победительницы конкурса красоты с...</td>\n",
       "      <td>2017-03-03 18:33:24</td>\n",
       "    </tr>\n",
       "    <tr>\n",
       "      <th>2</th>\n",
       "      <td>channel1101170442</td>\n",
       "      <td>Американский селекционер Джастин Кобылка потр...</td>\n",
       "      <td>2017-03-09 17:11:06</td>\n",
       "    </tr>\n",
       "    <tr>\n",
       "      <th>3</th>\n",
       "      <td>channel1101170442</td>\n",
       "      <td>А вы за участие России в конкурсе \\\"Евровидени...</td>\n",
       "      <td>2017-03-14 11:13:27</td>\n",
       "    </tr>\n",
       "    <tr>\n",
       "      <th>4</th>\n",
       "      <td>channel1101170442</td>\n",
       "      <td>Не болейте, друзья!</td>\n",
       "      <td>2017-03-14 19:49:56</td>\n",
       "    </tr>\n",
       "    <tr>\n",
       "      <th>...</th>\n",
       "      <td>...</td>\n",
       "      <td>...</td>\n",
       "      <td>...</td>\n",
       "    </tr>\n",
       "    <tr>\n",
       "      <th>118278</th>\n",
       "      <td>channel1101170442</td>\n",
       "      <td>Брифинг Минобороны России</td>\n",
       "      <td>2022-11-17 15:54:29</td>\n",
       "    </tr>\n",
       "    <tr>\n",
       "      <th>118279</th>\n",
       "      <td>channel1101170442</td>\n",
       "      <td>Украинских экспертов допустили на место падени...</td>\n",
       "      <td>2022-11-17 15:57:53</td>\n",
       "    </tr>\n",
       "    <tr>\n",
       "      <th>118280</th>\n",
       "      <td>channel1101170442</td>\n",
       "      <td>Порошенко заявил российским пранкерам, предста...</td>\n",
       "      <td>2022-11-17 16:06:13</td>\n",
       "    </tr>\n",
       "    <tr>\n",
       "      <th>118281</th>\n",
       "      <td>channel1101170442</td>\n",
       "      <td>Израиль сообщил, что завершил испытания морско...</td>\n",
       "      <td>2022-11-17 16:06:57</td>\n",
       "    </tr>\n",
       "    <tr>\n",
       "      <th>118282</th>\n",
       "      <td>channel1101170442</td>\n",
       "      <td>Пожар на московском рынке \\\"Садовод\\\" потушен,...</td>\n",
       "      <td>2022-11-17 16:08:27</td>\n",
       "    </tr>\n",
       "  </tbody>\n",
       "</table>\n",
       "<p>118283 rows × 3 columns</p>\n",
       "</div>"
      ],
      "text/plain": [
       "                  from_id                                            message  \\\n",
       "0       channel1101170442  Приветствуем всех в нашем Telegram-канале!  Вс...   \n",
       "1       channel1101170442   Награждение победительницы конкурса красоты с...   \n",
       "2       channel1101170442   Американский селекционер Джастин Кобылка потр...   \n",
       "3       channel1101170442  А вы за участие России в конкурсе \\\"Евровидени...   \n",
       "4       channel1101170442                                Не болейте, друзья!   \n",
       "...                   ...                                                ...   \n",
       "118278  channel1101170442                          Брифинг Минобороны России   \n",
       "118279  channel1101170442  Украинских экспертов допустили на место падени...   \n",
       "118280  channel1101170442  Порошенко заявил российским пранкерам, предста...   \n",
       "118281  channel1101170442  Израиль сообщил, что завершил испытания морско...   \n",
       "118282  channel1101170442  Пожар на московском рынке \\\"Садовод\\\" потушен,...   \n",
       "\n",
       "                       date  \n",
       "0       2017-02-28 19:55:32  \n",
       "1       2017-03-03 18:33:24  \n",
       "2       2017-03-09 17:11:06  \n",
       "3       2017-03-14 11:13:27  \n",
       "4       2017-03-14 19:49:56  \n",
       "...                     ...  \n",
       "118278  2022-11-17 15:54:29  \n",
       "118279  2022-11-17 15:57:53  \n",
       "118280  2022-11-17 16:06:13  \n",
       "118281  2022-11-17 16:06:57  \n",
       "118282  2022-11-17 16:08:27  \n",
       "\n",
       "[118283 rows x 3 columns]"
      ]
     },
     "execution_count": 11,
     "metadata": {},
     "output_type": "execute_result"
    }
   ],
   "source": [
    "df_without_emoji"
   ]
  },
  {
   "cell_type": "code",
   "execution_count": 12,
   "id": "b8b67b3d",
   "metadata": {},
   "outputs": [],
   "source": [
    "#nltk.download('punkt')"
   ]
  },
  {
   "cell_type": "markdown",
   "id": "5ebfd282",
   "metadata": {},
   "source": [
    "# Removing signs"
   ]
  },
  {
   "cell_type": "code",
   "execution_count": 13,
   "id": "3902ec6d",
   "metadata": {},
   "outputs": [],
   "source": [
    "df_without_signs = df_without_emoji\n",
    "\n",
    "def deSigns(text):\n",
    "    regrex_pattern = re.compile(pattern = '[!@\"“’«»#\\\\\\\\$%&\\'()*+,—/:;<=>?^_`{|}~\\[\\]]', flags = re.UNICODE)\n",
    "    return regrex_pattern.sub(r'',text)\n",
    "#def deSignsBackSlash(text):\n",
    "#    regrex_pattern = re.compile(pattern = '\\\\\\\\', flags = re.UNICODE)\n",
    "#    return regrex_pattern.sub(r'',text)\n",
    "\n",
    "df_without_signs['message'] = df_without_signs['message'].apply(deSigns)\n",
    "#df_without_signs['message'] = df_without_signs['message'].apply(deSignsBackSlash"
   ]
  },
  {
   "cell_type": "code",
   "execution_count": 14,
   "id": "d9799196",
   "metadata": {},
   "outputs": [
    {
     "data": {
      "text/html": [
       "<div>\n",
       "<style scoped>\n",
       "    .dataframe tbody tr th:only-of-type {\n",
       "        vertical-align: middle;\n",
       "    }\n",
       "\n",
       "    .dataframe tbody tr th {\n",
       "        vertical-align: top;\n",
       "    }\n",
       "\n",
       "    .dataframe thead th {\n",
       "        text-align: right;\n",
       "    }\n",
       "</style>\n",
       "<table border=\"1\" class=\"dataframe\">\n",
       "  <thead>\n",
       "    <tr style=\"text-align: right;\">\n",
       "      <th></th>\n",
       "      <th>from_id</th>\n",
       "      <th>message</th>\n",
       "      <th>date</th>\n",
       "    </tr>\n",
       "  </thead>\n",
       "  <tbody>\n",
       "    <tr>\n",
       "      <th>0</th>\n",
       "      <td>channel1101170442</td>\n",
       "      <td>Приветствуем всех в нашем Telegram-канале  Все...</td>\n",
       "      <td>2017-02-28 19:55:32</td>\n",
       "    </tr>\n",
       "    <tr>\n",
       "      <th>1</th>\n",
       "      <td>channel1101170442</td>\n",
       "      <td>Награждение победительницы конкурса красоты с...</td>\n",
       "      <td>2017-03-03 18:33:24</td>\n",
       "    </tr>\n",
       "    <tr>\n",
       "      <th>2</th>\n",
       "      <td>channel1101170442</td>\n",
       "      <td>Американский селекционер Джастин Кобылка потр...</td>\n",
       "      <td>2017-03-09 17:11:06</td>\n",
       "    </tr>\n",
       "    <tr>\n",
       "      <th>3</th>\n",
       "      <td>channel1101170442</td>\n",
       "      <td>А вы за участие России в конкурсе Евровидение</td>\n",
       "      <td>2017-03-14 11:13:27</td>\n",
       "    </tr>\n",
       "    <tr>\n",
       "      <th>4</th>\n",
       "      <td>channel1101170442</td>\n",
       "      <td>Не болейте друзья</td>\n",
       "      <td>2017-03-14 19:49:56</td>\n",
       "    </tr>\n",
       "    <tr>\n",
       "      <th>...</th>\n",
       "      <td>...</td>\n",
       "      <td>...</td>\n",
       "      <td>...</td>\n",
       "    </tr>\n",
       "    <tr>\n",
       "      <th>118278</th>\n",
       "      <td>channel1101170442</td>\n",
       "      <td>Брифинг Минобороны России</td>\n",
       "      <td>2022-11-17 15:54:29</td>\n",
       "    </tr>\n",
       "    <tr>\n",
       "      <th>118279</th>\n",
       "      <td>channel1101170442</td>\n",
       "      <td>Украинских экспертов допустили на место падени...</td>\n",
       "      <td>2022-11-17 15:57:53</td>\n",
       "    </tr>\n",
       "    <tr>\n",
       "      <th>118280</th>\n",
       "      <td>channel1101170442</td>\n",
       "      <td>Порошенко заявил российским пранкерам представ...</td>\n",
       "      <td>2022-11-17 16:06:13</td>\n",
       "    </tr>\n",
       "    <tr>\n",
       "      <th>118281</th>\n",
       "      <td>channel1101170442</td>\n",
       "      <td>Израиль сообщил что завершил испытания морской...</td>\n",
       "      <td>2022-11-17 16:06:57</td>\n",
       "    </tr>\n",
       "    <tr>\n",
       "      <th>118282</th>\n",
       "      <td>channel1101170442</td>\n",
       "      <td>Пожар на московском рынке Садовод потушен его ...</td>\n",
       "      <td>2022-11-17 16:08:27</td>\n",
       "    </tr>\n",
       "  </tbody>\n",
       "</table>\n",
       "<p>118283 rows × 3 columns</p>\n",
       "</div>"
      ],
      "text/plain": [
       "                  from_id                                            message  \\\n",
       "0       channel1101170442  Приветствуем всех в нашем Telegram-канале  Все...   \n",
       "1       channel1101170442   Награждение победительницы конкурса красоты с...   \n",
       "2       channel1101170442   Американский селекционер Джастин Кобылка потр...   \n",
       "3       channel1101170442      А вы за участие России в конкурсе Евровидение   \n",
       "4       channel1101170442                                  Не болейте друзья   \n",
       "...                   ...                                                ...   \n",
       "118278  channel1101170442                          Брифинг Минобороны России   \n",
       "118279  channel1101170442  Украинских экспертов допустили на место падени...   \n",
       "118280  channel1101170442  Порошенко заявил российским пранкерам представ...   \n",
       "118281  channel1101170442  Израиль сообщил что завершил испытания морской...   \n",
       "118282  channel1101170442  Пожар на московском рынке Садовод потушен его ...   \n",
       "\n",
       "                       date  \n",
       "0       2017-02-28 19:55:32  \n",
       "1       2017-03-03 18:33:24  \n",
       "2       2017-03-09 17:11:06  \n",
       "3       2017-03-14 11:13:27  \n",
       "4       2017-03-14 19:49:56  \n",
       "...                     ...  \n",
       "118278  2022-11-17 15:54:29  \n",
       "118279  2022-11-17 15:57:53  \n",
       "118280  2022-11-17 16:06:13  \n",
       "118281  2022-11-17 16:06:57  \n",
       "118282  2022-11-17 16:08:27  \n",
       "\n",
       "[118283 rows x 3 columns]"
      ]
     },
     "execution_count": 14,
     "metadata": {},
     "output_type": "execute_result"
    }
   ],
   "source": [
    "df_without_signs"
   ]
  },
  {
   "cell_type": "markdown",
   "id": "36ee460d",
   "metadata": {},
   "source": [
    "# Lemmatization"
   ]
  },
  {
   "cell_type": "code",
   "execution_count": 15,
   "id": "4ea704b0",
   "metadata": {},
   "outputs": [],
   "source": [
    "#pip install pymorphy2"
   ]
  },
  {
   "cell_type": "code",
   "execution_count": 16,
   "id": "353f9ac0",
   "metadata": {},
   "outputs": [],
   "source": [
    "import pymorphy2"
   ]
  },
  {
   "cell_type": "code",
   "execution_count": 17,
   "id": "277ce8a8",
   "metadata": {},
   "outputs": [
    {
     "name": "stdout",
     "output_type": "stream",
     "text": [
      "CPU times: user 7min 5s, sys: 888 ms, total: 7min 6s\n",
      "Wall time: 7min 6s\n"
     ]
    }
   ],
   "source": [
    "%%time\n",
    "df_normal = df_without_signs\n",
    "\n",
    "morph = pymorphy2.MorphAnalyzer()\n",
    "\n",
    "def converter (sentence):\n",
    "    list = []\n",
    "    words = sentence.split()\n",
    "    for item in words:\n",
    "        list.append(morph.parse(item)[0].normal_form)\n",
    "    return ' '.join(list) \n",
    "\n",
    "df_normal['message'] = df_normal['message'].apply(converter)"
   ]
  },
  {
   "cell_type": "code",
   "execution_count": 18,
   "id": "a11a1d25",
   "metadata": {},
   "outputs": [
    {
     "data": {
      "text/html": [
       "<div>\n",
       "<style scoped>\n",
       "    .dataframe tbody tr th:only-of-type {\n",
       "        vertical-align: middle;\n",
       "    }\n",
       "\n",
       "    .dataframe tbody tr th {\n",
       "        vertical-align: top;\n",
       "    }\n",
       "\n",
       "    .dataframe thead th {\n",
       "        text-align: right;\n",
       "    }\n",
       "</style>\n",
       "<table border=\"1\" class=\"dataframe\">\n",
       "  <thead>\n",
       "    <tr style=\"text-align: right;\">\n",
       "      <th></th>\n",
       "      <th>from_id</th>\n",
       "      <th>message</th>\n",
       "      <th>date</th>\n",
       "    </tr>\n",
       "  </thead>\n",
       "  <tbody>\n",
       "    <tr>\n",
       "      <th>0</th>\n",
       "      <td>channel1101170442</td>\n",
       "      <td>приветствовать весь в наш telegram-канал всегд...</td>\n",
       "      <td>2017-02-28 19:55:32</td>\n",
       "    </tr>\n",
       "    <tr>\n",
       "      <th>1</th>\n",
       "      <td>channel1101170442</td>\n",
       "      <td>награждение победительница конкурс красота сре...</td>\n",
       "      <td>2017-03-03 18:33:24</td>\n",
       "    </tr>\n",
       "    <tr>\n",
       "      <th>2</th>\n",
       "      <td>channel1101170442</td>\n",
       "      <td>американский селекционер джастин кобылка потра...</td>\n",
       "      <td>2017-03-09 17:11:06</td>\n",
       "    </tr>\n",
       "    <tr>\n",
       "      <th>3</th>\n",
       "      <td>channel1101170442</td>\n",
       "      <td>а вы за участие россия в конкурс евровидение</td>\n",
       "      <td>2017-03-14 11:13:27</td>\n",
       "    </tr>\n",
       "    <tr>\n",
       "      <th>4</th>\n",
       "      <td>channel1101170442</td>\n",
       "      <td>не болеть друг</td>\n",
       "      <td>2017-03-14 19:49:56</td>\n",
       "    </tr>\n",
       "    <tr>\n",
       "      <th>...</th>\n",
       "      <td>...</td>\n",
       "      <td>...</td>\n",
       "      <td>...</td>\n",
       "    </tr>\n",
       "    <tr>\n",
       "      <th>118278</th>\n",
       "      <td>channel1101170442</td>\n",
       "      <td>брифинг минобороны россия</td>\n",
       "      <td>2022-11-17 15:54:29</td>\n",
       "    </tr>\n",
       "    <tr>\n",
       "      <th>118279</th>\n",
       "      <td>channel1101170442</td>\n",
       "      <td>украинский эксперт допустить на место падение ...</td>\n",
       "      <td>2022-11-17 15:57:53</td>\n",
       "    </tr>\n",
       "    <tr>\n",
       "      <th>118280</th>\n",
       "      <td>channel1101170442</td>\n",
       "      <td>порошенко заявить российский пранкер представи...</td>\n",
       "      <td>2022-11-17 16:06:13</td>\n",
       "    </tr>\n",
       "    <tr>\n",
       "      <th>118281</th>\n",
       "      <td>channel1101170442</td>\n",
       "      <td>израиль сообщить что завершить испытание морск...</td>\n",
       "      <td>2022-11-17 16:06:57</td>\n",
       "    </tr>\n",
       "    <tr>\n",
       "      <th>118282</th>\n",
       "      <td>channel1101170442</td>\n",
       "      <td>пожар на московский рынок садовод потушить он ...</td>\n",
       "      <td>2022-11-17 16:08:27</td>\n",
       "    </tr>\n",
       "  </tbody>\n",
       "</table>\n",
       "<p>118283 rows × 3 columns</p>\n",
       "</div>"
      ],
      "text/plain": [
       "                  from_id                                            message  \\\n",
       "0       channel1101170442  приветствовать весь в наш telegram-канал всегд...   \n",
       "1       channel1101170442  награждение победительница конкурс красота сре...   \n",
       "2       channel1101170442  американский селекционер джастин кобылка потра...   \n",
       "3       channel1101170442       а вы за участие россия в конкурс евровидение   \n",
       "4       channel1101170442                                     не болеть друг   \n",
       "...                   ...                                                ...   \n",
       "118278  channel1101170442                          брифинг минобороны россия   \n",
       "118279  channel1101170442  украинский эксперт допустить на место падение ...   \n",
       "118280  channel1101170442  порошенко заявить российский пранкер представи...   \n",
       "118281  channel1101170442  израиль сообщить что завершить испытание морск...   \n",
       "118282  channel1101170442  пожар на московский рынок садовод потушить он ...   \n",
       "\n",
       "                       date  \n",
       "0       2017-02-28 19:55:32  \n",
       "1       2017-03-03 18:33:24  \n",
       "2       2017-03-09 17:11:06  \n",
       "3       2017-03-14 11:13:27  \n",
       "4       2017-03-14 19:49:56  \n",
       "...                     ...  \n",
       "118278  2022-11-17 15:54:29  \n",
       "118279  2022-11-17 15:57:53  \n",
       "118280  2022-11-17 16:06:13  \n",
       "118281  2022-11-17 16:06:57  \n",
       "118282  2022-11-17 16:08:27  \n",
       "\n",
       "[118283 rows x 3 columns]"
      ]
     },
     "execution_count": 18,
     "metadata": {},
     "output_type": "execute_result"
    }
   ],
   "source": [
    "df_normal"
   ]
  },
  {
   "cell_type": "markdown",
   "id": "42074e02",
   "metadata": {},
   "source": [
    "# Tokenizing"
   ]
  },
  {
   "cell_type": "code",
   "execution_count": 19,
   "id": "f02edcfc",
   "metadata": {},
   "outputs": [],
   "source": [
    "df['message'] = df['message'].apply(lambda x: ' '.join([word for word in x.split() if word not in (stopsRUS)]))"
   ]
  },
  {
   "cell_type": "code",
   "execution_count": 20,
   "id": "60070a45",
   "metadata": {},
   "outputs": [],
   "source": [
    "df_tokenized = df_without_emoji\n",
    "def tokenize(column):\n",
    "    tokens = nltk.word_tokenize(column)\n",
    "    return [w for w in tokens if w.isalpha()]\n",
    "\n",
    "df_tokenized['tokenized'] = df_tokenized.apply(lambda x: tokenize(x['message']), axis=1)"
   ]
  },
  {
   "cell_type": "code",
   "execution_count": 21,
   "id": "417abcce",
   "metadata": {},
   "outputs": [
    {
     "data": {
      "text/html": [
       "<div>\n",
       "<style scoped>\n",
       "    .dataframe tbody tr th:only-of-type {\n",
       "        vertical-align: middle;\n",
       "    }\n",
       "\n",
       "    .dataframe tbody tr th {\n",
       "        vertical-align: top;\n",
       "    }\n",
       "\n",
       "    .dataframe thead th {\n",
       "        text-align: right;\n",
       "    }\n",
       "</style>\n",
       "<table border=\"1\" class=\"dataframe\">\n",
       "  <thead>\n",
       "    <tr style=\"text-align: right;\">\n",
       "      <th></th>\n",
       "      <th>from_id</th>\n",
       "      <th>message</th>\n",
       "      <th>date</th>\n",
       "      <th>tokenized</th>\n",
       "    </tr>\n",
       "  </thead>\n",
       "  <tbody>\n",
       "    <tr>\n",
       "      <th>0</th>\n",
       "      <td>channel1101170442</td>\n",
       "      <td>приветствовать весь наш telegram-канал курс кл...</td>\n",
       "      <td>2017-02-28 19:55:32</td>\n",
       "      <td>[приветствовать, весь, наш, курс, ключевой, со...</td>\n",
       "    </tr>\n",
       "    <tr>\n",
       "      <th>1</th>\n",
       "      <td>channel1101170442</td>\n",
       "      <td>награждение победительница конкурс красота сре...</td>\n",
       "      <td>2017-03-03 18:33:24</td>\n",
       "      <td>[награждение, победительница, конкурс, красота...</td>\n",
       "    </tr>\n",
       "    <tr>\n",
       "      <th>2</th>\n",
       "      <td>channel1101170442</td>\n",
       "      <td>американский селекционер джастин кобылка потра...</td>\n",
       "      <td>2017-03-09 17:11:06</td>\n",
       "      <td>[американский, селекционер, джастин, кобылка, ...</td>\n",
       "    </tr>\n",
       "    <tr>\n",
       "      <th>3</th>\n",
       "      <td>channel1101170442</td>\n",
       "      <td>участие россия конкурс евровидение</td>\n",
       "      <td>2017-03-14 11:13:27</td>\n",
       "      <td>[участие, россия, конкурс, евровидение]</td>\n",
       "    </tr>\n",
       "    <tr>\n",
       "      <th>4</th>\n",
       "      <td>channel1101170442</td>\n",
       "      <td>не болеть друг</td>\n",
       "      <td>2017-03-14 19:49:56</td>\n",
       "      <td>[не, болеть, друг]</td>\n",
       "    </tr>\n",
       "    <tr>\n",
       "      <th>...</th>\n",
       "      <td>...</td>\n",
       "      <td>...</td>\n",
       "      <td>...</td>\n",
       "      <td>...</td>\n",
       "    </tr>\n",
       "    <tr>\n",
       "      <th>118278</th>\n",
       "      <td>channel1101170442</td>\n",
       "      <td>брифинг минобороны россия</td>\n",
       "      <td>2022-11-17 15:54:29</td>\n",
       "      <td>[брифинг, минобороны, россия]</td>\n",
       "    </tr>\n",
       "    <tr>\n",
       "      <th>118279</th>\n",
       "      <td>channel1101170442</td>\n",
       "      <td>украинский эксперт допустить место падение рак...</td>\n",
       "      <td>2022-11-17 15:57:53</td>\n",
       "      <td>[украинский, эксперт, допустить, место, падени...</td>\n",
       "    </tr>\n",
       "    <tr>\n",
       "      <th>118280</th>\n",
       "      <td>channel1101170442</td>\n",
       "      <td>порошенко заявить российский пранкер представи...</td>\n",
       "      <td>2022-11-17 16:06:13</td>\n",
       "      <td>[порошенко, заявить, российский, пранкер, пред...</td>\n",
       "    </tr>\n",
       "    <tr>\n",
       "      <th>118281</th>\n",
       "      <td>channel1101170442</td>\n",
       "      <td>израиль сообщить завершить испытание морской с...</td>\n",
       "      <td>2022-11-17 16:06:57</td>\n",
       "      <td>[израиль, сообщить, завершить, испытание, морс...</td>\n",
       "    </tr>\n",
       "    <tr>\n",
       "      <th>118282</th>\n",
       "      <td>channel1101170442</td>\n",
       "      <td>пожар московский рынок садовод потушить площад...</td>\n",
       "      <td>2022-11-17 16:08:27</td>\n",
       "      <td>[пожар, московский, рынок, садовод, потушить, ...</td>\n",
       "    </tr>\n",
       "  </tbody>\n",
       "</table>\n",
       "<p>118283 rows × 4 columns</p>\n",
       "</div>"
      ],
      "text/plain": [
       "                  from_id                                            message  \\\n",
       "0       channel1101170442  приветствовать весь наш telegram-канал курс кл...   \n",
       "1       channel1101170442  награждение победительница конкурс красота сре...   \n",
       "2       channel1101170442  американский селекционер джастин кобылка потра...   \n",
       "3       channel1101170442                 участие россия конкурс евровидение   \n",
       "4       channel1101170442                                     не болеть друг   \n",
       "...                   ...                                                ...   \n",
       "118278  channel1101170442                          брифинг минобороны россия   \n",
       "118279  channel1101170442  украинский эксперт допустить место падение рак...   \n",
       "118280  channel1101170442  порошенко заявить российский пранкер представи...   \n",
       "118281  channel1101170442  израиль сообщить завершить испытание морской с...   \n",
       "118282  channel1101170442  пожар московский рынок садовод потушить площад...   \n",
       "\n",
       "                       date                                          tokenized  \n",
       "0       2017-02-28 19:55:32  [приветствовать, весь, наш, курс, ключевой, со...  \n",
       "1       2017-03-03 18:33:24  [награждение, победительница, конкурс, красота...  \n",
       "2       2017-03-09 17:11:06  [американский, селекционер, джастин, кобылка, ...  \n",
       "3       2017-03-14 11:13:27            [участие, россия, конкурс, евровидение]  \n",
       "4       2017-03-14 19:49:56                                 [не, болеть, друг]  \n",
       "...                     ...                                                ...  \n",
       "118278  2022-11-17 15:54:29                      [брифинг, минобороны, россия]  \n",
       "118279  2022-11-17 15:57:53  [украинский, эксперт, допустить, место, падени...  \n",
       "118280  2022-11-17 16:06:13  [порошенко, заявить, российский, пранкер, пред...  \n",
       "118281  2022-11-17 16:06:57  [израиль, сообщить, завершить, испытание, морс...  \n",
       "118282  2022-11-17 16:08:27  [пожар, московский, рынок, садовод, потушить, ...  \n",
       "\n",
       "[118283 rows x 4 columns]"
      ]
     },
     "execution_count": 21,
     "metadata": {},
     "output_type": "execute_result"
    }
   ],
   "source": [
    "df_tokenized"
   ]
  },
  {
   "cell_type": "markdown",
   "id": "0deb8862",
   "metadata": {},
   "source": [
    "# Tf idf tokenizing"
   ]
  },
  {
   "cell_type": "code",
   "execution_count": 22,
   "id": "0aa8a2f5",
   "metadata": {},
   "outputs": [],
   "source": [
    "from sklearn.feature_extraction.text import TfidfVectorizer"
   ]
  },
  {
   "cell_type": "code",
   "execution_count": 23,
   "id": "fbc97c06",
   "metadata": {},
   "outputs": [],
   "source": [
    "v = TfidfVectorizer()\n",
    "x = v.fit_transform(df_tokenized['message'])"
   ]
  },
  {
   "cell_type": "code",
   "execution_count": 24,
   "id": "d10cdd71",
   "metadata": {},
   "outputs": [
    {
     "name": "stdout",
     "output_type": "stream",
     "text": [
      "[0. 0. 0. ... 0. 0. 0.]\n"
     ]
    }
   ],
   "source": [
    "print(x.toarray()[100000])"
   ]
  },
  {
   "cell_type": "markdown",
   "id": "278635f8",
   "metadata": {},
   "source": [
    "# Matrix of tf idf cosine simularities"
   ]
  },
  {
   "cell_type": "code",
   "execution_count": 25,
   "id": "7d303e54",
   "metadata": {},
   "outputs": [],
   "source": [
    "from sklearn.metrics.pairwise import linear_kernel"
   ]
  },
  {
   "cell_type": "code",
   "execution_count": 26,
   "id": "bd20d9c4",
   "metadata": {},
   "outputs": [
    {
     "data": {
      "text/plain": [
       "array([1.])"
      ]
     },
     "execution_count": 26,
     "metadata": {},
     "output_type": "execute_result"
    }
   ],
   "source": [
    "cosine_similarities = linear_kernel(x[10000], x[10000]).flatten()\n",
    "cosine_similarities"
   ]
  },
  {
   "cell_type": "code",
   "execution_count": 27,
   "id": "66a27ae5",
   "metadata": {},
   "outputs": [],
   "source": [
    "def cosine_similarity_for_ftidf(i, j):\n",
    "    if j < i:\n",
    "        return b[j][i]\n",
    "    cosine_similarities = linear_kernel(x[i], x[j]).flatten()\n",
    "    return cosine_similarities"
   ]
  },
  {
   "cell_type": "code",
   "execution_count": 28,
   "id": "de391487",
   "metadata": {},
   "outputs": [
    {
     "name": "stdout",
     "output_type": "stream",
     "text": [
      "CPU times: user 2min 19s, sys: 401 ms, total: 2min 19s\n",
      "Wall time: 2min 19s\n"
     ]
    }
   ],
   "source": [
    "%%time\n",
    "a = []\n",
    "b = []\n",
    "for i in range(0, 1000):\n",
    "    for j in range(0, 1000):\n",
    "        a.append(cosine_similarity_for_ftidf(i, j))\n",
    "    b.append(a)\n",
    "    a = []"
   ]
  },
  {
   "cell_type": "code",
   "execution_count": 29,
   "id": "15407218",
   "metadata": {},
   "outputs": [],
   "source": [
    "#pd.set_option('display.max_rows', None)"
   ]
  },
  {
   "cell_type": "markdown",
   "id": "e6ac0a99",
   "metadata": {},
   "source": [
    "# Matrix of date intervals"
   ]
  },
  {
   "cell_type": "code",
   "execution_count": 30,
   "id": "9ffba7f6",
   "metadata": {},
   "outputs": [],
   "source": [
    "from datetime import datetime"
   ]
  },
  {
   "cell_type": "code",
   "execution_count": 31,
   "id": "1ab09c8d",
   "metadata": {},
   "outputs": [],
   "source": [
    "def date_in_datetime(text):\n",
    "    date = datetime.strptime(text, \"%Y-%m-%d %H:%M:%S\")\n",
    "    return date"
   ]
  },
  {
   "cell_type": "code",
   "execution_count": 32,
   "id": "31be813d",
   "metadata": {},
   "outputs": [],
   "source": [
    "def date_interval(date_first, date_second):\n",
    "    date1 = date_in_datetime(date_first)\n",
    "    date2 = date_in_datetime(date_second)\n",
    "    if date1 < date2:\n",
    "        date3 = date2 - date1\n",
    "    else:\n",
    "        date3 = date1 - date2\n",
    "    return date3.days * 24 + date3.seconds / 3600"
   ]
  },
  {
   "cell_type": "code",
   "execution_count": 33,
   "id": "cee9470b",
   "metadata": {},
   "outputs": [],
   "source": [
    "#date1 = date_in_hours('2017-02-28 19:55:32')\n",
    "#date2 = date_in_hours('2022-11-17 16:08:27')"
   ]
  },
  {
   "cell_type": "code",
   "execution_count": 34,
   "id": "dca98e1d",
   "metadata": {},
   "outputs": [],
   "source": [
    "#date_interval('2022-11-17 16:08:27', '2017-02-28 19:55:32')"
   ]
  },
  {
   "cell_type": "code",
   "execution_count": 35,
   "id": "f7d4d447",
   "metadata": {},
   "outputs": [
    {
     "data": {
      "text/plain": [
       "'приветствовать весь наш telegram-канал курс ключевой событие'"
      ]
     },
     "execution_count": 35,
     "metadata": {},
     "output_type": "execute_result"
    }
   ],
   "source": [
    "df_tokenized.message[0]"
   ]
  },
  {
   "cell_type": "code",
   "execution_count": 36,
   "id": "2b260bda",
   "metadata": {},
   "outputs": [
    {
     "data": {
      "text/plain": [
       "118283"
      ]
     },
     "execution_count": 36,
     "metadata": {},
     "output_type": "execute_result"
    }
   ],
   "source": [
    "len(df_tokenized)"
   ]
  },
  {
   "cell_type": "code",
   "execution_count": 37,
   "id": "b5f29f95",
   "metadata": {},
   "outputs": [],
   "source": [
    "date_vec = []\n",
    "for i in range(0, len(df_tokenized)):\n",
    "    date_vec.append(df_tokenized.date[i])\n",
    "    \n",
    "min_time = date_interval(date_vec[0], date_vec[0])\n",
    "    \n",
    "max_time = date_interval(date_vec[0], date_vec[999])\n",
    "\n",
    "def get_interval(i, j):\n",
    "    if j < i:\n",
    "        return time_matrix[j][i]\n",
    "    return ((date_interval(date_vec[i], date_vec[j]) - min_time) / (max_time - min_time))"
   ]
  },
  {
   "cell_type": "code",
   "execution_count": 38,
   "id": "4aaa7f15",
   "metadata": {},
   "outputs": [],
   "source": [
    "import math"
   ]
  },
  {
   "cell_type": "code",
   "execution_count": 39,
   "id": "da3ecab0",
   "metadata": {},
   "outputs": [
    {
     "name": "stdout",
     "output_type": "stream",
     "text": [
      "CPU times: user 5.81 s, sys: 30.7 ms, total: 5.84 s\n",
      "Wall time: 5.83 s\n"
     ]
    }
   ],
   "source": [
    "%%time\n",
    "time_matrix = []\n",
    "time_row = []\n",
    "for i in range(0, 1000):\n",
    "    for j in range(0, 1000):\n",
    "        time_row.append(get_interval(i, j))\n",
    "    time_matrix.append(time_row)\n",
    "    time_row = []"
   ]
  },
  {
   "cell_type": "code",
   "execution_count": null,
   "id": "580af954",
   "metadata": {},
   "outputs": [],
   "source": []
  },
  {
   "cell_type": "code",
   "execution_count": 40,
   "id": "2793c50a",
   "metadata": {},
   "outputs": [
    {
     "data": {
      "text/plain": [
       "1.0"
      ]
     },
     "execution_count": 40,
     "metadata": {},
     "output_type": "execute_result"
    }
   ],
   "source": [
    "time_matrix[0][999]"
   ]
  },
  {
   "cell_type": "markdown",
   "id": "504d4a35",
   "metadata": {},
   "source": [
    "# Matrix of distances"
   ]
  },
  {
   "cell_type": "code",
   "execution_count": 41,
   "id": "ddfb8fa4",
   "metadata": {},
   "outputs": [],
   "source": [
    "import numpy as np"
   ]
  },
  {
   "cell_type": "code",
   "execution_count": 42,
   "id": "ce057964",
   "metadata": {},
   "outputs": [],
   "source": [
    "#len(sim_matrix[999])"
   ]
  },
  {
   "cell_type": "code",
   "execution_count": null,
   "id": "aed65f44",
   "metadata": {},
   "outputs": [],
   "source": []
  },
  {
   "cell_type": "code",
   "execution_count": 43,
   "id": "0887968c",
   "metadata": {},
   "outputs": [],
   "source": [
    "def sim(i, j):\n",
    "    if j < i:\n",
    "        return sim_matrix[j][i]\n",
    "    return float((1 + b[i][j]) * (1 + time_matrix[i][j]) )"
   ]
  },
  {
   "cell_type": "code",
   "execution_count": 44,
   "id": "d349985f",
   "metadata": {},
   "outputs": [],
   "source": [
    "sim_matrix = []\n",
    "sim_row = []\n",
    "for i in range(0, 1000):\n",
    "    for j in range(0, 1000):\n",
    "        sim_row.append(sim(i, j))\n",
    "    sim_matrix.append(sim_row)\n",
    "    sim_row = []"
   ]
  },
  {
   "cell_type": "code",
   "execution_count": 45,
   "id": "cb11dcd0",
   "metadata": {},
   "outputs": [],
   "source": [
    "sim_np_matrix = np.matrix(sim_matrix)"
   ]
  },
  {
   "cell_type": "code",
   "execution_count": null,
   "id": "796b91dc",
   "metadata": {},
   "outputs": [],
   "source": []
  },
  {
   "cell_type": "code",
   "execution_count": 46,
   "id": "16c268d2",
   "metadata": {},
   "outputs": [],
   "source": [
    "import scipy.cluster.hierarchy as sch"
   ]
  },
  {
   "cell_type": "code",
   "execution_count": 47,
   "id": "69c613ac",
   "metadata": {},
   "outputs": [],
   "source": [
    "from scipy.cluster.hierarchy import dendrogram"
   ]
  },
  {
   "cell_type": "code",
   "execution_count": 48,
   "id": "4df21137",
   "metadata": {},
   "outputs": [
    {
     "data": {
      "image/png": "[encoded data removed]",
      "text/plain": [
       "<Figure size 640x480 with 1 Axes>"
      ]
     },
     "metadata": {},
     "output_type": "display_data"
    },
    {
     "name": "stdout",
     "output_type": "stream",
     "text": [
      "CPU times: user 5.01 s, sys: 103 ms, total: 5.11 s\n",
      "Wall time: 4.6 s\n"
     ]
    },
    {
     "data": {
      "text/plain": [
       "<Figure size 20000x20000 with 0 Axes>"
      ]
     },
     "execution_count": 48,
     "metadata": {},
     "output_type": "execute_result"
    },
    {
     "data": {
      "text/plain": [
       "<Figure size 20000x20000 with 0 Axes>"
      ]
     },
     "metadata": {},
     "output_type": "display_data"
    }
   ],
   "source": [
    "%%time\n",
    "import matplotlib.pyplot as plt\n",
    "\n",
    "dendrogram = sch.dendrogram(sch.linkage(sim_matrix, method = 'ward'))\n",
    "plt.show()\n",
    "plt.figure(figsize=(200, 200))"
   ]
  },
  {
   "cell_type": "code",
   "execution_count": 54,
   "id": "a24cf149",
   "metadata": {},
   "outputs": [],
   "source": [
    "from sklearn.cluster import AgglomerativeClustering\n",
    "cluster = AgglomerativeClustering(n_clusters=250, affinity='euclidean', linkage='ward')\n",
    "clusters = cluster.fit_predict(sim_matrix)"
   ]
  },
  {
   "cell_type": "code",
   "execution_count": 53,
   "id": "213d9415",
   "metadata": {},
   "outputs": [
    {
     "data": {
      "text/plain": [
       "array([115, 128,  46, 128,  46,  46,  46,  90,  90,  46,  90,  90,  45,\n",
       "        45,  45, 125, 125, 125, 125, 121, 114, 124, 124, 124,  26, 124,\n",
       "       124, 124,  26,  26, 124,  26,  26, 124,  14,  26,  26,  26,  14,\n",
       "        14,  26,  14,   4,  51,  26,  26,  14,  26,  26,  26,  14,  26,\n",
       "        97,  97,  26,  14,  14,  26,  14,  14,  51,  59,  59,  59,  14,\n",
       "        14,  59,  59,  14,  85,  26,  14,   4,  92,  92,   4,   4,   4,\n",
       "        14,  14,  14,  85,  14, 110, 110,  14, 106,  29,  14, 100,  97,\n",
       "        92,   4,  14, 106,  14,  92,  14,   4,  14,  14,  14,  14,  14,\n",
       "        14,  14,  14,  14,  14,  14,  14,  14, 142,  59,   4, 106,  14,\n",
       "       106,  35, 106, 106, 104,  29,  14,  89,  89,  14,  35, 100,  29,\n",
       "        29,  29,  14,  14,  14,  14,   4,  14,  55,  14,  31,  29,  31,\n",
       "        14,  31, 104,  31,  35,  17,  35,  35,  31,   4,  31,  31,  31,\n",
       "        31,  31,  29,  35,  31,  31,  29, 100,  31,  31,  31,  14,  31,\n",
       "        31,  31,  55,  55,  35,  31,  31,  31,  31,  48,  31,  31,  31,\n",
       "        31, 131, 100,  17, 100,  31,  31,  17,  31,  17,  31,  55,  42,\n",
       "       149,  27,  31,  17,  17,  17,  17,  31,  17, 131,  17,  17,  17,\n",
       "       100,  17,  42,  17,  17, 134,  17,  17,  42,  17,  17, 134,  17,\n",
       "        42, 134, 134, 134, 134,   1, 134, 134, 134, 134, 134, 134, 134,\n",
       "       134, 134, 134, 134, 134, 134, 134, 134,   1, 134,   2, 134, 134,\n",
       "       134, 134, 134, 134, 134, 134, 134, 134,  48,   2,   2, 134,   1,\n",
       "         2, 134,   2, 134,   2, 134,   2,   2, 134,   2,  48,   2, 134,\n",
       "         2,   2, 134,  22,   2,   2,   2,  48,  48,   2,   2, 134,   2,\n",
       "         2, 140,  22,   2,   2,   2,   2,   2,   2,   2,   2,   2,   2,\n",
       "        22,   2, 134,  22,   2,   2,  22,   2,   2,   2,   2,   2,   2,\n",
       "         2,   2,   2,  22,  57,  57,   2,  22,  22,  22,  22,  21,   2,\n",
       "         2,   2,  22,  27,  22,  22,   2,   2,  30,  22,  99,  22,  22,\n",
       "        22,   2,  21,  22,   2,  22, 140,  30,  22,  30,  22,   2,   2,\n",
       "        22,  22,  57,  30,   1,  30,  22,  30,  30,  57,  22,  21,  30,\n",
       "        30,  30,  25,  16,  30,  30,  30,  22,  30,  30,  43,  43,  43,\n",
       "        30,  36,  30,  69,  25,  30,  30,  30,  30,  30,  72,  30,  36,\n",
       "        16,  16,  30,  30,  16,  30,  30,  30,  22,  30,  69,  30,  36,\n",
       "        30,  21,  30,  72,  72,  30,  22,  30,  69,  21,  69,  16,  69,\n",
       "        30,  30,  30,  16,  30, 147, 147,  21,  69,  69,  69,  69,  30,\n",
       "        57,  69,  69,  28,  69,  16,  30, 137,  69, 143,  69,  28,  25,\n",
       "        80,  25,  25,  69,  36,  69,  69,  69,  69,  28,  28,  64,  69,\n",
       "        28, 137,  69,  78,  28, 137,  78,  78,  28,  28,  28,  64,  64,\n",
       "        28,  23,  23,  64,  96,  96,  28,  80, 119,  28,  23,  23, 119,\n",
       "        28,  28,  64,  28,  23,  23,  23,  28,  28,  13,  34,  28, 119,\n",
       "        23,  23,  34,  34,  34,  13,  28,  15,  34,  47,  47,  47,  47,\n",
       "        47,  15,  15,  15, 138,  47,  15,  47,  47,   8,  47,  15,   8,\n",
       "        28,   8,   8,  47,   8,  15,  15,  28,   8,  15,  34,  34,  34,\n",
       "         8,  13, 148,  50,  23, 101, 101, 101,  28,  34,  34,  34, 108,\n",
       "       108,  67,  67,  67,  34,  34,  34,  34,  18,  33,  37, 139, 139,\n",
       "       123,  37, 123, 138,   7,  18,   7,  18,  18, 123,  18,  18,  34,\n",
       "        34, 123,   7,  18,  13,  18,  34,  98,  15,  34,  98,   7,  98,\n",
       "        18,  98,  98,  33,  20, 108,  98,  98,  20,  98,  11,  33,  11,\n",
       "        11,  11,  11,  98, 135, 135,  98,   7,  98,  34,  34,  98,  98,\n",
       "        98,  98,  20,  98,  98,  44, 127,  50, 127,   3, 127, 127, 127,\n",
       "        50, 148,   7,   3,  98,  98,  20,  98,  44,  44,  50,  50,  50,\n",
       "        50,  98,  50,   3,   3,  20,   3,  87,   3,  98,   3,   3,   3,\n",
       "         3,   3,  98,  50,   0,  88,   0,  70,  94,   0,  58,  88,  53,\n",
       "        88,   0,  53,  32,  58,   0,  12,  62,  62,  12,  84,  62,  84,\n",
       "        62,  62,   0,   0,   0, 103, 118, 113, 130,   0,  70,  24, 113,\n",
       "       118,  58,  81,  70,  81,   0,  77,  12,  32,  32, 132,  77,  53,\n",
       "        12,  53,   0,  53,   0,  19,   0,  32,   0,   0,   0, 103,  94,\n",
       "        94,   0,  19,   0,   0, 118, 133,   0, 118,  70,  70,   0,  74,\n",
       "        24,  56,   0,  24,  32,  58,  70, 130,  53,  10,  56,  82,  82,\n",
       "        82,  32,  24,  12,  19,  32,  32,  53,  53,  56,  32,  19,  52,\n",
       "       141,   0,  19,   5, 112,  32,   5,  41,   5, 116,  32,  70, 116,\n",
       "       116,  41,  32,  41,  32,   0,  32,  32,  32,  41, 112, 116,  19,\n",
       "        32,  32,  32,   0, 105,  32,  41,  41,  32,  41,   5,  10,  10,\n",
       "        10,   5,  32,  10,  32,  32,   5, 146,  32,   0,   5,   5,   5,\n",
       "        32, 146,   5,  32,  12, 103,   5,  12,  24,  95,  52,  52, 136,\n",
       "        95, 136,   5,  95, 111,  32,  66,  49,   0, 111,  49,   5,  10,\n",
       "        52,  32,   5, 144,  70,  76,   5,  49,   5, 144,  49,  74, 111,\n",
       "         6,   6, 102, 102,  49, 117,   5,  95, 105,   5,  38, 117,  65,\n",
       "        49,  94,   5,  95,  86,  40,  40,  40,  10,  40,  66,  76,  86,\n",
       "        49,   6,  54,   9, 126,   9,   9, 109,   9,   9,  86,  66,   9,\n",
       "        49,  39,   5,  52, 126,  63,  19,  68,  68,  68, 129,  68,  54,\n",
       "        68,  65,  75,  65,  39, 129,  39,  68,  68,  75, 129, 129, 129,\n",
       "         5, 129, 105,  39, 126,  65,  65,  66, 126,  38,  60,  73,   5,\n",
       "        38,  66,  66, 122, 145, 145,  66,  79, 129,  66,  19,  79,  73,\n",
       "        66, 122,  66,  93,  83, 122,  83,  93,  93,  83,  83,  38, 107,\n",
       "        83,  83, 107, 107,  83,   6,  83,  83,  66,  71,  66, 141,  71,\n",
       "        38,  66,  66,  38,  66,  66,   5,  60,  38,  83,  93,  61,  61,\n",
       "        61,  65,  61,  61,  63, 120,  63, 120,  63,  91,  63,  91,  38,\n",
       "       109,  66,  10, 109,  91,  52,  52,  73, 117,  66,  71, 145])"
      ]
     },
     "execution_count": 53,
     "metadata": {},
     "output_type": "execute_result"
    }
   ],
   "source": [
    "clusters"
   ]
  },
  {
   "cell_type": "code",
   "execution_count": 201,
   "id": "16d06467",
   "metadata": {},
   "outputs": [
    {
     "ename": "SyntaxError",
     "evalue": "invalid syntax (2569620209.py, line 1)",
     "output_type": "error",
     "traceback": [
      "\u001b[0;36m  Cell \u001b[0;32mIn [201], line 1\u001b[0;36m\u001b[0m\n\u001b[0;31m    plt.scatter(x=[:1], y=[:1], c = df_tokenized_1000.cluster, cmap='rainbow' )\u001b[0m\n\u001b[0m                   ^\u001b[0m\n\u001b[0;31mSyntaxError\u001b[0m\u001b[0;31m:\u001b[0m invalid syntax\n"
     ]
    }
   ],
   "source": [
    "plt.scatter(x=[:1], y=[:1], c = df_tokenized_1000.cluster, cmap='rainbow' )"
   ]
  },
  {
   "cell_type": "code",
   "execution_count": null,
   "id": "4f217c78",
   "metadata": {},
   "outputs": [],
   "source": []
  },
  {
   "cell_type": "code",
   "execution_count": 194,
   "id": "d2341ed2",
   "metadata": {},
   "outputs": [
    {
     "ename": "TypeError",
     "evalue": "list indices must be integers or slices, not tuple",
     "output_type": "error",
     "traceback": [
      "\u001b[0;31m---------------------------------------------------------------------------\u001b[0m",
      "\u001b[0;31mTypeError\u001b[0m                                 Traceback (most recent call last)",
      "Cell \u001b[0;32mIn [194], line 1\u001b[0m\n\u001b[0;32m----> 1\u001b[0m plt\u001b[38;5;241m.\u001b[39mscatter(\u001b[43msim_matrix\u001b[49m\u001b[43m[\u001b[49m\u001b[43mclusters\u001b[49m\u001b[43m \u001b[49m\u001b[38;5;241;43m==\u001b[39;49m\u001b[43m \u001b[49m\u001b[38;5;241;43m0\u001b[39;49m\u001b[43m,\u001b[49m\u001b[43m \u001b[49m\u001b[38;5;241;43m0\u001b[39;49m\u001b[43m]\u001b[49m, sim_matrix[clusters \u001b[38;5;241m==\u001b[39m \u001b[38;5;241m0\u001b[39m, \u001b[38;5;241m1\u001b[39m], s \u001b[38;5;241m=\u001b[39m \u001b[38;5;241m100\u001b[39m, c \u001b[38;5;241m=\u001b[39m \u001b[38;5;124m'\u001b[39m\u001b[38;5;124mred\u001b[39m\u001b[38;5;124m'\u001b[39m, label \u001b[38;5;241m=\u001b[39m \u001b[38;5;124m'\u001b[39m\u001b[38;5;124mCluster 1\u001b[39m\u001b[38;5;124m'\u001b[39m)\n\u001b[1;32m      2\u001b[0m plt\u001b[38;5;241m.\u001b[39mscatter(sim_matrix[clusters \u001b[38;5;241m==\u001b[39m \u001b[38;5;241m1\u001b[39m, \u001b[38;5;241m0\u001b[39m], sim_matrix[clusters \u001b[38;5;241m==\u001b[39m \u001b[38;5;241m1\u001b[39m, \u001b[38;5;241m1\u001b[39m], s \u001b[38;5;241m=\u001b[39m \u001b[38;5;241m100\u001b[39m, c \u001b[38;5;241m=\u001b[39m \u001b[38;5;124m'\u001b[39m\u001b[38;5;124mblue\u001b[39m\u001b[38;5;124m'\u001b[39m, label \u001b[38;5;241m=\u001b[39m \u001b[38;5;124m'\u001b[39m\u001b[38;5;124mCluster 2\u001b[39m\u001b[38;5;124m'\u001b[39m)\n\u001b[1;32m      3\u001b[0m plt\u001b[38;5;241m.\u001b[39mscatter(sim_matrix[clusters \u001b[38;5;241m==\u001b[39m \u001b[38;5;241m2\u001b[39m, \u001b[38;5;241m0\u001b[39m], sim_matrix[clusters \u001b[38;5;241m==\u001b[39m \u001b[38;5;241m2\u001b[39m, \u001b[38;5;241m1\u001b[39m], s \u001b[38;5;241m=\u001b[39m \u001b[38;5;241m100\u001b[39m, c \u001b[38;5;241m=\u001b[39m \u001b[38;5;124m'\u001b[39m\u001b[38;5;124mgreen\u001b[39m\u001b[38;5;124m'\u001b[39m, label \u001b[38;5;241m=\u001b[39m \u001b[38;5;124m'\u001b[39m\u001b[38;5;124mCluster 3\u001b[39m\u001b[38;5;124m'\u001b[39m)\n",
      "\u001b[0;31mTypeError\u001b[0m: list indices must be integers or slices, not tuple"
     ]
    }
   ],
   "source": []
  },
  {
   "cell_type": "code",
   "execution_count": 162,
   "id": "898f71ca",
   "metadata": {},
   "outputs": [],
   "source": []
  },
  {
   "cell_type": "code",
   "execution_count": 163,
   "id": "1d474886",
   "metadata": {},
   "outputs": [
    {
     "data": {
      "text/plain": [
       "array([12])"
      ]
     },
     "execution_count": 163,
     "metadata": {},
     "output_type": "execute_result"
    }
   ],
   "source": []
  },
  {
   "cell_type": "code",
   "execution_count": 174,
   "id": "9a31f46f",
   "metadata": {},
   "outputs": [],
   "source": [
    "df_tokenized_1000 = df_tokenized.drop(index=range(1000, 118283))"
   ]
  },
  {
   "cell_type": "code",
   "execution_count": 175,
   "id": "74c4622b",
   "metadata": {},
   "outputs": [
    {
     "data": {
      "text/html": [
       "<div>\n",
       "<style scoped>\n",
       "    .dataframe tbody tr th:only-of-type {\n",
       "        vertical-align: middle;\n",
       "    }\n",
       "\n",
       "    .dataframe tbody tr th {\n",
       "        vertical-align: top;\n",
       "    }\n",
       "\n",
       "    .dataframe thead th {\n",
       "        text-align: right;\n",
       "    }\n",
       "</style>\n",
       "<table border=\"1\" class=\"dataframe\">\n",
       "  <thead>\n",
       "    <tr style=\"text-align: right;\">\n",
       "      <th></th>\n",
       "      <th>from_id</th>\n",
       "      <th>message</th>\n",
       "      <th>date</th>\n",
       "      <th>tokenized</th>\n",
       "    </tr>\n",
       "  </thead>\n",
       "  <tbody>\n",
       "    <tr>\n",
       "      <th>0</th>\n",
       "      <td>channel1101170442</td>\n",
       "      <td>приветствовать весь наш telegram-канал курс кл...</td>\n",
       "      <td>2017-02-28 19:55:32</td>\n",
       "      <td>[приветствовать, весь, наш, курс, ключевой, со...</td>\n",
       "    </tr>\n",
       "    <tr>\n",
       "      <th>1</th>\n",
       "      <td>channel1101170442</td>\n",
       "      <td>награждение победительница конкурс красота сре...</td>\n",
       "      <td>2017-03-03 18:33:24</td>\n",
       "      <td>[награждение, победительница, конкурс, красота...</td>\n",
       "    </tr>\n",
       "    <tr>\n",
       "      <th>2</th>\n",
       "      <td>channel1101170442</td>\n",
       "      <td>американский селекционер джастин кобылка потра...</td>\n",
       "      <td>2017-03-09 17:11:06</td>\n",
       "      <td>[американский, селекционер, джастин, кобылка, ...</td>\n",
       "    </tr>\n",
       "    <tr>\n",
       "      <th>3</th>\n",
       "      <td>channel1101170442</td>\n",
       "      <td>участие россия конкурс евровидение</td>\n",
       "      <td>2017-03-14 11:13:27</td>\n",
       "      <td>[участие, россия, конкурс, евровидение]</td>\n",
       "    </tr>\n",
       "    <tr>\n",
       "      <th>4</th>\n",
       "      <td>channel1101170442</td>\n",
       "      <td>не болеть друг</td>\n",
       "      <td>2017-03-14 19:49:56</td>\n",
       "      <td>[не, болеть, друг]</td>\n",
       "    </tr>\n",
       "    <tr>\n",
       "      <th>...</th>\n",
       "      <td>...</td>\n",
       "      <td>...</td>\n",
       "      <td>...</td>\n",
       "      <td>...</td>\n",
       "    </tr>\n",
       "    <tr>\n",
       "      <th>995</th>\n",
       "      <td>channel1101170442</td>\n",
       "      <td>президент также напомнить жертва пострадать вр...</td>\n",
       "      <td>2019-08-19 19:07:15</td>\n",
       "      <td>[президент, также, напомнить, жертва, пострада...</td>\n",
       "    </tr>\n",
       "    <tr>\n",
       "      <th>996</th>\n",
       "      <td>channel1101170442</td>\n",
       "      <td>сша испытать крылатый ракета запретить дрсмд</td>\n",
       "      <td>2019-08-19 19:45:39</td>\n",
       "      <td>[сша, испытать, крылатый, ракета, запретить, д...</td>\n",
       "    </tr>\n",
       "    <tr>\n",
       "      <th>997</th>\n",
       "      <td>channel1101170442</td>\n",
       "      <td>пентагон сообщить испытанный ракета вариант то...</td>\n",
       "      <td>2019-08-19 22:34:21</td>\n",
       "      <td>[пентагон, сообщить, испытанный, ракета, вариа...</td>\n",
       "    </tr>\n",
       "    <tr>\n",
       "      <th>998</th>\n",
       "      <td>channel1101170442</td>\n",
       "      <td>пират похитить россиянин берег камерун выйти с...</td>\n",
       "      <td>2019-08-20 09:46:46</td>\n",
       "      <td>[пират, похитить, россиянин, берег, камерун, в...</td>\n",
       "    </tr>\n",
       "    <tr>\n",
       "      <th>999</th>\n",
       "      <td>channel1101170442</td>\n",
       "      <td>заседание суд жалоба продление арест кирилл вы...</td>\n",
       "      <td>2019-08-20 11:29:13</td>\n",
       "      <td>[заседание, суд, жалоба, продление, арест, кир...</td>\n",
       "    </tr>\n",
       "  </tbody>\n",
       "</table>\n",
       "<p>1000 rows × 4 columns</p>\n",
       "</div>"
      ],
      "text/plain": [
       "               from_id                                            message  \\\n",
       "0    channel1101170442  приветствовать весь наш telegram-канал курс кл...   \n",
       "1    channel1101170442  награждение победительница конкурс красота сре...   \n",
       "2    channel1101170442  американский селекционер джастин кобылка потра...   \n",
       "3    channel1101170442                 участие россия конкурс евровидение   \n",
       "4    channel1101170442                                     не болеть друг   \n",
       "..                 ...                                                ...   \n",
       "995  channel1101170442  президент также напомнить жертва пострадать вр...   \n",
       "996  channel1101170442       сша испытать крылатый ракета запретить дрсмд   \n",
       "997  channel1101170442  пентагон сообщить испытанный ракета вариант то...   \n",
       "998  channel1101170442  пират похитить россиянин берег камерун выйти с...   \n",
       "999  channel1101170442  заседание суд жалоба продление арест кирилл вы...   \n",
       "\n",
       "                    date                                          tokenized  \n",
       "0    2017-02-28 19:55:32  [приветствовать, весь, наш, курс, ключевой, со...  \n",
       "1    2017-03-03 18:33:24  [награждение, победительница, конкурс, красота...  \n",
       "2    2017-03-09 17:11:06  [американский, селекционер, джастин, кобылка, ...  \n",
       "3    2017-03-14 11:13:27            [участие, россия, конкурс, евровидение]  \n",
       "4    2017-03-14 19:49:56                                 [не, болеть, друг]  \n",
       "..                   ...                                                ...  \n",
       "995  2019-08-19 19:07:15  [президент, также, напомнить, жертва, пострада...  \n",
       "996  2019-08-19 19:45:39  [сша, испытать, крылатый, ракета, запретить, д...  \n",
       "997  2019-08-19 22:34:21  [пентагон, сообщить, испытанный, ракета, вариа...  \n",
       "998  2019-08-20 09:46:46  [пират, похитить, россиянин, берег, камерун, в...  \n",
       "999  2019-08-20 11:29:13  [заседание, суд, жалоба, продление, арест, кир...  \n",
       "\n",
       "[1000 rows x 4 columns]"
      ]
     },
     "execution_count": 175,
     "metadata": {},
     "output_type": "execute_result"
    }
   ],
   "source": [
    "df_tokenized_1000"
   ]
  },
  {
   "cell_type": "code",
   "execution_count": 176,
   "id": "0fc363a7",
   "metadata": {},
   "outputs": [],
   "source": [
    "df_tokenized_1000['cluster'] = clusters"
   ]
  },
  {
   "cell_type": "code",
   "execution_count": 189,
   "id": "3ab3dd72",
   "metadata": {},
   "outputs": [
    {
     "ename": "ValueError",
     "evalue": "'c' argument must be a color, a sequence of colors, or a sequence of numbers, not rainbow",
     "output_type": "error",
     "traceback": [
      "\u001b[0;31m---------------------------------------------------------------------------\u001b[0m",
      "\u001b[0;31mValueError\u001b[0m                                Traceback (most recent call last)",
      "File \u001b[0;32m/Library/Frameworks/Python.framework/Versions/3.10/lib/python3.10/site-packages/matplotlib/axes/_axes.py:4367\u001b[0m, in \u001b[0;36mAxes._parse_scatter_color_args\u001b[0;34m(c, edgecolors, kwargs, xsize, get_next_color_func)\u001b[0m\n\u001b[1;32m   4366\u001b[0m \u001b[38;5;28;01mtry\u001b[39;00m:  \u001b[38;5;66;03m# Is 'c' acceptable as PathCollection facecolors?\u001b[39;00m\n\u001b[0;32m-> 4367\u001b[0m     colors \u001b[38;5;241m=\u001b[39m \u001b[43mmcolors\u001b[49m\u001b[38;5;241;43m.\u001b[39;49m\u001b[43mto_rgba_array\u001b[49m\u001b[43m(\u001b[49m\u001b[43mc\u001b[49m\u001b[43m)\u001b[49m\n\u001b[1;32m   4368\u001b[0m \u001b[38;5;28;01mexcept\u001b[39;00m (\u001b[38;5;167;01mTypeError\u001b[39;00m, \u001b[38;5;167;01mValueError\u001b[39;00m) \u001b[38;5;28;01mas\u001b[39;00m err:\n",
      "File \u001b[0;32m/Library/Frameworks/Python.framework/Versions/3.10/lib/python3.10/site-packages/matplotlib/colors.py:471\u001b[0m, in \u001b[0;36mto_rgba_array\u001b[0;34m(c, alpha)\u001b[0m\n\u001b[1;32m    470\u001b[0m \u001b[38;5;28;01mif\u001b[39;00m \u001b[38;5;28misinstance\u001b[39m(c, \u001b[38;5;28mstr\u001b[39m):\n\u001b[0;32m--> 471\u001b[0m     \u001b[38;5;28;01mraise\u001b[39;00m \u001b[38;5;167;01mValueError\u001b[39;00m(\u001b[38;5;124mf\u001b[39m\u001b[38;5;124m\"\u001b[39m\u001b[38;5;132;01m{\u001b[39;00mc\u001b[38;5;132;01m!r}\u001b[39;00m\u001b[38;5;124m is not a valid color value.\u001b[39m\u001b[38;5;124m\"\u001b[39m)\n\u001b[1;32m    473\u001b[0m \u001b[38;5;28;01mif\u001b[39;00m \u001b[38;5;28mlen\u001b[39m(c) \u001b[38;5;241m==\u001b[39m \u001b[38;5;241m0\u001b[39m:\n",
      "\u001b[0;31mValueError\u001b[0m: 'rainbow' is not a valid color value.",
      "\nThe above exception was the direct cause of the following exception:\n",
      "\u001b[0;31mValueError\u001b[0m                                Traceback (most recent call last)",
      "Cell \u001b[0;32mIn [189], line 1\u001b[0m\n\u001b[0;32m----> 1\u001b[0m \u001b[43mdf_tokenized_1000\u001b[49m\u001b[38;5;241;43m.\u001b[39;49m\u001b[43mplot\u001b[49m\u001b[38;5;241;43m.\u001b[39;49m\u001b[43mscatter\u001b[49m\u001b[43m(\u001b[49m\u001b[43mx\u001b[49m\u001b[43m \u001b[49m\u001b[38;5;241;43m=\u001b[39;49m\u001b[43m \u001b[49m\u001b[38;5;124;43m'\u001b[39;49m\u001b[38;5;124;43mdate\u001b[39;49m\u001b[38;5;124;43m'\u001b[39;49m\u001b[43m,\u001b[49m\u001b[43m \u001b[49m\u001b[43my\u001b[49m\u001b[43m \u001b[49m\u001b[38;5;241;43m=\u001b[39;49m\u001b[43m \u001b[49m\u001b[38;5;124;43m'\u001b[39;49m\u001b[38;5;124;43mcluster\u001b[39;49m\u001b[38;5;124;43m'\u001b[39;49m\u001b[43m,\u001b[49m\u001b[43m \u001b[49m\u001b[43mc\u001b[49m\u001b[43m \u001b[49m\u001b[38;5;241;43m=\u001b[39;49m\u001b[43m \u001b[49m\u001b[38;5;124;43m'\u001b[39;49m\u001b[38;5;124;43mrainbow\u001b[39;49m\u001b[38;5;124;43m'\u001b[39;49m\u001b[43m)\u001b[49m\n",
      "File \u001b[0;32m/Library/Frameworks/Python.framework/Versions/3.10/lib/python3.10/site-packages/pandas/plotting/_core.py:1719\u001b[0m, in \u001b[0;36mPlotAccessor.scatter\u001b[0;34m(self, x, y, s, c, **kwargs)\u001b[0m\n\u001b[1;32m   1716\u001b[0m \u001b[38;5;28;01melif\u001b[39;00m c \u001b[38;5;129;01mis\u001b[39;00m \u001b[38;5;129;01mnot\u001b[39;00m \u001b[38;5;28;01mNone\u001b[39;00m \u001b[38;5;129;01mor\u001b[39;00m color \u001b[38;5;129;01mis\u001b[39;00m \u001b[38;5;129;01mnot\u001b[39;00m \u001b[38;5;28;01mNone\u001b[39;00m:\n\u001b[1;32m   1717\u001b[0m     kwargs[\u001b[38;5;124m\"\u001b[39m\u001b[38;5;124mc\u001b[39m\u001b[38;5;124m\"\u001b[39m] \u001b[38;5;241m=\u001b[39m c \u001b[38;5;28;01mif\u001b[39;00m c \u001b[38;5;129;01mis\u001b[39;00m \u001b[38;5;129;01mnot\u001b[39;00m \u001b[38;5;28;01mNone\u001b[39;00m \u001b[38;5;28;01melse\u001b[39;00m color\n\u001b[0;32m-> 1719\u001b[0m \u001b[38;5;28;01mreturn\u001b[39;00m \u001b[38;5;28;43mself\u001b[39;49m\u001b[43m(\u001b[49m\u001b[43mkind\u001b[49m\u001b[38;5;241;43m=\u001b[39;49m\u001b[38;5;124;43m\"\u001b[39;49m\u001b[38;5;124;43mscatter\u001b[39;49m\u001b[38;5;124;43m\"\u001b[39;49m\u001b[43m,\u001b[49m\u001b[43m \u001b[49m\u001b[43mx\u001b[49m\u001b[38;5;241;43m=\u001b[39;49m\u001b[43mx\u001b[49m\u001b[43m,\u001b[49m\u001b[43m \u001b[49m\u001b[43my\u001b[49m\u001b[38;5;241;43m=\u001b[39;49m\u001b[43my\u001b[49m\u001b[43m,\u001b[49m\u001b[43m \u001b[49m\u001b[38;5;241;43m*\u001b[39;49m\u001b[38;5;241;43m*\u001b[39;49m\u001b[43mkwargs\u001b[49m\u001b[43m)\u001b[49m\n",
      "File \u001b[0;32m/Library/Frameworks/Python.framework/Versions/3.10/lib/python3.10/site-packages/pandas/plotting/_core.py:946\u001b[0m, in \u001b[0;36mPlotAccessor.__call__\u001b[0;34m(self, *args, **kwargs)\u001b[0m\n\u001b[1;32m    944\u001b[0m \u001b[38;5;28;01mif\u001b[39;00m kind \u001b[38;5;129;01min\u001b[39;00m \u001b[38;5;28mself\u001b[39m\u001b[38;5;241m.\u001b[39m_dataframe_kinds:\n\u001b[1;32m    945\u001b[0m     \u001b[38;5;28;01mif\u001b[39;00m \u001b[38;5;28misinstance\u001b[39m(data, ABCDataFrame):\n\u001b[0;32m--> 946\u001b[0m         \u001b[38;5;28;01mreturn\u001b[39;00m \u001b[43mplot_backend\u001b[49m\u001b[38;5;241;43m.\u001b[39;49m\u001b[43mplot\u001b[49m\u001b[43m(\u001b[49m\u001b[43mdata\u001b[49m\u001b[43m,\u001b[49m\u001b[43m \u001b[49m\u001b[43mx\u001b[49m\u001b[38;5;241;43m=\u001b[39;49m\u001b[43mx\u001b[49m\u001b[43m,\u001b[49m\u001b[43m \u001b[49m\u001b[43my\u001b[49m\u001b[38;5;241;43m=\u001b[39;49m\u001b[43my\u001b[49m\u001b[43m,\u001b[49m\u001b[43m \u001b[49m\u001b[43mkind\u001b[49m\u001b[38;5;241;43m=\u001b[39;49m\u001b[43mkind\u001b[49m\u001b[43m,\u001b[49m\u001b[43m \u001b[49m\u001b[38;5;241;43m*\u001b[39;49m\u001b[38;5;241;43m*\u001b[39;49m\u001b[43mkwargs\u001b[49m\u001b[43m)\u001b[49m\n\u001b[1;32m    947\u001b[0m     \u001b[38;5;28;01melse\u001b[39;00m:\n\u001b[1;32m    948\u001b[0m         \u001b[38;5;28;01mraise\u001b[39;00m \u001b[38;5;167;01mValueError\u001b[39;00m(\u001b[38;5;124mf\u001b[39m\u001b[38;5;124m\"\u001b[39m\u001b[38;5;124mplot kind \u001b[39m\u001b[38;5;132;01m{\u001b[39;00mkind\u001b[38;5;132;01m}\u001b[39;00m\u001b[38;5;124m can only be used for data frames\u001b[39m\u001b[38;5;124m\"\u001b[39m)\n",
      "File \u001b[0;32m/Library/Frameworks/Python.framework/Versions/3.10/lib/python3.10/site-packages/pandas/plotting/_matplotlib/__init__.py:71\u001b[0m, in \u001b[0;36mplot\u001b[0;34m(data, kind, **kwargs)\u001b[0m\n\u001b[1;32m     69\u001b[0m         kwargs[\u001b[38;5;124m\"\u001b[39m\u001b[38;5;124max\u001b[39m\u001b[38;5;124m\"\u001b[39m] \u001b[38;5;241m=\u001b[39m \u001b[38;5;28mgetattr\u001b[39m(ax, \u001b[38;5;124m\"\u001b[39m\u001b[38;5;124mleft_ax\u001b[39m\u001b[38;5;124m\"\u001b[39m, ax)\n\u001b[1;32m     70\u001b[0m plot_obj \u001b[38;5;241m=\u001b[39m PLOT_CLASSES[kind](data, \u001b[38;5;241m*\u001b[39m\u001b[38;5;241m*\u001b[39mkwargs)\n\u001b[0;32m---> 71\u001b[0m \u001b[43mplot_obj\u001b[49m\u001b[38;5;241;43m.\u001b[39;49m\u001b[43mgenerate\u001b[49m\u001b[43m(\u001b[49m\u001b[43m)\u001b[49m\n\u001b[1;32m     72\u001b[0m plot_obj\u001b[38;5;241m.\u001b[39mdraw()\n\u001b[1;32m     73\u001b[0m \u001b[38;5;28;01mreturn\u001b[39;00m plot_obj\u001b[38;5;241m.\u001b[39mresult\n",
      "File \u001b[0;32m/Library/Frameworks/Python.framework/Versions/3.10/lib/python3.10/site-packages/pandas/plotting/_matplotlib/core.py:453\u001b[0m, in \u001b[0;36mMPLPlot.generate\u001b[0;34m(self)\u001b[0m\n\u001b[1;32m    451\u001b[0m \u001b[38;5;28mself\u001b[39m\u001b[38;5;241m.\u001b[39m_compute_plot_data()\n\u001b[1;32m    452\u001b[0m \u001b[38;5;28mself\u001b[39m\u001b[38;5;241m.\u001b[39m_setup_subplots()\n\u001b[0;32m--> 453\u001b[0m \u001b[38;5;28;43mself\u001b[39;49m\u001b[38;5;241;43m.\u001b[39;49m\u001b[43m_make_plot\u001b[49m\u001b[43m(\u001b[49m\u001b[43m)\u001b[49m\n\u001b[1;32m    454\u001b[0m \u001b[38;5;28mself\u001b[39m\u001b[38;5;241m.\u001b[39m_add_table()\n\u001b[1;32m    455\u001b[0m \u001b[38;5;28mself\u001b[39m\u001b[38;5;241m.\u001b[39m_make_legend()\n",
      "File \u001b[0;32m/Library/Frameworks/Python.framework/Versions/3.10/lib/python3.10/site-packages/pandas/plotting/_matplotlib/core.py:1254\u001b[0m, in \u001b[0;36mScatterPlot._make_plot\u001b[0;34m(self)\u001b[0m\n\u001b[1;32m   1252\u001b[0m \u001b[38;5;28;01melse\u001b[39;00m:\n\u001b[1;32m   1253\u001b[0m     label \u001b[38;5;241m=\u001b[39m \u001b[38;5;28;01mNone\u001b[39;00m\n\u001b[0;32m-> 1254\u001b[0m scatter \u001b[38;5;241m=\u001b[39m \u001b[43max\u001b[49m\u001b[38;5;241;43m.\u001b[39;49m\u001b[43mscatter\u001b[49m\u001b[43m(\u001b[49m\n\u001b[1;32m   1255\u001b[0m \u001b[43m    \u001b[49m\u001b[43mdata\u001b[49m\u001b[43m[\u001b[49m\u001b[43mx\u001b[49m\u001b[43m]\u001b[49m\u001b[38;5;241;43m.\u001b[39;49m\u001b[43mvalues\u001b[49m\u001b[43m,\u001b[49m\n\u001b[1;32m   1256\u001b[0m \u001b[43m    \u001b[49m\u001b[43mdata\u001b[49m\u001b[43m[\u001b[49m\u001b[43my\u001b[49m\u001b[43m]\u001b[49m\u001b[38;5;241;43m.\u001b[39;49m\u001b[43mvalues\u001b[49m\u001b[43m,\u001b[49m\n\u001b[1;32m   1257\u001b[0m \u001b[43m    \u001b[49m\u001b[43mc\u001b[49m\u001b[38;5;241;43m=\u001b[39;49m\u001b[43mc_values\u001b[49m\u001b[43m,\u001b[49m\n\u001b[1;32m   1258\u001b[0m \u001b[43m    \u001b[49m\u001b[43mlabel\u001b[49m\u001b[38;5;241;43m=\u001b[39;49m\u001b[43mlabel\u001b[49m\u001b[43m,\u001b[49m\n\u001b[1;32m   1259\u001b[0m \u001b[43m    \u001b[49m\u001b[43mcmap\u001b[49m\u001b[38;5;241;43m=\u001b[39;49m\u001b[43mcmap\u001b[49m\u001b[43m,\u001b[49m\n\u001b[1;32m   1260\u001b[0m \u001b[43m    \u001b[49m\u001b[43mnorm\u001b[49m\u001b[38;5;241;43m=\u001b[39;49m\u001b[43mnorm\u001b[49m\u001b[43m,\u001b[49m\n\u001b[1;32m   1261\u001b[0m \u001b[43m    \u001b[49m\u001b[38;5;241;43m*\u001b[39;49m\u001b[38;5;241;43m*\u001b[39;49m\u001b[38;5;28;43mself\u001b[39;49m\u001b[38;5;241;43m.\u001b[39;49m\u001b[43mkwds\u001b[49m\u001b[43m,\u001b[49m\n\u001b[1;32m   1262\u001b[0m \u001b[43m\u001b[49m\u001b[43m)\u001b[49m\n\u001b[1;32m   1263\u001b[0m \u001b[38;5;28;01mif\u001b[39;00m cb:\n\u001b[1;32m   1264\u001b[0m     cbar_label \u001b[38;5;241m=\u001b[39m c \u001b[38;5;28;01mif\u001b[39;00m c_is_column \u001b[38;5;28;01melse\u001b[39;00m \u001b[38;5;124m\"\u001b[39m\u001b[38;5;124m\"\u001b[39m\n",
      "File \u001b[0;32m/Library/Frameworks/Python.framework/Versions/3.10/lib/python3.10/site-packages/matplotlib/__init__.py:1423\u001b[0m, in \u001b[0;36m_preprocess_data.<locals>.inner\u001b[0;34m(ax, data, *args, **kwargs)\u001b[0m\n\u001b[1;32m   1420\u001b[0m \u001b[38;5;129m@functools\u001b[39m\u001b[38;5;241m.\u001b[39mwraps(func)\n\u001b[1;32m   1421\u001b[0m \u001b[38;5;28;01mdef\u001b[39;00m \u001b[38;5;21minner\u001b[39m(ax, \u001b[38;5;241m*\u001b[39margs, data\u001b[38;5;241m=\u001b[39m\u001b[38;5;28;01mNone\u001b[39;00m, \u001b[38;5;241m*\u001b[39m\u001b[38;5;241m*\u001b[39mkwargs):\n\u001b[1;32m   1422\u001b[0m     \u001b[38;5;28;01mif\u001b[39;00m data \u001b[38;5;129;01mis\u001b[39;00m \u001b[38;5;28;01mNone\u001b[39;00m:\n\u001b[0;32m-> 1423\u001b[0m         \u001b[38;5;28;01mreturn\u001b[39;00m \u001b[43mfunc\u001b[49m\u001b[43m(\u001b[49m\u001b[43max\u001b[49m\u001b[43m,\u001b[49m\u001b[43m \u001b[49m\u001b[38;5;241;43m*\u001b[39;49m\u001b[38;5;28;43mmap\u001b[39;49m\u001b[43m(\u001b[49m\u001b[43msanitize_sequence\u001b[49m\u001b[43m,\u001b[49m\u001b[43m \u001b[49m\u001b[43margs\u001b[49m\u001b[43m)\u001b[49m\u001b[43m,\u001b[49m\u001b[43m \u001b[49m\u001b[38;5;241;43m*\u001b[39;49m\u001b[38;5;241;43m*\u001b[39;49m\u001b[43mkwargs\u001b[49m\u001b[43m)\u001b[49m\n\u001b[1;32m   1425\u001b[0m     bound \u001b[38;5;241m=\u001b[39m new_sig\u001b[38;5;241m.\u001b[39mbind(ax, \u001b[38;5;241m*\u001b[39margs, \u001b[38;5;241m*\u001b[39m\u001b[38;5;241m*\u001b[39mkwargs)\n\u001b[1;32m   1426\u001b[0m     auto_label \u001b[38;5;241m=\u001b[39m (bound\u001b[38;5;241m.\u001b[39marguments\u001b[38;5;241m.\u001b[39mget(label_namer)\n\u001b[1;32m   1427\u001b[0m                   \u001b[38;5;129;01mor\u001b[39;00m bound\u001b[38;5;241m.\u001b[39mkwargs\u001b[38;5;241m.\u001b[39mget(label_namer))\n",
      "File \u001b[0;32m/Library/Frameworks/Python.framework/Versions/3.10/lib/python3.10/site-packages/matplotlib/axes/_axes.py:4530\u001b[0m, in \u001b[0;36mAxes.scatter\u001b[0;34m(self, x, y, s, c, marker, cmap, norm, vmin, vmax, alpha, linewidths, edgecolors, plotnonfinite, **kwargs)\u001b[0m\n\u001b[1;32m   4527\u001b[0m \u001b[38;5;28;01mif\u001b[39;00m edgecolors \u001b[38;5;129;01mis\u001b[39;00m \u001b[38;5;28;01mNone\u001b[39;00m:\n\u001b[1;32m   4528\u001b[0m     orig_edgecolor \u001b[38;5;241m=\u001b[39m kwargs\u001b[38;5;241m.\u001b[39mget(\u001b[38;5;124m'\u001b[39m\u001b[38;5;124medgecolor\u001b[39m\u001b[38;5;124m'\u001b[39m, \u001b[38;5;28;01mNone\u001b[39;00m)\n\u001b[1;32m   4529\u001b[0m c, colors, edgecolors \u001b[38;5;241m=\u001b[39m \\\n\u001b[0;32m-> 4530\u001b[0m     \u001b[38;5;28;43mself\u001b[39;49m\u001b[38;5;241;43m.\u001b[39;49m\u001b[43m_parse_scatter_color_args\u001b[49m\u001b[43m(\u001b[49m\n\u001b[1;32m   4531\u001b[0m \u001b[43m        \u001b[49m\u001b[43mc\u001b[49m\u001b[43m,\u001b[49m\u001b[43m \u001b[49m\u001b[43medgecolors\u001b[49m\u001b[43m,\u001b[49m\u001b[43m \u001b[49m\u001b[43mkwargs\u001b[49m\u001b[43m,\u001b[49m\u001b[43m \u001b[49m\u001b[43mx\u001b[49m\u001b[38;5;241;43m.\u001b[39;49m\u001b[43msize\u001b[49m\u001b[43m,\u001b[49m\n\u001b[1;32m   4532\u001b[0m \u001b[43m        \u001b[49m\u001b[43mget_next_color_func\u001b[49m\u001b[38;5;241;43m=\u001b[39;49m\u001b[38;5;28;43mself\u001b[39;49m\u001b[38;5;241;43m.\u001b[39;49m\u001b[43m_get_patches_for_fill\u001b[49m\u001b[38;5;241;43m.\u001b[39;49m\u001b[43mget_next_color\u001b[49m\u001b[43m)\u001b[49m\n\u001b[1;32m   4534\u001b[0m \u001b[38;5;28;01mif\u001b[39;00m plotnonfinite \u001b[38;5;129;01mand\u001b[39;00m colors \u001b[38;5;129;01mis\u001b[39;00m \u001b[38;5;28;01mNone\u001b[39;00m:\n\u001b[1;32m   4535\u001b[0m     c \u001b[38;5;241m=\u001b[39m np\u001b[38;5;241m.\u001b[39mma\u001b[38;5;241m.\u001b[39mmasked_invalid(c)\n",
      "File \u001b[0;32m/Library/Frameworks/Python.framework/Versions/3.10/lib/python3.10/site-packages/matplotlib/axes/_axes.py:4376\u001b[0m, in \u001b[0;36mAxes._parse_scatter_color_args\u001b[0;34m(c, edgecolors, kwargs, xsize, get_next_color_func)\u001b[0m\n\u001b[1;32m   4373\u001b[0m             \u001b[38;5;28;01mraise\u001b[39;00m invalid_shape_exception(c\u001b[38;5;241m.\u001b[39msize, xsize) \u001b[38;5;28;01mfrom\u001b[39;00m \u001b[38;5;21;01merr\u001b[39;00m\n\u001b[1;32m   4374\u001b[0m         \u001b[38;5;66;03m# Both the mapping *and* the RGBA conversion failed: pretty\u001b[39;00m\n\u001b[1;32m   4375\u001b[0m         \u001b[38;5;66;03m# severe failure => one may appreciate a verbose feedback.\u001b[39;00m\n\u001b[0;32m-> 4376\u001b[0m         \u001b[38;5;28;01mraise\u001b[39;00m \u001b[38;5;167;01mValueError\u001b[39;00m(\n\u001b[1;32m   4377\u001b[0m             \u001b[38;5;124mf\u001b[39m\u001b[38;5;124m\"\u001b[39m\u001b[38;5;124m'\u001b[39m\u001b[38;5;124mc\u001b[39m\u001b[38;5;124m'\u001b[39m\u001b[38;5;124m argument must be a color, a sequence of colors, \u001b[39m\u001b[38;5;124m\"\u001b[39m\n\u001b[1;32m   4378\u001b[0m             \u001b[38;5;124mf\u001b[39m\u001b[38;5;124m\"\u001b[39m\u001b[38;5;124mor a sequence of numbers, not \u001b[39m\u001b[38;5;132;01m{\u001b[39;00mc\u001b[38;5;132;01m}\u001b[39;00m\u001b[38;5;124m\"\u001b[39m) \u001b[38;5;28;01mfrom\u001b[39;00m \u001b[38;5;21;01merr\u001b[39;00m\n\u001b[1;32m   4379\u001b[0m \u001b[38;5;28;01melse\u001b[39;00m:\n\u001b[1;32m   4380\u001b[0m     \u001b[38;5;28;01mif\u001b[39;00m \u001b[38;5;28mlen\u001b[39m(colors) \u001b[38;5;129;01mnot\u001b[39;00m \u001b[38;5;129;01min\u001b[39;00m (\u001b[38;5;241m0\u001b[39m, \u001b[38;5;241m1\u001b[39m, xsize):\n\u001b[1;32m   4381\u001b[0m         \u001b[38;5;66;03m# NB: remember that a single color is also acceptable.\u001b[39;00m\n\u001b[1;32m   4382\u001b[0m         \u001b[38;5;66;03m# Besides *colors* will be an empty array if c == 'none'.\u001b[39;00m\n",
      "\u001b[0;31mValueError\u001b[0m: 'c' argument must be a color, a sequence of colors, or a sequence of numbers, not rainbow"
     ]
    },
    {
     "data": {
      "image/png": "[encoded data removed]",
      "text/plain": [
       "<Figure size 640x480 with 1 Axes>"
      ]
     },
     "metadata": {},
     "output_type": "display_data"
    }
   ],
   "source": [
    "df_tokenized_1000.plot.scatter(x = 'date', y = 'cluster', c = '')"
   ]
  },
  {
   "cell_type": "code",
   "execution_count": 202,
   "id": "3be2aef7",
   "metadata": {},
   "outputs": [],
   "source": [
    "import seaborn as sns"
   ]
  },
  {
   "cell_type": "code",
   "execution_count": 207,
   "id": "a44da4aa",
   "metadata": {},
   "outputs": [
    {
     "ename": "KeyError",
     "evalue": "\"['index'] not in index\"",
     "output_type": "error",
     "traceback": [
      "\u001b[0;31m---------------------------------------------------------------------------\u001b[0m",
      "\u001b[0;31mKeyError\u001b[0m                                  Traceback (most recent call last)",
      "Cell \u001b[0;32mIn [207], line 1\u001b[0m\n\u001b[0;32m----> 1\u001b[0m sns\u001b[38;5;241m.\u001b[39mpairplot(\u001b[43mdf\u001b[49m\u001b[43m[\u001b[49m\u001b[43m[\u001b[49m\u001b[38;5;124;43m'\u001b[39;49m\u001b[38;5;124;43mmessage\u001b[39;49m\u001b[38;5;124;43m'\u001b[39;49m\u001b[43m,\u001b[49m\u001b[43m \u001b[49m\u001b[38;5;124;43m'\u001b[39;49m\u001b[38;5;124;43mdate\u001b[39;49m\u001b[38;5;124;43m'\u001b[39;49m\u001b[43m,\u001b[49m\u001b[43m \u001b[49m\u001b[38;5;124;43m'\u001b[39;49m\u001b[38;5;124;43mindex\u001b[39;49m\u001b[38;5;124;43m'\u001b[39;49m\u001b[43m]\u001b[49m\u001b[43m]\u001b[49m)\n",
      "File \u001b[0;32m/Library/Frameworks/Python.framework/Versions/3.10/lib/python3.10/site-packages/pandas/core/frame.py:3811\u001b[0m, in \u001b[0;36mDataFrame.__getitem__\u001b[0;34m(self, key)\u001b[0m\n\u001b[1;32m   3809\u001b[0m     \u001b[38;5;28;01mif\u001b[39;00m is_iterator(key):\n\u001b[1;32m   3810\u001b[0m         key \u001b[38;5;241m=\u001b[39m \u001b[38;5;28mlist\u001b[39m(key)\n\u001b[0;32m-> 3811\u001b[0m     indexer \u001b[38;5;241m=\u001b[39m \u001b[38;5;28;43mself\u001b[39;49m\u001b[38;5;241;43m.\u001b[39;49m\u001b[43mcolumns\u001b[49m\u001b[38;5;241;43m.\u001b[39;49m\u001b[43m_get_indexer_strict\u001b[49m\u001b[43m(\u001b[49m\u001b[43mkey\u001b[49m\u001b[43m,\u001b[49m\u001b[43m \u001b[49m\u001b[38;5;124;43m\"\u001b[39;49m\u001b[38;5;124;43mcolumns\u001b[39;49m\u001b[38;5;124;43m\"\u001b[39;49m\u001b[43m)\u001b[49m[\u001b[38;5;241m1\u001b[39m]\n\u001b[1;32m   3813\u001b[0m \u001b[38;5;66;03m# take() does not accept boolean indexers\u001b[39;00m\n\u001b[1;32m   3814\u001b[0m \u001b[38;5;28;01mif\u001b[39;00m \u001b[38;5;28mgetattr\u001b[39m(indexer, \u001b[38;5;124m\"\u001b[39m\u001b[38;5;124mdtype\u001b[39m\u001b[38;5;124m\"\u001b[39m, \u001b[38;5;28;01mNone\u001b[39;00m) \u001b[38;5;241m==\u001b[39m \u001b[38;5;28mbool\u001b[39m:\n",
      "File \u001b[0;32m/Library/Frameworks/Python.framework/Versions/3.10/lib/python3.10/site-packages/pandas/core/indexes/base.py:6108\u001b[0m, in \u001b[0;36mIndex._get_indexer_strict\u001b[0;34m(self, key, axis_name)\u001b[0m\n\u001b[1;32m   6105\u001b[0m \u001b[38;5;28;01melse\u001b[39;00m:\n\u001b[1;32m   6106\u001b[0m     keyarr, indexer, new_indexer \u001b[38;5;241m=\u001b[39m \u001b[38;5;28mself\u001b[39m\u001b[38;5;241m.\u001b[39m_reindex_non_unique(keyarr)\n\u001b[0;32m-> 6108\u001b[0m \u001b[38;5;28;43mself\u001b[39;49m\u001b[38;5;241;43m.\u001b[39;49m\u001b[43m_raise_if_missing\u001b[49m\u001b[43m(\u001b[49m\u001b[43mkeyarr\u001b[49m\u001b[43m,\u001b[49m\u001b[43m \u001b[49m\u001b[43mindexer\u001b[49m\u001b[43m,\u001b[49m\u001b[43m \u001b[49m\u001b[43maxis_name\u001b[49m\u001b[43m)\u001b[49m\n\u001b[1;32m   6110\u001b[0m keyarr \u001b[38;5;241m=\u001b[39m \u001b[38;5;28mself\u001b[39m\u001b[38;5;241m.\u001b[39mtake(indexer)\n\u001b[1;32m   6111\u001b[0m \u001b[38;5;28;01mif\u001b[39;00m \u001b[38;5;28misinstance\u001b[39m(key, Index):\n\u001b[1;32m   6112\u001b[0m     \u001b[38;5;66;03m# GH 42790 - Preserve name from an Index\u001b[39;00m\n",
      "File \u001b[0;32m/Library/Frameworks/Python.framework/Versions/3.10/lib/python3.10/site-packages/pandas/core/indexes/base.py:6171\u001b[0m, in \u001b[0;36mIndex._raise_if_missing\u001b[0;34m(self, key, indexer, axis_name)\u001b[0m\n\u001b[1;32m   6168\u001b[0m     \u001b[38;5;28;01mraise\u001b[39;00m \u001b[38;5;167;01mKeyError\u001b[39;00m(\u001b[38;5;124mf\u001b[39m\u001b[38;5;124m\"\u001b[39m\u001b[38;5;124mNone of [\u001b[39m\u001b[38;5;132;01m{\u001b[39;00mkey\u001b[38;5;132;01m}\u001b[39;00m\u001b[38;5;124m] are in the [\u001b[39m\u001b[38;5;132;01m{\u001b[39;00maxis_name\u001b[38;5;132;01m}\u001b[39;00m\u001b[38;5;124m]\u001b[39m\u001b[38;5;124m\"\u001b[39m)\n\u001b[1;32m   6170\u001b[0m not_found \u001b[38;5;241m=\u001b[39m \u001b[38;5;28mlist\u001b[39m(ensure_index(key)[missing_mask\u001b[38;5;241m.\u001b[39mnonzero()[\u001b[38;5;241m0\u001b[39m]]\u001b[38;5;241m.\u001b[39munique())\n\u001b[0;32m-> 6171\u001b[0m \u001b[38;5;28;01mraise\u001b[39;00m \u001b[38;5;167;01mKeyError\u001b[39;00m(\u001b[38;5;124mf\u001b[39m\u001b[38;5;124m\"\u001b[39m\u001b[38;5;132;01m{\u001b[39;00mnot_found\u001b[38;5;132;01m}\u001b[39;00m\u001b[38;5;124m not in index\u001b[39m\u001b[38;5;124m\"\u001b[39m)\n",
      "\u001b[0;31mKeyError\u001b[0m: \"['index'] not in index\""
     ]
    }
   ],
   "source": [
    "sns.pairplot(df[['message', 'date', 'index']])"
   ]
  },
  {
   "cell_type": "code",
   "execution_count": 212,
   "id": "8650a72c",
   "metadata": {},
   "outputs": [
    {
     "data": {
      "text/plain": [
       "<AxesSubplot: ylabel='date'>"
      ]
     },
     "execution_count": 212,
     "metadata": {},
     "output_type": "execute_result"
    },
    {
     "data": {
      "image/png": "[encoded data removed]",
      "text/plain": [
       "<Figure size 640x480 with 1 Axes>"
      ]
     },
     "metadata": {},
     "output_type": "display_data"
    }
   ],
   "source": [
    "sns.scatterplot(x = df_tokenized_1000.index, y = df_tokenized_1000['date'], hue = df_tokenized_1000['cluster'])"
   ]
  },
  {
   "cell_type": "code",
   "execution_count": null,
   "id": "0e7ec0d1",
   "metadata": {},
   "outputs": [],
   "source": []
  },
  {
   "cell_type": "code",
   "execution_count": null,
   "id": "033351ea",
   "metadata": {},
   "outputs": [],
   "source": []
  },
  {
   "cell_type": "code",
   "execution_count": null,
   "id": "7d12719d",
   "metadata": {},
   "outputs": [],
   "source": []
  }
 ],
 "metadata": {
  "kernelspec": {
   "display_name": "Python 3 (ipykernel)",
   "language": "python",
   "name": "python3"
  },
  "language_info": {
   "codemirror_mode": {
    "name": "ipython",
    "version": 3
   },
   "file_extension": ".py",
   "mimetype": "text/x-python",
   "name": "python",
   "nbconvert_exporter": "python",
   "pygments_lexer": "ipython3",
   "version": "3.10.8"
  }
 },
 "nbformat": 4,
 "nbformat_minor": 5
}
